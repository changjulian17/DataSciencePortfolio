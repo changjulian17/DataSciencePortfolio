{
 "cells": [
  {
   "cell_type": "markdown",
   "id": "ddfcc24c",
   "metadata": {},
   "source": [
    "# 2. Imports"
   ]
  },
  {
   "cell_type": "code",
   "execution_count": 1,
   "id": "5ea70b9d",
   "metadata": {},
   "outputs": [],
   "source": [
    "import pandas as pd\n",
    "import missingno as msno\n",
    "import numpy as np\n",
    "import matplotlib.pyplot as plt\n",
    "import seaborn as sns\n",
    "\n",
    "from sklearn.preprocessing import RobustScaler, PowerTransformer\n",
    "from sklearn.pipeline import make_pipeline\n",
    "from sklearn.model_selection import train_test_split\n",
    "\n",
    "\n",
    "plt.rcParams['figure.figsize'] = [8,5]\n",
    "plt.rcParams['font.size'] =14\n",
    "plt.rcParams['font.weight']= 'bold'\n",
    "plt.style.use('seaborn-whitegrid')"
   ]
  },
  {
   "cell_type": "markdown",
   "id": "5a731de2",
   "metadata": {},
   "source": [
    "# 3. Load Data"
   ]
  },
  {
   "cell_type": "code",
   "execution_count": 2,
   "id": "786b3cbd",
   "metadata": {},
   "outputs": [],
   "source": [
    "train_df = pd.read_csv('./datasets/train.csv')\n",
    "test_df = pd.read_csv('./datasets/test.csv')"
   ]
  },
  {
   "cell_type": "markdown",
   "id": "c4ef71f5",
   "metadata": {},
   "source": [
    "### 4.3.2. Null Value Comparison\n",
    "Created comprehensive list of parameters that may need to remove values if any of these variables is used as a predictor. Although none of these variables may be used."
   ]
  },
  {
   "cell_type": "code",
   "execution_count": 3,
   "id": "49ebf848",
   "metadata": {},
   "outputs": [
    {
     "data": {
      "text/html": [
       "<div>\n",
       "<style scoped>\n",
       "    .dataframe tbody tr th:only-of-type {\n",
       "        vertical-align: middle;\n",
       "    }\n",
       "\n",
       "    .dataframe tbody tr th {\n",
       "        vertical-align: top;\n",
       "    }\n",
       "\n",
       "    .dataframe thead th {\n",
       "        text-align: right;\n",
       "    }\n",
       "</style>\n",
       "<table border=\"1\" class=\"dataframe\">\n",
       "  <thead>\n",
       "    <tr style=\"text-align: right;\">\n",
       "      <th></th>\n",
       "      <th>self</th>\n",
       "      <th>other</th>\n",
       "    </tr>\n",
       "  </thead>\n",
       "  <tbody>\n",
       "    <tr>\n",
       "      <th>Pool QC</th>\n",
       "      <td>2042.0</td>\n",
       "      <td>874.0</td>\n",
       "    </tr>\n",
       "    <tr>\n",
       "      <th>Misc Feature</th>\n",
       "      <td>1986.0</td>\n",
       "      <td>837.0</td>\n",
       "    </tr>\n",
       "    <tr>\n",
       "      <th>Alley</th>\n",
       "      <td>1911.0</td>\n",
       "      <td>820.0</td>\n",
       "    </tr>\n",
       "    <tr>\n",
       "      <th>Fence</th>\n",
       "      <td>1651.0</td>\n",
       "      <td>706.0</td>\n",
       "    </tr>\n",
       "    <tr>\n",
       "      <th>Fireplace Qu</th>\n",
       "      <td>1000.0</td>\n",
       "      <td>422.0</td>\n",
       "    </tr>\n",
       "    <tr>\n",
       "      <th>Lot Frontage</th>\n",
       "      <td>330.0</td>\n",
       "      <td>160.0</td>\n",
       "    </tr>\n",
       "    <tr>\n",
       "      <th>Garage Cond</th>\n",
       "      <td>114.0</td>\n",
       "      <td>45.0</td>\n",
       "    </tr>\n",
       "    <tr>\n",
       "      <th>Garage Qual</th>\n",
       "      <td>114.0</td>\n",
       "      <td>45.0</td>\n",
       "    </tr>\n",
       "    <tr>\n",
       "      <th>Garage Finish</th>\n",
       "      <td>114.0</td>\n",
       "      <td>45.0</td>\n",
       "    </tr>\n",
       "    <tr>\n",
       "      <th>Garage Yr Blt</th>\n",
       "      <td>114.0</td>\n",
       "      <td>45.0</td>\n",
       "    </tr>\n",
       "    <tr>\n",
       "      <th>Garage Type</th>\n",
       "      <td>113.0</td>\n",
       "      <td>44.0</td>\n",
       "    </tr>\n",
       "    <tr>\n",
       "      <th>Bsmt Exposure</th>\n",
       "      <td>58.0</td>\n",
       "      <td>25.0</td>\n",
       "    </tr>\n",
       "    <tr>\n",
       "      <th>BsmtFin Type 2</th>\n",
       "      <td>56.0</td>\n",
       "      <td>25.0</td>\n",
       "    </tr>\n",
       "    <tr>\n",
       "      <th>BsmtFin Type 1</th>\n",
       "      <td>55.0</td>\n",
       "      <td>25.0</td>\n",
       "    </tr>\n",
       "    <tr>\n",
       "      <th>Bsmt Qual</th>\n",
       "      <td>55.0</td>\n",
       "      <td>25.0</td>\n",
       "    </tr>\n",
       "    <tr>\n",
       "      <th>Bsmt Cond</th>\n",
       "      <td>55.0</td>\n",
       "      <td>25.0</td>\n",
       "    </tr>\n",
       "    <tr>\n",
       "      <th>Mas Vnr Area</th>\n",
       "      <td>22.0</td>\n",
       "      <td>1.0</td>\n",
       "    </tr>\n",
       "    <tr>\n",
       "      <th>Mas Vnr Type</th>\n",
       "      <td>22.0</td>\n",
       "      <td>1.0</td>\n",
       "    </tr>\n",
       "    <tr>\n",
       "      <th>Bsmt Half Bath</th>\n",
       "      <td>2.0</td>\n",
       "      <td>0.0</td>\n",
       "    </tr>\n",
       "    <tr>\n",
       "      <th>Bsmt Full Bath</th>\n",
       "      <td>2.0</td>\n",
       "      <td>0.0</td>\n",
       "    </tr>\n",
       "    <tr>\n",
       "      <th>Total Bsmt SF</th>\n",
       "      <td>1.0</td>\n",
       "      <td>0.0</td>\n",
       "    </tr>\n",
       "    <tr>\n",
       "      <th>Bsmt Unf SF</th>\n",
       "      <td>1.0</td>\n",
       "      <td>0.0</td>\n",
       "    </tr>\n",
       "    <tr>\n",
       "      <th>Garage Cars</th>\n",
       "      <td>1.0</td>\n",
       "      <td>0.0</td>\n",
       "    </tr>\n",
       "    <tr>\n",
       "      <th>Garage Area</th>\n",
       "      <td>1.0</td>\n",
       "      <td>0.0</td>\n",
       "    </tr>\n",
       "    <tr>\n",
       "      <th>BsmtFin SF 2</th>\n",
       "      <td>1.0</td>\n",
       "      <td>0.0</td>\n",
       "    </tr>\n",
       "    <tr>\n",
       "      <th>BsmtFin SF 1</th>\n",
       "      <td>1.0</td>\n",
       "      <td>0.0</td>\n",
       "    </tr>\n",
       "    <tr>\n",
       "      <th>Electrical</th>\n",
       "      <td>0.0</td>\n",
       "      <td>1.0</td>\n",
       "    </tr>\n",
       "  </tbody>\n",
       "</table>\n",
       "</div>"
      ],
      "text/plain": [
       "                  self  other\n",
       "Pool QC         2042.0  874.0\n",
       "Misc Feature    1986.0  837.0\n",
       "Alley           1911.0  820.0\n",
       "Fence           1651.0  706.0\n",
       "Fireplace Qu    1000.0  422.0\n",
       "Lot Frontage     330.0  160.0\n",
       "Garage Cond      114.0   45.0\n",
       "Garage Qual      114.0   45.0\n",
       "Garage Finish    114.0   45.0\n",
       "Garage Yr Blt    114.0   45.0\n",
       "Garage Type      113.0   44.0\n",
       "Bsmt Exposure     58.0   25.0\n",
       "BsmtFin Type 2    56.0   25.0\n",
       "BsmtFin Type 1    55.0   25.0\n",
       "Bsmt Qual         55.0   25.0\n",
       "Bsmt Cond         55.0   25.0\n",
       "Mas Vnr Area      22.0    1.0\n",
       "Mas Vnr Type      22.0    1.0\n",
       "Bsmt Half Bath     2.0    0.0\n",
       "Bsmt Full Bath     2.0    0.0\n",
       "Total Bsmt SF      1.0    0.0\n",
       "Bsmt Unf SF        1.0    0.0\n",
       "Garage Cars        1.0    0.0\n",
       "Garage Area        1.0    0.0\n",
       "BsmtFin SF 2       1.0    0.0\n",
       "BsmtFin SF 1       1.0    0.0\n",
       "Electrical         0.0    1.0"
      ]
     },
     "execution_count": 3,
     "metadata": {},
     "output_type": "execute_result"
    }
   ],
   "source": [
    "train_null = train_df.isnull().sum().drop('SalePrice')\n",
    "test_null = test_df.isnull().sum()\n",
    "train_null.compare(test_null).sort_values('self',ascending=False)"
   ]
  },
  {
   "cell_type": "markdown",
   "id": "6c1236d3",
   "metadata": {},
   "source": [
    "### 4.3.3. Distribution Comparison"
   ]
  },
  {
   "cell_type": "code",
   "execution_count": 4,
   "id": "ae3ae912",
   "metadata": {},
   "outputs": [
    {
     "data": {
      "text/plain": [
       "array(['TA', 'Gd', nan, 'Fa', 'Po', 'Ex'], dtype=object)"
      ]
     },
     "execution_count": 4,
     "metadata": {},
     "output_type": "execute_result"
    }
   ],
   "source": [
    "train_df['Bsmt Cond'].unique()"
   ]
  },
  {
   "cell_type": "code",
   "execution_count": 5,
   "id": "b6431e0a",
   "metadata": {},
   "outputs": [],
   "source": [
    "numeric_feat =[col for col in train_df.columns if train_df[col].dtypes != 'O']\n",
    "discrete_feat = [col for col in numeric_feat if len(train_df[col].unique())<25 and col not in ['Id']]\n",
    "continuous_feat = [col for col in numeric_feat if col not in discrete_feat and col not in ['Id','PID']]\n",
    "categorical_feat = [col for col in train_df.columns if train_df[col].dtypes == 'O']"
   ]
  },
  {
   "cell_type": "code",
   "execution_count": 6,
   "id": "727597c1",
   "metadata": {},
   "outputs": [],
   "source": [
    "combined_df = pd.concat([train_df,test_df],axis=0)"
   ]
  },
  {
   "cell_type": "code",
   "execution_count": 7,
   "id": "073471c0",
   "metadata": {
    "scrolled": true
   },
   "outputs": [],
   "source": [
    "combined_df['Label'] = combined_df['SalePrice'].apply(lambda x: 'train' if x > 0 else 'test')"
   ]
  },
  {
   "cell_type": "code",
   "execution_count": 8,
   "id": "999d42f8",
   "metadata": {
    "scrolled": true
   },
   "outputs": [
    {
     "name": "stdout",
     "output_type": "stream",
     "text": [
      "      Yr Sold  Garage Yr Blt\n",
      "1699     2007         2207.0\n",
      "1885     2007         2008.0\n"
     ]
    }
   ],
   "source": [
    "print(combined_df[['Yr Sold','Garage Yr Blt']].loc[[1699,1885]])"
   ]
  },
  {
   "cell_type": "code",
   "execution_count": 9,
   "id": "10e996fe",
   "metadata": {
    "scrolled": false
   },
   "outputs": [
    {
     "name": "stdout",
     "output_type": "stream",
     "text": [
      "Total Number of Numeric features:\t 39\n",
      "  Number of ID features:\t 2\n",
      "  Number of discrete features:\t 16\n",
      "  Number of continuous features: 21\n",
      "Total Number of Categorical features:\t 42\n"
     ]
    }
   ],
   "source": [
    "print(\"Total Number of Numeric features:\\t\",len(numeric_feat))\n",
    "print(\"  Number of ID features:\\t\",2)\n",
    "print(\"  Number of discrete features:\\t\",len(discrete_feat))\n",
    "print(\"  Number of continuous features:\", len(continuous_feat))\n",
    "print(\"Total Number of Categorical features:\\t\",len(categorical_feat))"
   ]
  },
  {
   "cell_type": "markdown",
   "id": "4d3743b2",
   "metadata": {},
   "source": [
    "#### 4.3.3.1. Distribution Comparison - Discrete\n",
    "In general we expect train to be about 2.33 times test in all counts for all catergories to ensure a relatively stratefied set of results.\n",
    "\n",
    "['MS Subclass'] is the type of house though it is numerical\n",
    "\n",
    "['TotRms AbvGrd', 'Overall Qual'] have a normal looking distribution\n",
    "\n",
    "['MS SubClass', 'age', 'garage_age'] are left-bound\n",
    "\n",
    "['Yr Sold'] is almost uniform\n",
    "\n",
    "['Mo Sold'] however is not even implying some internal seasonality (june, july are summer months with higher sales), with left skew"
   ]
  },
  {
   "cell_type": "markdown",
   "id": "d383ad46",
   "metadata": {},
   "source": [
    "#### 4.3.3.2. Distribution Comparison - Continuous\n",
    "In general we expect train to be about 2.33 times test in all counts for all catergories to ensure a relatively stratefied set of results"
   ]
  },
  {
   "cell_type": "code",
   "execution_count": 10,
   "id": "e733335f",
   "metadata": {},
   "outputs": [
    {
     "name": "stdout",
     "output_type": "stream",
     "text": [
      "expected ratio between train to test: 2.34\n"
     ]
    }
   ],
   "source": [
    "print(f'expected ratio between train to test: {len(train_df)/len(test_df):.2f}')"
   ]
  },
  {
   "cell_type": "markdown",
   "id": "88c58ab0",
   "metadata": {},
   "source": [
    "#### 4.3.3.3. Linearity Check\n",
    "Many variable are independent - in random parttern or a discrete pattern with no slope.\n",
    "Otherwise variables (e.g. year built) have a relationship but with no practical meaning.\n",
    "\n",
    "['Gr Liv Area', 'Total Bsmt SF', 'Garage Area', 'age', 'garage_age', '1st Flr SF', 'Total Bsment SF', 'Garage Area', 'age', 'Overal Qual', 'TotRms AbvGrd'] with scatterplot with apparent relationship, though not exhaustive list but some of these variables need to be amended to remove outliers"
   ]
  },
  {
   "cell_type": "markdown",
   "id": "95ca0c3e",
   "metadata": {},
   "source": [
    "#### 4.3.3.4. Categorical Distribution Comparison \n",
    "Here it is the easy form to check values that are not within 'data description' file.\n",
    "\n",
    "We continue to compare train to be about 2.34 times test in all counts for all catergories to ensure a relatively stratefied set of results. ['Pool QC'] has 'ex' greater in test than train but this is also highest missing data (recommend to drop column).\n",
    "\n",
    "['Roof Matl','Street','Condition 2','Utilities','Heating'] variables are shortlisted becuase any one value count is more than a count of 2,000."
   ]
  },
  {
   "cell_type": "code",
   "execution_count": 11,
   "id": "9f080dac",
   "metadata": {},
   "outputs": [
    {
     "name": "stdout",
     "output_type": "stream",
     "text": [
      "Street\n",
      "Utilities\n",
      "Condition 2\n",
      "Roof Matl\n",
      "Heating\n"
     ]
    }
   ],
   "source": [
    "for i, feature in enumerate(categorical_feat):\n",
    "    if train_df[feature].value_counts()[0]>2000:\n",
    "        print(feature)"
   ]
  },
  {
   "cell_type": "markdown",
   "id": "fe018cbe",
   "metadata": {},
   "source": [
    "['Neighborhood'] also appears to have significant distribution of SalesPrice across its values."
   ]
  },
  {
   "cell_type": "markdown",
   "id": "271c1a8e",
   "metadata": {},
   "source": [
    "### 4.4. Find Suitable value for Numerical missing values\n"
   ]
  },
  {
   "cell_type": "markdown",
   "id": "74d09386",
   "metadata": {},
   "source": [
    "### 4.5. Temporal Variable Analysis"
   ]
  },
  {
   "cell_type": "code",
   "execution_count": 12,
   "id": "60076674",
   "metadata": {
    "scrolled": true
   },
   "outputs": [
    {
     "name": "stdout",
     "output_type": "stream",
     "text": [
      "1699\n",
      "1885\n"
     ]
    }
   ],
   "source": [
    "for i,x in enumerate(combined_df['Yr Sold']-combined_df['Garage Yr Blt']):\n",
    "    if x<0:\n",
    "        print(i)"
   ]
  },
  {
   "cell_type": "code",
   "execution_count": 13,
   "id": "1ed3d0ff",
   "metadata": {},
   "outputs": [],
   "source": [
    "combined_df.loc[1699,'Garage Yr Blt'] = 2007\n",
    "combined_df.loc[1885,'Garage Yr Blt'] = 2007"
   ]
  },
  {
   "cell_type": "markdown",
   "id": "56b89a63",
   "metadata": {},
   "source": [
    "### 4.6. Data Correlation\n",
    "Garage parameters are highly correlated.\n",
    "year built and garage year built is highly correlated.\n",
    "rooms and living areas is highly correlated.\n",
    "\n",
    "all above which may cause multicollinearity"
   ]
  },
  {
   "cell_type": "markdown",
   "id": "16510201",
   "metadata": {},
   "source": [
    "## 5. Feature Engineering\n",
    "\n",
    "### 5.1. Drop Columns or Rows"
   ]
  },
  {
   "cell_type": "markdown",
   "id": "dfe7b093",
   "metadata": {},
   "source": [
    "Missing values will be resolved by picking predictors which have significant data.\n",
    "\n",
    "_['Pool QC', 'Misc Feature', 'Alley', 'Fence', 'Fireplace Qu',\n",
    "       'Lot Frontage', 'Garage Cond', 'Garage Qual', 'Garage Finish',\n",
    "       'Garage Yr Blt', 'Garage Type', 'Bsmt Exposure', 'BsmtFin Type 2',\n",
    "       'BsmtFin Type 1', 'Bsmt Qual', 'Bsmt Cond', 'Mas Vnr Area',\n",
    "       'Mas Vnr Type']_ \n",
    "       \n",
    "Columns are dropped based on the following:\n",
    "- there is a significant quantity of missing values (assumed threshhold: > 5 training values)\n",
    "- the remaining variables are related and likely to have predictive influence on response even if this vatiable is not considered\n",
    "\n",
    "18 **columns** are removed from `combined_df` because they have more that 5 entries missing.\n",
    "\n",
    "Consideration at this point that 'Quality' data sets are harder to be objective and will not be considered significant in the first iterations of the model but may be considered for fine tuning if necessary\n",
    "       \n",
    "---"
   ]
  },
  {
   "cell_type": "code",
   "execution_count": 14,
   "id": "58d74a1e",
   "metadata": {
    "scrolled": true
   },
   "outputs": [],
   "source": [
    "isnull_set = train_null.compare(test_null).sort_values('self',ascending=False)\n",
    "drop_columns = list(isnull_set[isnull_set['self']>5].index)\n",
    "#drop_columns.append('Id')\n",
    "drop_columns.append('PID')"
   ]
  },
  {
   "cell_type": "code",
   "execution_count": 15,
   "id": "272b2194",
   "metadata": {
    "scrolled": true
   },
   "outputs": [
    {
     "name": "stdout",
     "output_type": "stream",
     "text": [
      "Number of columns before dropping:\t 82\n",
      "Number of dropping columns:\t\t 19\n",
      "Number of columns after dropping:\t 63\n"
     ]
    }
   ],
   "source": [
    "print(\"Number of columns before dropping:\\t\",len(combined_df.columns))\n",
    "print(\"Number of dropping columns:\\t\\t\",len(drop_columns))\n",
    "combined_df.drop(columns=drop_columns, inplace=True, errors='ignore')\n",
    "print(\"Number of columns after dropping:\\t\",len(combined_df.columns))"
   ]
  },
  {
   "cell_type": "markdown",
   "id": "4838ea76",
   "metadata": {},
   "source": [
    "### 5.2 Temporal Variable Change\n",
    "\n"
   ]
  },
  {
   "cell_type": "code",
   "execution_count": 16,
   "id": "4eb40535",
   "metadata": {},
   "outputs": [],
   "source": [
    "for feature in ['Year Built','Year Remod/Add']:\n",
    "    combined_df[feature]=combined_df['Yr Sold']-combined_df[feature]"
   ]
  },
  {
   "cell_type": "code",
   "execution_count": 17,
   "id": "3fc8bb49",
   "metadata": {},
   "outputs": [
    {
     "data": {
      "text/plain": [
       "Overall Qual      0.800207\n",
       "Gr Liv Area       0.697038\n",
       "Garage Area       0.650270\n",
       "Garage Cars       0.648220\n",
       "Total Bsmt SF     0.628925\n",
       "1st Flr SF        0.618486\n",
       "Year Built       -0.571881\n",
       "Year Remod/Add   -0.551716\n",
       "Full Bath         0.537969\n",
       "TotRms AbvGrd     0.504014\n",
       "Fireplaces        0.471093\n",
       "BsmtFin SF 1      0.423519\n",
       "Name: SalePrice, dtype: float64"
      ]
     },
     "execution_count": 17,
     "metadata": {},
     "output_type": "execute_result"
    }
   ],
   "source": [
    "#there is corr between rms and living area. might have to be removed later\n",
    "combined_df.corr()['SalePrice'].drop('SalePrice').sort_values(key=lambda x:abs(x),ascending=False)[:12]"
   ]
  },
  {
   "cell_type": "markdown",
   "id": "b3b8abfc",
   "metadata": {},
   "source": [
    "### testing: add 'Gr Liv Area'^2, 'Year Built'^2"
   ]
  },
  {
   "cell_type": "code",
   "execution_count": 18,
   "id": "f93d1d5f",
   "metadata": {
    "scrolled": true
   },
   "outputs": [],
   "source": [
    "combined_df['Year Built^2'] = combined_df['Year Built']**2\n",
    "combined_df['Gr Liv Area^2'] = combined_df['Gr Liv Area']**2"
   ]
  },
  {
   "cell_type": "markdown",
   "id": "eb21a81a",
   "metadata": {},
   "source": [
    "### 5.3 Fill Missing Values\n",
    "missing values 1 or 2 missing entries per column so we assume they are missing all at random and are dropped instead.\n",
    "\n",
    "- numerical nulls set price to 0 (except SalePrice)\n",
    "- Electrical is categorical and set to mode\n",
    " \n",
    " 0 **rows** removed \n",
    " \n",
    "'*'alternative approach to only drop train entries then do no touch test. After testing, it is found that imputing values is more effective\n",
    "\n",
    "'*' considered finding other value in `Electrical` but is not available"
   ]
  },
  {
   "cell_type": "code",
   "execution_count": 19,
   "id": "75241e90",
   "metadata": {},
   "outputs": [
    {
     "data": {
      "text/plain": [
       "['BsmtFin SF 1',\n",
       " 'BsmtFin SF 2',\n",
       " 'Bsmt Unf SF',\n",
       " 'Total Bsmt SF',\n",
       " 'Electrical',\n",
       " 'Bsmt Full Bath',\n",
       " 'Bsmt Half Bath',\n",
       " 'Garage Cars',\n",
       " 'Garage Area',\n",
       " 'SalePrice']"
      ]
     },
     "execution_count": 19,
     "metadata": {},
     "output_type": "execute_result"
    }
   ],
   "source": [
    "[col for col in combined_df.columns if combined_df[col].isnull().sum() > 0]"
   ]
  },
  {
   "cell_type": "code",
   "execution_count": 20,
   "id": "65825acc",
   "metadata": {},
   "outputs": [],
   "source": [
    "null_features_numerical = ['Bsmt Full Bath','Bsmt Half Bath','Total Bsmt SF','Bsmt Unf SF','BsmtFin SF 2','BsmtFin SF 1','Garage Cars','Garage Area']"
   ]
  },
  {
   "cell_type": "code",
   "execution_count": 21,
   "id": "bce4fc96",
   "metadata": {},
   "outputs": [],
   "source": [
    "for col in null_features_numerical:\n",
    "    if col not in drop_columns:\n",
    "        combined_df[col] = combined_df[col].fillna(0.0)\n",
    "\n",
    "combined_df['Electrical'] = combined_df['Electrical'].fillna(combined_df['Electrical'].mode()[0])        "
   ]
  },
  {
   "cell_type": "code",
   "execution_count": 22,
   "id": "df02810d",
   "metadata": {},
   "outputs": [
    {
     "name": "stdout",
     "output_type": "stream",
     "text": [
      "Number of rows before dropping:\t 2929\n",
      "Number of rows dropped:\t\t 0\n",
      "Number of rows after dropping:\t 2929\n"
     ]
    }
   ],
   "source": [
    "before_drop=len(combined_df)\n",
    "print(\"Number of rows before dropping:\\t\",before_drop)\n",
    "drop_rows = ['Bsmt Half Bath','Bsmt Full Bath','Electrical','Garage Cars','Garage Area','BsmtFin SF 1','BsmtFin SF 2','Bsmt Unf SF','Total Bsmt SF']\n",
    "combined_df.drop(list(combined_df[combined_df.drop(columns='SalePrice').isnull().any(axis=1)].index[:-1]),inplace=True)\n",
    "print(\"Number of rows dropped:\\t\\t\",before_drop-len(combined_df))\n",
    "print(\"Number of rows after dropping:\\t\",len(combined_df))"
   ]
  },
  {
   "cell_type": "markdown",
   "id": "cf3a5f8a",
   "metadata": {},
   "source": [
    "### 5.4 Convert Numerical feature to Categorical\n",
    "some of the numeric features can be grouped as\n",
    "- Area\n",
    "- Quality / Condition\n",
    "    - assumed to be linearly related\n",
    "- Type of house feature\n",
    "    - _house type as seen in data description is not linear and will be changed to categorical_\n",
    "- Quantity of house feature\n",
    "- Year\n",
    "- Price"
   ]
  },
  {
   "cell_type": "code",
   "execution_count": 23,
   "id": "b8b80392",
   "metadata": {},
   "outputs": [],
   "source": [
    "convert_list = ['MS SubClass']\n",
    "combined_df['MS SubClass'] = combined_df['MS SubClass'].astype('str')"
   ]
  },
  {
   "cell_type": "markdown",
   "id": "821cbf7c",
   "metadata": {},
   "source": [
    "### 5.5. Apply PowerTransformer to columns\n",
    "- We saw in distribution of continuous features that some features are not linear towards target feature. So we need to transform this.\n",
    "- Lets check the skewness of all distributions\n",
    "- after reviewing the following is shortlisted for log transformation\n",
    "    ['Gr Liv Area','Lot Area', 'Garage Area','1st Flr SF', '2nd Flr SF', 'Enclosed Porch','BsmtFin SF 1', 'Total Bsmt SF', 'Bsmt Unf SF']\n",
    "- 'yeo-johnson' and 'box-cox' method is used"
   ]
  },
  {
   "cell_type": "code",
   "execution_count": 24,
   "id": "47196b32",
   "metadata": {},
   "outputs": [
    {
     "name": "stdout",
     "output_type": "stream",
     "text": [
      "\n",
      " Skew in numerical features: \n",
      "\n",
      "                      Skew\n",
      "Misc Val         21.996036\n",
      "Lot Area         12.899157\n",
      "Low Qual Fin SF  12.116056\n",
      "3Ssn Porch       11.401807\n",
      "BsmtFin SF 2      4.139978\n",
      "Enclosed Porch    4.013674\n",
      "Screen Porch      3.956673\n",
      "Gr Liv Area^2     3.820356\n",
      "Open Porch SF     2.525565\n",
      "Wood Deck SF      1.843810\n",
      "Year Built^2      1.813130\n",
      "SalePrice         1.557551\n",
      "1st Flr SF        1.449236\n",
      "BsmtFin SF 1      1.410038\n",
      "Gr Liv Area       1.220100\n",
      "Total Bsmt SF     1.132228\n",
      "Bsmt Unf SF       0.923750\n",
      "2nd Flr SF        0.865112\n",
      "Year Built        0.603031\n",
      "Year Remod/Add    0.450886\n",
      "Garage Area       0.240043\n",
      "Id                0.000660\n"
     ]
    }
   ],
   "source": [
    "numeric_feat =[col for col in combined_df.columns if combined_df[col].dtypes != 'O']\n",
    "discrete_feat = [col for col in numeric_feat if len(combined_df[col].unique())<25]\n",
    "continuous_feat = [col for col in numeric_feat if col not in discrete_feat]\n",
    "\n",
    "# check the skew of all numerical features\n",
    "skewed_feats = combined_df[continuous_feat].skew()\n",
    "print('\\n Skew in numerical features: \\n')\n",
    "skewness_df = pd.DataFrame({'Skew' : skewed_feats}).sort_values('Skew',ascending=False)\n",
    "print(skewness_df)"
   ]
  },
  {
   "cell_type": "code",
   "execution_count": 25,
   "id": "79d3d81b",
   "metadata": {},
   "outputs": [],
   "source": [
    "log_list = ['Gr Liv Area','Gr Liv Area^2','Lot Area', 'Garage Area','1st Flr SF', '2nd Flr SF', 'Enclosed Porch','BsmtFin SF 1', 'Total Bsmt SF', 'Bsmt Unf SF']"
   ]
  },
  {
   "cell_type": "code",
   "execution_count": 26,
   "id": "0528bc3e",
   "metadata": {},
   "outputs": [
    {
     "name": "stdout",
     "output_type": "stream",
     "text": [
      "Number of skewed numerical features got transform :  10\n"
     ]
    }
   ],
   "source": [
    "for col in log_list:\n",
    "    if col in ['Lot Area', '1st Flr SF']:\n",
    "        power = PowerTransformer(method='box-cox', standardize=True)\n",
    "        combined_df[[col]] = power.fit_transform(combined_df[[col]])\n",
    "    else:\n",
    "        power = PowerTransformer(method='yeo-johnson', standardize=True)\n",
    "        combined_df[[col]] = power.fit_transform(combined_df[[col]]) # fit with combined_data to avoid overfitting with training data?\n",
    "\n",
    "print('Number of skewed numerical features got transform : ', len(log_list))"
   ]
  },
  {
   "cell_type": "markdown",
   "id": "c0f70ca2",
   "metadata": {},
   "source": [
    "### 5.6 Regroup Features¶\n",
    "regroups features to remove unnecessary dummy variables. considering [4.3.3.4. Categorical Distribution Comparison](#4.3.3.4.-Categorical-Distribution-Comparison). 'Type'  are still relevant since they are binary. However discretionary quality variables with  namely with  values:\n",
    "       Ex\tExcellent  \n",
    "       Gd\tGood  \n",
    "       TA\tAverage/Typical  \n",
    "       Fa\tFair  \n",
    "       Po\tPoor  \n",
    "have few 'Fa' and 'Po' counts so these are consolidated. affected variables \n",
    "\n",
    "['Kitchen Qual','Heating QC','Exter Cond', 'Exter Qual']\n",
    "\n",
    "Exclusions\n",
    "['Exter Cond'] is evenly split into a distribution with 'TA' as greatest, we assume it is normal distribution so there is significance in 'Fa' and 'Po'\n",
    "['Exter Qual'] has no 'Po' so does not need to be regrouped\n",
    "\n",
    "Remainder to regroup is ['Kitchen Qual','Heating QC']"
   ]
  },
  {
   "cell_type": "code",
   "execution_count": 27,
   "id": "42cf50e3",
   "metadata": {},
   "outputs": [],
   "source": [
    "combined_df['Kitchen Qual'] = combined_df['Kitchen Qual'].apply(lambda x: 'Fa/Po' if x in ['Fa','Po'] else x)\n",
    "combined_df['Heating QC'] = combined_df['Heating QC'].apply(lambda x: 'Fa/Po' if x in ['Fa','Po'] else x)"
   ]
  },
  {
   "cell_type": "markdown",
   "id": "c81f9c49",
   "metadata": {},
   "source": [
    "### 5.7 Get-Dummies\n",
    "\n",
    "starting with 62 columns >`get_dummies`> 241 columns"
   ]
  },
  {
   "cell_type": "code",
   "execution_count": 28,
   "id": "54296a72",
   "metadata": {},
   "outputs": [],
   "source": [
    "combined_df = pd.get_dummies(combined_df).reset_index(drop=True)"
   ]
  },
  {
   "cell_type": "markdown",
   "id": "aaf6daf5",
   "metadata": {},
   "source": [
    "### 5.8 Get X and y"
   ]
  },
  {
   "cell_type": "code",
   "execution_count": 29,
   "id": "6ef2f859",
   "metadata": {},
   "outputs": [],
   "source": [
    "combined_df.to_csv('combined_test_df.csv',index=False)"
   ]
  },
  {
   "cell_type": "code",
   "execution_count": 30,
   "id": "3d0fd77f",
   "metadata": {},
   "outputs": [],
   "source": [
    "combined_df = pd.read_csv('combined_test_df.csv')"
   ]
  },
  {
   "cell_type": "code",
   "execution_count": 31,
   "id": "e9da8361",
   "metadata": {},
   "outputs": [],
   "source": [
    "coef_index = combined_df.columns.drop(['Id','Label_test','Label_train','SalePrice'])\n",
    "new_train_data = combined_df.loc[combined_df['Label_train']==1].drop(columns=['Id','Label_test','Label_train'])\n",
    "new_test_data = combined_df.loc[combined_df['Label_test']==1].drop(columns=['Id','Label_test','Label_train'])\n",
    "X_train = new_train_data.drop('SalePrice', axis=1)\n",
    "y_train = np.log1p(new_train_data['SalePrice'].values.ravel())\n",
    "X_test = new_test_data.drop('SalePrice', axis=1)"
   ]
  },
  {
   "cell_type": "code",
   "execution_count": 32,
   "id": "e00e4982",
   "metadata": {},
   "outputs": [
    {
     "name": "stdout",
     "output_type": "stream",
     "text": [
      "(2051, 240)\n",
      "(878, 240)\n"
     ]
    }
   ],
   "source": [
    "pre_precessing_pipeline = make_pipeline(RobustScaler(),\n",
    "                                       )\n",
    "\n",
    "X_train = pre_precessing_pipeline.fit_transform(X_train)\n",
    "X_test = pre_precessing_pipeline.transform(X_test)\n",
    "\n",
    "print(X_train.shape)\n",
    "print(X_test.shape)"
   ]
  },
  {
   "cell_type": "markdown",
   "id": "8d4e96e9",
   "metadata": {},
   "source": [
    "## 6.4 Model Development\n",
    "\n",
    "the entire train set is used to determine if adding a power series will improve the fit. we compare R^2 as it is a simple metric and assumed to be congruent to the RMSE in performance"
   ]
  },
  {
   "cell_type": "code",
   "execution_count": 33,
   "id": "a08b3c2f",
   "metadata": {},
   "outputs": [],
   "source": [
    "from sklearn.linear_model import LinearRegression, Lasso, LassoCV, Ridge, RidgeCV\n",
    "from sklearn.model_selection import cross_val_score, KFold\n",
    "from sklearn.metrics import mean_squared_error"
   ]
  },
  {
   "cell_type": "code",
   "execution_count": 34,
   "id": "f0af72c2",
   "metadata": {},
   "outputs": [],
   "source": [
    "cv = KFold(n_splits=10, random_state=42, shuffle=True)"
   ]
  },
  {
   "cell_type": "markdown",
   "id": "3244879c",
   "metadata": {},
   "source": [
    "### 6.0 OLS\n",
    "\n",
    "#### 6.0.1 OLS fit"
   ]
  },
  {
   "cell_type": "code",
   "execution_count": 35,
   "id": "7645424f",
   "metadata": {
    "scrolled": true
   },
   "outputs": [
    {
     "data": {
      "text/plain": [
       "LinearRegression()"
      ]
     },
     "execution_count": 35,
     "metadata": {},
     "output_type": "execute_result"
    }
   ],
   "source": [
    "ols=LinearRegression()\n",
    "ols.fit(X_train, y_train)"
   ]
  },
  {
   "cell_type": "code",
   "execution_count": 36,
   "id": "260507e4",
   "metadata": {},
   "outputs": [
    {
     "data": {
      "text/plain": [
       "0.8725843222789429"
      ]
     },
     "execution_count": 36,
     "metadata": {},
     "output_type": "execute_result"
    }
   ],
   "source": [
    "ols_scores = cross_val_score(ols, X_train, y_train, cv=cv, n_jobs=-1,scoring='r2')\n",
    "ols_scores.mean()"
   ]
  },
  {
   "cell_type": "markdown",
   "id": "6d2b1f2b",
   "metadata": {},
   "source": [
    "#### 6.0.2 OLS Evaluating Model"
   ]
  },
  {
   "cell_type": "code",
   "execution_count": 37,
   "id": "3b4e2d96",
   "metadata": {},
   "outputs": [
    {
     "name": "stdout",
     "output_type": "stream",
     "text": [
      "ols train R^2:\t\t 0.9378\n",
      "ols mean cv score:\t 0.8726\n",
      "train mse\t\t0.0105\n",
      "train-test score delta \t7.47%\n"
     ]
    }
   ],
   "source": [
    "ols_train_score = ols.score(X_train,y_train)\n",
    "print(f'ols train R^2:\\t\\t {ols_train_score:.4f}')\n",
    "\n",
    "ols_cv_score = ols_scores.mean()\n",
    "print(f'ols mean cv score:\\t {ols_cv_score:.4f}')\n",
    "\n",
    "y_pred = ols.predict(X_train)\n",
    "ols_mse = mean_squared_error(y_train, y_pred)\n",
    "print(f'train mse\\t\\t{ols_mse:.4f}')\n",
    "\n",
    "ols_score_delta = ols_train_score-ols_cv_score\n",
    "print(f'train-test score delta \\t{ols_score_delta/ols_cv_score*100:.2f}%')"
   ]
  },
  {
   "cell_type": "code",
   "execution_count": 38,
   "id": "4b8eb149",
   "metadata": {
    "scrolled": true
   },
   "outputs": [
    {
     "data": {
      "text/html": [
       "<div>\n",
       "<style scoped>\n",
       "    .dataframe tbody tr th:only-of-type {\n",
       "        vertical-align: middle;\n",
       "    }\n",
       "\n",
       "    .dataframe tbody tr th {\n",
       "        vertical-align: top;\n",
       "    }\n",
       "\n",
       "    .dataframe thead th {\n",
       "        text-align: right;\n",
       "    }\n",
       "</style>\n",
       "<table border=\"1\" class=\"dataframe\">\n",
       "  <thead>\n",
       "    <tr style=\"text-align: right;\">\n",
       "      <th></th>\n",
       "      <th>ols_coef</th>\n",
       "    </tr>\n",
       "  </thead>\n",
       "  <tbody>\n",
       "    <tr>\n",
       "      <th>Gr Liv Area^2</th>\n",
       "      <td>15.330139</td>\n",
       "    </tr>\n",
       "    <tr>\n",
       "      <th>Gr Liv Area</th>\n",
       "      <td>-15.168436</td>\n",
       "    </tr>\n",
       "    <tr>\n",
       "      <th>Roof Matl_ClyTile</th>\n",
       "      <td>-1.551506</td>\n",
       "    </tr>\n",
       "    <tr>\n",
       "      <th>MS Zoning_A (agr)</th>\n",
       "      <td>-0.567966</td>\n",
       "    </tr>\n",
       "    <tr>\n",
       "      <th>Exterior 1st_CBlock</th>\n",
       "      <td>0.510191</td>\n",
       "    </tr>\n",
       "    <tr>\n",
       "      <th>Functional_Sal</th>\n",
       "      <td>-0.453992</td>\n",
       "    </tr>\n",
       "    <tr>\n",
       "      <th>Roof Matl_Membran</th>\n",
       "      <td>0.424306</td>\n",
       "    </tr>\n",
       "    <tr>\n",
       "      <th>Neighborhood_GrnHill</th>\n",
       "      <td>0.410906</td>\n",
       "    </tr>\n",
       "    <tr>\n",
       "      <th>Exterior 2nd_CBlock</th>\n",
       "      <td>-0.404666</td>\n",
       "    </tr>\n",
       "    <tr>\n",
       "      <th>Roof Matl_WdShngl</th>\n",
       "      <td>0.349068</td>\n",
       "    </tr>\n",
       "    <tr>\n",
       "      <th>Condition 2_RRAe</th>\n",
       "      <td>0.345867</td>\n",
       "    </tr>\n",
       "    <tr>\n",
       "      <th>Roof Matl_WdShake</th>\n",
       "      <td>0.282168</td>\n",
       "    </tr>\n",
       "    <tr>\n",
       "      <th>Roof Matl_Tar&amp;Grv</th>\n",
       "      <td>0.281163</td>\n",
       "    </tr>\n",
       "    <tr>\n",
       "      <th>Exterior 1st_BrkComm</th>\n",
       "      <td>-0.218267</td>\n",
       "    </tr>\n",
       "    <tr>\n",
       "      <th>Roof Matl_CompShg</th>\n",
       "      <td>0.214801</td>\n",
       "    </tr>\n",
       "    <tr>\n",
       "      <th>Functional_Sev</th>\n",
       "      <td>-0.203068</td>\n",
       "    </tr>\n",
       "    <tr>\n",
       "      <th>Heating_Grav</th>\n",
       "      <td>-0.191018</td>\n",
       "    </tr>\n",
       "    <tr>\n",
       "      <th>Year Built</th>\n",
       "      <td>-0.183923</td>\n",
       "    </tr>\n",
       "    <tr>\n",
       "      <th>Functional_Typ</th>\n",
       "      <td>0.183483</td>\n",
       "    </tr>\n",
       "    <tr>\n",
       "      <th>Utilities_NoSeWa</th>\n",
       "      <td>-0.172803</td>\n",
       "    </tr>\n",
       "  </tbody>\n",
       "</table>\n",
       "</div>"
      ],
      "text/plain": [
       "                       ols_coef\n",
       "Gr Liv Area^2         15.330139\n",
       "Gr Liv Area          -15.168436\n",
       "Roof Matl_ClyTile     -1.551506\n",
       "MS Zoning_A (agr)     -0.567966\n",
       "Exterior 1st_CBlock    0.510191\n",
       "Functional_Sal        -0.453992\n",
       "Roof Matl_Membran      0.424306\n",
       "Neighborhood_GrnHill   0.410906\n",
       "Exterior 2nd_CBlock   -0.404666\n",
       "Roof Matl_WdShngl      0.349068\n",
       "Condition 2_RRAe       0.345867\n",
       "Roof Matl_WdShake      0.282168\n",
       "Roof Matl_Tar&Grv      0.281163\n",
       "Exterior 1st_BrkComm  -0.218267\n",
       "Roof Matl_CompShg      0.214801\n",
       "Functional_Sev        -0.203068\n",
       "Heating_Grav          -0.191018\n",
       "Year Built            -0.183923\n",
       "Functional_Typ         0.183483\n",
       "Utilities_NoSeWa      -0.172803"
      ]
     },
     "execution_count": 38,
     "metadata": {},
     "output_type": "execute_result"
    }
   ],
   "source": [
    "ols_coef = pd.DataFrame(ols.coef_, index = coef_index)\n",
    "ols_coef.columns = ['ols_coef']\n",
    "ols_coef.sort_values(by='ols_coef',key=lambda x: abs(x),ascending=False)[:20]"
   ]
  },
  {
   "cell_type": "markdown",
   "id": "bdb8bc5f",
   "metadata": {},
   "source": [
    "### 6.0 OLS\n",
    "\n",
    "#### 6.0.1 OLS fit"
   ]
  },
  {
   "cell_type": "code",
   "execution_count": 39,
   "id": "51576d25",
   "metadata": {
    "scrolled": true
   },
   "outputs": [
    {
     "data": {
      "text/plain": [
       "LinearRegression()"
      ]
     },
     "execution_count": 39,
     "metadata": {},
     "output_type": "execute_result"
    }
   ],
   "source": [
    "ols=LinearRegression()\n",
    "ols.fit(X_train, y_train)"
   ]
  },
  {
   "cell_type": "code",
   "execution_count": 40,
   "id": "1bd5e004",
   "metadata": {},
   "outputs": [
    {
     "data": {
      "text/plain": [
       "0.8725843222789429"
      ]
     },
     "execution_count": 40,
     "metadata": {},
     "output_type": "execute_result"
    }
   ],
   "source": [
    "ols_scores = cross_val_score(ols, X_train, y_train, cv=cv, n_jobs=-1,scoring='r2')\n",
    "ols_scores.mean()"
   ]
  },
  {
   "cell_type": "markdown",
   "id": "c38fc373",
   "metadata": {},
   "source": [
    "#### 6.0.2 OLS Evaluating Model"
   ]
  },
  {
   "cell_type": "code",
   "execution_count": 52,
   "id": "52bef039",
   "metadata": {},
   "outputs": [
    {
     "name": "stdout",
     "output_type": "stream",
     "text": [
      "ols mean cv score:\t 0.8726\n",
      "train-test score delta \t7.47%\n",
      "train rmse\t\t18,701.387293360924\n"
     ]
    }
   ],
   "source": [
    "ols_cv_score = ols_scores.mean()\n",
    "print(f'ols mean cv score:\\t {ols_cv_score:.4f}')\n",
    "\n",
    "ols_score_delta = ols_train_score-ols_cv_score\n",
    "print(f'train-test score delta \\t{ols_score_delta/ols_cv_score*100:.2f}%')\n",
    "\n",
    "y_pred = np.expm1(ols.predict(X_train))\n",
    "ols_mse = mean_squared_error(np.expm1(y_train), y_pred)\n",
    "print(f'train rmse\\t\\t{ols_mse**.5:,}')"
   ]
  },
  {
   "cell_type": "code",
   "execution_count": 42,
   "id": "dd35fe5e",
   "metadata": {
    "scrolled": true
   },
   "outputs": [
    {
     "data": {
      "text/html": [
       "<div>\n",
       "<style scoped>\n",
       "    .dataframe tbody tr th:only-of-type {\n",
       "        vertical-align: middle;\n",
       "    }\n",
       "\n",
       "    .dataframe tbody tr th {\n",
       "        vertical-align: top;\n",
       "    }\n",
       "\n",
       "    .dataframe thead th {\n",
       "        text-align: right;\n",
       "    }\n",
       "</style>\n",
       "<table border=\"1\" class=\"dataframe\">\n",
       "  <thead>\n",
       "    <tr style=\"text-align: right;\">\n",
       "      <th></th>\n",
       "      <th>ols_coef</th>\n",
       "    </tr>\n",
       "  </thead>\n",
       "  <tbody>\n",
       "    <tr>\n",
       "      <th>Gr Liv Area^2</th>\n",
       "      <td>15.330139</td>\n",
       "    </tr>\n",
       "    <tr>\n",
       "      <th>Gr Liv Area</th>\n",
       "      <td>-15.168436</td>\n",
       "    </tr>\n",
       "    <tr>\n",
       "      <th>Roof Matl_ClyTile</th>\n",
       "      <td>-1.551506</td>\n",
       "    </tr>\n",
       "    <tr>\n",
       "      <th>MS Zoning_A (agr)</th>\n",
       "      <td>-0.567966</td>\n",
       "    </tr>\n",
       "    <tr>\n",
       "      <th>Exterior 1st_CBlock</th>\n",
       "      <td>0.510191</td>\n",
       "    </tr>\n",
       "    <tr>\n",
       "      <th>Functional_Sal</th>\n",
       "      <td>-0.453992</td>\n",
       "    </tr>\n",
       "    <tr>\n",
       "      <th>Roof Matl_Membran</th>\n",
       "      <td>0.424306</td>\n",
       "    </tr>\n",
       "    <tr>\n",
       "      <th>Neighborhood_GrnHill</th>\n",
       "      <td>0.410906</td>\n",
       "    </tr>\n",
       "    <tr>\n",
       "      <th>Exterior 2nd_CBlock</th>\n",
       "      <td>-0.404666</td>\n",
       "    </tr>\n",
       "    <tr>\n",
       "      <th>Roof Matl_WdShngl</th>\n",
       "      <td>0.349068</td>\n",
       "    </tr>\n",
       "    <tr>\n",
       "      <th>Condition 2_RRAe</th>\n",
       "      <td>0.345867</td>\n",
       "    </tr>\n",
       "    <tr>\n",
       "      <th>Roof Matl_WdShake</th>\n",
       "      <td>0.282168</td>\n",
       "    </tr>\n",
       "    <tr>\n",
       "      <th>Roof Matl_Tar&amp;Grv</th>\n",
       "      <td>0.281163</td>\n",
       "    </tr>\n",
       "    <tr>\n",
       "      <th>Exterior 1st_BrkComm</th>\n",
       "      <td>-0.218267</td>\n",
       "    </tr>\n",
       "    <tr>\n",
       "      <th>Roof Matl_CompShg</th>\n",
       "      <td>0.214801</td>\n",
       "    </tr>\n",
       "    <tr>\n",
       "      <th>Functional_Sev</th>\n",
       "      <td>-0.203068</td>\n",
       "    </tr>\n",
       "    <tr>\n",
       "      <th>Heating_Grav</th>\n",
       "      <td>-0.191018</td>\n",
       "    </tr>\n",
       "    <tr>\n",
       "      <th>Year Built</th>\n",
       "      <td>-0.183923</td>\n",
       "    </tr>\n",
       "    <tr>\n",
       "      <th>Functional_Typ</th>\n",
       "      <td>0.183483</td>\n",
       "    </tr>\n",
       "    <tr>\n",
       "      <th>Utilities_NoSeWa</th>\n",
       "      <td>-0.172803</td>\n",
       "    </tr>\n",
       "  </tbody>\n",
       "</table>\n",
       "</div>"
      ],
      "text/plain": [
       "                       ols_coef\n",
       "Gr Liv Area^2         15.330139\n",
       "Gr Liv Area          -15.168436\n",
       "Roof Matl_ClyTile     -1.551506\n",
       "MS Zoning_A (agr)     -0.567966\n",
       "Exterior 1st_CBlock    0.510191\n",
       "Functional_Sal        -0.453992\n",
       "Roof Matl_Membran      0.424306\n",
       "Neighborhood_GrnHill   0.410906\n",
       "Exterior 2nd_CBlock   -0.404666\n",
       "Roof Matl_WdShngl      0.349068\n",
       "Condition 2_RRAe       0.345867\n",
       "Roof Matl_WdShake      0.282168\n",
       "Roof Matl_Tar&Grv      0.281163\n",
       "Exterior 1st_BrkComm  -0.218267\n",
       "Roof Matl_CompShg      0.214801\n",
       "Functional_Sev        -0.203068\n",
       "Heating_Grav          -0.191018\n",
       "Year Built            -0.183923\n",
       "Functional_Typ         0.183483\n",
       "Utilities_NoSeWa      -0.172803"
      ]
     },
     "execution_count": 42,
     "metadata": {},
     "output_type": "execute_result"
    }
   ],
   "source": [
    "ols_coef = pd.DataFrame(ols.coef_, index = coef_index)\n",
    "ols_coef.columns = ['ols_coef']\n",
    "ols_coef.sort_values(by='ols_coef',key=lambda x: abs(x),ascending=False)[:20]"
   ]
  },
  {
   "cell_type": "code",
   "execution_count": 43,
   "id": "7c59e2d5",
   "metadata": {},
   "outputs": [
    {
     "name": "stdout",
     "output_type": "stream",
     "text": [
      "Gr Liv Area \t -15.168435887556809\n",
      "Gr Liv Area^2 \t 15.33013854093558\n",
      "Year Built \t -0.18392298584706354\n",
      "Year Built^2 \t 0.03910670744498802\n"
     ]
    }
   ],
   "source": [
    "x = ols_coef.to_dict()\n",
    "x=x['ols_coef']\n",
    "for coef in ['Gr Liv Area','Gr Liv Area^2','Year Built','Year Built^2']:\n",
    "    print(coef,'\\t', x[coef])"
   ]
  },
  {
   "cell_type": "markdown",
   "id": "2c527be4",
   "metadata": {},
   "source": [
    "### 6.1 Ridge\n",
    "\n",
    "#### 6.1.1 Ridge fit"
   ]
  },
  {
   "cell_type": "code",
   "execution_count": 44,
   "id": "ceb2b6b9",
   "metadata": {},
   "outputs": [],
   "source": [
    "ridge_cv = RidgeCV(cv=5)\n",
    "ridge_cv_scores = cross_val_score(ridge_cv, X_train, y_train, cv=cv, n_jobs=-1,scoring='r2')"
   ]
  },
  {
   "cell_type": "code",
   "execution_count": 45,
   "id": "5da77a1a",
   "metadata": {},
   "outputs": [
    {
     "data": {
      "text/plain": [
       "0.8928436327993833"
      ]
     },
     "execution_count": 45,
     "metadata": {},
     "output_type": "execute_result"
    }
   ],
   "source": [
    "ridge_cv_scores.mean()"
   ]
  },
  {
   "cell_type": "code",
   "execution_count": 58,
   "id": "c2dd6143",
   "metadata": {},
   "outputs": [
    {
     "name": "stdout",
     "output_type": "stream",
     "text": [
      "Ridge alpha: 12.5\n"
     ]
    }
   ],
   "source": [
    "ridge_cv = RidgeCV(cv=100,alphas=[.125,1.25,12.5],scoring='neg_mean_squared_error')\n",
    "ridge_cv.fit(X_train, y_train)\n",
    "print('Ridge alpha:', ridge_cv.alpha_)"
   ]
  },
  {
   "cell_type": "markdown",
   "id": "95966112",
   "metadata": {},
   "source": [
    "#### 6.1.2 Ridge Evaluating Model"
   ]
  },
  {
   "cell_type": "code",
   "execution_count": 60,
   "id": "caac01b1",
   "metadata": {},
   "outputs": [
    {
     "name": "stdout",
     "output_type": "stream",
     "text": [
      "train R^2 :0.9243\n",
      "train-test score delta: 3.41%\n",
      "train rmse\t\t21,581.778161312188\n"
     ]
    }
   ],
   "source": [
    "ridge_cv_score = ridge_cv.score(X_train, y_train)\n",
    "print(f'train R^2 :{ridge_cv_score:.4f}')\n",
    "\n",
    "ridge_cv_score_delta = ridge_cv_score-ridge_cv_scores.mean()\n",
    "print(f'train-test score delta: {ridge_cv_score_delta/ridge_cv_score*100:.2f}%')\n",
    "\n",
    "y_pred = np.expm1(ridge_cv.predict(X_train))\n",
    "ridge_cv_mse = mean_squared_error(np.expm1(y_train), y_pred)\n",
    "print(f'train rmse\\t\\t{ridge_cv_mse**.5:,}')"
   ]
  },
  {
   "cell_type": "code",
   "execution_count": 49,
   "id": "1f2ba2cc",
   "metadata": {
    "scrolled": false
   },
   "outputs": [
    {
     "data": {
      "text/html": [
       "<div>\n",
       "<style scoped>\n",
       "    .dataframe tbody tr th:only-of-type {\n",
       "        vertical-align: middle;\n",
       "    }\n",
       "\n",
       "    .dataframe tbody tr th {\n",
       "        vertical-align: top;\n",
       "    }\n",
       "\n",
       "    .dataframe thead th {\n",
       "        text-align: right;\n",
       "    }\n",
       "</style>\n",
       "<table border=\"1\" class=\"dataframe\">\n",
       "  <thead>\n",
       "    <tr style=\"text-align: right;\">\n",
       "      <th></th>\n",
       "      <th>ridge_coef</th>\n",
       "    </tr>\n",
       "  </thead>\n",
       "  <tbody>\n",
       "    <tr>\n",
       "      <th>Functional_Sal</th>\n",
       "      <td>-0.114111</td>\n",
       "    </tr>\n",
       "    <tr>\n",
       "      <th>Roof Matl_ClyTile</th>\n",
       "      <td>-0.112913</td>\n",
       "    </tr>\n",
       "    <tr>\n",
       "      <th>Overall Qual</th>\n",
       "      <td>0.112632</td>\n",
       "    </tr>\n",
       "    <tr>\n",
       "      <th>Functional_Typ</th>\n",
       "      <td>0.096432</td>\n",
       "    </tr>\n",
       "    <tr>\n",
       "      <th>Year Built</th>\n",
       "      <td>-0.095988</td>\n",
       "    </tr>\n",
       "    <tr>\n",
       "      <th>Exter Cond_Po</th>\n",
       "      <td>-0.087510</td>\n",
       "    </tr>\n",
       "    <tr>\n",
       "      <th>MS Zoning_A (agr)</th>\n",
       "      <td>-0.087171</td>\n",
       "    </tr>\n",
       "    <tr>\n",
       "      <th>MS Zoning_C (all)</th>\n",
       "      <td>-0.085586</td>\n",
       "    </tr>\n",
       "    <tr>\n",
       "      <th>Exterior 1st_BrkFace</th>\n",
       "      <td>0.084329</td>\n",
       "    </tr>\n",
       "    <tr>\n",
       "      <th>Gr Liv Area</th>\n",
       "      <td>0.083290</td>\n",
       "    </tr>\n",
       "    <tr>\n",
       "      <th>Gr Liv Area^2</th>\n",
       "      <td>0.083224</td>\n",
       "    </tr>\n",
       "    <tr>\n",
       "      <th>Neighborhood_Edwards</th>\n",
       "      <td>-0.077931</td>\n",
       "    </tr>\n",
       "    <tr>\n",
       "      <th>BsmtFin SF 1</th>\n",
       "      <td>0.071940</td>\n",
       "    </tr>\n",
       "    <tr>\n",
       "      <th>Neighborhood_NridgHt</th>\n",
       "      <td>0.071497</td>\n",
       "    </tr>\n",
       "    <tr>\n",
       "      <th>Neighborhood_StoneBr</th>\n",
       "      <td>0.067892</td>\n",
       "    </tr>\n",
       "    <tr>\n",
       "      <th>Neighborhood_GrnHill</th>\n",
       "      <td>0.067486</td>\n",
       "    </tr>\n",
       "    <tr>\n",
       "      <th>Lot Shape_IR3</th>\n",
       "      <td>-0.067238</td>\n",
       "    </tr>\n",
       "    <tr>\n",
       "      <th>Exterior 1st_AsbShng</th>\n",
       "      <td>-0.063996</td>\n",
       "    </tr>\n",
       "    <tr>\n",
       "      <th>Kitchen Qual_Ex</th>\n",
       "      <td>0.063039</td>\n",
       "    </tr>\n",
       "    <tr>\n",
       "      <th>Heating_Grav</th>\n",
       "      <td>-0.060211</td>\n",
       "    </tr>\n",
       "    <tr>\n",
       "      <th>Heating_GasW</th>\n",
       "      <td>0.056331</td>\n",
       "    </tr>\n",
       "    <tr>\n",
       "      <th>MS Zoning_FV</th>\n",
       "      <td>0.055907</td>\n",
       "    </tr>\n",
       "    <tr>\n",
       "      <th>Heating_GasA</th>\n",
       "      <td>0.055804</td>\n",
       "    </tr>\n",
       "    <tr>\n",
       "      <th>Condition 1_PosN</th>\n",
       "      <td>0.054184</td>\n",
       "    </tr>\n",
       "    <tr>\n",
       "      <th>Sale Type_COD</th>\n",
       "      <td>-0.052267</td>\n",
       "    </tr>\n",
       "    <tr>\n",
       "      <th>Neighborhood_OldTown</th>\n",
       "      <td>-0.049417</td>\n",
       "    </tr>\n",
       "    <tr>\n",
       "      <th>Neighborhood_MeadowV</th>\n",
       "      <td>-0.049025</td>\n",
       "    </tr>\n",
       "    <tr>\n",
       "      <th>Neighborhood_NoRidge</th>\n",
       "      <td>0.047983</td>\n",
       "    </tr>\n",
       "    <tr>\n",
       "      <th>Roof Style_Mansard</th>\n",
       "      <td>-0.047429</td>\n",
       "    </tr>\n",
       "    <tr>\n",
       "      <th>Neighborhood_IDOTRR</th>\n",
       "      <td>-0.047329</td>\n",
       "    </tr>\n",
       "    <tr>\n",
       "      <th>MS Zoning_RL</th>\n",
       "      <td>0.046858</td>\n",
       "    </tr>\n",
       "    <tr>\n",
       "      <th>Functional_Sev</th>\n",
       "      <td>-0.045578</td>\n",
       "    </tr>\n",
       "    <tr>\n",
       "      <th>Condition 1_RRAe</th>\n",
       "      <td>-0.044519</td>\n",
       "    </tr>\n",
       "    <tr>\n",
       "      <th>Neighborhood_NWAmes</th>\n",
       "      <td>-0.044491</td>\n",
       "    </tr>\n",
       "    <tr>\n",
       "      <th>Functional_Min2</th>\n",
       "      <td>0.043970</td>\n",
       "    </tr>\n",
       "    <tr>\n",
       "      <th>Functional_Min1</th>\n",
       "      <td>0.043451</td>\n",
       "    </tr>\n",
       "    <tr>\n",
       "      <th>Kitchen AbvGr</th>\n",
       "      <td>-0.043338</td>\n",
       "    </tr>\n",
       "    <tr>\n",
       "      <th>Neighborhood_Crawfor</th>\n",
       "      <td>0.042630</td>\n",
       "    </tr>\n",
       "    <tr>\n",
       "      <th>Exter Cond_TA</th>\n",
       "      <td>0.042574</td>\n",
       "    </tr>\n",
       "    <tr>\n",
       "      <th>Functional_Maj2</th>\n",
       "      <td>-0.041846</td>\n",
       "    </tr>\n",
       "    <tr>\n",
       "      <th>Overall Cond</th>\n",
       "      <td>0.041832</td>\n",
       "    </tr>\n",
       "    <tr>\n",
       "      <th>MS Zoning_RH</th>\n",
       "      <td>0.041737</td>\n",
       "    </tr>\n",
       "    <tr>\n",
       "      <th>Garage Cars</th>\n",
       "      <td>0.040651</td>\n",
       "    </tr>\n",
       "    <tr>\n",
       "      <th>Kitchen Qual_Fa/Po</th>\n",
       "      <td>-0.040587</td>\n",
       "    </tr>\n",
       "    <tr>\n",
       "      <th>Neighborhood_Somerst</th>\n",
       "      <td>0.040400</td>\n",
       "    </tr>\n",
       "    <tr>\n",
       "      <th>Heating_Wall</th>\n",
       "      <td>-0.039654</td>\n",
       "    </tr>\n",
       "    <tr>\n",
       "      <th>Roof Matl_WdShngl</th>\n",
       "      <td>0.039204</td>\n",
       "    </tr>\n",
       "    <tr>\n",
       "      <th>Land Contour_HLS</th>\n",
       "      <td>0.039045</td>\n",
       "    </tr>\n",
       "    <tr>\n",
       "      <th>Lot Area</th>\n",
       "      <td>0.036089</td>\n",
       "    </tr>\n",
       "    <tr>\n",
       "      <th>Exter Qual_Ex</th>\n",
       "      <td>0.035862</td>\n",
       "    </tr>\n",
       "  </tbody>\n",
       "</table>\n",
       "</div>"
      ],
      "text/plain": [
       "                      ridge_coef\n",
       "Functional_Sal         -0.114111\n",
       "Roof Matl_ClyTile      -0.112913\n",
       "Overall Qual            0.112632\n",
       "Functional_Typ          0.096432\n",
       "Year Built             -0.095988\n",
       "Exter Cond_Po          -0.087510\n",
       "MS Zoning_A (agr)      -0.087171\n",
       "MS Zoning_C (all)      -0.085586\n",
       "Exterior 1st_BrkFace    0.084329\n",
       "Gr Liv Area             0.083290\n",
       "Gr Liv Area^2           0.083224\n",
       "Neighborhood_Edwards   -0.077931\n",
       "BsmtFin SF 1            0.071940\n",
       "Neighborhood_NridgHt    0.071497\n",
       "Neighborhood_StoneBr    0.067892\n",
       "Neighborhood_GrnHill    0.067486\n",
       "Lot Shape_IR3          -0.067238\n",
       "Exterior 1st_AsbShng   -0.063996\n",
       "Kitchen Qual_Ex         0.063039\n",
       "Heating_Grav           -0.060211\n",
       "Heating_GasW            0.056331\n",
       "MS Zoning_FV            0.055907\n",
       "Heating_GasA            0.055804\n",
       "Condition 1_PosN        0.054184\n",
       "Sale Type_COD          -0.052267\n",
       "Neighborhood_OldTown   -0.049417\n",
       "Neighborhood_MeadowV   -0.049025\n",
       "Neighborhood_NoRidge    0.047983\n",
       "Roof Style_Mansard     -0.047429\n",
       "Neighborhood_IDOTRR    -0.047329\n",
       "MS Zoning_RL            0.046858\n",
       "Functional_Sev         -0.045578\n",
       "Condition 1_RRAe       -0.044519\n",
       "Neighborhood_NWAmes    -0.044491\n",
       "Functional_Min2         0.043970\n",
       "Functional_Min1         0.043451\n",
       "Kitchen AbvGr          -0.043338\n",
       "Neighborhood_Crawfor    0.042630\n",
       "Exter Cond_TA           0.042574\n",
       "Functional_Maj2        -0.041846\n",
       "Overall Cond            0.041832\n",
       "MS Zoning_RH            0.041737\n",
       "Garage Cars             0.040651\n",
       "Kitchen Qual_Fa/Po     -0.040587\n",
       "Neighborhood_Somerst    0.040400\n",
       "Heating_Wall           -0.039654\n",
       "Roof Matl_WdShngl       0.039204\n",
       "Land Contour_HLS        0.039045\n",
       "Lot Area                0.036089\n",
       "Exter Qual_Ex           0.035862"
      ]
     },
     "execution_count": 49,
     "metadata": {},
     "output_type": "execute_result"
    }
   ],
   "source": [
    "ridge_cv_coef = pd.DataFrame(ridge_cv.coef_, index = coef_index)\n",
    "ridge_cv_coef.columns = ['ridge_coef']\n",
    "ridge_cv_coef.sort_values(by='ridge_coef',key=lambda x: abs(x),ascending=False)[:50]"
   ]
  },
  {
   "cell_type": "code",
   "execution_count": 50,
   "id": "9b20a7bf",
   "metadata": {},
   "outputs": [
    {
     "data": {
      "text/html": [
       "<div>\n",
       "<style scoped>\n",
       "    .dataframe tbody tr th:only-of-type {\n",
       "        vertical-align: middle;\n",
       "    }\n",
       "\n",
       "    .dataframe tbody tr th {\n",
       "        vertical-align: top;\n",
       "    }\n",
       "\n",
       "    .dataframe thead th {\n",
       "        text-align: right;\n",
       "    }\n",
       "</style>\n",
       "<table border=\"1\" class=\"dataframe\">\n",
       "  <thead>\n",
       "    <tr style=\"text-align: right;\">\n",
       "      <th></th>\n",
       "      <th>ridge_coef</th>\n",
       "    </tr>\n",
       "  </thead>\n",
       "  <tbody>\n",
       "    <tr>\n",
       "      <th>Lot Area</th>\n",
       "      <td>0.036089</td>\n",
       "    </tr>\n",
       "    <tr>\n",
       "      <th>Overall Qual</th>\n",
       "      <td>0.112632</td>\n",
       "    </tr>\n",
       "    <tr>\n",
       "      <th>Overall Cond</th>\n",
       "      <td>0.041832</td>\n",
       "    </tr>\n",
       "    <tr>\n",
       "      <th>Year Built</th>\n",
       "      <td>-0.095988</td>\n",
       "    </tr>\n",
       "    <tr>\n",
       "      <th>Year Remod/Add</th>\n",
       "      <td>-0.029160</td>\n",
       "    </tr>\n",
       "    <tr>\n",
       "      <th>...</th>\n",
       "      <td>...</td>\n",
       "    </tr>\n",
       "    <tr>\n",
       "      <th>Sale Type_ConLw</th>\n",
       "      <td>-0.011070</td>\n",
       "    </tr>\n",
       "    <tr>\n",
       "      <th>Sale Type_New</th>\n",
       "      <td>0.015277</td>\n",
       "    </tr>\n",
       "    <tr>\n",
       "      <th>Sale Type_Oth</th>\n",
       "      <td>0.031318</td>\n",
       "    </tr>\n",
       "    <tr>\n",
       "      <th>Sale Type_VWD</th>\n",
       "      <td>0.000000</td>\n",
       "    </tr>\n",
       "    <tr>\n",
       "      <th>Sale Type_WD</th>\n",
       "      <td>-0.014894</td>\n",
       "    </tr>\n",
       "  </tbody>\n",
       "</table>\n",
       "<p>240 rows × 1 columns</p>\n",
       "</div>"
      ],
      "text/plain": [
       "                 ridge_coef\n",
       "Lot Area           0.036089\n",
       "Overall Qual       0.112632\n",
       "Overall Cond       0.041832\n",
       "Year Built        -0.095988\n",
       "Year Remod/Add    -0.029160\n",
       "...                     ...\n",
       "Sale Type_ConLw   -0.011070\n",
       "Sale Type_New      0.015277\n",
       "Sale Type_Oth      0.031318\n",
       "Sale Type_VWD      0.000000\n",
       "Sale Type_WD      -0.014894\n",
       "\n",
       "[240 rows x 1 columns]"
      ]
     },
     "execution_count": 50,
     "metadata": {},
     "output_type": "execute_result"
    }
   ],
   "source": [
    "ridge_cv_coef"
   ]
  },
  {
   "cell_type": "code",
   "execution_count": 51,
   "id": "0684c4a4",
   "metadata": {},
   "outputs": [
    {
     "name": "stdout",
     "output_type": "stream",
     "text": [
      "Gr Liv Area \t 0.08328993012306976\n",
      "Gr Liv Area^2 \t 0.08322385912970143\n",
      "Year Built \t -0.09598776634539422\n",
      "Year Built^2 \t 0.0019979321960769563\n"
     ]
    }
   ],
   "source": [
    "x = ridge_cv_coef.to_dict()\n",
    "x=x['ridge_coef']\n",
    "for coef in ['Gr Liv Area','Gr Liv Area^2','Year Built','Year Built^2']:\n",
    "    print(coef,'\\t', x[coef])"
   ]
  },
  {
   "cell_type": "markdown",
   "id": "2e12c66b",
   "metadata": {},
   "source": [
    "### 6.2 Lasso\n",
    "#### 6.2.1 Lasso fit"
   ]
  },
  {
   "cell_type": "code",
   "execution_count": 54,
   "id": "fae6a1ff",
   "metadata": {},
   "outputs": [],
   "source": [
    "lasso_cv = LassoCV(cv=5)\n",
    "lasso_cv_scores = cross_val_score(lasso_cv, X_train, y_train, cv=cv, n_jobs=-1,scoring='r2')"
   ]
  },
  {
   "cell_type": "code",
   "execution_count": 55,
   "id": "24b480f5",
   "metadata": {},
   "outputs": [
    {
     "data": {
      "text/plain": [
       "0.878256409413304"
      ]
     },
     "execution_count": 55,
     "metadata": {},
     "output_type": "execute_result"
    }
   ],
   "source": [
    "lasso_cv_scores.mean()"
   ]
  },
  {
   "cell_type": "code",
   "execution_count": 56,
   "id": "41ae5382",
   "metadata": {
    "scrolled": true
   },
   "outputs": [
    {
     "name": "stderr",
     "output_type": "stream",
     "text": [
      "/Users/Ju/opt/anaconda3/lib/python3.8/site-packages/sklearn/linear_model/_coordinate_descent.py:525: ConvergenceWarning: Objective did not converge. You might want to increase the number of iterations. Duality gap: 0.10804060536105453, tolerance: 0.027387723080189542\n",
      "  model = cd_fast.enet_coordinate_descent_gram(\n",
      "/Users/Ju/opt/anaconda3/lib/python3.8/site-packages/sklearn/linear_model/_coordinate_descent.py:525: ConvergenceWarning: Objective did not converge. You might want to increase the number of iterations. Duality gap: 0.11900918235534164, tolerance: 0.027387723080189542\n",
      "  model = cd_fast.enet_coordinate_descent_gram(\n",
      "/Users/Ju/opt/anaconda3/lib/python3.8/site-packages/sklearn/linear_model/_coordinate_descent.py:525: ConvergenceWarning: Objective did not converge. You might want to increase the number of iterations. Duality gap: 0.12763659200740562, tolerance: 0.027387723080189542\n",
      "  model = cd_fast.enet_coordinate_descent_gram(\n",
      "/Users/Ju/opt/anaconda3/lib/python3.8/site-packages/sklearn/linear_model/_coordinate_descent.py:525: ConvergenceWarning: Objective did not converge. You might want to increase the number of iterations. Duality gap: 0.13379020074935966, tolerance: 0.027387723080189542\n",
      "  model = cd_fast.enet_coordinate_descent_gram(\n",
      "/Users/Ju/opt/anaconda3/lib/python3.8/site-packages/sklearn/linear_model/_coordinate_descent.py:525: ConvergenceWarning: Objective did not converge. You might want to increase the number of iterations. Duality gap: 0.1373413242175019, tolerance: 0.027387723080189542\n",
      "  model = cd_fast.enet_coordinate_descent_gram(\n",
      "/Users/Ju/opt/anaconda3/lib/python3.8/site-packages/sklearn/linear_model/_coordinate_descent.py:525: ConvergenceWarning: Objective did not converge. You might want to increase the number of iterations. Duality gap: 0.13875023193642733, tolerance: 0.027387723080189542\n",
      "  model = cd_fast.enet_coordinate_descent_gram(\n",
      "/Users/Ju/opt/anaconda3/lib/python3.8/site-packages/sklearn/linear_model/_coordinate_descent.py:525: ConvergenceWarning: Objective did not converge. You might want to increase the number of iterations. Duality gap: 0.1384090663155746, tolerance: 0.027387723080189542\n",
      "  model = cd_fast.enet_coordinate_descent_gram(\n",
      "/Users/Ju/opt/anaconda3/lib/python3.8/site-packages/sklearn/linear_model/_coordinate_descent.py:525: ConvergenceWarning: Objective did not converge. You might want to increase the number of iterations. Duality gap: 0.1366512678967382, tolerance: 0.027387723080189542\n",
      "  model = cd_fast.enet_coordinate_descent_gram(\n",
      "/Users/Ju/opt/anaconda3/lib/python3.8/site-packages/sklearn/linear_model/_coordinate_descent.py:525: ConvergenceWarning: Objective did not converge. You might want to increase the number of iterations. Duality gap: 0.1337597339847605, tolerance: 0.027387723080189542\n",
      "  model = cd_fast.enet_coordinate_descent_gram(\n",
      "/Users/Ju/opt/anaconda3/lib/python3.8/site-packages/sklearn/linear_model/_coordinate_descent.py:525: ConvergenceWarning: Objective did not converge. You might want to increase the number of iterations. Duality gap: 0.13033639745151504, tolerance: 0.027387723080189542\n",
      "  model = cd_fast.enet_coordinate_descent_gram(\n",
      "/Users/Ju/opt/anaconda3/lib/python3.8/site-packages/sklearn/linear_model/_coordinate_descent.py:525: ConvergenceWarning: Objective did not converge. You might want to increase the number of iterations. Duality gap: 0.1261147868953003, tolerance: 0.027387723080189542\n",
      "  model = cd_fast.enet_coordinate_descent_gram(\n",
      "/Users/Ju/opt/anaconda3/lib/python3.8/site-packages/sklearn/linear_model/_coordinate_descent.py:525: ConvergenceWarning: Objective did not converge. You might want to increase the number of iterations. Duality gap: 0.12129931653502979, tolerance: 0.027387723080189542\n",
      "  model = cd_fast.enet_coordinate_descent_gram(\n",
      "/Users/Ju/opt/anaconda3/lib/python3.8/site-packages/sklearn/linear_model/_coordinate_descent.py:525: ConvergenceWarning: Objective did not converge. You might want to increase the number of iterations. Duality gap: 0.11604431783513292, tolerance: 0.027387723080189542\n",
      "  model = cd_fast.enet_coordinate_descent_gram(\n",
      "/Users/Ju/opt/anaconda3/lib/python3.8/site-packages/sklearn/linear_model/_coordinate_descent.py:525: ConvergenceWarning: Objective did not converge. You might want to increase the number of iterations. Duality gap: 0.1104788292521448, tolerance: 0.027387723080189542\n",
      "  model = cd_fast.enet_coordinate_descent_gram(\n",
      "/Users/Ju/opt/anaconda3/lib/python3.8/site-packages/sklearn/linear_model/_coordinate_descent.py:525: ConvergenceWarning: Objective did not converge. You might want to increase the number of iterations. Duality gap: 0.10471024049893174, tolerance: 0.027387723080189542\n",
      "  model = cd_fast.enet_coordinate_descent_gram(\n",
      "/Users/Ju/opt/anaconda3/lib/python3.8/site-packages/sklearn/linear_model/_coordinate_descent.py:525: ConvergenceWarning: Objective did not converge. You might want to increase the number of iterations. Duality gap: 0.09892311256440678, tolerance: 0.027387723080189542\n",
      "  model = cd_fast.enet_coordinate_descent_gram(\n",
      "/Users/Ju/opt/anaconda3/lib/python3.8/site-packages/sklearn/linear_model/_coordinate_descent.py:525: ConvergenceWarning: Objective did not converge. You might want to increase the number of iterations. Duality gap: 0.09314219844273453, tolerance: 0.027387723080189542\n",
      "  model = cd_fast.enet_coordinate_descent_gram(\n",
      "/Users/Ju/opt/anaconda3/lib/python3.8/site-packages/sklearn/linear_model/_coordinate_descent.py:525: ConvergenceWarning: Objective did not converge. You might want to increase the number of iterations. Duality gap: 0.08737314983747524, tolerance: 0.027387723080189542\n",
      "  model = cd_fast.enet_coordinate_descent_gram(\n",
      "/Users/Ju/opt/anaconda3/lib/python3.8/site-packages/sklearn/linear_model/_coordinate_descent.py:525: ConvergenceWarning: Objective did not converge. You might want to increase the number of iterations. Duality gap: 0.08166425744452255, tolerance: 0.027387723080189542\n",
      "  model = cd_fast.enet_coordinate_descent_gram(\n",
      "/Users/Ju/opt/anaconda3/lib/python3.8/site-packages/sklearn/linear_model/_coordinate_descent.py:525: ConvergenceWarning: Objective did not converge. You might want to increase the number of iterations. Duality gap: 0.07605416278327937, tolerance: 0.027387723080189542\n",
      "  model = cd_fast.enet_coordinate_descent_gram(\n",
      "/Users/Ju/opt/anaconda3/lib/python3.8/site-packages/sklearn/linear_model/_coordinate_descent.py:525: ConvergenceWarning: Objective did not converge. You might want to increase the number of iterations. Duality gap: 0.0658176662759331, tolerance: 0.02830835803199726\n",
      "  model = cd_fast.enet_coordinate_descent_gram(\n",
      "/Users/Ju/opt/anaconda3/lib/python3.8/site-packages/sklearn/linear_model/_coordinate_descent.py:525: ConvergenceWarning: Objective did not converge. You might want to increase the number of iterations. Duality gap: 0.07603678062395147, tolerance: 0.02830835803199726\n",
      "  model = cd_fast.enet_coordinate_descent_gram(\n",
      "/Users/Ju/opt/anaconda3/lib/python3.8/site-packages/sklearn/linear_model/_coordinate_descent.py:525: ConvergenceWarning: Objective did not converge. You might want to increase the number of iterations. Duality gap: 0.08343111726205166, tolerance: 0.02830835803199726\n",
      "  model = cd_fast.enet_coordinate_descent_gram(\n",
      "/Users/Ju/opt/anaconda3/lib/python3.8/site-packages/sklearn/linear_model/_coordinate_descent.py:525: ConvergenceWarning: Objective did not converge. You might want to increase the number of iterations. Duality gap: 0.08863682593175781, tolerance: 0.02830835803199726\n",
      "  model = cd_fast.enet_coordinate_descent_gram(\n",
      "/Users/Ju/opt/anaconda3/lib/python3.8/site-packages/sklearn/linear_model/_coordinate_descent.py:525: ConvergenceWarning: Objective did not converge. You might want to increase the number of iterations. Duality gap: 0.09255370379040073, tolerance: 0.02830835803199726\n",
      "  model = cd_fast.enet_coordinate_descent_gram(\n",
      "/Users/Ju/opt/anaconda3/lib/python3.8/site-packages/sklearn/linear_model/_coordinate_descent.py:525: ConvergenceWarning: Objective did not converge. You might want to increase the number of iterations. Duality gap: 0.09478263513322815, tolerance: 0.02830835803199726\n",
      "  model = cd_fast.enet_coordinate_descent_gram(\n",
      "/Users/Ju/opt/anaconda3/lib/python3.8/site-packages/sklearn/linear_model/_coordinate_descent.py:525: ConvergenceWarning: Objective did not converge. You might want to increase the number of iterations. Duality gap: 0.0955019172854179, tolerance: 0.02830835803199726\n",
      "  model = cd_fast.enet_coordinate_descent_gram(\n",
      "/Users/Ju/opt/anaconda3/lib/python3.8/site-packages/sklearn/linear_model/_coordinate_descent.py:525: ConvergenceWarning: Objective did not converge. You might want to increase the number of iterations. Duality gap: 0.09499027382459246, tolerance: 0.02830835803199726\n",
      "  model = cd_fast.enet_coordinate_descent_gram(\n",
      "/Users/Ju/opt/anaconda3/lib/python3.8/site-packages/sklearn/linear_model/_coordinate_descent.py:525: ConvergenceWarning: Objective did not converge. You might want to increase the number of iterations. Duality gap: 0.09380535734251794, tolerance: 0.02830835803199726\n",
      "  model = cd_fast.enet_coordinate_descent_gram(\n"
     ]
    },
    {
     "name": "stderr",
     "output_type": "stream",
     "text": [
      "/Users/Ju/opt/anaconda3/lib/python3.8/site-packages/sklearn/linear_model/_coordinate_descent.py:525: ConvergenceWarning: Objective did not converge. You might want to increase the number of iterations. Duality gap: 0.09182831309314565, tolerance: 0.02830835803199726\n",
      "  model = cd_fast.enet_coordinate_descent_gram(\n",
      "/Users/Ju/opt/anaconda3/lib/python3.8/site-packages/sklearn/linear_model/_coordinate_descent.py:525: ConvergenceWarning: Objective did not converge. You might want to increase the number of iterations. Duality gap: 0.08916389060787822, tolerance: 0.02830835803199726\n",
      "  model = cd_fast.enet_coordinate_descent_gram(\n",
      "/Users/Ju/opt/anaconda3/lib/python3.8/site-packages/sklearn/linear_model/_coordinate_descent.py:525: ConvergenceWarning: Objective did not converge. You might want to increase the number of iterations. Duality gap: 0.0860011324702441, tolerance: 0.02830835803199726\n",
      "  model = cd_fast.enet_coordinate_descent_gram(\n",
      "/Users/Ju/opt/anaconda3/lib/python3.8/site-packages/sklearn/linear_model/_coordinate_descent.py:525: ConvergenceWarning: Objective did not converge. You might want to increase the number of iterations. Duality gap: 0.08253610152556234, tolerance: 0.02830835803199726\n",
      "  model = cd_fast.enet_coordinate_descent_gram(\n",
      "/Users/Ju/opt/anaconda3/lib/python3.8/site-packages/sklearn/linear_model/_coordinate_descent.py:525: ConvergenceWarning: Objective did not converge. You might want to increase the number of iterations. Duality gap: 0.07876920446639701, tolerance: 0.02830835803199726\n",
      "  model = cd_fast.enet_coordinate_descent_gram(\n",
      "/Users/Ju/opt/anaconda3/lib/python3.8/site-packages/sklearn/linear_model/_coordinate_descent.py:525: ConvergenceWarning: Objective did not converge. You might want to increase the number of iterations. Duality gap: 0.07479044458335693, tolerance: 0.02830835803199726\n",
      "  model = cd_fast.enet_coordinate_descent_gram(\n",
      "/Users/Ju/opt/anaconda3/lib/python3.8/site-packages/sklearn/linear_model/_coordinate_descent.py:525: ConvergenceWarning: Objective did not converge. You might want to increase the number of iterations. Duality gap: 0.07067468779746378, tolerance: 0.02830835803199726\n",
      "  model = cd_fast.enet_coordinate_descent_gram(\n",
      "/Users/Ju/opt/anaconda3/lib/python3.8/site-packages/sklearn/linear_model/_coordinate_descent.py:525: ConvergenceWarning: Objective did not converge. You might want to increase the number of iterations. Duality gap: 0.06648386006219908, tolerance: 0.02830835803199726\n",
      "  model = cd_fast.enet_coordinate_descent_gram(\n",
      "/Users/Ju/opt/anaconda3/lib/python3.8/site-packages/sklearn/linear_model/_coordinate_descent.py:525: ConvergenceWarning: Objective did not converge. You might want to increase the number of iterations. Duality gap: 0.06226884954713796, tolerance: 0.02830835803199726\n",
      "  model = cd_fast.enet_coordinate_descent_gram(\n",
      "/Users/Ju/opt/anaconda3/lib/python3.8/site-packages/sklearn/linear_model/_coordinate_descent.py:525: ConvergenceWarning: Objective did not converge. You might want to increase the number of iterations. Duality gap: 0.05807114510596989, tolerance: 0.02830835803199726\n",
      "  model = cd_fast.enet_coordinate_descent_gram(\n",
      "/Users/Ju/opt/anaconda3/lib/python3.8/site-packages/sklearn/linear_model/_coordinate_descent.py:525: ConvergenceWarning: Objective did not converge. You might want to increase the number of iterations. Duality gap: 0.05392424667662965, tolerance: 0.02830835803199726\n",
      "  model = cd_fast.enet_coordinate_descent_gram(\n",
      "/Users/Ju/opt/anaconda3/lib/python3.8/site-packages/sklearn/linear_model/_coordinate_descent.py:525: ConvergenceWarning: Objective did not converge. You might want to increase the number of iterations. Duality gap: 0.0886789581806795, tolerance: 0.0283166236036835\n",
      "  model = cd_fast.enet_coordinate_descent_gram(\n",
      "/Users/Ju/opt/anaconda3/lib/python3.8/site-packages/sklearn/linear_model/_coordinate_descent.py:525: ConvergenceWarning: Objective did not converge. You might want to increase the number of iterations. Duality gap: 0.10314088538552824, tolerance: 0.0283166236036835\n",
      "  model = cd_fast.enet_coordinate_descent_gram(\n",
      "/Users/Ju/opt/anaconda3/lib/python3.8/site-packages/sklearn/linear_model/_coordinate_descent.py:525: ConvergenceWarning: Objective did not converge. You might want to increase the number of iterations. Duality gap: 0.11528389242411663, tolerance: 0.0283166236036835\n",
      "  model = cd_fast.enet_coordinate_descent_gram(\n",
      "/Users/Ju/opt/anaconda3/lib/python3.8/site-packages/sklearn/linear_model/_coordinate_descent.py:525: ConvergenceWarning: Objective did not converge. You might want to increase the number of iterations. Duality gap: 0.12423781625730612, tolerance: 0.0283166236036835\n",
      "  model = cd_fast.enet_coordinate_descent_gram(\n",
      "/Users/Ju/opt/anaconda3/lib/python3.8/site-packages/sklearn/linear_model/_coordinate_descent.py:525: ConvergenceWarning: Objective did not converge. You might want to increase the number of iterations. Duality gap: 0.13036143908166764, tolerance: 0.0283166236036835\n",
      "  model = cd_fast.enet_coordinate_descent_gram(\n",
      "/Users/Ju/opt/anaconda3/lib/python3.8/site-packages/sklearn/linear_model/_coordinate_descent.py:525: ConvergenceWarning: Objective did not converge. You might want to increase the number of iterations. Duality gap: 0.13413554666776406, tolerance: 0.0283166236036835\n",
      "  model = cd_fast.enet_coordinate_descent_gram(\n",
      "/Users/Ju/opt/anaconda3/lib/python3.8/site-packages/sklearn/linear_model/_coordinate_descent.py:525: ConvergenceWarning: Objective did not converge. You might want to increase the number of iterations. Duality gap: 0.13597074496564687, tolerance: 0.0283166236036835\n",
      "  model = cd_fast.enet_coordinate_descent_gram(\n",
      "/Users/Ju/opt/anaconda3/lib/python3.8/site-packages/sklearn/linear_model/_coordinate_descent.py:525: ConvergenceWarning: Objective did not converge. You might want to increase the number of iterations. Duality gap: 0.1364153045394687, tolerance: 0.0283166236036835\n",
      "  model = cd_fast.enet_coordinate_descent_gram(\n",
      "/Users/Ju/opt/anaconda3/lib/python3.8/site-packages/sklearn/linear_model/_coordinate_descent.py:525: ConvergenceWarning: Objective did not converge. You might want to increase the number of iterations. Duality gap: 0.13597508662850544, tolerance: 0.0283166236036835\n",
      "  model = cd_fast.enet_coordinate_descent_gram(\n",
      "/Users/Ju/opt/anaconda3/lib/python3.8/site-packages/sklearn/linear_model/_coordinate_descent.py:525: ConvergenceWarning: Objective did not converge. You might want to increase the number of iterations. Duality gap: 0.13440470768262003, tolerance: 0.0283166236036835\n",
      "  model = cd_fast.enet_coordinate_descent_gram(\n",
      "/Users/Ju/opt/anaconda3/lib/python3.8/site-packages/sklearn/linear_model/_coordinate_descent.py:525: ConvergenceWarning: Objective did not converge. You might want to increase the number of iterations. Duality gap: 0.131931399995878, tolerance: 0.0283166236036835\n",
      "  model = cd_fast.enet_coordinate_descent_gram(\n",
      "/Users/Ju/opt/anaconda3/lib/python3.8/site-packages/sklearn/linear_model/_coordinate_descent.py:525: ConvergenceWarning: Objective did not converge. You might want to increase the number of iterations. Duality gap: 0.1287474048995847, tolerance: 0.0283166236036835\n",
      "  model = cd_fast.enet_coordinate_descent_gram(\n",
      "/Users/Ju/opt/anaconda3/lib/python3.8/site-packages/sklearn/linear_model/_coordinate_descent.py:525: ConvergenceWarning: Objective did not converge. You might want to increase the number of iterations. Duality gap: 0.12501489374477615, tolerance: 0.0283166236036835\n",
      "  model = cd_fast.enet_coordinate_descent_gram(\n",
      "/Users/Ju/opt/anaconda3/lib/python3.8/site-packages/sklearn/linear_model/_coordinate_descent.py:525: ConvergenceWarning: Objective did not converge. You might want to increase the number of iterations. Duality gap: 0.12087022365051325, tolerance: 0.0283166236036835\n",
      "  model = cd_fast.enet_coordinate_descent_gram(\n",
      "/Users/Ju/opt/anaconda3/lib/python3.8/site-packages/sklearn/linear_model/_coordinate_descent.py:525: ConvergenceWarning: Objective did not converge. You might want to increase the number of iterations. Duality gap: 0.11642761612003483, tolerance: 0.0283166236036835\n",
      "  model = cd_fast.enet_coordinate_descent_gram(\n",
      "/Users/Ju/opt/anaconda3/lib/python3.8/site-packages/sklearn/linear_model/_coordinate_descent.py:525: ConvergenceWarning: Objective did not converge. You might want to increase the number of iterations. Duality gap: 0.11178233419905581, tolerance: 0.0283166236036835\n",
      "  model = cd_fast.enet_coordinate_descent_gram(\n",
      "/Users/Ju/opt/anaconda3/lib/python3.8/site-packages/sklearn/linear_model/_coordinate_descent.py:525: ConvergenceWarning: Objective did not converge. You might want to increase the number of iterations. Duality gap: 0.10701342839200834, tolerance: 0.0283166236036835\n",
      "  model = cd_fast.enet_coordinate_descent_gram(\n",
      "/Users/Ju/opt/anaconda3/lib/python3.8/site-packages/sklearn/linear_model/_coordinate_descent.py:525: ConvergenceWarning: Objective did not converge. You might want to increase the number of iterations. Duality gap: 0.10218610354662871, tolerance: 0.0283166236036835\n",
      "  model = cd_fast.enet_coordinate_descent_gram(\n",
      "/Users/Ju/opt/anaconda3/lib/python3.8/site-packages/sklearn/linear_model/_coordinate_descent.py:525: ConvergenceWarning: Objective did not converge. You might want to increase the number of iterations. Duality gap: 0.0973537615919895, tolerance: 0.0283166236036835\n",
      "  model = cd_fast.enet_coordinate_descent_gram(\n",
      "/Users/Ju/opt/anaconda3/lib/python3.8/site-packages/sklearn/linear_model/_coordinate_descent.py:525: ConvergenceWarning: Objective did not converge. You might want to increase the number of iterations. Duality gap: 0.09255976224585538, tolerance: 0.0283166236036835\n",
      "  model = cd_fast.enet_coordinate_descent_gram(\n",
      "/Users/Ju/opt/anaconda3/lib/python3.8/site-packages/sklearn/linear_model/_coordinate_descent.py:525: ConvergenceWarning: Objective did not converge. You might want to increase the number of iterations. Duality gap: 0.08783893865143, tolerance: 0.0283166236036835\n",
      "  model = cd_fast.enet_coordinate_descent_gram(\n",
      "/Users/Ju/opt/anaconda3/lib/python3.8/site-packages/sklearn/linear_model/_coordinate_descent.py:525: ConvergenceWarning: Objective did not converge. You might want to increase the number of iterations. Duality gap: 0.08319479920598383, tolerance: 0.0283166236036835\n",
      "  model = cd_fast.enet_coordinate_descent_gram(\n",
      "/Users/Ju/opt/anaconda3/lib/python3.8/site-packages/sklearn/linear_model/_coordinate_descent.py:525: ConvergenceWarning: Objective did not converge. You might want to increase the number of iterations. Duality gap: 0.07843968059373196, tolerance: 0.0283166236036835\n",
      "  model = cd_fast.enet_coordinate_descent_gram(\n",
      "/Users/Ju/opt/anaconda3/lib/python3.8/site-packages/sklearn/linear_model/_coordinate_descent.py:525: ConvergenceWarning: Objective did not converge. You might want to increase the number of iterations. Duality gap: 0.07369539165490835, tolerance: 0.0283166236036835\n",
      "  model = cd_fast.enet_coordinate_descent_gram(\n",
      "/Users/Ju/opt/anaconda3/lib/python3.8/site-packages/sklearn/linear_model/_coordinate_descent.py:525: ConvergenceWarning: Objective did not converge. You might want to increase the number of iterations. Duality gap: 0.0693795684541243, tolerance: 0.0283166236036835\n",
      "  model = cd_fast.enet_coordinate_descent_gram(\n",
      "/Users/Ju/opt/anaconda3/lib/python3.8/site-packages/sklearn/linear_model/_coordinate_descent.py:525: ConvergenceWarning: Objective did not converge. You might want to increase the number of iterations. Duality gap: 0.06536497539756425, tolerance: 0.0283166236036835\n",
      "  model = cd_fast.enet_coordinate_descent_gram(\n",
      "/Users/Ju/opt/anaconda3/lib/python3.8/site-packages/sklearn/linear_model/_coordinate_descent.py:525: ConvergenceWarning: Objective did not converge. You might want to increase the number of iterations. Duality gap: 0.0613949689460469, tolerance: 0.0283166236036835\n",
      "  model = cd_fast.enet_coordinate_descent_gram(\n",
      "/Users/Ju/opt/anaconda3/lib/python3.8/site-packages/sklearn/linear_model/_coordinate_descent.py:525: ConvergenceWarning: Objective did not converge. You might want to increase the number of iterations. Duality gap: 0.05749591538525323, tolerance: 0.0283166236036835\n",
      "  model = cd_fast.enet_coordinate_descent_gram(\n",
      "/Users/Ju/opt/anaconda3/lib/python3.8/site-packages/sklearn/linear_model/_coordinate_descent.py:525: ConvergenceWarning: Objective did not converge. You might want to increase the number of iterations. Duality gap: 0.05368857359331258, tolerance: 0.0283166236036835\n",
      "  model = cd_fast.enet_coordinate_descent_gram(\n",
      "/Users/Ju/opt/anaconda3/lib/python3.8/site-packages/sklearn/linear_model/_coordinate_descent.py:525: ConvergenceWarning: Objective did not converge. You might want to increase the number of iterations. Duality gap: 0.049988975561866766, tolerance: 0.0283166236036835\n",
      "  model = cd_fast.enet_coordinate_descent_gram(\n",
      "/Users/Ju/opt/anaconda3/lib/python3.8/site-packages/sklearn/linear_model/_coordinate_descent.py:525: ConvergenceWarning: Objective did not converge. You might want to increase the number of iterations. Duality gap: 0.046455338640207344, tolerance: 0.0283166236036835\n",
      "  model = cd_fast.enet_coordinate_descent_gram(\n",
      "/Users/Ju/opt/anaconda3/lib/python3.8/site-packages/sklearn/linear_model/_coordinate_descent.py:525: ConvergenceWarning: Objective did not converge. You might want to increase the number of iterations. Duality gap: 0.08599708629753877, tolerance: 0.026805214813377217\n",
      "  model = cd_fast.enet_coordinate_descent_gram(\n",
      "/Users/Ju/opt/anaconda3/lib/python3.8/site-packages/sklearn/linear_model/_coordinate_descent.py:525: ConvergenceWarning: Objective did not converge. You might want to increase the number of iterations. Duality gap: 0.09215810852506934, tolerance: 0.026805214813377217\n",
      "  model = cd_fast.enet_coordinate_descent_gram(\n",
      "/Users/Ju/opt/anaconda3/lib/python3.8/site-packages/sklearn/linear_model/_coordinate_descent.py:525: ConvergenceWarning: Objective did not converge. You might want to increase the number of iterations. Duality gap: 0.09666913259991361, tolerance: 0.026805214813377217\n",
      "  model = cd_fast.enet_coordinate_descent_gram(\n",
      "/Users/Ju/opt/anaconda3/lib/python3.8/site-packages/sklearn/linear_model/_coordinate_descent.py:525: ConvergenceWarning: Objective did not converge. You might want to increase the number of iterations. Duality gap: 0.09913005957517385, tolerance: 0.026805214813377217\n",
      "  model = cd_fast.enet_coordinate_descent_gram(\n",
      "/Users/Ju/opt/anaconda3/lib/python3.8/site-packages/sklearn/linear_model/_coordinate_descent.py:525: ConvergenceWarning: Objective did not converge. You might want to increase the number of iterations. Duality gap: 0.0999063758014671, tolerance: 0.026805214813377217\n",
      "  model = cd_fast.enet_coordinate_descent_gram(\n",
      "/Users/Ju/opt/anaconda3/lib/python3.8/site-packages/sklearn/linear_model/_coordinate_descent.py:525: ConvergenceWarning: Objective did not converge. You might want to increase the number of iterations. Duality gap: 0.09930932613016807, tolerance: 0.026805214813377217\n",
      "  model = cd_fast.enet_coordinate_descent_gram(\n",
      "/Users/Ju/opt/anaconda3/lib/python3.8/site-packages/sklearn/linear_model/_coordinate_descent.py:525: ConvergenceWarning: Objective did not converge. You might want to increase the number of iterations. Duality gap: 0.09760342604960215, tolerance: 0.026805214813377217\n",
      "  model = cd_fast.enet_coordinate_descent_gram(\n",
      "/Users/Ju/opt/anaconda3/lib/python3.8/site-packages/sklearn/linear_model/_coordinate_descent.py:525: ConvergenceWarning: Objective did not converge. You might want to increase the number of iterations. Duality gap: 0.09521838346822165, tolerance: 0.026805214813377217\n",
      "  model = cd_fast.enet_coordinate_descent_gram(\n",
      "/Users/Ju/opt/anaconda3/lib/python3.8/site-packages/sklearn/linear_model/_coordinate_descent.py:525: ConvergenceWarning: Objective did not converge. You might want to increase the number of iterations. Duality gap: 0.09240298202945496, tolerance: 0.026805214813377217\n",
      "  model = cd_fast.enet_coordinate_descent_gram(\n",
      "/Users/Ju/opt/anaconda3/lib/python3.8/site-packages/sklearn/linear_model/_coordinate_descent.py:525: ConvergenceWarning: Objective did not converge. You might want to increase the number of iterations. Duality gap: 0.08897887309043995, tolerance: 0.026805214813377217\n",
      "  model = cd_fast.enet_coordinate_descent_gram(\n",
      "/Users/Ju/opt/anaconda3/lib/python3.8/site-packages/sklearn/linear_model/_coordinate_descent.py:525: ConvergenceWarning: Objective did not converge. You might want to increase the number of iterations. Duality gap: 0.08509097888534711, tolerance: 0.026805214813377217\n",
      "  model = cd_fast.enet_coordinate_descent_gram(\n",
      "/Users/Ju/opt/anaconda3/lib/python3.8/site-packages/sklearn/linear_model/_coordinate_descent.py:525: ConvergenceWarning: Objective did not converge. You might want to increase the number of iterations. Duality gap: 0.08086092015453517, tolerance: 0.026805214813377217\n",
      "  model = cd_fast.enet_coordinate_descent_gram(\n",
      "/Users/Ju/opt/anaconda3/lib/python3.8/site-packages/sklearn/linear_model/_coordinate_descent.py:525: ConvergenceWarning: Objective did not converge. You might want to increase the number of iterations. Duality gap: 0.07639034932071809, tolerance: 0.026805214813377217\n",
      "  model = cd_fast.enet_coordinate_descent_gram(\n",
      "/Users/Ju/opt/anaconda3/lib/python3.8/site-packages/sklearn/linear_model/_coordinate_descent.py:525: ConvergenceWarning: Objective did not converge. You might want to increase the number of iterations. Duality gap: 0.07176382964291861, tolerance: 0.026805214813377217\n",
      "  model = cd_fast.enet_coordinate_descent_gram(\n",
      "/Users/Ju/opt/anaconda3/lib/python3.8/site-packages/sklearn/linear_model/_coordinate_descent.py:525: ConvergenceWarning: Objective did not converge. You might want to increase the number of iterations. Duality gap: 0.06705132003715164, tolerance: 0.026805214813377217\n",
      "  model = cd_fast.enet_coordinate_descent_gram(\n"
     ]
    },
    {
     "name": "stdout",
     "output_type": "stream",
     "text": [
      "Lasso alpha: 0.0029715935987551113\n"
     ]
    },
    {
     "name": "stderr",
     "output_type": "stream",
     "text": [
      "/Users/Ju/opt/anaconda3/lib/python3.8/site-packages/sklearn/linear_model/_coordinate_descent.py:525: ConvergenceWarning: Objective did not converge. You might want to increase the number of iterations. Duality gap: 0.06231032218614274, tolerance: 0.026805214813377217\n",
      "  model = cd_fast.enet_coordinate_descent_gram(\n",
      "/Users/Ju/opt/anaconda3/lib/python3.8/site-packages/sklearn/linear_model/_coordinate_descent.py:525: ConvergenceWarning: Objective did not converge. You might want to increase the number of iterations. Duality gap: 0.057587723290666304, tolerance: 0.026805214813377217\n",
      "  model = cd_fast.enet_coordinate_descent_gram(\n"
     ]
    }
   ],
   "source": [
    "lasso_cv.fit(X_train, y_train)\n",
    "print(f'Lasso alpha: {lasso_cv.alpha_}')"
   ]
  },
  {
   "cell_type": "code",
   "execution_count": 68,
   "id": "16d04b08",
   "metadata": {
    "scrolled": true
   },
   "outputs": [
    {
     "name": "stdout",
     "output_type": "stream",
     "text": [
      "0.8953796051871508\n",
      "train rmse\t\t27,599.159520039735\n"
     ]
    }
   ],
   "source": [
    "lasso_cv_score = lasso_cv.score(X_train, y_train)\n",
    "print(lasso_cv_score)\n",
    "\n",
    "y_pred = np.expm1(lasso_cv.predict(X_train))\n",
    "lasso_cv_mse = mean_squared_error(np.expm1(y_train), y_pred)\n",
    "print(f'train rmse\\t\\t{lasso_cv_mse**.5:,}')"
   ]
  },
  {
   "cell_type": "code",
   "execution_count": 64,
   "id": "13076d45",
   "metadata": {},
   "outputs": [
    {
     "data": {
      "text/html": [
       "<div>\n",
       "<style scoped>\n",
       "    .dataframe tbody tr th:only-of-type {\n",
       "        vertical-align: middle;\n",
       "    }\n",
       "\n",
       "    .dataframe tbody tr th {\n",
       "        vertical-align: top;\n",
       "    }\n",
       "\n",
       "    .dataframe thead th {\n",
       "        text-align: right;\n",
       "    }\n",
       "</style>\n",
       "<table border=\"1\" class=\"dataframe\">\n",
       "  <thead>\n",
       "    <tr style=\"text-align: right;\">\n",
       "      <th></th>\n",
       "      <th>lasso_coef</th>\n",
       "    </tr>\n",
       "  </thead>\n",
       "  <tbody>\n",
       "    <tr>\n",
       "      <th>Overall Qual</th>\n",
       "      <td>1.700717e-01</td>\n",
       "    </tr>\n",
       "    <tr>\n",
       "      <th>Gr Liv Area</th>\n",
       "      <td>1.503701e-01</td>\n",
       "    </tr>\n",
       "    <tr>\n",
       "      <th>Year Built</th>\n",
       "      <td>-1.199079e-01</td>\n",
       "    </tr>\n",
       "    <tr>\n",
       "      <th>BsmtFin SF 1</th>\n",
       "      <td>7.492205e-02</td>\n",
       "    </tr>\n",
       "    <tr>\n",
       "      <th>Overall Cond</th>\n",
       "      <td>4.687926e-02</td>\n",
       "    </tr>\n",
       "    <tr>\n",
       "      <th>Kitchen Qual_Ex</th>\n",
       "      <td>4.650760e-02</td>\n",
       "    </tr>\n",
       "    <tr>\n",
       "      <th>Lot Area</th>\n",
       "      <td>3.901468e-02</td>\n",
       "    </tr>\n",
       "    <tr>\n",
       "      <th>Garage Cars</th>\n",
       "      <td>3.742856e-02</td>\n",
       "    </tr>\n",
       "    <tr>\n",
       "      <th>Year Remod/Add</th>\n",
       "      <td>-3.270144e-02</td>\n",
       "    </tr>\n",
       "    <tr>\n",
       "      <th>1st Flr SF</th>\n",
       "      <td>3.049073e-02</td>\n",
       "    </tr>\n",
       "    <tr>\n",
       "      <th>Total Bsmt SF</th>\n",
       "      <td>2.959159e-02</td>\n",
       "    </tr>\n",
       "    <tr>\n",
       "      <th>Fireplaces</th>\n",
       "      <td>2.509990e-02</td>\n",
       "    </tr>\n",
       "    <tr>\n",
       "      <th>Foundation_PConc</th>\n",
       "      <td>2.442408e-02</td>\n",
       "    </tr>\n",
       "    <tr>\n",
       "      <th>Condition 1_Norm</th>\n",
       "      <td>2.252544e-02</td>\n",
       "    </tr>\n",
       "    <tr>\n",
       "      <th>Heating QC_Ex</th>\n",
       "      <td>2.237279e-02</td>\n",
       "    </tr>\n",
       "    <tr>\n",
       "      <th>Paved Drive_Y</th>\n",
       "      <td>2.210887e-02</td>\n",
       "    </tr>\n",
       "    <tr>\n",
       "      <th>Functional_Typ</th>\n",
       "      <td>2.176501e-02</td>\n",
       "    </tr>\n",
       "    <tr>\n",
       "      <th>Central Air_N</th>\n",
       "      <td>-1.515348e-02</td>\n",
       "    </tr>\n",
       "    <tr>\n",
       "      <th>Bsmt Full Bath</th>\n",
       "      <td>1.504231e-02</td>\n",
       "    </tr>\n",
       "    <tr>\n",
       "      <th>Wood Deck SF</th>\n",
       "      <td>1.265231e-02</td>\n",
       "    </tr>\n",
       "    <tr>\n",
       "      <th>Sale Type_New</th>\n",
       "      <td>1.015637e-02</td>\n",
       "    </tr>\n",
       "    <tr>\n",
       "      <th>Neighborhood_NridgHt</th>\n",
       "      <td>9.171979e-03</td>\n",
       "    </tr>\n",
       "    <tr>\n",
       "      <th>Neighborhood_Crawfor</th>\n",
       "      <td>8.599978e-03</td>\n",
       "    </tr>\n",
       "    <tr>\n",
       "      <th>Heating QC_TA</th>\n",
       "      <td>-8.584443e-03</td>\n",
       "    </tr>\n",
       "    <tr>\n",
       "      <th>Neighborhood_Edwards</th>\n",
       "      <td>-7.237486e-03</td>\n",
       "    </tr>\n",
       "    <tr>\n",
       "      <th>MS Zoning_RM</th>\n",
       "      <td>-6.758594e-03</td>\n",
       "    </tr>\n",
       "    <tr>\n",
       "      <th>Kitchen Qual_TA</th>\n",
       "      <td>-4.939922e-03</td>\n",
       "    </tr>\n",
       "    <tr>\n",
       "      <th>MS Zoning_RL</th>\n",
       "      <td>3.463986e-03</td>\n",
       "    </tr>\n",
       "    <tr>\n",
       "      <th>Enclosed Porch</th>\n",
       "      <td>2.826097e-03</td>\n",
       "    </tr>\n",
       "    <tr>\n",
       "      <th>Gr Liv Area^2</th>\n",
       "      <td>2.813225e-03</td>\n",
       "    </tr>\n",
       "    <tr>\n",
       "      <th>Exter Cond_TA</th>\n",
       "      <td>2.729536e-03</td>\n",
       "    </tr>\n",
       "    <tr>\n",
       "      <th>Garage Area</th>\n",
       "      <td>1.746183e-03</td>\n",
       "    </tr>\n",
       "    <tr>\n",
       "      <th>Year Built^2</th>\n",
       "      <td>-4.346439e-04</td>\n",
       "    </tr>\n",
       "    <tr>\n",
       "      <th>Screen Porch</th>\n",
       "      <td>3.401276e-04</td>\n",
       "    </tr>\n",
       "    <tr>\n",
       "      <th>Lot Shape_IR1</th>\n",
       "      <td>3.218095e-04</td>\n",
       "    </tr>\n",
       "    <tr>\n",
       "      <th>Pool Area</th>\n",
       "      <td>-2.265574e-04</td>\n",
       "    </tr>\n",
       "    <tr>\n",
       "      <th>3Ssn Porch</th>\n",
       "      <td>1.449771e-04</td>\n",
       "    </tr>\n",
       "    <tr>\n",
       "      <th>Low Qual Fin SF</th>\n",
       "      <td>-5.688537e-05</td>\n",
       "    </tr>\n",
       "    <tr>\n",
       "      <th>Misc Val</th>\n",
       "      <td>-3.883101e-05</td>\n",
       "    </tr>\n",
       "    <tr>\n",
       "      <th>BsmtFin SF 2</th>\n",
       "      <td>1.840273e-05</td>\n",
       "    </tr>\n",
       "    <tr>\n",
       "      <th>Central Air_Y</th>\n",
       "      <td>2.367453e-16</td>\n",
       "    </tr>\n",
       "    <tr>\n",
       "      <th>Roof Style_Gable</th>\n",
       "      <td>-0.000000e+00</td>\n",
       "    </tr>\n",
       "    <tr>\n",
       "      <th>Exterior 1st_Wd Sdng</th>\n",
       "      <td>-0.000000e+00</td>\n",
       "    </tr>\n",
       "    <tr>\n",
       "      <th>Exterior 1st_WdShing</th>\n",
       "      <td>0.000000e+00</td>\n",
       "    </tr>\n",
       "    <tr>\n",
       "      <th>Exterior 2nd_AsbShng</th>\n",
       "      <td>-0.000000e+00</td>\n",
       "    </tr>\n",
       "    <tr>\n",
       "      <th>Exterior 2nd_AsphShn</th>\n",
       "      <td>0.000000e+00</td>\n",
       "    </tr>\n",
       "    <tr>\n",
       "      <th>Exterior 2nd_Brk Cmn</th>\n",
       "      <td>-0.000000e+00</td>\n",
       "    </tr>\n",
       "    <tr>\n",
       "      <th>Exterior 2nd_BrkFace</th>\n",
       "      <td>0.000000e+00</td>\n",
       "    </tr>\n",
       "    <tr>\n",
       "      <th>Exterior 2nd_CBlock</th>\n",
       "      <td>-0.000000e+00</td>\n",
       "    </tr>\n",
       "    <tr>\n",
       "      <th>Exterior 1st_Stucco</th>\n",
       "      <td>-0.000000e+00</td>\n",
       "    </tr>\n",
       "  </tbody>\n",
       "</table>\n",
       "</div>"
      ],
      "text/plain": [
       "                        lasso_coef\n",
       "Overall Qual          1.700717e-01\n",
       "Gr Liv Area           1.503701e-01\n",
       "Year Built           -1.199079e-01\n",
       "BsmtFin SF 1          7.492205e-02\n",
       "Overall Cond          4.687926e-02\n",
       "Kitchen Qual_Ex       4.650760e-02\n",
       "Lot Area              3.901468e-02\n",
       "Garage Cars           3.742856e-02\n",
       "Year Remod/Add       -3.270144e-02\n",
       "1st Flr SF            3.049073e-02\n",
       "Total Bsmt SF         2.959159e-02\n",
       "Fireplaces            2.509990e-02\n",
       "Foundation_PConc      2.442408e-02\n",
       "Condition 1_Norm      2.252544e-02\n",
       "Heating QC_Ex         2.237279e-02\n",
       "Paved Drive_Y         2.210887e-02\n",
       "Functional_Typ        2.176501e-02\n",
       "Central Air_N        -1.515348e-02\n",
       "Bsmt Full Bath        1.504231e-02\n",
       "Wood Deck SF          1.265231e-02\n",
       "Sale Type_New         1.015637e-02\n",
       "Neighborhood_NridgHt  9.171979e-03\n",
       "Neighborhood_Crawfor  8.599978e-03\n",
       "Heating QC_TA        -8.584443e-03\n",
       "Neighborhood_Edwards -7.237486e-03\n",
       "MS Zoning_RM         -6.758594e-03\n",
       "Kitchen Qual_TA      -4.939922e-03\n",
       "MS Zoning_RL          3.463986e-03\n",
       "Enclosed Porch        2.826097e-03\n",
       "Gr Liv Area^2         2.813225e-03\n",
       "Exter Cond_TA         2.729536e-03\n",
       "Garage Area           1.746183e-03\n",
       "Year Built^2         -4.346439e-04\n",
       "Screen Porch          3.401276e-04\n",
       "Lot Shape_IR1         3.218095e-04\n",
       "Pool Area            -2.265574e-04\n",
       "3Ssn Porch            1.449771e-04\n",
       "Low Qual Fin SF      -5.688537e-05\n",
       "Misc Val             -3.883101e-05\n",
       "BsmtFin SF 2          1.840273e-05\n",
       "Central Air_Y         2.367453e-16\n",
       "Roof Style_Gable     -0.000000e+00\n",
       "Exterior 1st_Wd Sdng -0.000000e+00\n",
       "Exterior 1st_WdShing  0.000000e+00\n",
       "Exterior 2nd_AsbShng -0.000000e+00\n",
       "Exterior 2nd_AsphShn  0.000000e+00\n",
       "Exterior 2nd_Brk Cmn -0.000000e+00\n",
       "Exterior 2nd_BrkFace  0.000000e+00\n",
       "Exterior 2nd_CBlock  -0.000000e+00\n",
       "Exterior 1st_Stucco  -0.000000e+00"
      ]
     },
     "execution_count": 64,
     "metadata": {},
     "output_type": "execute_result"
    }
   ],
   "source": [
    "lasso_cv_coef = pd.DataFrame(lasso_cv.coef_, index = coef_index)\n",
    "lasso_cv_coef.columns = ['lasso_coef']\n",
    "lasso_cv_coef.sort_values(by='lasso_coef',key=lambda x: abs(x),ascending=False)[:50]"
   ]
  },
  {
   "cell_type": "code",
   "execution_count": 65,
   "id": "6f93a036",
   "metadata": {},
   "outputs": [
    {
     "name": "stdout",
     "output_type": "stream",
     "text": [
      "Gr Liv Area \t 0.15037008236307375\n",
      "Gr Liv Area^2 \t 0.002813224866034874\n",
      "Year Built \t -0.11990791543400811\n",
      "Year Built^2 \t -0.0004346439018440656\n"
     ]
    }
   ],
   "source": [
    "x = lasso_cv_coef.to_dict()\n",
    "x=x['lasso_coef']\n",
    "for coef in ['Gr Liv Area','Gr Liv Area^2','Year Built','Year Built^2']:\n",
    "    print(coef,'\\t', x[coef])"
   ]
  },
  {
   "cell_type": "markdown",
   "id": "8b91d7cb",
   "metadata": {},
   "source": [
    "## 6.5 Model Evaluation\n",
    "R^2 of train data OLS, Ridge, Lasso: [0.938, 0.924, 0.895]  \n",
    "\n",
    "there is insignificant imporovement, likely due to the small coefficients and the multiple predictors involved. the power terms are rejected for the final model"
   ]
  },
  {
   "cell_type": "code",
   "execution_count": 67,
   "id": "fd5a4de0",
   "metadata": {},
   "outputs": [
    {
     "name": "stdout",
     "output_type": "stream",
     "text": [
      "[0.9378057798541433, 0.9243220890876771, 0.8953796051871508]\n",
      "[349741886.69628143, 465773148.60409164, 761713606.2126]\n"
     ]
    }
   ],
   "source": [
    "train_scores = [ols_train_score,ridge_cv_score,lasso_cv_score]\n",
    "mses = [ols_mse,ridge_cv_mse,lasso_cv_mse]\n",
    "\n",
    "print(train_scores)\n",
    "print(mses)"
   ]
  },
  {
   "cell_type": "code",
   "execution_count": null,
   "id": "403faeb1",
   "metadata": {},
   "outputs": [],
   "source": []
  }
 ],
 "metadata": {
  "kernelspec": {
   "display_name": "Python 3",
   "language": "python",
   "name": "python3"
  },
  "language_info": {
   "codemirror_mode": {
    "name": "ipython",
    "version": 3
   },
   "file_extension": ".py",
   "mimetype": "text/x-python",
   "name": "python",
   "nbconvert_exporter": "python",
   "pygments_lexer": "ipython3",
   "version": "3.8.8"
  }
 },
 "nbformat": 4,
 "nbformat_minor": 5
}
