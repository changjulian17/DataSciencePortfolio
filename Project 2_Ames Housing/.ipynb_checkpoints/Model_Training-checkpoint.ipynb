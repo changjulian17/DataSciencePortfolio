{
 "cells": [
  {
   "cell_type": "code",
   "execution_count": 1,
   "id": "7a5f027a",
   "metadata": {},
   "outputs": [],
   "source": [
    "import pandas as pd\n",
    "import missingno as msno\n",
    "import numpy as np\n",
    "import matplotlib.pyplot as plt\n",
    "import seaborn as sns\n",
    "\n",
    "from sklearn.preprocessing import RobustScaler, PowerTransformer\n",
    "from sklearn.pipeline import make_pipeline\n",
    "from sklearn.model_selection import train_test_split, cross_val_score, KFold\n",
    "from sklearn.linear_model import LinearRegression, Lasso, LassoCV, Ridge, RidgeCV\n",
    "from sklearn.metrics import mean_squared_error"
   ]
  },
  {
   "cell_type": "code",
   "execution_count": 2,
   "id": "07fd0270",
   "metadata": {},
   "outputs": [],
   "source": [
    "combined_df = pd.read_csv('combined_df.csv')"
   ]
  },
  {
   "cell_type": "code",
   "execution_count": 3,
   "id": "3b81979c",
   "metadata": {},
   "outputs": [],
   "source": [
    "new_train_data = combined_df.loc[combined_df['Label_train']==1].drop(columns=['Id','Label_test','Label_train'])\n",
    "new_test_data = combined_df.loc[combined_df['Label_test']==1].drop(columns=['Id','Label_test','Label_train'])\n",
    "X_train, X_test, y_train, y_test = train_test_split(new_train_data.drop('SalePrice', axis=1),new_train_data['SalePrice'], random_state=42)\n",
    "y_train = np.log1p(y_train.values.ravel())"
   ]
  },
  {
   "cell_type": "code",
   "execution_count": 4,
   "id": "931579a3",
   "metadata": {},
   "outputs": [
    {
     "name": "stdout",
     "output_type": "stream",
     "text": [
      "(1538, 238)\n",
      "(513, 238)\n"
     ]
    }
   ],
   "source": [
    "pre_precessing_pipeline = make_pipeline(RobustScaler(),\n",
    "                                       )\n",
    "\n",
    "X_train = pre_precessing_pipeline.fit_transform(X_train)\n",
    "X_test = pre_precessing_pipeline.transform(X_test)\n",
    "\n",
    "print(X_train.shape)\n",
    "print(X_test.shape)"
   ]
  },
  {
   "cell_type": "markdown",
   "id": "5569142f",
   "metadata": {},
   "source": [
    "# OLS"
   ]
  },
  {
   "cell_type": "code",
   "execution_count": 5,
   "id": "6ddc8a44",
   "metadata": {},
   "outputs": [
    {
     "name": "stdout",
     "output_type": "stream",
     "text": [
      "ols train R^2:\t\t -0.0194\n",
      "ols test R^2:\t\t 0.0198\n"
     ]
    }
   ],
   "source": [
    "ols=LinearRegression()\n",
    "ols.fit(X_train, y_train)\n",
    "ols_scores = cross_val_score(ols, X_train, y_train, cv=100, n_jobs=-1,scoring='neg_mean_squared_error')\n",
    "print(f'ols train R^2:\\t\\t {ols_scores.mean():.4f}')\n",
    "\n",
    "y_pred = ols.predict(X_test)\n",
    "ols_test_score = mean_squared_error(np.log1p(y_test),y_pred)\n",
    "print(f'ols test R^2:\\t\\t {ols_test_score:.4f}')"
   ]
  },
  {
   "cell_type": "markdown",
   "id": "f2571888",
   "metadata": {},
   "source": [
    "# RidgeCV"
   ]
  },
  {
   "cell_type": "code",
   "execution_count": 6,
   "id": "7263425a",
   "metadata": {},
   "outputs": [
    {
     "name": "stdout",
     "output_type": "stream",
     "text": [
      "Ridge train R^2:\t 0.9429\n",
      "Ridge test R^2:\t\t 0.8907\n"
     ]
    }
   ],
   "source": [
    "ridge_cv=RidgeCV(cv=100)\n",
    "ridge_cv.fit(X_train, y_train)\n",
    "ridge_cv_score = ridge_cv.score(X_train, y_train)\n",
    "print(f'Ridge train R^2:\\t {ridge_cv_score:.4f}')\n",
    "\n",
    "ridge_cv_test_score = ridge_cv.score(X_test,np.log1p(y_test))\n",
    "print(f'Ridge test R^2:\\t\\t {ridge_cv_test_score:.4f}')"
   ]
  },
  {
   "cell_type": "code",
   "execution_count": 7,
   "id": "9e5e1bad",
   "metadata": {},
   "outputs": [
    {
     "name": "stdout",
     "output_type": "stream",
     "text": [
      "lasso train R^2:\t 0.8945\n",
      "lasso test R^2:\t\t 0.8898\n"
     ]
    }
   ],
   "source": [
    "lasso_cv=LassoCV(cv=100)\n",
    "lasso_cv.fit(X_train, y_train)\n",
    "lasso_cv_score = lasso_cv.score(X_train, y_train)\n",
    "print(f'lasso train R^2:\\t {lasso_cv_score:.4f}')\n",
    "\n",
    "lasso_cv_test_score = lasso_cv.score(X_test,np.log1p(y_test))\n",
    "print(f'lasso test R^2:\\t\\t {lasso_cv_test_score:.4f}')"
   ]
  },
  {
   "cell_type": "code",
   "execution_count": 8,
   "id": "527c7b46",
   "metadata": {},
   "outputs": [
    {
     "name": "stdout",
     "output_type": "stream",
     "text": [
      "ols -202.07%\n",
      "ridge -5.53%\n",
      "lasso -0.54%\n"
     ]
    }
   ],
   "source": [
    "print(f'ols {(ols_test_score-ols_scores.mean())/ols_scores.mean()*100:.2f}%')\n",
    "print(f'ridge {(ridge_cv_test_score-ridge_cv_score)/ridge_cv_score*100:.2f}%')\n",
    "print(f'lasso {(lasso_cv_test_score-lasso_cv_score)/lasso_cv_score*100:.2f}%')"
   ]
  },
  {
   "cell_type": "markdown",
   "id": "96bd921f",
   "metadata": {},
   "source": [
    "# RMSE\n"
   ]
  },
  {
   "cell_type": "code",
   "execution_count": 9,
   "id": "2c5ba0f2",
   "metadata": {},
   "outputs": [
    {
     "name": "stdout",
     "output_type": "stream",
     "text": [
      "train rmse\t\t18,705.26873999436\n",
      "test rmse\t\t21,371.13367972558\n",
      "delta of train: \t14.25%\n"
     ]
    }
   ],
   "source": [
    "y_pred = np.expm1(ols.predict(X_train))\n",
    "ols_mse = mean_squared_error(np.expm1(y_train), y_pred)\n",
    "train_mse = ols_mse**.5\n",
    "print(f'train rmse\\t\\t{ols_mse**.5:,}')\n",
    "\n",
    "y_pred = np.expm1(ols.predict(X_test))\n",
    "ols_mse = mean_squared_error(y_test, y_pred)\n",
    "test_mse = ols_mse**.5\n",
    "print(f'test rmse\\t\\t{ols_mse**.5:,}')\n",
    "\n",
    "print(f'delta of train: \\t{(test_mse-train_mse)/train_mse*100:.2f}%')"
   ]
  },
  {
   "cell_type": "code",
   "execution_count": 10,
   "id": "0566b9f3",
   "metadata": {},
   "outputs": [
    {
     "name": "stdout",
     "output_type": "stream",
     "text": [
      "train rmse\t\t19,455.97368798812\n",
      "test rmse\t\t21,221.84207096002\n",
      "delta of train: \t9.08%\n"
     ]
    }
   ],
   "source": [
    "y_pred = np.expm1(ridge_cv.predict(X_train))\n",
    "ridge_cv_mse = mean_squared_error(np.expm1(y_train), y_pred)\n",
    "train_mse = ridge_cv_mse**.5\n",
    "print(f'train rmse\\t\\t{ridge_cv_mse**.5:,}')\n",
    "\n",
    "y_pred = np.expm1(ridge_cv.predict(X_test))\n",
    "ridge_cv_mse = mean_squared_error(y_test, y_pred)\n",
    "test_mse = ridge_cv_mse**.5\n",
    "print(f'test rmse\\t\\t{ridge_cv_mse**.5:,}')\n",
    "\n",
    "print(f'delta of train: \\t{(test_mse-train_mse)/train_mse*100:.2f}%')"
   ]
  },
  {
   "cell_type": "code",
   "execution_count": 11,
   "id": "0b1ddea4",
   "metadata": {
    "scrolled": true
   },
   "outputs": [
    {
     "name": "stdout",
     "output_type": "stream",
     "text": [
      "train rmse\t\t28,150.464591740198\n",
      "test rmse\t\t23,474.76088994825\n",
      "delta of train: \t-16.61%\n"
     ]
    }
   ],
   "source": [
    "y_pred = np.expm1(lasso_cv.predict(X_train))\n",
    "lasso_cv_mse = mean_squared_error(np.expm1(y_train), y_pred)\n",
    "train_mse = lasso_cv_mse**.5\n",
    "print(f'train rmse\\t\\t{lasso_cv_mse**.5:,}')\n",
    "\n",
    "y_pred = np.expm1(lasso_cv.predict(X_test))\n",
    "lasso_cv_mse = mean_squared_error(y_test, y_pred)\n",
    "test_mse = lasso_cv_mse**.5\n",
    "print(f'test rmse\\t\\t{lasso_cv_mse**.5:,}')\n",
    "\n",
    "print(f'delta of train: \\t{(test_mse-train_mse)/train_mse*100:.2f}%')"
   ]
  },
  {
   "cell_type": "code",
   "execution_count": null,
   "id": "a683ecd5",
   "metadata": {},
   "outputs": [],
   "source": []
  },
  {
   "cell_type": "code",
   "execution_count": null,
   "id": "524b8db7",
   "metadata": {},
   "outputs": [],
   "source": []
  }
 ],
 "metadata": {
  "kernelspec": {
   "display_name": "Python 3",
   "language": "python",
   "name": "python3"
  },
  "language_info": {
   "codemirror_mode": {
    "name": "ipython",
    "version": 3
   },
   "file_extension": ".py",
   "mimetype": "text/x-python",
   "name": "python",
   "nbconvert_exporter": "python",
   "pygments_lexer": "ipython3",
   "version": "3.8.8"
  }
 },
 "nbformat": 4,
 "nbformat_minor": 5
}
