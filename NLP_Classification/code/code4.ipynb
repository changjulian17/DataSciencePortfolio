{
 "cells": [
  {
   "cell_type": "markdown",
   "id": "cd83a9a2",
   "metadata": {},
   "source": [
    "# code 4\n",
    "\n",
    "## Revision changes\n",
    "\n",
    "1. Trail n-grams. testing results with RF (max_depth=20, n_estimators=100).\n",
    "2. Create an iterator for ngram \n",
    "    - (1, x), where x is 1 to 9\n",
    "    - (2, x), where x is 2 to 6 (best score for (1,x)\n",
    "    - (3, x), where x is 3 to 6 (best score for (1,x)  \n",
    "3. Collate results\n",
    "\n",
    "example executive summary [here](https://www.proposify.biz/blog/executive-summary)"
   ]
  },
  {
   "cell_type": "code",
   "execution_count": 2,
   "id": "0b31b9e5",
   "metadata": {},
   "outputs": [],
   "source": [
    "import requests\n",
    "import pandas as pd\n",
    "import numpy as np\n",
    "import time\n",
    "\n",
    "# Import train test split\n",
    "from sklearn.model_selection import cross_val_score, train_test_split, GridSearchCV\n",
    "\n",
    "# Import CountVectorizer.\n",
    "from sklearn.feature_extraction.text import CountVectorizer, TfidfVectorizer\n",
    "\n",
    "#import confusion matrix fxn\n",
    "from sklearn.metrics import confusion_matrix, plot_roc_curve"
   ]
  },
  {
   "cell_type": "markdown",
   "id": "6fe67ca2",
   "metadata": {},
   "source": [
    "#### 1. Engineer a feature to turn `source_feature` into a 1/0 column, where 1 indicates `stocks` subreddit."
   ]
  },
  {
   "cell_type": "code",
   "execution_count": 2,
   "id": "4272a496",
   "metadata": {},
   "outputs": [],
   "source": [
    "df = pd.read_csv('data.csv')"
   ]
  },
  {
   "cell_type": "markdown",
   "id": "47df5237",
   "metadata": {},
   "source": [
    "#### 2. Split our data into `X` and `y`."
   ]
  },
  {
   "cell_type": "code",
   "execution_count": 137,
   "id": "0775ec73",
   "metadata": {},
   "outputs": [],
   "source": [
    "X = df[['title']]\n",
    "y = df['stocks']"
   ]
  },
  {
   "cell_type": "markdown",
   "id": "44740942",
   "metadata": {},
   "source": [
    "#### 3. Split our data into training and testing sets."
   ]
  },
  {
   "cell_type": "code",
   "execution_count": 138,
   "id": "d32f5d89",
   "metadata": {},
   "outputs": [],
   "source": [
    "X_train, X_test, y_train, y_test = train_test_split(X,\n",
    "                                                    y,\n",
    "                                                    test_size=0.25,\n",
    "                                                    random_state=42,\n",
    "                                                    stratify=y)"
   ]
  },
  {
   "cell_type": "code",
   "execution_count": 140,
   "id": "ac98b744",
   "metadata": {},
   "outputs": [],
   "source": [
    "results = pd.DataFrame(columns=['model','parameters','train','test'])"
   ]
  },
  {
   "cell_type": "markdown",
   "id": "278f4e36",
   "metadata": {},
   "source": [
    "#### 4.1 Fit a Random Forest model!"
   ]
  },
  {
   "cell_type": "code",
   "execution_count": 141,
   "id": "790310c3",
   "metadata": {},
   "outputs": [],
   "source": [
    "from sklearn.ensemble import RandomForestClassifier, ExtraTreesClassifier\n",
    "np.random.seed(42)"
   ]
  },
  {
   "cell_type": "markdown",
   "id": "e6ab4cf0",
   "metadata": {},
   "source": [
    "### rf against n_gram"
   ]
  },
  {
   "cell_type": "markdown",
   "id": "f234c199",
   "metadata": {},
   "source": [
    "## try with ngram (1,x)"
   ]
  },
  {
   "cell_type": "code",
   "execution_count": 139,
   "id": "edd0abec",
   "metadata": {},
   "outputs": [],
   "source": [
    "# create multiple sets of train-test with range of ngram 1-5\n",
    "X_train_ls = []\n",
    "X_test_ls = []\n",
    "\n",
    "for i in range(1,10):\n",
    "    tvec = TfidfVectorizer(max_features = 500, stop_words = 'english',ngram_range=(1, i))\n",
    "    \n",
    "    X_train_ls.append(pd.DataFrame(tvec.fit_transform(X_train['title']).todense(),\n",
    "                              columns = tvec.get_feature_names()))\n",
    "    X_test_ls.append(pd.DataFrame(tvec.transform(X_test['title']).todense(),\n",
    "                             columns = tvec.get_feature_names()))"
   ]
  },
  {
   "cell_type": "code",
   "execution_count": 142,
   "id": "04094a5e",
   "metadata": {},
   "outputs": [
    {
     "name": "stdout",
     "output_type": "stream",
     "text": [
      "ngram = (1,1)\n",
      "rf: 0.6094128615714518\n",
      "mean-to-max CV scores: 0.9624988649331843\n",
      "============\n",
      "ngram = (1,2)\n",
      "rf: 0.6080020045218284\n",
      "mean-to-max CV scores: 0.9692166785565665\n",
      "============\n",
      "ngram = (1,3)\n",
      "rf: 0.6095873637430171\n",
      "mean-to-max CV scores: 0.9649674446978026\n",
      "============\n",
      "ngram = (1,4)\n",
      "rf: 0.6080892556076108\n",
      "mean-to-max CV scores: 0.9612552996025604\n",
      "============\n",
      "ngram = (1,5)\n",
      "rf: 0.608266010923867\n",
      "mean-to-max CV scores: 0.9778780770518258\n",
      "============\n",
      "ngram = (1,6)\n",
      "rf: 0.6112633149197026\n",
      "mean-to-max CV scores: 0.9744155371262114\n",
      "============\n",
      "ngram = (1,7)\n",
      "rf: 0.6086191330831566\n",
      "mean-to-max CV scores: 0.9661296727963395\n",
      "============\n",
      "ngram = (1,8)\n",
      "rf: 0.60817868214344\n",
      "mean-to-max CV scores: 0.9708618906227909\n",
      "============\n",
      "ngram = (1,9)\n",
      "rf: 0.6085308719669953\n",
      "mean-to-max CV scores: 0.9769201409936912\n",
      "============\n"
     ]
    }
   ],
   "source": [
    "rf = RandomForestClassifier(max_depth=20, n_estimators=100, random_state = 42)\n",
    "\n",
    "for i in range(9):\n",
    "    print(f'ngram = (1,{i+1})')\n",
    "    cv_scores = cross_val_score(rf, X_train_ls[i], y_train, cv=10)\n",
    "    print(f'rf: {cv_scores.mean()}')\n",
    "    print(f'mean-to-max CV scores: {cv_scores.mean()/cv_scores.max()}')\n",
    "    print('='*12)"
   ]
  },
  {
   "cell_type": "code",
   "execution_count": 143,
   "id": "f6022c34",
   "metadata": {},
   "outputs": [
    {
     "name": "stdout",
     "output_type": "stream",
     "text": [
      "ngram = (1,1)\n",
      "Train: 0.690314620604565\n",
      "Test: 0.5960877610362146\n",
      "============\n",
      "ngram = (1,2)\n",
      "Train: 0.6912840398343174\n",
      "Test: 0.5974094633888448\n",
      "============\n",
      "ngram = (1,3)\n",
      "Train: 0.6911077817925443\n",
      "Test: 0.5971451229183188\n",
      "============\n",
      "ngram = (1,4)\n",
      "Train: 0.686789459769102\n",
      "Test: 0.5955590800951626\n",
      "============\n",
      "ngram = (1,5)\n",
      "Train: 0.6886401692077201\n",
      "Test: 0.5979381443298969\n",
      "============\n",
      "ngram = (1,6)\n",
      "Train: 0.6875826209570811\n",
      "Test: 0.5921226539783241\n",
      "============\n",
      "ngram = (1,7)\n",
      "Train: 0.6893452013748127\n",
      "Test: 0.5974094633888448\n",
      "============\n",
      "ngram = (1,8)\n",
      "Train: 0.6869657178108751\n",
      "Test: 0.5892149088025377\n",
      "============\n",
      "ngram = (1,9)\n",
      "Train: 0.6888164272494932\n",
      "Test: 0.5945017182130584\n",
      "============\n"
     ]
    }
   ],
   "source": [
    "for i in range(9):\n",
    "    rf.fit(X_train_ls[i],y_train)\n",
    "    print(f'ngram = (1,{i+1})')\n",
    "    print(f'Train: {rf.score(X_train_ls[i], y_train)}')\n",
    "    print(f'Test: {rf.score(X_test_ls[i], y_test)}')\n",
    "    print('='*12)\n",
    "    new_model = pd.DataFrame([[rf.base_estimator_,{'max_depth':5, 'n_estimators':200,'n_gram':(1,i+1)},rf.score(X_train_ls[i], y_train),rf.score(X_test_ls[i], y_test)]],columns=results.columns.tolist())\n",
    "    results = results.append(new_model,ignore_index=True)"
   ]
  },
  {
   "cell_type": "markdown",
   "id": "fa3764e7",
   "metadata": {},
   "source": [
    "## try with min (2,x)"
   ]
  },
  {
   "cell_type": "code",
   "execution_count": 144,
   "id": "8821364f",
   "metadata": {},
   "outputs": [],
   "source": [
    "# create multiple sets of train-test with range of ngram 2-6 (choose 6 because (1,5) was the best score for (1,x) trails)\n",
    "X_train_ls = []\n",
    "X_test_ls = []\n",
    "\n",
    "for i in range(2,7):\n",
    "    tvec = TfidfVectorizer(max_features = 500, stop_words = 'english',s)\n",
    "    \n",
    "    X_train_ls.append(pd.DataFrame(tvec.fit_transform(X_train['title']).todense(),\n",
    "                              columns = tvec.get_feature_names()))\n",
    "    X_test_ls.append(pd.DataFrame(tvec.transform(X_test['title']).todense(),\n",
    "                             columns = tvec.get_feature_names()))"
   ]
  },
  {
   "cell_type": "code",
   "execution_count": 145,
   "id": "9ccff1de",
   "metadata": {
    "scrolled": true
   },
   "outputs": [
    {
     "name": "stdout",
     "output_type": "stream",
     "text": [
      "ngram = (2,2)\n",
      "rf: 0.5457822685282303\n",
      "mean-to-max CV scores: 0.9709449447955195\n",
      "============\n",
      "ngram = (2,3)\n",
      "rf: 0.5478968059731643\n",
      "mean-to-max CV scores: 0.9656255819558097\n",
      "============\n",
      "ngram = (2,4)\n",
      "rf: 0.5462224863840136\n",
      "mean-to-max CV scores: 0.9732535667909818\n",
      "============\n",
      "ngram = (2,5)\n",
      "rf: 0.5472812313047261\n",
      "mean-to-max CV scores: 0.9736115948759625\n",
      "============\n",
      "ngram = (2,6)\n",
      "rf: 0.5471920378528308\n",
      "mean-to-max CV scores: 0.9734529200046441\n",
      "============\n"
     ]
    }
   ],
   "source": [
    "rf = RandomForestClassifier(max_depth=20, n_estimators=100, random_state = 42)\n",
    "\n",
    "for i in range(len(X_train_ls)):\n",
    "    print(f'ngram = (2,{i+2})')\n",
    "    cv_scores = cross_val_score(rf, X_train_ls[i], y_train, cv=10)\n",
    "    print(f'rf: {cv_scores.mean()}')\n",
    "    print(f'mean-to-max CV scores: {cv_scores.mean()/cv_scores.max()}')\n",
    "    print('='*12)"
   ]
  },
  {
   "cell_type": "code",
   "execution_count": 146,
   "id": "b7b152f6",
   "metadata": {
    "scrolled": false
   },
   "outputs": [
    {
     "name": "stdout",
     "output_type": "stream",
     "text": [
      "ngram = (2,2)\n",
      "Train: 0.5740724420551687\n",
      "Test: 0.5440126883425852\n",
      "============\n",
      "ngram = (2,3)\n",
      "Train: 0.5714285714285714\n",
      "Test: 0.542690985989955\n",
      "============\n",
      "ngram = (2,4)\n",
      "Train: 0.5705472812197057\n",
      "Test: 0.5477134549299498\n",
      "============\n",
      "ngram = (2,5)\n",
      "Train: 0.569842249052613\n",
      "Test: 0.5453343906952154\n",
      "============\n",
      "ngram = (2,6)\n",
      "Train: 0.5708997973032519\n",
      "Test: 0.5466560930478456\n",
      "============\n"
     ]
    }
   ],
   "source": [
    "for i in range(len(X_train_ls)):\n",
    "    rf.fit(X_train_ls[i],y_train)\n",
    "    print(f'ngram = (2,{i+2})')\n",
    "    print(f'Train: {rf.score(X_train_ls[i], y_train)}')\n",
    "    print(f'Test: {rf.score(X_test_ls[i], y_test)}')\n",
    "    print('='*12)\n",
    "    new_model = pd.DataFrame([[rf.base_estimator_,{'max_depth':5, 'n_estimators':200,'n_gram':(2,i+1)},rf.score(X_train_ls[i], y_train),rf.score(X_test_ls[i], y_test)]],columns=results.columns.tolist())\n",
    "    results = results.append(new_model,ignore_index=True)"
   ]
  },
  {
   "cell_type": "markdown",
   "id": "9b14ec7a",
   "metadata": {},
   "source": [
    "## try with min (3,x)"
   ]
  },
  {
   "cell_type": "code",
   "execution_count": 147,
   "id": "e6ccfaef",
   "metadata": {},
   "outputs": [],
   "source": [
    "# create multiple sets of train-test with range of ngram 3-6\n",
    "X_train_ls = []\n",
    "X_test_ls = []\n",
    "\n",
    "for i in range(3,7):\n",
    "    tvec = TfidfVectorizer(max_features = 500, stop_words = 'english',ngram_range=(2, i))\n",
    "    \n",
    "    X_train_ls.append(pd.DataFrame(tvec.fit_transform(X_train['title']).todense(),\n",
    "                              columns = tvec.get_feature_names()))\n",
    "    X_test_ls.append(pd.DataFrame(tvec.transform(X_test['title']).todense(),\n",
    "                             columns = tvec.get_feature_names()))"
   ]
  },
  {
   "cell_type": "code",
   "execution_count": 148,
   "id": "4b2dba2c",
   "metadata": {
    "scrolled": true
   },
   "outputs": [
    {
     "name": "stdout",
     "output_type": "stream",
     "text": [
      "ngram = (3,3)\n",
      "rf: 0.5478968059731643\n",
      "mean-to-max CV scores: 0.9656255819558097\n",
      "============\n",
      "ngram = (3,4)\n",
      "rf: 0.5462224863840136\n",
      "mean-to-max CV scores: 0.9732535667909818\n",
      "============\n",
      "ngram = (3,5)\n",
      "rf: 0.5472812313047261\n",
      "mean-to-max CV scores: 0.9736115948759625\n",
      "============\n",
      "ngram = (3,6)\n",
      "rf: 0.5471920378528308\n",
      "mean-to-max CV scores: 0.9734529200046441\n",
      "============\n"
     ]
    }
   ],
   "source": [
    "rf = RandomForestClassifier(max_depth=20, n_estimators=100, random_state = 42)\n",
    "\n",
    "for i in range(len(X_train_ls)):\n",
    "    print(f'ngram = (3,{i+3})')\n",
    "    cv_scores = cross_val_score(rf, X_train_ls[i], y_train, cv=10)\n",
    "    print(f'rf: {cv_scores.mean()}')\n",
    "    print(f'mean-to-max CV scores: {cv_scores.mean()/cv_scores.max()}')\n",
    "    print('='*12)"
   ]
  },
  {
   "cell_type": "code",
   "execution_count": 149,
   "id": "cd06e098",
   "metadata": {
    "scrolled": true
   },
   "outputs": [
    {
     "name": "stdout",
     "output_type": "stream",
     "text": [
      "ngram = (3,3)\n",
      "Train: 0.5714285714285714\n",
      "Test: 0.542690985989955\n",
      "============\n",
      "ngram = (3,4)\n",
      "Train: 0.5705472812197057\n",
      "Test: 0.5477134549299498\n",
      "============\n",
      "ngram = (3,5)\n",
      "Train: 0.569842249052613\n",
      "Test: 0.5453343906952154\n",
      "============\n",
      "ngram = (3,6)\n",
      "Train: 0.5708997973032519\n",
      "Test: 0.5466560930478456\n",
      "============\n"
     ]
    }
   ],
   "source": [
    "for i in range(len(X_train_ls)):\n",
    "    rf.fit(X_train_ls[i],y_train)\n",
    "    print(f'ngram = (3,{i+3})')\n",
    "    print(f'Train: {rf.score(X_train_ls[i], y_train)}')\n",
    "    print(f'Test: {rf.score(X_test_ls[i], y_test)}')\n",
    "    print('='*12)\n",
    "    new_model = pd.DataFrame([[rf.base_estimator_,{'max_depth':5, 'n_estimators':200,'n_gram':(3,i+1)},rf.score(X_train_ls[i], y_train),rf.score(X_test_ls[i], y_test)]],columns=results.columns.tolist())\n",
    "    results = results.append(new_model,ignore_index=True)"
   ]
  },
  {
   "cell_type": "markdown",
   "id": "7c01c8ba",
   "metadata": {},
   "source": [
    "# plot the results and how ngram affects results"
   ]
  },
  {
   "cell_type": "code",
   "execution_count": 151,
   "id": "d3f535f9",
   "metadata": {},
   "outputs": [],
   "source": [
    "import seaborn as sns\n",
    "import matplotlib.pyplot as plt"
   ]
  },
  {
   "cell_type": "code",
   "execution_count": 152,
   "id": "09847e64",
   "metadata": {},
   "outputs": [],
   "source": [
    "n_grams = [str(x['n_gram']) for x in results['parameters']]\n",
    "test = results['test']"
   ]
  },
  {
   "cell_type": "code",
   "execution_count": 154,
   "id": "3749f31e",
   "metadata": {},
   "outputs": [
    {
     "data": {
      "image/png": "[encoded data removed]",
      "text/plain": [
       "<Figure size 432x288 with 1 Axes>"
      ]
     },
     "metadata": {},
     "output_type": "display_data"
    }
   ],
   "source": [
    "sns.set_theme(style=\"whitegrid\")\n",
    "sns.set(font_scale = .7)\n",
    "pal = sns.color_palette(\"Greens_d\", len(test))\n",
    "rank = test.argsort().argsort()  # http://stackoverflow.com/a/6266510/1628638\n",
    "plt.ylim(.5,.62)\n",
    "\n",
    "sns.barplot(x=n_grams,y=test, palette=np.array(pal)[rank]).set(title='Test Scores vs \"ngram\" inputs');"
   ]
  },
  {
   "cell_type": "code",
   "execution_count": 14,
   "id": "2887e451",
   "metadata": {},
   "outputs": [
    {
     "data": {
      "text/plain": [
       "\"{'max_depth': 5, 'n_estimators': 200, 'n_gram': (1, 1)}\""
      ]
     },
     "execution_count": 14,
     "metadata": {},
     "output_type": "execute_result"
    }
   ],
   "source": [
    "results['parameters'].to_list()[0]"
   ]
  },
  {
   "cell_type": "markdown",
   "id": "f6197c5f",
   "metadata": {},
   "source": [
    "# saving results to csv"
   ]
  },
  {
   "cell_type": "code",
   "execution_count": 153,
   "id": "fe711922",
   "metadata": {},
   "outputs": [],
   "source": [
    "results['vectorizer'] = 'TfidfVectorizer'"
   ]
  },
  {
   "cell_type": "code",
   "execution_count": 155,
   "id": "462749a2",
   "metadata": {},
   "outputs": [],
   "source": [
    "results.to_csv('code4_results.csv',index_label=False)"
   ]
  },
  {
   "cell_type": "code",
   "execution_count": 7,
   "id": "e0308481",
   "metadata": {},
   "outputs": [],
   "source": [
    "results = pd.read_csv('./results/code4_results.csv')"
   ]
  },
  {
   "cell_type": "code",
   "execution_count": 9,
   "id": "971fd967",
   "metadata": {},
   "outputs": [
    {
     "data": {
      "text/html": [
       "<div>\n",
       "<style scoped>\n",
       "    .dataframe tbody tr th:only-of-type {\n",
       "        vertical-align: middle;\n",
       "    }\n",
       "\n",
       "    .dataframe tbody tr th {\n",
       "        vertical-align: top;\n",
       "    }\n",
       "\n",
       "    .dataframe thead th {\n",
       "        text-align: right;\n",
       "    }\n",
       "</style>\n",
       "<table border=\"1\" class=\"dataframe\">\n",
       "  <thead>\n",
       "    <tr style=\"text-align: right;\">\n",
       "      <th></th>\n",
       "      <th>Unnamed: 0</th>\n",
       "      <th>model</th>\n",
       "      <th>parameters</th>\n",
       "      <th>train</th>\n",
       "      <th>test</th>\n",
       "      <th>vectorizer</th>\n",
       "    </tr>\n",
       "  </thead>\n",
       "  <tbody>\n",
       "    <tr>\n",
       "      <th>4</th>\n",
       "      <td>4</td>\n",
       "      <td>DecisionTreeClassifier()</td>\n",
       "      <td>{'max_depth': 5, 'n_estimators': 200, 'n_gram'...</td>\n",
       "      <td>0.688640</td>\n",
       "      <td>0.597938</td>\n",
       "      <td>TfidfVectorizer</td>\n",
       "    </tr>\n",
       "    <tr>\n",
       "      <th>6</th>\n",
       "      <td>6</td>\n",
       "      <td>DecisionTreeClassifier()</td>\n",
       "      <td>{'max_depth': 5, 'n_estimators': 200, 'n_gram'...</td>\n",
       "      <td>0.689345</td>\n",
       "      <td>0.597409</td>\n",
       "      <td>TfidfVectorizer</td>\n",
       "    </tr>\n",
       "    <tr>\n",
       "      <th>1</th>\n",
       "      <td>1</td>\n",
       "      <td>DecisionTreeClassifier()</td>\n",
       "      <td>{'max_depth': 5, 'n_estimators': 200, 'n_gram'...</td>\n",
       "      <td>0.691284</td>\n",
       "      <td>0.597409</td>\n",
       "      <td>TfidfVectorizer</td>\n",
       "    </tr>\n",
       "    <tr>\n",
       "      <th>2</th>\n",
       "      <td>2</td>\n",
       "      <td>DecisionTreeClassifier()</td>\n",
       "      <td>{'max_depth': 5, 'n_estimators': 200, 'n_gram'...</td>\n",
       "      <td>0.691108</td>\n",
       "      <td>0.597145</td>\n",
       "      <td>TfidfVectorizer</td>\n",
       "    </tr>\n",
       "    <tr>\n",
       "      <th>0</th>\n",
       "      <td>0</td>\n",
       "      <td>DecisionTreeClassifier()</td>\n",
       "      <td>{'max_depth': 5, 'n_estimators': 200, 'n_gram'...</td>\n",
       "      <td>0.690315</td>\n",
       "      <td>0.596088</td>\n",
       "      <td>TfidfVectorizer</td>\n",
       "    </tr>\n",
       "    <tr>\n",
       "      <th>3</th>\n",
       "      <td>3</td>\n",
       "      <td>DecisionTreeClassifier()</td>\n",
       "      <td>{'max_depth': 5, 'n_estimators': 200, 'n_gram'...</td>\n",
       "      <td>0.686789</td>\n",
       "      <td>0.595559</td>\n",
       "      <td>TfidfVectorizer</td>\n",
       "    </tr>\n",
       "    <tr>\n",
       "      <th>8</th>\n",
       "      <td>8</td>\n",
       "      <td>DecisionTreeClassifier()</td>\n",
       "      <td>{'max_depth': 5, 'n_estimators': 200, 'n_gram'...</td>\n",
       "      <td>0.688816</td>\n",
       "      <td>0.594502</td>\n",
       "      <td>TfidfVectorizer</td>\n",
       "    </tr>\n",
       "    <tr>\n",
       "      <th>5</th>\n",
       "      <td>5</td>\n",
       "      <td>DecisionTreeClassifier()</td>\n",
       "      <td>{'max_depth': 5, 'n_estimators': 200, 'n_gram'...</td>\n",
       "      <td>0.687583</td>\n",
       "      <td>0.592123</td>\n",
       "      <td>TfidfVectorizer</td>\n",
       "    </tr>\n",
       "    <tr>\n",
       "      <th>7</th>\n",
       "      <td>7</td>\n",
       "      <td>DecisionTreeClassifier()</td>\n",
       "      <td>{'max_depth': 5, 'n_estimators': 200, 'n_gram'...</td>\n",
       "      <td>0.686966</td>\n",
       "      <td>0.589215</td>\n",
       "      <td>TfidfVectorizer</td>\n",
       "    </tr>\n",
       "    <tr>\n",
       "      <th>15</th>\n",
       "      <td>15</td>\n",
       "      <td>DecisionTreeClassifier()</td>\n",
       "      <td>{'max_depth': 5, 'n_estimators': 200, 'n_gram'...</td>\n",
       "      <td>0.570547</td>\n",
       "      <td>0.547713</td>\n",
       "      <td>TfidfVectorizer</td>\n",
       "    </tr>\n",
       "    <tr>\n",
       "      <th>11</th>\n",
       "      <td>11</td>\n",
       "      <td>DecisionTreeClassifier()</td>\n",
       "      <td>{'max_depth': 5, 'n_estimators': 200, 'n_gram'...</td>\n",
       "      <td>0.570547</td>\n",
       "      <td>0.547713</td>\n",
       "      <td>TfidfVectorizer</td>\n",
       "    </tr>\n",
       "    <tr>\n",
       "      <th>13</th>\n",
       "      <td>13</td>\n",
       "      <td>DecisionTreeClassifier()</td>\n",
       "      <td>{'max_depth': 5, 'n_estimators': 200, 'n_gram'...</td>\n",
       "      <td>0.570900</td>\n",
       "      <td>0.546656</td>\n",
       "      <td>TfidfVectorizer</td>\n",
       "    </tr>\n",
       "    <tr>\n",
       "      <th>17</th>\n",
       "      <td>17</td>\n",
       "      <td>DecisionTreeClassifier()</td>\n",
       "      <td>{'max_depth': 5, 'n_estimators': 200, 'n_gram'...</td>\n",
       "      <td>0.570900</td>\n",
       "      <td>0.546656</td>\n",
       "      <td>TfidfVectorizer</td>\n",
       "    </tr>\n",
       "    <tr>\n",
       "      <th>12</th>\n",
       "      <td>12</td>\n",
       "      <td>DecisionTreeClassifier()</td>\n",
       "      <td>{'max_depth': 5, 'n_estimators': 200, 'n_gram'...</td>\n",
       "      <td>0.569842</td>\n",
       "      <td>0.545334</td>\n",
       "      <td>TfidfVectorizer</td>\n",
       "    </tr>\n",
       "    <tr>\n",
       "      <th>16</th>\n",
       "      <td>16</td>\n",
       "      <td>DecisionTreeClassifier()</td>\n",
       "      <td>{'max_depth': 5, 'n_estimators': 200, 'n_gram'...</td>\n",
       "      <td>0.569842</td>\n",
       "      <td>0.545334</td>\n",
       "      <td>TfidfVectorizer</td>\n",
       "    </tr>\n",
       "    <tr>\n",
       "      <th>9</th>\n",
       "      <td>9</td>\n",
       "      <td>DecisionTreeClassifier()</td>\n",
       "      <td>{'max_depth': 5, 'n_estimators': 200, 'n_gram'...</td>\n",
       "      <td>0.574072</td>\n",
       "      <td>0.544013</td>\n",
       "      <td>TfidfVectorizer</td>\n",
       "    </tr>\n",
       "    <tr>\n",
       "      <th>14</th>\n",
       "      <td>14</td>\n",
       "      <td>DecisionTreeClassifier()</td>\n",
       "      <td>{'max_depth': 5, 'n_estimators': 200, 'n_gram'...</td>\n",
       "      <td>0.571429</td>\n",
       "      <td>0.542691</td>\n",
       "      <td>TfidfVectorizer</td>\n",
       "    </tr>\n",
       "    <tr>\n",
       "      <th>10</th>\n",
       "      <td>10</td>\n",
       "      <td>DecisionTreeClassifier()</td>\n",
       "      <td>{'max_depth': 5, 'n_estimators': 200, 'n_gram'...</td>\n",
       "      <td>0.571429</td>\n",
       "      <td>0.542691</td>\n",
       "      <td>TfidfVectorizer</td>\n",
       "    </tr>\n",
       "  </tbody>\n",
       "</table>\n",
       "</div>"
      ],
      "text/plain": [
       "    Unnamed: 0                     model  \\\n",
       "4            4  DecisionTreeClassifier()   \n",
       "6            6  DecisionTreeClassifier()   \n",
       "1            1  DecisionTreeClassifier()   \n",
       "2            2  DecisionTreeClassifier()   \n",
       "0            0  DecisionTreeClassifier()   \n",
       "3            3  DecisionTreeClassifier()   \n",
       "8            8  DecisionTreeClassifier()   \n",
       "5            5  DecisionTreeClassifier()   \n",
       "7            7  DecisionTreeClassifier()   \n",
       "15          15  DecisionTreeClassifier()   \n",
       "11          11  DecisionTreeClassifier()   \n",
       "13          13  DecisionTreeClassifier()   \n",
       "17          17  DecisionTreeClassifier()   \n",
       "12          12  DecisionTreeClassifier()   \n",
       "16          16  DecisionTreeClassifier()   \n",
       "9            9  DecisionTreeClassifier()   \n",
       "14          14  DecisionTreeClassifier()   \n",
       "10          10  DecisionTreeClassifier()   \n",
       "\n",
       "                                           parameters     train      test  \\\n",
       "4   {'max_depth': 5, 'n_estimators': 200, 'n_gram'...  0.688640  0.597938   \n",
       "6   {'max_depth': 5, 'n_estimators': 200, 'n_gram'...  0.689345  0.597409   \n",
       "1   {'max_depth': 5, 'n_estimators': 200, 'n_gram'...  0.691284  0.597409   \n",
       "2   {'max_depth': 5, 'n_estimators': 200, 'n_gram'...  0.691108  0.597145   \n",
       "0   {'max_depth': 5, 'n_estimators': 200, 'n_gram'...  0.690315  0.596088   \n",
       "3   {'max_depth': 5, 'n_estimators': 200, 'n_gram'...  0.686789  0.595559   \n",
       "8   {'max_depth': 5, 'n_estimators': 200, 'n_gram'...  0.688816  0.594502   \n",
       "5   {'max_depth': 5, 'n_estimators': 200, 'n_gram'...  0.687583  0.592123   \n",
       "7   {'max_depth': 5, 'n_estimators': 200, 'n_gram'...  0.686966  0.589215   \n",
       "15  {'max_depth': 5, 'n_estimators': 200, 'n_gram'...  0.570547  0.547713   \n",
       "11  {'max_depth': 5, 'n_estimators': 200, 'n_gram'...  0.570547  0.547713   \n",
       "13  {'max_depth': 5, 'n_estimators': 200, 'n_gram'...  0.570900  0.546656   \n",
       "17  {'max_depth': 5, 'n_estimators': 200, 'n_gram'...  0.570900  0.546656   \n",
       "12  {'max_depth': 5, 'n_estimators': 200, 'n_gram'...  0.569842  0.545334   \n",
       "16  {'max_depth': 5, 'n_estimators': 200, 'n_gram'...  0.569842  0.545334   \n",
       "9   {'max_depth': 5, 'n_estimators': 200, 'n_gram'...  0.574072  0.544013   \n",
       "14  {'max_depth': 5, 'n_estimators': 200, 'n_gram'...  0.571429  0.542691   \n",
       "10  {'max_depth': 5, 'n_estimators': 200, 'n_gram'...  0.571429  0.542691   \n",
       "\n",
       "         vectorizer  \n",
       "4   TfidfVectorizer  \n",
       "6   TfidfVectorizer  \n",
       "1   TfidfVectorizer  \n",
       "2   TfidfVectorizer  \n",
       "0   TfidfVectorizer  \n",
       "3   TfidfVectorizer  \n",
       "8   TfidfVectorizer  \n",
       "5   TfidfVectorizer  \n",
       "7   TfidfVectorizer  \n",
       "15  TfidfVectorizer  \n",
       "11  TfidfVectorizer  \n",
       "13  TfidfVectorizer  \n",
       "17  TfidfVectorizer  \n",
       "12  TfidfVectorizer  \n",
       "16  TfidfVectorizer  \n",
       "9   TfidfVectorizer  \n",
       "14  TfidfVectorizer  \n",
       "10  TfidfVectorizer  "
      ]
     },
     "execution_count": 9,
     "metadata": {},
     "output_type": "execute_result"
    }
   ],
   "source": [
    "results.sort_values(by='test',ascending=False)"
   ]
  },
  {
   "cell_type": "markdown",
   "id": "0065d3ee",
   "metadata": {},
   "source": [
    "# Conclusion\n",
    "ngram = (1,5)  \n",
    "Train: 0.688640  \n",
    "Test: 0.597938 \n",
    "\n",
    "ngram (1,5) appears to be the best.  \n",
    "increasing max ngram past does improve however this may be due to collinearity  \n",
    "increasing min ngram does not show to improve the performance"
   ]
  }
 ],
 "metadata": {
  "kernelspec": {
   "display_name": "Python 3",
   "language": "python",
   "name": "python3"
  },
  "language_info": {
   "codemirror_mode": {
    "name": "ipython",
    "version": 3
   },
   "file_extension": ".py",
   "mimetype": "text/x-python",
   "name": "python",
   "nbconvert_exporter": "python",
   "pygments_lexer": "ipython3",
   "version": "3.8.8"
  }
 },
 "nbformat": 4,
 "nbformat_minor": 5
}
