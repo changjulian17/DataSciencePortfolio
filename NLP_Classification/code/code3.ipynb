{
 "cells": [
  {
   "cell_type": "markdown",
   "id": "cd83a9a2",
   "metadata": {},
   "source": [
    "# code 3\n",
    "\n",
    "## Revision changes\n",
    "#### 4 sep \n",
    "1. attempting to change from tvec to TF-IDF\n",
    "2. removed api and extract. using data from csv\n",
    "3. added results and csv generator to curate results  \n",
    "\n",
    "example executive summary [here](https://www.proposify.biz/blog/executive-summary)"
   ]
  },
  {
   "cell_type": "code",
   "execution_count": 1,
   "id": "0b31b9e5",
   "metadata": {},
   "outputs": [],
   "source": [
    "import requests\n",
    "import pandas as pd\n",
    "import numpy as np\n",
    "import time\n",
    "\n",
    "# Import train test split\n",
    "from sklearn.model_selection import cross_val_score, train_test_split, GridSearchCV\n",
    "\n",
    "# Import CountVectorizer,TfidfVectorizer\n",
    "from sklearn.feature_extraction.text import CountVectorizer, TfidfVectorizer\n",
    "\n",
    "#import confusion matrix fxn\n",
    "from sklearn.metrics import confusion_matrix, plot_roc_curve"
   ]
  },
  {
   "cell_type": "markdown",
   "id": "6fe67ca2",
   "metadata": {},
   "source": [
    "#### 1. Engineer a feature to turn `source_feature` into a 1/0 column, where 1 indicates `stocks` subreddit."
   ]
  },
  {
   "cell_type": "code",
   "execution_count": 36,
   "id": "4272a496",
   "metadata": {},
   "outputs": [],
   "source": [
    "df = pd.read_csv('data.csv')"
   ]
  },
  {
   "cell_type": "markdown",
   "id": "47df5237",
   "metadata": {},
   "source": [
    "#### 2. Split our data into `X` and `y`."
   ]
  },
  {
   "cell_type": "code",
   "execution_count": 37,
   "id": "0775ec73",
   "metadata": {},
   "outputs": [],
   "source": [
    "X = df[['title']]\n",
    "y = df['stocks']"
   ]
  },
  {
   "cell_type": "markdown",
   "id": "44740942",
   "metadata": {},
   "source": [
    "#### 3. Split our data into training and testing sets."
   ]
  },
  {
   "cell_type": "code",
   "execution_count": 38,
   "id": "d32f5d89",
   "metadata": {},
   "outputs": [],
   "source": [
    "X_train, X_test, y_train, y_test = train_test_split(X,\n",
    "                                                    y,\n",
    "                                                    test_size=0.25,\n",
    "                                                    random_state=42,\n",
    "                                                    stratify=y)"
   ]
  },
  {
   "cell_type": "markdown",
   "id": "a136d02d",
   "metadata": {},
   "source": [
    "#### 4. Turn our text into features. [Documentation here](https://scikit-learn.org/stable/modules/generated/sklearn.feature_extraction.text.CountVectorizer.html)."
   ]
  },
  {
   "cell_type": "code",
   "execution_count": 39,
   "id": "edd0abec",
   "metadata": {},
   "outputs": [],
   "source": [
    "# Instantiate our CountVectorizer.\n",
    "tvec = tvec = TfidfVectorizer(max_features = 500, stop_words = 'english',ngram_range=(1, 1))\n",
    "# Fit our CountVectorizer on the training data and transform training data.\n",
    "X_train_tvec = pd.DataFrame(tvec.fit_transform(X_train['title']).todense(),\n",
    "                          columns = tvec.get_feature_names())\n",
    "# Transform our testing data with the already-fit CountVectorizer.\n",
    "X_test_tvec = pd.DataFrame(tvec.transform(X_test['title']).todense(),\n",
    "                         columns = tvec.get_feature_names())"
   ]
  },
  {
   "cell_type": "code",
   "execution_count": 40,
   "id": "ac98b744",
   "metadata": {},
   "outputs": [],
   "source": [
    "results = pd.DataFrame(columns=['model','parameters','train','test'])"
   ]
  },
  {
   "cell_type": "markdown",
   "id": "9c74af51",
   "metadata": {},
   "source": [
    "#### 4.1 Fit a Naive Bayes model!"
   ]
  },
  {
   "cell_type": "code",
   "execution_count": 41,
   "id": "34e0e477",
   "metadata": {},
   "outputs": [],
   "source": [
    "from sklearn.naive_bayes import MultinomialNB"
   ]
  },
  {
   "cell_type": "code",
   "execution_count": 42,
   "id": "a78c2742",
   "metadata": {},
   "outputs": [
    {
     "data": {
      "text/plain": [
       "0.6371728210099585"
      ]
     },
     "execution_count": 42,
     "metadata": {},
     "output_type": "execute_result"
    }
   ],
   "source": [
    "nb = MultinomialNB()\n",
    "model = nb.fit(X_train_tvec, y_train)\n",
    "predictions = model.predict(X_test_tvec)\n",
    "model.score(X_train_tvec, y_train)"
   ]
  },
  {
   "cell_type": "code",
   "execution_count": 43,
   "id": "b5cd759d",
   "metadata": {},
   "outputs": [],
   "source": [
    "new_model = pd.DataFrame([['nb',None,model.score(X_train_tvec, y_train),model.score(X_test_tvec, y_test)]],columns=results.columns.tolist())\n",
    "results = results.append(new_model,ignore_index=True)"
   ]
  },
  {
   "cell_type": "code",
   "execution_count": 44,
   "id": "8331e460",
   "metadata": {},
   "outputs": [
    {
     "name": "stdout",
     "output_type": "stream",
     "text": [
      "[[1006  883]\n",
      " [ 665 1229]]\n",
      "True Negatives: 1006\n",
      "False Positives: 883\n",
      "False Negatives: 665\n",
      "True Positives: 1229\n"
     ]
    }
   ],
   "source": [
    "print(confusion_matrix(y_test, predictions))\n",
    "tn, fp, fn, tp = confusion_matrix(y_test, predictions).ravel()\n",
    "print(\"True Negatives: %s\" % tn)\n",
    "print(\"False Positives: %s\" % fp)\n",
    "print(\"False Negatives: %s\" % fn)\n",
    "print(\"True Positives: %s\" % tp)"
   ]
  },
  {
   "cell_type": "markdown",
   "id": "278f4e36",
   "metadata": {},
   "source": [
    "#### 4.2 Fit a Random Forest model!"
   ]
  },
  {
   "cell_type": "code",
   "execution_count": 45,
   "id": "790310c3",
   "metadata": {},
   "outputs": [],
   "source": [
    "from sklearn.ensemble import RandomForestClassifier, ExtraTreesClassifier\n",
    "np.random.seed(42)"
   ]
  },
  {
   "cell_type": "code",
   "execution_count": 46,
   "id": "9ccff1de",
   "metadata": {
    "scrolled": false
   },
   "outputs": [
    {
     "name": "stdout",
     "output_type": "stream",
     "text": [
      "rf: 0.602098189930164\n",
      "ef: 0.5983088670706301\n"
     ]
    }
   ],
   "source": [
    "rf = RandomForestClassifier(n_estimators=100)\n",
    "et = ExtraTreesClassifier(n_estimators=100)\n",
    "print(f'rf: {cross_val_score(rf, X_train_tvec, y_train, cv=5).mean()}')\n",
    "print(f'ef: {cross_val_score(et, X_train_tvec, y_train, cv=5).mean()}')"
   ]
  },
  {
   "cell_type": "code",
   "execution_count": 47,
   "id": "e73c6111",
   "metadata": {},
   "outputs": [
    {
     "name": "stdout",
     "output_type": "stream",
     "text": [
      "0.610382535728639\n"
     ]
    },
    {
     "data": {
      "text/plain": [
       "{'max_depth': 20, 'n_estimators': 100}"
      ]
     },
     "execution_count": 47,
     "metadata": {},
     "output_type": "execute_result"
    }
   ],
   "source": [
    "rf_params = {\n",
    "    'n_estimators': [20,40,100, 200],\n",
    "    'max_depth': [None, 1, 5,10,20],\n",
    "}\n",
    "gs = GridSearchCV(rf, param_grid=rf_params, cv=5)\n",
    "gs.fit(X_train_tvec, y_train)\n",
    "print(gs.best_score_)\n",
    "gs.best_params_"
   ]
  },
  {
   "cell_type": "code",
   "execution_count": 48,
   "id": "38e6a3a1",
   "metadata": {
    "scrolled": true
   },
   "outputs": [
    {
     "name": "stdout",
     "output_type": "stream",
     "text": [
      "0.6823830087247731\n",
      "0.591329632566746\n"
     ]
    }
   ],
   "source": [
    "print(gs.score(X_train_tvec, y_train))\n",
    "print(gs.score(X_test_tvec, y_test))"
   ]
  },
  {
   "cell_type": "code",
   "execution_count": 49,
   "id": "16cee6ab",
   "metadata": {},
   "outputs": [],
   "source": [
    "new_model = pd.DataFrame([[gs.best_estimator_,gs.best_params_,gs.score(X_train_tvec, y_train),gs.score(X_test_tvec, y_test)]],columns=results.columns.tolist())\n",
    "results = results.append(new_model,ignore_index=True)"
   ]
  },
  {
   "cell_type": "code",
   "execution_count": 51,
   "id": "f495f551",
   "metadata": {
    "collapsed": true
   },
   "outputs": [
    {
     "ename": "NotFittedError",
     "evalue": "This GridSearchCV instance is not fitted yet. Call 'fit' with appropriate arguments before using this estimator.",
     "output_type": "error",
     "traceback": [
      "\u001b[0;31m---------------------------------------------------------------------------\u001b[0m",
      "\u001b[0;31mNotFittedError\u001b[0m                            Traceback (most recent call last)",
      "\u001b[0;32m<ipython-input-51-432f873058b8>\u001b[0m in \u001b[0;36m<module>\u001b[0;34m\u001b[0m\n\u001b[0;32m----> 1\u001b[0;31m \u001b[0mpredictions\u001b[0m \u001b[0;34m=\u001b[0m \u001b[0mgs\u001b[0m\u001b[0;34m.\u001b[0m\u001b[0mpredict\u001b[0m\u001b[0;34m(\u001b[0m\u001b[0mX_test_tvec\u001b[0m\u001b[0;34m)\u001b[0m\u001b[0;34m\u001b[0m\u001b[0;34m\u001b[0m\u001b[0m\n\u001b[0m\u001b[1;32m      2\u001b[0m \u001b[0mprint\u001b[0m\u001b[0;34m(\u001b[0m\u001b[0mconfusion_matrix\u001b[0m\u001b[0;34m(\u001b[0m\u001b[0my_test\u001b[0m\u001b[0;34m,\u001b[0m \u001b[0mpredictions\u001b[0m\u001b[0;34m)\u001b[0m\u001b[0;34m)\u001b[0m\u001b[0;34m\u001b[0m\u001b[0;34m\u001b[0m\u001b[0m\n\u001b[1;32m      3\u001b[0m \u001b[0mtn\u001b[0m\u001b[0;34m,\u001b[0m \u001b[0mfp\u001b[0m\u001b[0;34m,\u001b[0m \u001b[0mfn\u001b[0m\u001b[0;34m,\u001b[0m \u001b[0mtp\u001b[0m \u001b[0;34m=\u001b[0m \u001b[0mconfusion_matrix\u001b[0m\u001b[0;34m(\u001b[0m\u001b[0my_test\u001b[0m\u001b[0;34m,\u001b[0m \u001b[0mpredictions\u001b[0m\u001b[0;34m)\u001b[0m\u001b[0;34m.\u001b[0m\u001b[0mravel\u001b[0m\u001b[0;34m(\u001b[0m\u001b[0;34m)\u001b[0m\u001b[0;34m\u001b[0m\u001b[0;34m\u001b[0m\u001b[0m\n\u001b[1;32m      4\u001b[0m \u001b[0mprint\u001b[0m\u001b[0;34m(\u001b[0m\u001b[0;34m\"True Negatives: %s\"\u001b[0m \u001b[0;34m%\u001b[0m \u001b[0mtn\u001b[0m\u001b[0;34m)\u001b[0m\u001b[0;34m\u001b[0m\u001b[0;34m\u001b[0m\u001b[0m\n\u001b[1;32m      5\u001b[0m \u001b[0mprint\u001b[0m\u001b[0;34m(\u001b[0m\u001b[0;34m\"False Positives: %s\"\u001b[0m \u001b[0;34m%\u001b[0m \u001b[0mfp\u001b[0m\u001b[0;34m)\u001b[0m\u001b[0;34m\u001b[0m\u001b[0;34m\u001b[0m\u001b[0m\n",
      "\u001b[0;32m~/opt/anaconda3/lib/python3.8/site-packages/sklearn/utils/metaestimators.py\u001b[0m in \u001b[0;36m<lambda>\u001b[0;34m(*args, **kwargs)\u001b[0m\n\u001b[1;32m    118\u001b[0m \u001b[0;34m\u001b[0m\u001b[0m\n\u001b[1;32m    119\u001b[0m         \u001b[0;31m# lambda, but not partial, allows help() to work with update_wrapper\u001b[0m\u001b[0;34m\u001b[0m\u001b[0;34m\u001b[0m\u001b[0;34m\u001b[0m\u001b[0m\n\u001b[0;32m--> 120\u001b[0;31m         \u001b[0mout\u001b[0m \u001b[0;34m=\u001b[0m \u001b[0;32mlambda\u001b[0m \u001b[0;34m*\u001b[0m\u001b[0margs\u001b[0m\u001b[0;34m,\u001b[0m \u001b[0;34m**\u001b[0m\u001b[0mkwargs\u001b[0m\u001b[0;34m:\u001b[0m \u001b[0mself\u001b[0m\u001b[0;34m.\u001b[0m\u001b[0mfn\u001b[0m\u001b[0;34m(\u001b[0m\u001b[0mobj\u001b[0m\u001b[0;34m,\u001b[0m \u001b[0;34m*\u001b[0m\u001b[0margs\u001b[0m\u001b[0;34m,\u001b[0m \u001b[0;34m**\u001b[0m\u001b[0mkwargs\u001b[0m\u001b[0;34m)\u001b[0m\u001b[0;34m\u001b[0m\u001b[0;34m\u001b[0m\u001b[0m\n\u001b[0m\u001b[1;32m    121\u001b[0m         \u001b[0;31m# update the docstring of the returned function\u001b[0m\u001b[0;34m\u001b[0m\u001b[0;34m\u001b[0m\u001b[0;34m\u001b[0m\u001b[0m\n\u001b[1;32m    122\u001b[0m         \u001b[0mupdate_wrapper\u001b[0m\u001b[0;34m(\u001b[0m\u001b[0mout\u001b[0m\u001b[0;34m,\u001b[0m \u001b[0mself\u001b[0m\u001b[0;34m.\u001b[0m\u001b[0mfn\u001b[0m\u001b[0;34m)\u001b[0m\u001b[0;34m\u001b[0m\u001b[0;34m\u001b[0m\u001b[0m\n",
      "\u001b[0;32m~/opt/anaconda3/lib/python3.8/site-packages/sklearn/model_selection/_search.py\u001b[0m in \u001b[0;36mpredict\u001b[0;34m(self, X)\u001b[0m\n\u001b[1;32m    537\u001b[0m \u001b[0;34m\u001b[0m\u001b[0m\n\u001b[1;32m    538\u001b[0m         \"\"\"\n\u001b[0;32m--> 539\u001b[0;31m         \u001b[0mself\u001b[0m\u001b[0;34m.\u001b[0m\u001b[0m_check_is_fitted\u001b[0m\u001b[0;34m(\u001b[0m\u001b[0;34m'predict'\u001b[0m\u001b[0;34m)\u001b[0m\u001b[0;34m\u001b[0m\u001b[0;34m\u001b[0m\u001b[0m\n\u001b[0m\u001b[1;32m    540\u001b[0m         \u001b[0;32mreturn\u001b[0m \u001b[0mself\u001b[0m\u001b[0;34m.\u001b[0m\u001b[0mbest_estimator_\u001b[0m\u001b[0;34m.\u001b[0m\u001b[0mpredict\u001b[0m\u001b[0;34m(\u001b[0m\u001b[0mX\u001b[0m\u001b[0;34m)\u001b[0m\u001b[0;34m\u001b[0m\u001b[0;34m\u001b[0m\u001b[0m\n\u001b[1;32m    541\u001b[0m \u001b[0;34m\u001b[0m\u001b[0m\n",
      "\u001b[0;32m~/opt/anaconda3/lib/python3.8/site-packages/sklearn/model_selection/_search.py\u001b[0m in \u001b[0;36m_check_is_fitted\u001b[0;34m(self, method_name)\u001b[0m\n\u001b[1;32m    521\u001b[0m                                  % (type(self).__name__, method_name))\n\u001b[1;32m    522\u001b[0m         \u001b[0;32melse\u001b[0m\u001b[0;34m:\u001b[0m\u001b[0;34m\u001b[0m\u001b[0;34m\u001b[0m\u001b[0m\n\u001b[0;32m--> 523\u001b[0;31m             \u001b[0mcheck_is_fitted\u001b[0m\u001b[0;34m(\u001b[0m\u001b[0mself\u001b[0m\u001b[0;34m)\u001b[0m\u001b[0;34m\u001b[0m\u001b[0;34m\u001b[0m\u001b[0m\n\u001b[0m\u001b[1;32m    524\u001b[0m \u001b[0;34m\u001b[0m\u001b[0m\n\u001b[1;32m    525\u001b[0m     \u001b[0;34m@\u001b[0m\u001b[0mif_delegate_has_method\u001b[0m\u001b[0;34m(\u001b[0m\u001b[0mdelegate\u001b[0m\u001b[0;34m=\u001b[0m\u001b[0;34m(\u001b[0m\u001b[0;34m'best_estimator_'\u001b[0m\u001b[0;34m,\u001b[0m \u001b[0;34m'estimator'\u001b[0m\u001b[0;34m)\u001b[0m\u001b[0;34m)\u001b[0m\u001b[0;34m\u001b[0m\u001b[0;34m\u001b[0m\u001b[0m\n",
      "\u001b[0;32m~/opt/anaconda3/lib/python3.8/site-packages/sklearn/utils/validation.py\u001b[0m in \u001b[0;36minner_f\u001b[0;34m(*args, **kwargs)\u001b[0m\n\u001b[1;32m     61\u001b[0m             \u001b[0mextra_args\u001b[0m \u001b[0;34m=\u001b[0m \u001b[0mlen\u001b[0m\u001b[0;34m(\u001b[0m\u001b[0margs\u001b[0m\u001b[0;34m)\u001b[0m \u001b[0;34m-\u001b[0m \u001b[0mlen\u001b[0m\u001b[0;34m(\u001b[0m\u001b[0mall_args\u001b[0m\u001b[0;34m)\u001b[0m\u001b[0;34m\u001b[0m\u001b[0;34m\u001b[0m\u001b[0m\n\u001b[1;32m     62\u001b[0m             \u001b[0;32mif\u001b[0m \u001b[0mextra_args\u001b[0m \u001b[0;34m<=\u001b[0m \u001b[0;36m0\u001b[0m\u001b[0;34m:\u001b[0m\u001b[0;34m\u001b[0m\u001b[0;34m\u001b[0m\u001b[0m\n\u001b[0;32m---> 63\u001b[0;31m                 \u001b[0;32mreturn\u001b[0m \u001b[0mf\u001b[0m\u001b[0;34m(\u001b[0m\u001b[0;34m*\u001b[0m\u001b[0margs\u001b[0m\u001b[0;34m,\u001b[0m \u001b[0;34m**\u001b[0m\u001b[0mkwargs\u001b[0m\u001b[0;34m)\u001b[0m\u001b[0;34m\u001b[0m\u001b[0;34m\u001b[0m\u001b[0m\n\u001b[0m\u001b[1;32m     64\u001b[0m \u001b[0;34m\u001b[0m\u001b[0m\n\u001b[1;32m     65\u001b[0m             \u001b[0;31m# extra_args > 0\u001b[0m\u001b[0;34m\u001b[0m\u001b[0;34m\u001b[0m\u001b[0;34m\u001b[0m\u001b[0m\n",
      "\u001b[0;32m~/opt/anaconda3/lib/python3.8/site-packages/sklearn/utils/validation.py\u001b[0m in \u001b[0;36mcheck_is_fitted\u001b[0;34m(estimator, attributes, msg, all_or_any)\u001b[0m\n\u001b[1;32m   1096\u001b[0m \u001b[0;34m\u001b[0m\u001b[0m\n\u001b[1;32m   1097\u001b[0m     \u001b[0;32mif\u001b[0m \u001b[0;32mnot\u001b[0m \u001b[0mattrs\u001b[0m\u001b[0;34m:\u001b[0m\u001b[0;34m\u001b[0m\u001b[0;34m\u001b[0m\u001b[0m\n\u001b[0;32m-> 1098\u001b[0;31m         \u001b[0;32mraise\u001b[0m \u001b[0mNotFittedError\u001b[0m\u001b[0;34m(\u001b[0m\u001b[0mmsg\u001b[0m \u001b[0;34m%\u001b[0m \u001b[0;34m{\u001b[0m\u001b[0;34m'name'\u001b[0m\u001b[0;34m:\u001b[0m \u001b[0mtype\u001b[0m\u001b[0;34m(\u001b[0m\u001b[0mestimator\u001b[0m\u001b[0;34m)\u001b[0m\u001b[0;34m.\u001b[0m\u001b[0m__name__\u001b[0m\u001b[0;34m}\u001b[0m\u001b[0;34m)\u001b[0m\u001b[0;34m\u001b[0m\u001b[0;34m\u001b[0m\u001b[0m\n\u001b[0m\u001b[1;32m   1099\u001b[0m \u001b[0;34m\u001b[0m\u001b[0m\n\u001b[1;32m   1100\u001b[0m \u001b[0;34m\u001b[0m\u001b[0m\n",
      "\u001b[0;31mNotFittedError\u001b[0m: This GridSearchCV instance is not fitted yet. Call 'fit' with appropriate arguments before using this estimator."
     ]
    }
   ],
   "source": [
    "predictions = gs.predict(X_test_tvec)\n",
    "print(confusion_matrix(y_test, predictions))\n",
    "tn, fp, fn, tp = confusion_matrix(y_test, predictions).ravel()\n",
    "print(\"True Negatives: %s\" % tn)\n",
    "print(\"False Positives: %s\" % fp)\n",
    "print(\"False Negatives: %s\" % fn)\n",
    "print(\"True Positives: %s\" % tp)"
   ]
  },
  {
   "cell_type": "markdown",
   "id": "5728eaf5",
   "metadata": {},
   "source": [
    "#### 4.3 Fit a Ada boost model!"
   ]
  },
  {
   "cell_type": "code",
   "execution_count": 52,
   "id": "6278f2f4",
   "metadata": {},
   "outputs": [],
   "source": [
    "from sklearn.ensemble import AdaBoostClassifier\n",
    "from sklearn.tree import DecisionTreeClassifier"
   ]
  },
  {
   "cell_type": "code",
   "execution_count": 53,
   "id": "3300b165",
   "metadata": {
    "scrolled": true
   },
   "outputs": [
    {
     "name": "stdout",
     "output_type": "stream",
     "text": [
      "Elapsed time to compute the importances: 872.165 seconds\n",
      "0.5937255646404245\n"
     ]
    },
    {
     "data": {
      "text/plain": [
       "{'base_estimator__max_depth': 2, 'learning_rate': 1.0, 'n_estimators': 100}"
      ]
     },
     "execution_count": 53,
     "metadata": {},
     "output_type": "execute_result"
    }
   ],
   "source": [
    "# timer\n",
    "start_time = time.time()\n",
    "\n",
    "ada = AdaBoostClassifier(base_estimator=DecisionTreeClassifier())\n",
    "ada_params = {\n",
    "    'n_estimators': [30,50,100],\n",
    "    'base_estimator__max_depth': [1,2],\n",
    "    'learning_rate': [.9, 1.]\n",
    "}\n",
    "gs = GridSearchCV(ada, param_grid=ada_params, cv=3)\n",
    "gs.fit(X_train_tvec, y_train)\n",
    "\n",
    "# timer\n",
    "elapsed_time = time.time() - start_time\n",
    "print(f\"Elapsed time to compute the importances: \"\n",
    "      f\"{elapsed_time:.3f} seconds\")\n",
    "\n",
    "print(gs.best_score_)\n",
    "gs.best_params_"
   ]
  },
  {
   "cell_type": "code",
   "execution_count": 54,
   "id": "c29ce803",
   "metadata": {
    "scrolled": true
   },
   "outputs": [
    {
     "name": "stdout",
     "output_type": "stream",
     "text": [
      "0.6704855909050851\n",
      "0.5892149088025377\n"
     ]
    }
   ],
   "source": [
    "print(gs.score(X_train_tvec, y_train))\n",
    "print(gs.score(X_test_tvec, y_test))"
   ]
  },
  {
   "cell_type": "code",
   "execution_count": 55,
   "id": "bf743f59",
   "metadata": {},
   "outputs": [],
   "source": [
    "new_model = pd.DataFrame([[gs.best_estimator_,gs.best_params_,gs.score(X_train_tvec, y_train),gs.score(X_test_tvec, y_test)]],columns=results.columns.tolist())\n",
    "results = results.append(new_model,ignore_index=True)"
   ]
  },
  {
   "cell_type": "markdown",
   "id": "448c48b7",
   "metadata": {},
   "source": [
    "#### 4.4 Fit a Vote Classifier model!"
   ]
  },
  {
   "cell_type": "code",
   "execution_count": 56,
   "id": "64346b93",
   "metadata": {},
   "outputs": [],
   "source": [
    "from sklearn.ensemble import VotingClassifier"
   ]
  },
  {
   "cell_type": "code",
   "execution_count": 57,
   "id": "e590627a",
   "metadata": {},
   "outputs": [
    {
     "name": "stdout",
     "output_type": "stream",
     "text": [
      "Elapsed time to compute the importances: 54.0 minutes\n"
     ]
    }
   ],
   "source": [
    "vote = VotingClassifier([\n",
    "    ('tree', RandomForestClassifier()),\n",
    "    ('ada', AdaBoostClassifier(base_estimator=DecisionTreeClassifier()))\n",
    "])\n",
    "vote_params = {\n",
    "    'ada__n_estimators': [30,50],\n",
    "    'tree__n_estimators': [50,75],\n",
    "    'tree__max_depth': [1, 3],\n",
    "    'voting': ['hard', 'soft']\n",
    "}\n",
    "\n",
    "# timer\n",
    "start_time = time.time()\n",
    "\n",
    "gs = GridSearchCV(vote, param_grid=vote_params, cv=3)\n",
    "gs.fit(X_train_tvec, y_train)\n",
    "\n",
    "# timer\n",
    "elapsed_time = time.time() - start_time\n",
    "print(f\"Elapsed time to compute the importances: \"\n",
    "      f\"{elapsed_time/60:.1f} minutes\")"
   ]
  },
  {
   "cell_type": "code",
   "execution_count": 58,
   "id": "c6dc4ea9",
   "metadata": {
    "scrolled": false
   },
   "outputs": [
    {
     "name": "stdout",
     "output_type": "stream",
     "text": [
      "{'ada__n_estimators': 50, 'tree__max_depth': 1, 'tree__n_estimators': 50, 'voting': 'hard'}\n",
      "0.5825331710479481\n",
      "0.54903515728258\n"
     ]
    }
   ],
   "source": [
    "print(gs.best_params_)\n",
    "print(gs.best_score_)\n",
    "print(gs.score(X_test_tvec, y_test))"
   ]
  },
  {
   "cell_type": "code",
   "execution_count": 59,
   "id": "ae575bff",
   "metadata": {},
   "outputs": [],
   "source": [
    "new_model = pd.DataFrame([[gs.best_estimator_,gs.best_params_,gs.score(X_train_tvec, y_train),gs.score(X_test_tvec, y_test)]],columns=results.columns.tolist())\n",
    "results = results.append(new_model,ignore_index=True)"
   ]
  },
  {
   "cell_type": "code",
   "execution_count": 60,
   "id": "67e1f8e3",
   "metadata": {
    "scrolled": true
   },
   "outputs": [
    {
     "data": {
      "text/html": [
       "<div>\n",
       "<style scoped>\n",
       "    .dataframe tbody tr th:only-of-type {\n",
       "        vertical-align: middle;\n",
       "    }\n",
       "\n",
       "    .dataframe tbody tr th {\n",
       "        vertical-align: top;\n",
       "    }\n",
       "\n",
       "    .dataframe thead th {\n",
       "        text-align: right;\n",
       "    }\n",
       "</style>\n",
       "<table border=\"1\" class=\"dataframe\">\n",
       "  <thead>\n",
       "    <tr style=\"text-align: right;\">\n",
       "      <th></th>\n",
       "      <th>model</th>\n",
       "      <th>parameters</th>\n",
       "      <th>test</th>\n",
       "    </tr>\n",
       "  </thead>\n",
       "  <tbody>\n",
       "    <tr>\n",
       "      <th>3</th>\n",
       "      <td>VotingClassifier(estimators=[('tree',\\n       ...</td>\n",
       "      <td>{'ada__n_estimators': 50, 'tree__max_depth': 1...</td>\n",
       "      <td>0.549035</td>\n",
       "    </tr>\n",
       "    <tr>\n",
       "      <th>2</th>\n",
       "      <td>(DecisionTreeClassifier(max_depth=2, random_st...</td>\n",
       "      <td>{'base_estimator__max_depth': 2, 'learning_rat...</td>\n",
       "      <td>0.589215</td>\n",
       "    </tr>\n",
       "    <tr>\n",
       "      <th>0</th>\n",
       "      <td>nb</td>\n",
       "      <td>None</td>\n",
       "      <td>0.590801</td>\n",
       "    </tr>\n",
       "    <tr>\n",
       "      <th>1</th>\n",
       "      <td>(DecisionTreeClassifier(max_depth=20, max_feat...</td>\n",
       "      <td>{'max_depth': 20, 'n_estimators': 100}</td>\n",
       "      <td>0.591330</td>\n",
       "    </tr>\n",
       "  </tbody>\n",
       "</table>\n",
       "</div>"
      ],
      "text/plain": [
       "                                               model  \\\n",
       "3  VotingClassifier(estimators=[('tree',\\n       ...   \n",
       "2  (DecisionTreeClassifier(max_depth=2, random_st...   \n",
       "0                                                 nb   \n",
       "1  (DecisionTreeClassifier(max_depth=20, max_feat...   \n",
       "\n",
       "                                          parameters      test  \n",
       "3  {'ada__n_estimators': 50, 'tree__max_depth': 1...  0.549035  \n",
       "2  {'base_estimator__max_depth': 2, 'learning_rat...  0.589215  \n",
       "0                                               None  0.590801  \n",
       "1             {'max_depth': 20, 'n_estimators': 100}  0.591330  "
      ]
     },
     "execution_count": 60,
     "metadata": {},
     "output_type": "execute_result"
    }
   ],
   "source": [
    "results.sort_values(by='test')[['model','parameters','test']]"
   ]
  },
  {
   "cell_type": "code",
   "execution_count": 61,
   "id": "eee8c594",
   "metadata": {
    "scrolled": true
   },
   "outputs": [
    {
     "name": "stdout",
     "output_type": "stream",
     "text": [
      "nb\n",
      "0.5908009516256939\n",
      "============\n",
      "RandomForestClassifier(max_depth=20)\n",
      "0.591329632566746\n",
      "============\n",
      "AdaBoostClassifier(base_estimator=DecisionTreeClassifier(max_depth=2),\n",
      "                   n_estimators=100)\n",
      "0.5892149088025377\n",
      "============\n",
      "VotingClassifier(estimators=[('tree',\n",
      "                              RandomForestClassifier(max_depth=1,\n",
      "                                                     n_estimators=50)),\n",
      "                             ('ada',\n",
      "                              AdaBoostClassifier(base_estimator=DecisionTreeClassifier()))])\n",
      "0.54903515728258\n",
      "============\n"
     ]
    }
   ],
   "source": [
    "for x,y in zip(results.model,results.test):\n",
    "    print(x)\n",
    "    print(y)\n",
    "    print('='*12)"
   ]
  },
  {
   "cell_type": "code",
   "execution_count": 62,
   "id": "601c0a5e",
   "metadata": {
    "scrolled": true
   },
   "outputs": [
    {
     "data": {
      "text/html": [
       "<div>\n",
       "<style scoped>\n",
       "    .dataframe tbody tr th:only-of-type {\n",
       "        vertical-align: middle;\n",
       "    }\n",
       "\n",
       "    .dataframe tbody tr th {\n",
       "        vertical-align: top;\n",
       "    }\n",
       "\n",
       "    .dataframe thead th {\n",
       "        text-align: right;\n",
       "    }\n",
       "</style>\n",
       "<table border=\"1\" class=\"dataframe\">\n",
       "  <thead>\n",
       "    <tr style=\"text-align: right;\">\n",
       "      <th></th>\n",
       "      <th>model</th>\n",
       "      <th>parameters</th>\n",
       "      <th>train</th>\n",
       "      <th>test</th>\n",
       "    </tr>\n",
       "  </thead>\n",
       "  <tbody>\n",
       "    <tr>\n",
       "      <th>0</th>\n",
       "      <td>nb</td>\n",
       "      <td>None</td>\n",
       "      <td>0.637173</td>\n",
       "      <td>0.590801</td>\n",
       "    </tr>\n",
       "    <tr>\n",
       "      <th>1</th>\n",
       "      <td>(DecisionTreeClassifier(max_depth=20, max_feat...</td>\n",
       "      <td>{'max_depth': 20, 'n_estimators': 100}</td>\n",
       "      <td>0.682383</td>\n",
       "      <td>0.591330</td>\n",
       "    </tr>\n",
       "    <tr>\n",
       "      <th>2</th>\n",
       "      <td>(DecisionTreeClassifier(max_depth=2, random_st...</td>\n",
       "      <td>{'base_estimator__max_depth': 2, 'learning_rat...</td>\n",
       "      <td>0.670486</td>\n",
       "      <td>0.589215</td>\n",
       "    </tr>\n",
       "    <tr>\n",
       "      <th>3</th>\n",
       "      <td>VotingClassifier(estimators=[('tree',\\n       ...</td>\n",
       "      <td>{'ada__n_estimators': 50, 'tree__max_depth': 1...</td>\n",
       "      <td>0.617873</td>\n",
       "      <td>0.549035</td>\n",
       "    </tr>\n",
       "  </tbody>\n",
       "</table>\n",
       "</div>"
      ],
      "text/plain": [
       "                                               model  \\\n",
       "0                                                 nb   \n",
       "1  (DecisionTreeClassifier(max_depth=20, max_feat...   \n",
       "2  (DecisionTreeClassifier(max_depth=2, random_st...   \n",
       "3  VotingClassifier(estimators=[('tree',\\n       ...   \n",
       "\n",
       "                                          parameters     train      test  \n",
       "0                                               None  0.637173  0.590801  \n",
       "1             {'max_depth': 20, 'n_estimators': 100}  0.682383  0.591330  \n",
       "2  {'base_estimator__max_depth': 2, 'learning_rat...  0.670486  0.589215  \n",
       "3  {'ada__n_estimators': 50, 'tree__max_depth': 1...  0.617873  0.549035  "
      ]
     },
     "execution_count": 62,
     "metadata": {},
     "output_type": "execute_result"
    }
   ],
   "source": [
    "results"
   ]
  },
  {
   "cell_type": "code",
   "execution_count": 63,
   "id": "da2e912c",
   "metadata": {},
   "outputs": [],
   "source": [
    "results['vectorizer'] = 'TfidfVectorizer'"
   ]
  },
  {
   "cell_type": "code",
   "execution_count": 64,
   "id": "462749a2",
   "metadata": {},
   "outputs": [],
   "source": [
    "results.to_csv('./results/code3_results.csv',index_label=False)"
   ]
  },
  {
   "cell_type": "markdown",
   "id": "0065d3ee",
   "metadata": {},
   "source": [
    "TF-IDF and RandomForestClassifier with  \n",
    "max_depth: 5 and n_estimators: 200  \n",
    "seems to be the best classifier out of those tested here."
   ]
  },
  {
   "cell_type": "code",
   "execution_count": 2,
   "id": "f93b8f9b",
   "metadata": {
    "scrolled": true
   },
   "outputs": [
    {
     "data": {
      "text/html": [
       "<div>\n",
       "<style scoped>\n",
       "    .dataframe tbody tr th:only-of-type {\n",
       "        vertical-align: middle;\n",
       "    }\n",
       "\n",
       "    .dataframe tbody tr th {\n",
       "        vertical-align: top;\n",
       "    }\n",
       "\n",
       "    .dataframe thead th {\n",
       "        text-align: right;\n",
       "    }\n",
       "</style>\n",
       "<table border=\"1\" class=\"dataframe\">\n",
       "  <thead>\n",
       "    <tr style=\"text-align: right;\">\n",
       "      <th></th>\n",
       "      <th>Unnamed: 0</th>\n",
       "      <th>model</th>\n",
       "      <th>parameters</th>\n",
       "      <th>train</th>\n",
       "      <th>test</th>\n",
       "      <th>vectorizer</th>\n",
       "    </tr>\n",
       "  </thead>\n",
       "  <tbody>\n",
       "    <tr>\n",
       "      <th>0</th>\n",
       "      <td>0</td>\n",
       "      <td>nb</td>\n",
       "      <td>NaN</td>\n",
       "      <td>0.637173</td>\n",
       "      <td>0.590801</td>\n",
       "      <td>TfidfVectorizer</td>\n",
       "    </tr>\n",
       "    <tr>\n",
       "      <th>1</th>\n",
       "      <td>1</td>\n",
       "      <td>RandomForestClassifier(max_depth=20)</td>\n",
       "      <td>{'max_depth': 20, 'n_estimators': 100}</td>\n",
       "      <td>0.682383</td>\n",
       "      <td>0.591330</td>\n",
       "      <td>TfidfVectorizer</td>\n",
       "    </tr>\n",
       "    <tr>\n",
       "      <th>2</th>\n",
       "      <td>2</td>\n",
       "      <td>AdaBoostClassifier(base_estimator=DecisionTree...</td>\n",
       "      <td>{'base_estimator__max_depth': 2, 'learning_rat...</td>\n",
       "      <td>0.670486</td>\n",
       "      <td>0.589215</td>\n",
       "      <td>TfidfVectorizer</td>\n",
       "    </tr>\n",
       "    <tr>\n",
       "      <th>3</th>\n",
       "      <td>3</td>\n",
       "      <td>VotingClassifier(estimators=[('tree',\\n       ...</td>\n",
       "      <td>{'ada__n_estimators': 50, 'tree__max_depth': 1...</td>\n",
       "      <td>0.617873</td>\n",
       "      <td>0.549035</td>\n",
       "      <td>TfidfVectorizer</td>\n",
       "    </tr>\n",
       "  </tbody>\n",
       "</table>\n",
       "</div>"
      ],
      "text/plain": [
       "   Unnamed: 0                                              model  \\\n",
       "0           0                                                 nb   \n",
       "1           1               RandomForestClassifier(max_depth=20)   \n",
       "2           2  AdaBoostClassifier(base_estimator=DecisionTree...   \n",
       "3           3  VotingClassifier(estimators=[('tree',\\n       ...   \n",
       "\n",
       "                                          parameters     train      test  \\\n",
       "0                                                NaN  0.637173  0.590801   \n",
       "1             {'max_depth': 20, 'n_estimators': 100}  0.682383  0.591330   \n",
       "2  {'base_estimator__max_depth': 2, 'learning_rat...  0.670486  0.589215   \n",
       "3  {'ada__n_estimators': 50, 'tree__max_depth': 1...  0.617873  0.549035   \n",
       "\n",
       "        vectorizer  \n",
       "0  TfidfVectorizer  \n",
       "1  TfidfVectorizer  \n",
       "2  TfidfVectorizer  \n",
       "3  TfidfVectorizer  "
      ]
     },
     "execution_count": 2,
     "metadata": {},
     "output_type": "execute_result"
    }
   ],
   "source": [
    "pd.read_csv('code3_results.csv')"
   ]
  },
  {
   "cell_type": "markdown",
   "id": "215b647d",
   "metadata": {},
   "source": [
    "countVectoriser with VotingClassifier(estimators=[('tree',\n",
    "                              RandomForestClassifier(max_depth=5,\n",
    "                                                     n_estimators=50)),\n",
    "                             ('ada',\n",
    "                              AdaBoostClassifier(base_estimator=DecisionTreeClassifier(),\n",
    "                                                 n_estimators=30))])) socre = 0.594237 is better than TF-IDF based on gridsearchCV results with Random Forest"
   ]
  }
 ],
 "metadata": {
  "kernelspec": {
   "display_name": "Python 3",
   "language": "python",
   "name": "python3"
  },
  "language_info": {
   "codemirror_mode": {
    "name": "ipython",
    "version": 3
   },
   "file_extension": ".py",
   "mimetype": "text/x-python",
   "name": "python",
   "nbconvert_exporter": "python",
   "pygments_lexer": "ipython3",
   "version": "3.8.8"
  }
 },
 "nbformat": 4,
 "nbformat_minor": 5
}
