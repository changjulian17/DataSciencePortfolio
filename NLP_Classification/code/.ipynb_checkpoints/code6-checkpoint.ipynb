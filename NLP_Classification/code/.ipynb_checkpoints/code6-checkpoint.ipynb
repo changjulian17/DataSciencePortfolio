{
 "cells": [
  {
   "cell_type": "markdown",
   "id": "cd83a9a2",
   "metadata": {},
   "source": [
    "example executive summary [here](https://www.proposify.biz/blog/executive-summary)"
   ]
  },
  {
   "cell_type": "markdown",
   "id": "55756dac",
   "metadata": {},
   "source": [
    "# Executive Summary\n",
    "\n",
    "- In Natural Language Processing, the target is for computers to correctly interpret natural language e.g. an provide meaningful interpretation. In the case of this project the power of machine learning to classify phrases and sentences will be examined.\n",
    "- Objective is to :  \n",
    "\n",
    "    1. Determine effectiveness of python models at NLP and classification of socially defined online communities  \n",
    "    2. To decide if there may be a redundancy in having subreddits   \n",
    "\n",
    "\n",
    "- Data is extracted from the website [Reddit.com](https://www.reddit.com). Collecting the titles from the subreddits as documents.\n",
    "- Two vectorisers `CountVectorizer` and `TfidfVectorizer` are considered for the model to analyse.\n",
    "- Machine Learning Classifiers (`Naive Bayes`, `Random Forest`, `Adaboost`, `VotingClassifier`, `SVM` and `Logistic Regression`) will be considered to determine if a doc belongs to either subreddit.\n",
    "- Data will be split into ***train*** and **test** sample. Models are trained on the ***train*** sample and used to predict the ***test*** sample. The best model is determined by **difference of train-test scores** because of the high overfitting of the models.\n",
    "\n",
    "\n",
    "## Problem Statement\n",
    "\n",
    "- The Goal of this project is to use python code classifiers to determine if a subreddit title belongs to \"stocks\" or \"StockMarket\"\n",
    "- Find the best model given the following tools\n",
    "    vectorisers: `CountVectorizer`, `TfidfVectorizer`  \n",
    "    Estimators: `Naive Bayes`, `Random Forest`, `Adaboost`, `VotingClassifier`, `SVM`, `Logistic Regression`\n",
    "    \n",
    "## Assumptions\n",
    "1. All information needed for classification resides in the title which is transformed to lower-cased words. \n",
    "2. Lemmatising and Stemming was another stepped that was avoided during this project due to the short-lived nature of the posts, this so most of the posts will be current, the presence of past tense may be useful in classifying types of posts on each side. \n",
    "\n",
    "_Fixed Variables_\n",
    "-  vectorisers - max_features = 500, stop_words = 'english'"
   ]
  },
  {
   "cell_type": "code",
   "execution_count": 3,
   "id": "0b31b9e5",
   "metadata": {},
   "outputs": [],
   "source": [
    "import requests\n",
    "import pandas as pd\n",
    "import numpy as np\n",
    "import time\n",
    "import seaborn as sns\n",
    "import matplotlib.pyplot as plt\n",
    "\n",
    "# Import train test split\n",
    "from sklearn.model_selection import cross_val_score, train_test_split, GridSearchCV\n",
    "\n",
    "# Import CountVectorizer.\n",
    "from sklearn.feature_extraction.text import CountVectorizer\n",
    "\n",
    "from sklearn.model_selection import GridSearchCV\n",
    "\n",
    "#import confusion matrix fxn\n",
    "from sklearn.metrics import confusion_matrix, plot_roc_curve, plot_confusion_matrix"
   ]
  },
  {
   "cell_type": "markdown",
   "id": "0332beec",
   "metadata": {},
   "source": [
    "## 0. Extracting data from Subreddits\n",
    "After comparing results of 500 and 8000 data points per subreddit revealed an improvement of about 5% in score leads to this project using ~1500 - 1600 datapoints.\n",
    "\n",
    "*runtime is long, skip to end of 1.1 to import dataset for faster results*"
   ]
  },
  {
   "cell_type": "code",
   "execution_count": 59,
   "id": "74df68e4",
   "metadata": {},
   "outputs": [],
   "source": [
    "# create a function to take subreddit and desired size of corpus\n",
    "def df_subreddit(subreddit, size):\n",
    "    url = 'https://api.pushshift.io/reddit/search/submission'\n",
    "    df = []\n",
    "    params = {\n",
    "            'size': 100,\n",
    "            'subreddit': subreddit\n",
    "        }\n",
    "    data = requests.get(url,params).json()\n",
    "    df.append(pd.DataFrame(data['data']))\n",
    "\n",
    "    for i in range((size-1)//100):\n",
    "        params['before'] = min(df[-1]['created_utc'])\n",
    "        data = requests.get(url,params).json()\n",
    "        df.append(pd.DataFrame(data['data']))\n",
    "        \n",
    "    df = pd.concat(df,ignore_index=True)\n",
    "    \n",
    "    return df"
   ]
  },
  {
   "cell_type": "code",
   "execution_count": 60,
   "id": "eeba3666",
   "metadata": {},
   "outputs": [
    {
     "name": "stdout",
     "output_type": "stream",
     "text": [
      "Elapsed time to compute the importances: 161.831 seconds\n"
     ]
    }
   ],
   "source": [
    "# collect multiple api pulls for \"stocks\" subreddit\n",
    "start_time = time.time()\n",
    "\n",
    "df_stocks = df_subreddit('stocks', 8000)\n",
    "\n",
    "elapsed_time = time.time() - start_time\n",
    "print(f\"Elapsed time to compute the importances: \"\n",
    "      f\"{elapsed_time:.3f} seconds\")"
   ]
  },
  {
   "cell_type": "code",
   "execution_count": 146,
   "id": "8b08daab",
   "metadata": {
    "scrolled": true
   },
   "outputs": [
    {
     "name": "stdout",
     "output_type": "stream",
     "text": [
      "Elapsed time to compute the importances: 162.682 seconds\n"
     ]
    }
   ],
   "source": [
    "# collect multiple api pulls for \"StockMarket\" subreddit\n",
    "start_time = time.time()\n",
    "\n",
    "df_stockm = df_subreddit('StockMarket', 8000)\n",
    "\n",
    "elapsed_time = time.time() - start_time\n",
    "print(f\"Elapsed time to compute the importances: \"\n",
    "      f\"{elapsed_time:.3f} seconds\")"
   ]
  },
  {
   "cell_type": "markdown",
   "id": "8f828308",
   "metadata": {},
   "source": [
    "# 1. Create DataFrame"
   ]
  },
  {
   "cell_type": "markdown",
   "id": "6fe67ca2",
   "metadata": {},
   "source": [
    "## 1.1 Engineer target feature to turn `source_feature` into a 1/0 column, where 1 indicates `stocks` subreddit.\n",
    "\n",
    "- combine both subreddits\n",
    "- instead of managing missing data we target the 'title'. also self text is limited due to the high number of [removed] phrases implying there may have been many moderator removed posts\n",
    "- remove duplicates for only unique phrases"
   ]
  },
  {
   "cell_type": "code",
   "execution_count": 147,
   "id": "d5eb88da",
   "metadata": {},
   "outputs": [],
   "source": [
    "# create a combined df using UNIQUE title and if stocks = 1 StockMarket = 0\n",
    "# ensure they are all unique values\n",
    "d1 = {'title' : df_stocks['title'].unique(), 'stocks' : 1}\n",
    "d2 = {'title' : df_stockm['title'].unique(), 'stocks' : 0}\n",
    "\n",
    "df = pd.concat([pd.DataFrame(data=d1),pd.DataFrame(data=d2)],ignore_index=True)"
   ]
  },
  {
   "cell_type": "code",
   "execution_count": 148,
   "id": "54efad33",
   "metadata": {
    "scrolled": true
   },
   "outputs": [
    {
     "name": "stdout",
     "output_type": "stream",
     "text": [
      "Proportion of each class is printed below to ensure there is even data distribution\n",
      "1    0.50066\n",
      "0    0.49934\n",
      "Name: stocks, dtype: float64\n"
     ]
    }
   ],
   "source": [
    "print('Proportion of each class is printed below to ensure there is even data distribution')\n",
    "print(df['stocks'].value_counts(normalize=True))"
   ]
  },
  {
   "cell_type": "code",
   "execution_count": 149,
   "id": "ab302a89",
   "metadata": {},
   "outputs": [],
   "source": [
    "# create csv for future use\n",
    "df.to_csv('data.csv',index=False)"
   ]
  },
  {
   "cell_type": "code",
   "execution_count": 4,
   "id": "4272a496",
   "metadata": {},
   "outputs": [],
   "source": [
    "df = pd.read_csv('data.csv')"
   ]
  },
  {
   "cell_type": "markdown",
   "id": "7bad6e35",
   "metadata": {},
   "source": [
    "## 1.2 EDA\n",
    "\n",
    "### 1.2.1 Word Count\n",
    "There is some information about the lengt that can give away the reddit length. but for this problem we will focus on the content and see the strength of the classifiers"
   ]
  },
  {
   "cell_type": "code",
   "execution_count": 151,
   "id": "72daccdf",
   "metadata": {},
   "outputs": [],
   "source": [
    "eda = df\n",
    "eda['len'] = df['title'].apply(lambda x : len(x))"
   ]
  },
  {
   "cell_type": "code",
   "execution_count": 152,
   "id": "1495ee2a",
   "metadata": {},
   "outputs": [
    {
     "data": {
      "image/png": "[encoded data removed]",
      "text/plain": [
       "<Figure size 405.725x360 with 1 Axes>"
      ]
     },
     "metadata": {},
     "output_type": "display_data"
    }
   ],
   "source": [
    "sns.displot(eda, x=\"len\", hue = 'stocks')\n",
    "\n",
    "plt.axvline(df['len'].mean(), 0,df['len'].mean(),color='yellow')\n",
    "plt.title(\"Histogram of total characters\");"
   ]
  },
  {
   "cell_type": "markdown",
   "id": "753c3a16",
   "metadata": {},
   "source": [
    "### 1.2.2 Word Cloud\n",
    "\n",
    "The words in both are quite similar so it is suspected that how the words may be strung or specific trigger words can identify differing subreddits"
   ]
  },
  {
   "cell_type": "code",
   "execution_count": 83,
   "id": "316ec23c",
   "metadata": {},
   "outputs": [],
   "source": [
    "# !pip install wordcloud"
   ]
  },
  {
   "cell_type": "code",
   "execution_count": 84,
   "id": "cb0f2f2b",
   "metadata": {
    "scrolled": true
   },
   "outputs": [],
   "source": [
    "from wordcloud import WordCloud, STOPWORDS, ImageColorGenerator"
   ]
  },
  {
   "cell_type": "code",
   "execution_count": 85,
   "id": "713770f8",
   "metadata": {},
   "outputs": [],
   "source": [
    "corpus_stocks = df.loc[df['stocks']==1]['title']\n",
    "corpus_stockm = df.loc[df['stocks']==0]['title']"
   ]
  },
  {
   "cell_type": "code",
   "execution_count": 86,
   "id": "a074ee80",
   "metadata": {},
   "outputs": [
    {
     "name": "stdout",
     "output_type": "stream",
     "text": [
      "['Shares on loan vs Short Interest - e.g.: Visa'\n",
      " 'I just lost all my money on NVDA, what happened?' 'ARLP will skyrocket']\n"
     ]
    },
    {
     "data": {
      "text/plain": [
       "45"
      ]
     },
     "execution_count": 86,
     "metadata": {},
     "output_type": "execute_result"
    }
   ],
   "source": [
    "sample = corpus_stocks.sample(3).values\n",
    "print(sample)\n",
    "len(sample[0])"
   ]
  },
  {
   "cell_type": "code",
   "execution_count": 87,
   "id": "e518b4bf",
   "metadata": {},
   "outputs": [
    {
     "name": "stdout",
     "output_type": "stream",
     "text": [
      "['Right after the market starts to pullback a bit they show up.'\n",
      " 'why did AXTI drop?' 'Trey’s Trades Recommends $VIH']\n"
     ]
    },
    {
     "data": {
      "text/plain": [
       "61"
      ]
     },
     "execution_count": 87,
     "metadata": {},
     "output_type": "execute_result"
    }
   ],
   "source": [
    "sample = corpus_stockm.sample(3).values\n",
    "print(sample)\n",
    "len(sample[0])"
   ]
  },
  {
   "cell_type": "code",
   "execution_count": 71,
   "id": "f697ff37",
   "metadata": {},
   "outputs": [
    {
     "data": {
      "image/png": "[encoded data removed]",
      "text/plain": [
       "<Figure size 432x288 with 1 Axes>"
      ]
     },
     "metadata": {
      "needs_background": "light"
     },
     "output_type": "display_data"
    }
   ],
   "source": [
    "# Generate wordcloud for stocks subreddit\n",
    "text = ' '.join(corpus_stocks.tolist()).lower()\n",
    "wordcloud = WordCloud().generate(text)\n",
    "\n",
    "# Display the generated image:\n",
    "plt.imshow(wordcloud, interpolation='bilinear')\n",
    "plt.axis(\"off\")\n",
    "plt.show()"
   ]
  },
  {
   "cell_type": "code",
   "execution_count": 72,
   "id": "2719c0d1",
   "metadata": {
    "scrolled": false
   },
   "outputs": [
    {
     "data": {
      "image/png": "[encoded data removed]",
      "text/plain": [
       "<Figure size 432x288 with 1 Axes>"
      ]
     },
     "metadata": {
      "needs_background": "light"
     },
     "output_type": "display_data"
    }
   ],
   "source": [
    "# Generate wordcloud for StockMarket subreddit\n",
    "text = ' '.join(corpus_stockm.tolist()).lower()\n",
    "wordcloud = WordCloud(background_color=\"white\").generate(text)\n",
    "\n",
    "# Display the generated image:\n",
    "plt.imshow(wordcloud, interpolation='bilinear')\n",
    "plt.axis(\"off\")\n",
    "plt.show()"
   ]
  },
  {
   "cell_type": "markdown",
   "id": "177829e5",
   "metadata": {},
   "source": [
    "### 1.2.3 Word Frequency (TOP 20 WORDS)"
   ]
  },
  {
   "cell_type": "markdown",
   "id": "9a1272dd",
   "metadata": {},
   "source": [
    "(refer to section [3.1](#3.1-Word-Frequency-(TOP-20-WORDS)))\n",
    "There is very little difference in the top words, it is likely the model will have to determine the target classifications by considering the smaller frequency words"
   ]
  },
  {
   "cell_type": "markdown",
   "id": "47df5237",
   "metadata": {},
   "source": [
    "## 2. Split data into `X` and `y`"
   ]
  },
  {
   "cell_type": "code",
   "execution_count": 73,
   "id": "36b3801d",
   "metadata": {},
   "outputs": [
    {
     "data": {
      "text/plain": [
       "15130"
      ]
     },
     "execution_count": 73,
     "metadata": {},
     "output_type": "execute_result"
    }
   ],
   "source": [
    "len(df)"
   ]
  },
  {
   "cell_type": "code",
   "execution_count": 49,
   "id": "0775ec73",
   "metadata": {},
   "outputs": [],
   "source": [
    "X = df[['title']]\n",
    "y = df['stocks']"
   ]
  },
  {
   "cell_type": "markdown",
   "id": "44740942",
   "metadata": {},
   "source": [
    "## 3. Split data into training and testing sets"
   ]
  },
  {
   "cell_type": "code",
   "execution_count": 23,
   "id": "d32f5d89",
   "metadata": {},
   "outputs": [],
   "source": [
    "X_train, X_test, y_train, y_test = train_test_split(X,\n",
    "                                                    y,\n",
    "                                                    test_size=0.25,\n",
    "                                                    random_state=42,\n",
    "                                                    stratify=y)"
   ]
  },
  {
   "cell_type": "code",
   "execution_count": 24,
   "id": "edd0abec",
   "metadata": {},
   "outputs": [],
   "source": [
    "# Instantiate our CountVectorizer.\n",
    "cvec = CountVectorizer(max_features = 500, stop_words = 'english')\n",
    "# Fit our CountVectorizer on the training data and transform training data.\n",
    "X_train_cvec = pd.DataFrame(cvec.fit_transform(X_train['title']).todense(),\n",
    "                          columns = cvec.get_feature_names())\n",
    "# Transform our testing data with the already-fit CountVectorizer.\n",
    "X_test_cvec = pd.DataFrame(cvec.transform(X_test['title']).todense(),\n",
    "                         columns = cvec.get_feature_names())"
   ]
  },
  {
   "cell_type": "markdown",
   "id": "4d738e32",
   "metadata": {},
   "source": [
    "### 3.1 Word Frequency (TOP 20 WORDS)"
   ]
  },
  {
   "cell_type": "code",
   "execution_count": 88,
   "id": "a283315e",
   "metadata": {
    "scrolled": false
   },
   "outputs": [
    {
     "data": {
      "image/png": "[encoded data removed]",
      "text/plain": [
       "<Figure size 432x288 with 1 Axes>"
      ]
     },
     "metadata": {
      "needs_background": "light"
     },
     "output_type": "display_data"
    }
   ],
   "source": [
    "stocks_top_words = pd.DataFrame(cvec.fit_transform(corpus_stocks).todense(),\n",
    "                          columns = cvec.get_feature_names())\n",
    "\n",
    "fig, ax = plt.subplots()\n",
    "stocks_top_words.sum().sort_values().tail(15).plot.barh(ax=ax, color='green')\n",
    "ax.set_title(\"Top 15 words in 'stocks' subreddit\")\n",
    "plt.xlabel('Frequency', fontsize=10)\n",
    "plt.show();"
   ]
  },
  {
   "cell_type": "code",
   "execution_count": 89,
   "id": "4b173375",
   "metadata": {
    "scrolled": true
   },
   "outputs": [
    {
     "data": {
      "image/png": "[encoded data removed]",
      "text/plain": [
       "<Figure size 432x288 with 1 Axes>"
      ]
     },
     "metadata": {
      "needs_background": "light"
     },
     "output_type": "display_data"
    }
   ],
   "source": [
    "stockm_top_words = pd.DataFrame(cvec.fit_transform(corpus_stockm).todense(),\n",
    "                          columns = cvec.get_feature_names())\n",
    "\n",
    "fig, ax = plt.subplots()\n",
    "stockm_top_words.sum().sort_values().tail(15).plot.barh(ax=ax, color='limegreen')\n",
    "ax.set_title(\"Top 15 words in 'StockMarket' subreddit\")\n",
    "plt.xlabel('Frequency', fontsize=10)\n",
    "plt.show();"
   ]
  },
  {
   "cell_type": "markdown",
   "id": "a136d02d",
   "metadata": {},
   "source": [
    "## 4. Fit models Turn our text into features\n",
    "\n",
    "run time of model training is long, skip to 5.1 for model comparisons and best model training for faster review"
   ]
  },
  {
   "cell_type": "code",
   "execution_count": 90,
   "id": "52b380d4",
   "metadata": {},
   "outputs": [
    {
     "name": "stdout",
     "output_type": "stream",
     "text": [
      "Baseline test score: 0.50\n"
     ]
    }
   ],
   "source": [
    "print(f'Baseline test score: {y_train.mean():.2f}')"
   ]
  },
  {
   "cell_type": "markdown",
   "id": "73aad612",
   "metadata": {},
   "source": [
    "#### 4.0 Turn our text into features"
   ]
  },
  {
   "cell_type": "code",
   "execution_count": 30,
   "id": "f54acb91",
   "metadata": {},
   "outputs": [],
   "source": [
    "results = pd.DataFrame(columns=['model','parameters','train','test'])"
   ]
  },
  {
   "cell_type": "markdown",
   "id": "9c74af51",
   "metadata": {},
   "source": [
    "#### 4.1 Fit a Naive Bayes model!"
   ]
  },
  {
   "cell_type": "code",
   "execution_count": 31,
   "id": "34e0e477",
   "metadata": {},
   "outputs": [],
   "source": [
    "from sklearn.naive_bayes import MultinomialNB"
   ]
  },
  {
   "cell_type": "code",
   "execution_count": 32,
   "id": "a78c2742",
   "metadata": {},
   "outputs": [
    {
     "data": {
      "text/plain": [
       "0.6244276153575202"
      ]
     },
     "execution_count": 32,
     "metadata": {},
     "output_type": "execute_result"
    }
   ],
   "source": [
    "nb = MultinomialNB()\n",
    "model = nb.fit(X_train_cvec, y_train)\n",
    "predictions = model.predict(X_test_cvec)\n",
    "model.score(X_train_cvec, y_train)"
   ]
  },
  {
   "cell_type": "code",
   "execution_count": 33,
   "id": "24a0c1ce",
   "metadata": {},
   "outputs": [],
   "source": [
    "new_model = pd.DataFrame([['nb',None,model.score(X_train_cvec, y_train),model.score(X_test_cvec, y_test)]],columns=results.columns.tolist())\n",
    "results = results.append(new_model)"
   ]
  },
  {
   "cell_type": "markdown",
   "id": "278f4e36",
   "metadata": {},
   "source": [
    "#### 4.2 Fit a Random Forest model!"
   ]
  },
  {
   "cell_type": "code",
   "execution_count": 20,
   "id": "790310c3",
   "metadata": {},
   "outputs": [],
   "source": [
    "from sklearn.ensemble import RandomForestClassifier, ExtraTreesClassifier\n",
    "np.random.seed(42)"
   ]
  },
  {
   "cell_type": "code",
   "execution_count": 35,
   "id": "9ccff1de",
   "metadata": {
    "scrolled": false
   },
   "outputs": [
    {
     "name": "stdout",
     "output_type": "stream",
     "text": [
      "rf: 0.5804855451368608\n",
      "ef: 0.5763467017817853\n"
     ]
    }
   ],
   "source": [
    "rf = RandomForestClassifier(n_estimators=10, random_state=42)\n",
    "et = ExtraTreesClassifier(n_estimators=10,random_state=42)\n",
    "print(f'rf: {cross_val_score(rf, X_train_cvec, y_train, cv=3).mean()}')\n",
    "print(f'ef: {cross_val_score(et, X_train_cvec, y_train, cv=3).mean()}')"
   ]
  },
  {
   "cell_type": "code",
   "execution_count": 36,
   "id": "e73c6111",
   "metadata": {},
   "outputs": [
    {
     "name": "stdout",
     "output_type": "stream",
     "text": [
      "0.5907882067836344\n"
     ]
    },
    {
     "data": {
      "text/plain": [
       "{'max_depth': 5, 'n_estimators': 200}"
      ]
     },
     "execution_count": 36,
     "metadata": {},
     "output_type": "execute_result"
    }
   ],
   "source": [
    "rf_params = {\n",
    "    'n_estimators': [100, 200],\n",
    "    'max_depth': [1, 5],\n",
    "}\n",
    "gs = GridSearchCV(rf, param_grid=rf_params, cv=5)\n",
    "gs.fit(X_train_cvec, y_train)\n",
    "print(gs.best_score_)\n",
    "gs.best_params_"
   ]
  },
  {
   "cell_type": "code",
   "execution_count": 37,
   "id": "2004b5d7",
   "metadata": {
    "scrolled": true
   },
   "outputs": [
    {
     "name": "stdout",
     "output_type": "stream",
     "text": [
      "0.615797816132441\n",
      "0.6014263074484945\n"
     ]
    }
   ],
   "source": [
    "print(gs.score(X_train_cvec, y_train))\n",
    "print(gs.score(X_test_cvec, y_test))"
   ]
  },
  {
   "cell_type": "code",
   "execution_count": 38,
   "id": "bb3b03ba",
   "metadata": {},
   "outputs": [],
   "source": [
    "new_model = pd.DataFrame([[gs.best_estimator_,gs.best_params_,gs.score(X_train_cvec, y_train),gs.score(X_test_cvec, y_test)]],columns=results.columns.tolist())\n",
    "results = results.append(new_model)"
   ]
  },
  {
   "cell_type": "markdown",
   "id": "5728eaf5",
   "metadata": {},
   "source": [
    "#### 4.3 Fit a Ada boost model!"
   ]
  },
  {
   "cell_type": "code",
   "execution_count": 39,
   "id": "6278f2f4",
   "metadata": {},
   "outputs": [],
   "source": [
    "from sklearn.ensemble import AdaBoostClassifier\n",
    "from sklearn.tree import DecisionTreeClassifier"
   ]
  },
  {
   "cell_type": "code",
   "execution_count": 40,
   "id": "3300b165",
   "metadata": {
    "scrolled": true
   },
   "outputs": [
    {
     "name": "stdout",
     "output_type": "stream",
     "text": [
      "Elapsed time to compute the importances: 668.281 seconds\n"
     ]
    }
   ],
   "source": [
    "# timer\n",
    "start_time = time.time()\n",
    "\n",
    "ada = AdaBoostClassifier(base_estimator=DecisionTreeClassifier())\n",
    "ada_params = {\n",
    "    'n_estimators': [100,200],\n",
    "    'base_estimator__max_depth': [1,2],\n",
    "    'learning_rate': [.9, 1.]\n",
    "}\n",
    "gs = GridSearchCV(ada, param_grid=ada_params, cv=3)\n",
    "gs.fit(X_train_cvec, y_train)\n",
    "\n",
    "# timer\n",
    "elapsed_time = time.time() - start_time\n",
    "print(f\"Elapsed time to compute the importances: \"\n",
    "      f\"{elapsed_time:.3f} seconds\")"
   ]
  },
  {
   "cell_type": "code",
   "execution_count": 41,
   "id": "21c9a832",
   "metadata": {},
   "outputs": [],
   "source": [
    "new_model = pd.DataFrame([[gs.best_estimator_,gs.best_params_,gs.score(X_train_cvec, y_train),gs.score(X_test_cvec, y_test)]],columns=results.columns.tolist())\n",
    "results = results.append(new_model)"
   ]
  },
  {
   "cell_type": "markdown",
   "id": "448c48b7",
   "metadata": {},
   "source": [
    "#### 4.4 Fit a Vote Classifier model!"
   ]
  },
  {
   "cell_type": "code",
   "execution_count": 42,
   "id": "64346b93",
   "metadata": {},
   "outputs": [],
   "source": [
    "from sklearn.ensemble import VotingClassifier"
   ]
  },
  {
   "cell_type": "code",
   "execution_count": 43,
   "id": "e590627a",
   "metadata": {},
   "outputs": [
    {
     "name": "stdout",
     "output_type": "stream",
     "text": [
      "Elapsed time to compute the importances: 31.9 seconds\n"
     ]
    }
   ],
   "source": [
    "vote = VotingClassifier([\n",
    "    ('tree', RandomForestClassifier()),\n",
    "    ('ada', AdaBoostClassifier(base_estimator=DecisionTreeClassifier()))\n",
    "])\n",
    "vote_params = {\n",
    "    'ada__n_estimators': [30,50],\n",
    "    'tree__n_estimators': [50,75],\n",
    "    'tree__max_depth': [1, 5],\n",
    "    'voting': ['hard', 'soft']\n",
    "}\n",
    "\n",
    "# timer\n",
    "start_time = time.time()\n",
    "\n",
    "gs = GridSearchCV(vote, param_grid=vote_params, cv=3)\n",
    "gs.fit(X_train_cvec, y_train)\n",
    "\n",
    "# timer\n",
    "elapsed_time = time.time() - start_time\n",
    "print(f\"Elapsed time to compute the importances: \"\n",
    "      f\"{elapsed_time/60:.1f} seconds\")"
   ]
  },
  {
   "cell_type": "code",
   "execution_count": 44,
   "id": "47cd8571",
   "metadata": {},
   "outputs": [],
   "source": [
    "new_model = pd.DataFrame([[gs.best_estimator_,gs.best_params_,gs.score(X_train_cvec, y_train),gs.score(X_test_cvec, y_test)]],columns=results.columns.tolist())\n",
    "results = results.append(new_model)"
   ]
  },
  {
   "cell_type": "code",
   "execution_count": 45,
   "id": "09e93176",
   "metadata": {},
   "outputs": [],
   "source": [
    "results['vectorizer'] = 'CountVectorizer'"
   ]
  },
  {
   "cell_type": "code",
   "execution_count": 46,
   "id": "f5264955",
   "metadata": {},
   "outputs": [],
   "source": [
    "results.to_csv('../results/code6_results.csv')"
   ]
  },
  {
   "cell_type": "markdown",
   "id": "232ef589",
   "metadata": {},
   "source": [
    "## 4.x Tokenizer/Vectorizer and Hyperparameter trails\n",
    "\n",
    "While starting with `code1` already included `GridSearch` of some models there are other models and hyperparamters are tested. `code1`,`code2`,`code3`,`code4`,`code5`,`code6` iterations are based on token/vectorizer and hyperparamtetes are trailed. While you can review them in the folder all of their results will be reviewed in this notebook `code1`.\n",
    "\n",
    "##### [code1.ipynb](code1.ipynb)\n",
    "Finding testing 4 models. Tokenized and vectorized with with CountVectorizer  \n",
    "- Tokenizer  \n",
    "    CountVectorizer\n",
    "- Model  \n",
    "    4.1 Naive Bayes   \n",
    "    4.2 Random Forest (GridSearch)  \n",
    "    4.3 Adaboost(Decision Tree)  \n",
    "    4.4 Voting Classifier (RandomForest, AdaBoost(Decision Tree))\n",
    "    \n",
    "*Random Forest (RF) and Voting Classifier is the best but since voting classifier has the exact test score as RF then we can assume that AdaBoost has little effect (Except where VotingClassifier train score > RF train score) * \n",
    "\n",
    "#### [code2.ipynb](code2.ipynb)\n",
    "Comparing results if `StockMarket` subreddit is swapped for `Paleontology`  \n",
    "(both using CountVectorizer)\n",
    "\n",
    "- Tokenizer  \n",
    "    CountVectorizer\n",
    "- Model  \n",
    "    4.1 Naive Bayes   \n",
    "    4.2 Random Forest (GridSearch)  \n",
    "    4.3 Voting Classifier (RandomForest, AdaBoost(Decision Tree))\n",
    "    \n",
    "Taking Random Forest model comparing:\n",
    "- `stocks`, `StockMarket` test score is 0.594\n",
    "- `stocks`, `Paleontology` test score is 0.870  \n",
    "\n",
    "Taking Voting Classifier model comparing:\n",
    "- `stocks`, `StockMarket` test score is 0.594\n",
    "- `stocks`, `Paleontology` test score is 0.870  \n",
    "\n",
    "\n",
    "*The types of subreddits chosen will affect the accuracy of the classifier*\n",
    "\n",
    "#### [code3.ipynb](code3.ipynb)\n",
    "Trialed TF-IDF over CountVectorizer.  \n",
    "- Tokenizer  \n",
    "    TfidfVectorizer\n",
    "- Model  \n",
    "    4.1 Naive Bayes   \n",
    "    4.2 Random Forest (GridSearch)  \n",
    "    4.3 Adaboost(Decision Tree)  \n",
    "    4.4 Voting Classifier (RandomForest, AdaBoost(Decision Tree))\n",
    "    \n",
    "*Best model found to be RF. Negligible change and slight decrease in test score.*\n",
    "\n",
    "#### [code4.ipynb](code4.ipynb)\n",
    "\n",
    "Trialed various n-grams with RF.  \n",
    "Created an iterator for ngram  \n",
    "    - (1, x), where x is 1 to 9  \n",
    "    - (2, x), where x is 2 to 6  \n",
    "    - (3, x), where x is 3 to 6   \n",
    "Collate results\n",
    "\n",
    "- Tokenizer  \n",
    "    TfidfVectorizer\n",
    "- Model  \n",
    "    4.1 Random Forest (max_depth=20, n_estimators=100) \n",
    "    \n",
    "*ngram (1,5) appears to be the best. increasing max ngram past does improve however this may be due to collinearity\n",
    "increasing min ngram does not show to improve the performance*\n",
    "    \n",
    "#### [code5.ipynb](code5.ipynb)\n",
    "Expanded code1 trials with two more models. Tokenized and vectorized with CountVectorizer\n",
    "- Tokenizer  \n",
    "    CountVectorizer (unlimited tokens ~2200 << # of rows ~1600)\n",
    "- Model  \n",
    "    4.1 Support Vector Machines    \n",
    "    4.2 Logistic Regression \n",
    "    \n",
    "*LogReg is an effective model*"
   ]
  },
  {
   "cell_type": "markdown",
   "id": "56ca3db2",
   "metadata": {},
   "source": [
    "## 5.1 Collect all results"
   ]
  },
  {
   "cell_type": "code",
   "execution_count": 5,
   "id": "0f6089d6",
   "metadata": {},
   "outputs": [],
   "source": [
    "# collecting results from .csv files\n",
    "overall_results = []\n",
    "\n",
    "for report_no in [1,3,4,5,6]:\n",
    "    overall_results.append(pd.read_csv(f'../results/code{report_no}_results.csv'))\n",
    "    \n",
    "    final_results = pd.concat(overall_results,ignore_index=True).drop(columns='Unnamed: 0').sort_values(by='test',ascending=False)"
   ]
  },
  {
   "cell_type": "code",
   "execution_count": 6,
   "id": "2126db7c",
   "metadata": {},
   "outputs": [
    {
     "data": {
      "text/html": [
       "<div>\n",
       "<style scoped>\n",
       "    .dataframe tbody tr th:only-of-type {\n",
       "        vertical-align: middle;\n",
       "    }\n",
       "\n",
       "    .dataframe tbody tr th {\n",
       "        vertical-align: top;\n",
       "    }\n",
       "\n",
       "    .dataframe thead th {\n",
       "        text-align: right;\n",
       "    }\n",
       "</style>\n",
       "<table border=\"1\" class=\"dataframe\">\n",
       "  <thead>\n",
       "    <tr style=\"text-align: right;\">\n",
       "      <th></th>\n",
       "      <th>model</th>\n",
       "      <th>parameters</th>\n",
       "      <th>train</th>\n",
       "      <th>test</th>\n",
       "      <th>vectorizer</th>\n",
       "    </tr>\n",
       "  </thead>\n",
       "  <tbody>\n",
       "    <tr>\n",
       "      <th>26</th>\n",
       "      <td>lr</td>\n",
       "      <td>{'Cs': 10, 'class_weight': None, 'cv': 5, 'dua...</td>\n",
       "      <td>0.710144</td>\n",
       "      <td>0.609305</td>\n",
       "      <td>CountVectorizer</td>\n",
       "    </tr>\n",
       "    <tr>\n",
       "      <th>0</th>\n",
       "      <td>nb</td>\n",
       "      <td>NaN</td>\n",
       "      <td>0.624428</td>\n",
       "      <td>0.605124</td>\n",
       "      <td>CountVectorizer</td>\n",
       "    </tr>\n",
       "    <tr>\n",
       "      <th>1</th>\n",
       "      <td>RandomForestClassifier(max_depth=5, n_estimato...</td>\n",
       "      <td>{'max_depth': 5, 'n_estimators': 200}</td>\n",
       "      <td>0.615798</td>\n",
       "      <td>0.601426</td>\n",
       "      <td>CountVectorizer</td>\n",
       "    </tr>\n",
       "    <tr>\n",
       "      <th>3</th>\n",
       "      <td>VotingClassifier(estimators=[('tree',\\n       ...</td>\n",
       "      <td>{'ada__n_estimators': 30, 'tree__max_depth': 5...</td>\n",
       "      <td>0.795174</td>\n",
       "      <td>0.600898</td>\n",
       "      <td>CountVectorizer</td>\n",
       "    </tr>\n",
       "    <tr>\n",
       "      <th>2</th>\n",
       "      <td>AdaBoostClassifier(base_estimator=DecisionTree...</td>\n",
       "      <td>{'base_estimator__max_depth': 1, 'learning_rat...</td>\n",
       "      <td>0.628126</td>\n",
       "      <td>0.598257</td>\n",
       "      <td>CountVectorizer</td>\n",
       "    </tr>\n",
       "  </tbody>\n",
       "</table>\n",
       "</div>"
      ],
      "text/plain": [
       "                                                model  \\\n",
       "26                                                 lr   \n",
       "0                                                  nb   \n",
       "1   RandomForestClassifier(max_depth=5, n_estimato...   \n",
       "3   VotingClassifier(estimators=[('tree',\\n       ...   \n",
       "2   AdaBoostClassifier(base_estimator=DecisionTree...   \n",
       "\n",
       "                                           parameters     train      test  \\\n",
       "26  {'Cs': 10, 'class_weight': None, 'cv': 5, 'dua...  0.710144  0.609305   \n",
       "0                                                 NaN  0.624428  0.605124   \n",
       "1               {'max_depth': 5, 'n_estimators': 200}  0.615798  0.601426   \n",
       "3   {'ada__n_estimators': 30, 'tree__max_depth': 5...  0.795174  0.600898   \n",
       "2   {'base_estimator__max_depth': 1, 'learning_rat...  0.628126  0.598257   \n",
       "\n",
       "         vectorizer  \n",
       "26  CountVectorizer  \n",
       "0   CountVectorizer  \n",
       "1   CountVectorizer  \n",
       "3   CountVectorizer  \n",
       "2   CountVectorizer  "
      ]
     },
     "execution_count": 6,
     "metadata": {},
     "output_type": "execute_result"
    }
   ],
   "source": [
    "final_results.sort_values(by='test',ascending=False).head()"
   ]
  },
  {
   "cell_type": "code",
   "execution_count": 7,
   "id": "34c901dc",
   "metadata": {},
   "outputs": [],
   "source": [
    "final_results['delta'] = (final_results.test-final_results.train)/final_results.train*100"
   ]
  },
  {
   "cell_type": "code",
   "execution_count": 8,
   "id": "c60ed20d",
   "metadata": {},
   "outputs": [
    {
     "data": {
      "text/html": [
       "<div>\n",
       "<style scoped>\n",
       "    .dataframe tbody tr th:only-of-type {\n",
       "        vertical-align: middle;\n",
       "    }\n",
       "\n",
       "    .dataframe tbody tr th {\n",
       "        vertical-align: top;\n",
       "    }\n",
       "\n",
       "    .dataframe thead th {\n",
       "        text-align: right;\n",
       "    }\n",
       "</style>\n",
       "<table border=\"1\" class=\"dataframe\">\n",
       "  <thead>\n",
       "    <tr style=\"text-align: right;\">\n",
       "      <th></th>\n",
       "      <th>model</th>\n",
       "      <th>parameters</th>\n",
       "      <th>train</th>\n",
       "      <th>test</th>\n",
       "      <th>vectorizer</th>\n",
       "      <th>delta</th>\n",
       "    </tr>\n",
       "  </thead>\n",
       "  <tbody>\n",
       "    <tr>\n",
       "      <th>26</th>\n",
       "      <td>lr</td>\n",
       "      <td>{'Cs': 10, 'class_weight': None, 'cv': 5, 'dua...</td>\n",
       "      <td>0.710144</td>\n",
       "      <td>0.609305</td>\n",
       "      <td>CountVectorizer</td>\n",
       "      <td>-14.199784</td>\n",
       "    </tr>\n",
       "    <tr>\n",
       "      <th>0</th>\n",
       "      <td>nb</td>\n",
       "      <td>NaN</td>\n",
       "      <td>0.624428</td>\n",
       "      <td>0.605124</td>\n",
       "      <td>CountVectorizer</td>\n",
       "      <td>-3.091387</td>\n",
       "    </tr>\n",
       "    <tr>\n",
       "      <th>1</th>\n",
       "      <td>RandomForestClassifier(max_depth=5, n_estimato...</td>\n",
       "      <td>{'max_depth': 5, 'n_estimators': 200}</td>\n",
       "      <td>0.615798</td>\n",
       "      <td>0.601426</td>\n",
       "      <td>CountVectorizer</td>\n",
       "      <td>-2.333803</td>\n",
       "    </tr>\n",
       "    <tr>\n",
       "      <th>3</th>\n",
       "      <td>VotingClassifier(estimators=[('tree',\\n       ...</td>\n",
       "      <td>{'ada__n_estimators': 30, 'tree__max_depth': 5...</td>\n",
       "      <td>0.795174</td>\n",
       "      <td>0.600898</td>\n",
       "      <td>CountVectorizer</td>\n",
       "      <td>-24.431914</td>\n",
       "    </tr>\n",
       "    <tr>\n",
       "      <th>2</th>\n",
       "      <td>AdaBoostClassifier(base_estimator=DecisionTree...</td>\n",
       "      <td>{'base_estimator__max_depth': 1, 'learning_rat...</td>\n",
       "      <td>0.628126</td>\n",
       "      <td>0.598257</td>\n",
       "      <td>CountVectorizer</td>\n",
       "      <td>-4.755314</td>\n",
       "    </tr>\n",
       "    <tr>\n",
       "      <th>12</th>\n",
       "      <td>DecisionTreeClassifier()</td>\n",
       "      <td>{'max_depth': 5, 'n_estimators': 200, 'n_gram'...</td>\n",
       "      <td>0.688640</td>\n",
       "      <td>0.597938</td>\n",
       "      <td>TfidfVectorizer</td>\n",
       "      <td>-13.171178</td>\n",
       "    </tr>\n",
       "    <tr>\n",
       "      <th>9</th>\n",
       "      <td>DecisionTreeClassifier()</td>\n",
       "      <td>{'max_depth': 5, 'n_estimators': 200, 'n_gram'...</td>\n",
       "      <td>0.691284</td>\n",
       "      <td>0.597409</td>\n",
       "      <td>TfidfVectorizer</td>\n",
       "      <td>-13.579740</td>\n",
       "    </tr>\n",
       "    <tr>\n",
       "      <th>14</th>\n",
       "      <td>DecisionTreeClassifier()</td>\n",
       "      <td>{'max_depth': 5, 'n_estimators': 200, 'n_gram'...</td>\n",
       "      <td>0.689345</td>\n",
       "      <td>0.597409</td>\n",
       "      <td>TfidfVectorizer</td>\n",
       "      <td>-13.336676</td>\n",
       "    </tr>\n",
       "    <tr>\n",
       "      <th>10</th>\n",
       "      <td>DecisionTreeClassifier()</td>\n",
       "      <td>{'max_depth': 5, 'n_estimators': 200, 'n_gram'...</td>\n",
       "      <td>0.691108</td>\n",
       "      <td>0.597145</td>\n",
       "      <td>TfidfVectorizer</td>\n",
       "      <td>-13.595949</td>\n",
       "    </tr>\n",
       "    <tr>\n",
       "      <th>8</th>\n",
       "      <td>DecisionTreeClassifier()</td>\n",
       "      <td>{'max_depth': 5, 'n_estimators': 200, 'n_gram'...</td>\n",
       "      <td>0.690315</td>\n",
       "      <td>0.596088</td>\n",
       "      <td>TfidfVectorizer</td>\n",
       "      <td>-13.649843</td>\n",
       "    </tr>\n",
       "    <tr>\n",
       "      <th>11</th>\n",
       "      <td>DecisionTreeClassifier()</td>\n",
       "      <td>{'max_depth': 5, 'n_estimators': 200, 'n_gram'...</td>\n",
       "      <td>0.686789</td>\n",
       "      <td>0.595559</td>\n",
       "      <td>TfidfVectorizer</td>\n",
       "      <td>-13.283602</td>\n",
       "    </tr>\n",
       "    <tr>\n",
       "      <th>16</th>\n",
       "      <td>DecisionTreeClassifier()</td>\n",
       "      <td>{'max_depth': 5, 'n_estimators': 200, 'n_gram'...</td>\n",
       "      <td>0.688816</td>\n",
       "      <td>0.594502</td>\n",
       "      <td>TfidfVectorizer</td>\n",
       "      <td>-13.692285</td>\n",
       "    </tr>\n",
       "    <tr>\n",
       "      <th>13</th>\n",
       "      <td>DecisionTreeClassifier()</td>\n",
       "      <td>{'max_depth': 5, 'n_estimators': 200, 'n_gram'...</td>\n",
       "      <td>0.687583</td>\n",
       "      <td>0.592123</td>\n",
       "      <td>TfidfVectorizer</td>\n",
       "      <td>-13.883418</td>\n",
       "    </tr>\n",
       "    <tr>\n",
       "      <th>5</th>\n",
       "      <td>RandomForestClassifier(max_depth=20)</td>\n",
       "      <td>{'max_depth': 20, 'n_estimators': 100}</td>\n",
       "      <td>0.682383</td>\n",
       "      <td>0.591330</td>\n",
       "      <td>TfidfVectorizer</td>\n",
       "      <td>-13.343441</td>\n",
       "    </tr>\n",
       "    <tr>\n",
       "      <th>4</th>\n",
       "      <td>nb</td>\n",
       "      <td>NaN</td>\n",
       "      <td>0.637173</td>\n",
       "      <td>0.590801</td>\n",
       "      <td>TfidfVectorizer</td>\n",
       "      <td>-7.277754</td>\n",
       "    </tr>\n",
       "    <tr>\n",
       "      <th>6</th>\n",
       "      <td>AdaBoostClassifier(base_estimator=DecisionTree...</td>\n",
       "      <td>{'base_estimator__max_depth': 2, 'learning_rat...</td>\n",
       "      <td>0.670486</td>\n",
       "      <td>0.589215</td>\n",
       "      <td>TfidfVectorizer</td>\n",
       "      <td>-12.121168</td>\n",
       "    </tr>\n",
       "    <tr>\n",
       "      <th>15</th>\n",
       "      <td>DecisionTreeClassifier()</td>\n",
       "      <td>{'max_depth': 5, 'n_estimators': 200, 'n_gram'...</td>\n",
       "      <td>0.686966</td>\n",
       "      <td>0.589215</td>\n",
       "      <td>TfidfVectorizer</td>\n",
       "      <td>-14.229358</td>\n",
       "    </tr>\n",
       "    <tr>\n",
       "      <th>27</th>\n",
       "      <td>svm</td>\n",
       "      <td>{'memory': None, 'steps': [('standardscaler', ...</td>\n",
       "      <td>0.840134</td>\n",
       "      <td>0.586307</td>\n",
       "      <td>CountVectorizer</td>\n",
       "      <td>-30.212657</td>\n",
       "    </tr>\n",
       "    <tr>\n",
       "      <th>7</th>\n",
       "      <td>VotingClassifier(estimators=[('tree',\\n       ...</td>\n",
       "      <td>{'ada__n_estimators': 50, 'tree__max_depth': 1...</td>\n",
       "      <td>0.617873</td>\n",
       "      <td>0.549035</td>\n",
       "      <td>TfidfVectorizer</td>\n",
       "      <td>-11.141037</td>\n",
       "    </tr>\n",
       "    <tr>\n",
       "      <th>19</th>\n",
       "      <td>DecisionTreeClassifier()</td>\n",
       "      <td>{'max_depth': 5, 'n_estimators': 200, 'n_gram'...</td>\n",
       "      <td>0.570547</td>\n",
       "      <td>0.547713</td>\n",
       "      <td>TfidfVectorizer</td>\n",
       "      <td>-4.002092</td>\n",
       "    </tr>\n",
       "    <tr>\n",
       "      <th>23</th>\n",
       "      <td>DecisionTreeClassifier()</td>\n",
       "      <td>{'max_depth': 5, 'n_estimators': 200, 'n_gram'...</td>\n",
       "      <td>0.570547</td>\n",
       "      <td>0.547713</td>\n",
       "      <td>TfidfVectorizer</td>\n",
       "      <td>-4.002092</td>\n",
       "    </tr>\n",
       "    <tr>\n",
       "      <th>21</th>\n",
       "      <td>DecisionTreeClassifier()</td>\n",
       "      <td>{'max_depth': 5, 'n_estimators': 200, 'n_gram'...</td>\n",
       "      <td>0.570900</td>\n",
       "      <td>0.546656</td>\n",
       "      <td>TfidfVectorizer</td>\n",
       "      <td>-4.246578</td>\n",
       "    </tr>\n",
       "    <tr>\n",
       "      <th>25</th>\n",
       "      <td>DecisionTreeClassifier()</td>\n",
       "      <td>{'max_depth': 5, 'n_estimators': 200, 'n_gram'...</td>\n",
       "      <td>0.570900</td>\n",
       "      <td>0.546656</td>\n",
       "      <td>TfidfVectorizer</td>\n",
       "      <td>-4.246578</td>\n",
       "    </tr>\n",
       "    <tr>\n",
       "      <th>20</th>\n",
       "      <td>DecisionTreeClassifier()</td>\n",
       "      <td>{'max_depth': 5, 'n_estimators': 200, 'n_gram'...</td>\n",
       "      <td>0.569842</td>\n",
       "      <td>0.545334</td>\n",
       "      <td>TfidfVectorizer</td>\n",
       "      <td>-4.300815</td>\n",
       "    </tr>\n",
       "    <tr>\n",
       "      <th>24</th>\n",
       "      <td>DecisionTreeClassifier()</td>\n",
       "      <td>{'max_depth': 5, 'n_estimators': 200, 'n_gram'...</td>\n",
       "      <td>0.569842</td>\n",
       "      <td>0.545334</td>\n",
       "      <td>TfidfVectorizer</td>\n",
       "      <td>-4.300815</td>\n",
       "    </tr>\n",
       "    <tr>\n",
       "      <th>17</th>\n",
       "      <td>DecisionTreeClassifier()</td>\n",
       "      <td>{'max_depth': 5, 'n_estimators': 200, 'n_gram'...</td>\n",
       "      <td>0.574072</td>\n",
       "      <td>0.544013</td>\n",
       "      <td>TfidfVectorizer</td>\n",
       "      <td>-5.236230</td>\n",
       "    </tr>\n",
       "    <tr>\n",
       "      <th>22</th>\n",
       "      <td>DecisionTreeClassifier()</td>\n",
       "      <td>{'max_depth': 5, 'n_estimators': 200, 'n_gram'...</td>\n",
       "      <td>0.571429</td>\n",
       "      <td>0.542691</td>\n",
       "      <td>TfidfVectorizer</td>\n",
       "      <td>-5.029077</td>\n",
       "    </tr>\n",
       "    <tr>\n",
       "      <th>18</th>\n",
       "      <td>DecisionTreeClassifier()</td>\n",
       "      <td>{'max_depth': 5, 'n_estimators': 200, 'n_gram'...</td>\n",
       "      <td>0.571429</td>\n",
       "      <td>0.542691</td>\n",
       "      <td>TfidfVectorizer</td>\n",
       "      <td>-5.029077</td>\n",
       "    </tr>\n",
       "  </tbody>\n",
       "</table>\n",
       "</div>"
      ],
      "text/plain": [
       "                                                model  \\\n",
       "26                                                 lr   \n",
       "0                                                  nb   \n",
       "1   RandomForestClassifier(max_depth=5, n_estimato...   \n",
       "3   VotingClassifier(estimators=[('tree',\\n       ...   \n",
       "2   AdaBoostClassifier(base_estimator=DecisionTree...   \n",
       "12                           DecisionTreeClassifier()   \n",
       "9                            DecisionTreeClassifier()   \n",
       "14                           DecisionTreeClassifier()   \n",
       "10                           DecisionTreeClassifier()   \n",
       "8                            DecisionTreeClassifier()   \n",
       "11                           DecisionTreeClassifier()   \n",
       "16                           DecisionTreeClassifier()   \n",
       "13                           DecisionTreeClassifier()   \n",
       "5                RandomForestClassifier(max_depth=20)   \n",
       "4                                                  nb   \n",
       "6   AdaBoostClassifier(base_estimator=DecisionTree...   \n",
       "15                           DecisionTreeClassifier()   \n",
       "27                                                svm   \n",
       "7   VotingClassifier(estimators=[('tree',\\n       ...   \n",
       "19                           DecisionTreeClassifier()   \n",
       "23                           DecisionTreeClassifier()   \n",
       "21                           DecisionTreeClassifier()   \n",
       "25                           DecisionTreeClassifier()   \n",
       "20                           DecisionTreeClassifier()   \n",
       "24                           DecisionTreeClassifier()   \n",
       "17                           DecisionTreeClassifier()   \n",
       "22                           DecisionTreeClassifier()   \n",
       "18                           DecisionTreeClassifier()   \n",
       "\n",
       "                                           parameters     train      test  \\\n",
       "26  {'Cs': 10, 'class_weight': None, 'cv': 5, 'dua...  0.710144  0.609305   \n",
       "0                                                 NaN  0.624428  0.605124   \n",
       "1               {'max_depth': 5, 'n_estimators': 200}  0.615798  0.601426   \n",
       "3   {'ada__n_estimators': 30, 'tree__max_depth': 5...  0.795174  0.600898   \n",
       "2   {'base_estimator__max_depth': 1, 'learning_rat...  0.628126  0.598257   \n",
       "12  {'max_depth': 5, 'n_estimators': 200, 'n_gram'...  0.688640  0.597938   \n",
       "9   {'max_depth': 5, 'n_estimators': 200, 'n_gram'...  0.691284  0.597409   \n",
       "14  {'max_depth': 5, 'n_estimators': 200, 'n_gram'...  0.689345  0.597409   \n",
       "10  {'max_depth': 5, 'n_estimators': 200, 'n_gram'...  0.691108  0.597145   \n",
       "8   {'max_depth': 5, 'n_estimators': 200, 'n_gram'...  0.690315  0.596088   \n",
       "11  {'max_depth': 5, 'n_estimators': 200, 'n_gram'...  0.686789  0.595559   \n",
       "16  {'max_depth': 5, 'n_estimators': 200, 'n_gram'...  0.688816  0.594502   \n",
       "13  {'max_depth': 5, 'n_estimators': 200, 'n_gram'...  0.687583  0.592123   \n",
       "5              {'max_depth': 20, 'n_estimators': 100}  0.682383  0.591330   \n",
       "4                                                 NaN  0.637173  0.590801   \n",
       "6   {'base_estimator__max_depth': 2, 'learning_rat...  0.670486  0.589215   \n",
       "15  {'max_depth': 5, 'n_estimators': 200, 'n_gram'...  0.686966  0.589215   \n",
       "27  {'memory': None, 'steps': [('standardscaler', ...  0.840134  0.586307   \n",
       "7   {'ada__n_estimators': 50, 'tree__max_depth': 1...  0.617873  0.549035   \n",
       "19  {'max_depth': 5, 'n_estimators': 200, 'n_gram'...  0.570547  0.547713   \n",
       "23  {'max_depth': 5, 'n_estimators': 200, 'n_gram'...  0.570547  0.547713   \n",
       "21  {'max_depth': 5, 'n_estimators': 200, 'n_gram'...  0.570900  0.546656   \n",
       "25  {'max_depth': 5, 'n_estimators': 200, 'n_gram'...  0.570900  0.546656   \n",
       "20  {'max_depth': 5, 'n_estimators': 200, 'n_gram'...  0.569842  0.545334   \n",
       "24  {'max_depth': 5, 'n_estimators': 200, 'n_gram'...  0.569842  0.545334   \n",
       "17  {'max_depth': 5, 'n_estimators': 200, 'n_gram'...  0.574072  0.544013   \n",
       "22  {'max_depth': 5, 'n_estimators': 200, 'n_gram'...  0.571429  0.542691   \n",
       "18  {'max_depth': 5, 'n_estimators': 200, 'n_gram'...  0.571429  0.542691   \n",
       "\n",
       "         vectorizer      delta  \n",
       "26  CountVectorizer -14.199784  \n",
       "0   CountVectorizer  -3.091387  \n",
       "1   CountVectorizer  -2.333803  \n",
       "3   CountVectorizer -24.431914  \n",
       "2   CountVectorizer  -4.755314  \n",
       "12  TfidfVectorizer -13.171178  \n",
       "9   TfidfVectorizer -13.579740  \n",
       "14  TfidfVectorizer -13.336676  \n",
       "10  TfidfVectorizer -13.595949  \n",
       "8   TfidfVectorizer -13.649843  \n",
       "11  TfidfVectorizer -13.283602  \n",
       "16  TfidfVectorizer -13.692285  \n",
       "13  TfidfVectorizer -13.883418  \n",
       "5   TfidfVectorizer -13.343441  \n",
       "4   TfidfVectorizer  -7.277754  \n",
       "6   TfidfVectorizer -12.121168  \n",
       "15  TfidfVectorizer -14.229358  \n",
       "27  CountVectorizer -30.212657  \n",
       "7   TfidfVectorizer -11.141037  \n",
       "19  TfidfVectorizer  -4.002092  \n",
       "23  TfidfVectorizer  -4.002092  \n",
       "21  TfidfVectorizer  -4.246578  \n",
       "25  TfidfVectorizer  -4.246578  \n",
       "20  TfidfVectorizer  -4.300815  \n",
       "24  TfidfVectorizer  -4.300815  \n",
       "17  TfidfVectorizer  -5.236230  \n",
       "22  TfidfVectorizer  -5.029077  \n",
       "18  TfidfVectorizer  -5.029077  "
      ]
     },
     "execution_count": 8,
     "metadata": {},
     "output_type": "execute_result"
    }
   ],
   "source": [
    "final_results"
   ]
  },
  {
   "cell_type": "markdown",
   "id": "9e74036f",
   "metadata": {},
   "source": [
    "top models is overfit"
   ]
  },
  {
   "cell_type": "code",
   "execution_count": 9,
   "id": "c937ae36",
   "metadata": {
    "scrolled": true
   },
   "outputs": [
    {
     "name": "stdout",
     "output_type": "stream",
     "text": [
      "Total models run: 28\n",
      "Best model is chosen based on lowest train-test delta%\n",
      "estimator: RandomForestClassifier(max_depth=5, n_estimators=200)\n",
      "test accuracy: 0.601\n",
      "train accuracy: 0.616\n",
      "delta: -2.3%\n"
     ]
    }
   ],
   "source": [
    "print(f'Total models run: {len(final_results)}')\n",
    "print(f'Best model is chosen based on lowest train-test delta%\\n\\\n",
    "estimator: {final_results.loc[final_results.delta.idxmax()].model}\\n\\\n",
    "test accuracy: {final_results.loc[final_results.delta.idxmax()].test:.3f}\\n'\n",
    "        f'train accuracy: {final_results.loc[final_results.delta.idxmax()].train:.3f}\\n'\n",
    "        f'delta: {final_results.delta.max():.1f}%')"
   ]
  },
  {
   "cell_type": "markdown",
   "id": "a560ab77",
   "metadata": {},
   "source": [
    "## 5.2 Best ngram"
   ]
  },
  {
   "cell_type": "code",
   "execution_count": 131,
   "id": "9d320ef1",
   "metadata": {},
   "outputs": [],
   "source": [
    "import re"
   ]
  },
  {
   "cell_type": "code",
   "execution_count": 132,
   "id": "33ced74b",
   "metadata": {},
   "outputs": [],
   "source": [
    "x=[]\n",
    "y=[]\n",
    "for para, test in zip(final_results['parameters'],final_results['test']):\n",
    "    if bool(re.findall('\\(\\d, \\d\\)',str(para))):\n",
    "        x.append(re.findall('\\(\\d, \\d\\)',para)[0])\n",
    "        y.append(test)\n",
    "\n",
    "        \n",
    "ngram_scores = pd.DataFrame(data={'ngram':x,'accuracy':y}).sort_values(by='ngram')"
   ]
  },
  {
   "cell_type": "code",
   "execution_count": 133,
   "id": "8842ef1c",
   "metadata": {},
   "outputs": [
    {
     "data": {
      "image/png": "[encoded data removed]",
      "text/plain": [
       "<Figure size 432x288 with 1 Axes>"
      ]
     },
     "metadata": {},
     "output_type": "display_data"
    }
   ],
   "source": [
    "sns.set_theme(style=\"whitegrid\")\n",
    "sns.set(font_scale = .7)\n",
    "plt.ylim(.5,.62)\n",
    "\n",
    "sns.barplot(x=ngram_scores.ngram,y=ngram_scores.accuracy,palette=sns.color_palette(\"Greens_d\", len(y))).set(title='Test Scores vs \"ngram\" inputs');"
   ]
  },
  {
   "cell_type": "markdown",
   "id": "7ca2884f",
   "metadata": {},
   "source": [
    "## 5.3 Best Tokenizer/Vectorizer"
   ]
  },
  {
   "cell_type": "code",
   "execution_count": 134,
   "id": "f0fe523b",
   "metadata": {},
   "outputs": [],
   "source": [
    "# Instantiate our CountVectorizer.\n",
    "cvec = CountVectorizer(stop_words = 'english',ngram_range=(1,5),max_features=3000)\n",
    "# Fit our CountVectorizer on the training data and transform training data.\n",
    "X_train_cvec = pd.DataFrame(cvec.fit_transform(X_train['title']).todense(),\n",
    "                          columns = cvec.get_feature_names())\n",
    "# Transform our testing data with the already-fit CountVectorizer.\n",
    "X_test_cvec = pd.DataFrame(cvec.transform(X_test['title']).todense(),\n",
    "                         columns = cvec.get_feature_names())"
   ]
  },
  {
   "cell_type": "code",
   "execution_count": 135,
   "id": "32df08e0",
   "metadata": {},
   "outputs": [
    {
     "data": {
      "text/plain": [
       "stock price            31\n",
       "stock analysis         31\n",
       "stocks buy             32\n",
       "wall street            37\n",
       "short term             38\n",
       "make money             39\n",
       "technical analysis     40\n",
       "q2 earnings            41\n",
       "market crash           44\n",
       "sp500 winners          46\n",
       "meme stocks            49\n",
       "amp 500                50\n",
       "stocks daily           52\n",
       "need help              54\n",
       "recap today            57\n",
       "market recap today     57\n",
       "market recap           61\n",
       "short squeeze          68\n",
       "long term             157\n",
       "stock market          214\n",
       "dtype: int64"
      ]
     },
     "execution_count": 135,
     "metadata": {},
     "output_type": "execute_result"
    }
   ],
   "source": [
    "X_train_cvec.filter(regex='\\s').sum().sort_values().tail(20)"
   ]
  },
  {
   "cell_type": "code",
   "execution_count": 136,
   "id": "68d7ef58",
   "metadata": {},
   "outputs": [
    {
     "data": {
      "text/plain": [
       "215"
      ]
     },
     "execution_count": 136,
     "metadata": {},
     "output_type": "execute_result"
    }
   ],
   "source": [
    "len([x for x in X_train_cvec.columns if len(x.split())>2])"
   ]
  },
  {
   "cell_type": "markdown",
   "id": "d9d89108",
   "metadata": {},
   "source": [
    "Delimiting the # of `max_features` improved the performeance of LogReg, while it was 500 for previous models we use 3000 because an unlimited `max_features` will create more features than available data."
   ]
  },
  {
   "cell_type": "markdown",
   "id": "5cc56f14",
   "metadata": {},
   "source": [
    "## 5.4 Best Estimator  \n",
    "the best model is as follows:  \n",
    "- model                                                        RandomForestClassifier\n",
    "- parameters   (max_depth=5, n_estimators=200)\n",
    "- train                                                  0.616\n",
    "- train  0.601\n",
    "- vectorizer                                      CountVectorizer\n",
    "    "
   ]
  },
  {
   "cell_type": "code",
   "execution_count": 12,
   "id": "69487090",
   "metadata": {},
   "outputs": [],
   "source": [
    "# simplify the model names for easy reference when plotting\n",
    "def rename_models(m):\n",
    "    if 'VotingClassifier(' in m:\n",
    "        return 'Vote'\n",
    "    elif 'AdaBoostClassifier(' in m:\n",
    "        return 'AdaBoost'\n",
    "    elif 'nb' in m:\n",
    "        return 'NB'\n",
    "    elif 'DecisionTreeClassifier(' in m:\n",
    "        return 'DT'\n",
    "    elif 'RandomForestClassifier(' in m:\n",
    "        return 'RF'\n",
    "    elif 'lr' in m:\n",
    "        return 'LogReg'\n",
    "    elif 'svm' in m:\n",
    "        return 'SVM'\n",
    "    else:\n",
    "        return m\n",
    "    \n",
    "\n",
    "final_results['estimator'] = final_results.model.apply(lambda x :rename_models(x))"
   ]
  },
  {
   "cell_type": "code",
   "execution_count": 13,
   "id": "6c96e9d2",
   "metadata": {},
   "outputs": [],
   "source": [
    "res = []\n",
    "\n",
    "for m in final_results['estimator'].unique():\n",
    "    temp = final_results[final_results['estimator']==m]\n",
    "    res.append(temp[temp['delta']==temp['delta'].max()])"
   ]
  },
  {
   "cell_type": "code",
   "execution_count": 14,
   "id": "d477be6e",
   "metadata": {},
   "outputs": [
    {
     "data": {
      "text/html": [
       "<div>\n",
       "<style scoped>\n",
       "    .dataframe tbody tr th:only-of-type {\n",
       "        vertical-align: middle;\n",
       "    }\n",
       "\n",
       "    .dataframe tbody tr th {\n",
       "        vertical-align: top;\n",
       "    }\n",
       "\n",
       "    .dataframe thead th {\n",
       "        text-align: right;\n",
       "    }\n",
       "</style>\n",
       "<table border=\"1\" class=\"dataframe\">\n",
       "  <thead>\n",
       "    <tr style=\"text-align: right;\">\n",
       "      <th></th>\n",
       "      <th>model</th>\n",
       "      <th>parameters</th>\n",
       "      <th>train</th>\n",
       "      <th>test</th>\n",
       "      <th>vectorizer</th>\n",
       "      <th>delta</th>\n",
       "      <th>estimator</th>\n",
       "    </tr>\n",
       "  </thead>\n",
       "  <tbody>\n",
       "    <tr>\n",
       "      <th>26</th>\n",
       "      <td>lr</td>\n",
       "      <td>{'Cs': 10, 'class_weight': None, 'cv': 5, 'dua...</td>\n",
       "      <td>0.710144</td>\n",
       "      <td>0.609305</td>\n",
       "      <td>CountVectorizer</td>\n",
       "      <td>-14.199784</td>\n",
       "      <td>LogReg</td>\n",
       "    </tr>\n",
       "    <tr>\n",
       "      <th>0</th>\n",
       "      <td>nb</td>\n",
       "      <td>NaN</td>\n",
       "      <td>0.624428</td>\n",
       "      <td>0.605124</td>\n",
       "      <td>CountVectorizer</td>\n",
       "      <td>-3.091387</td>\n",
       "      <td>NB</td>\n",
       "    </tr>\n",
       "    <tr>\n",
       "      <th>1</th>\n",
       "      <td>RandomForestClassifier(max_depth=5, n_estimato...</td>\n",
       "      <td>{'max_depth': 5, 'n_estimators': 200}</td>\n",
       "      <td>0.615798</td>\n",
       "      <td>0.601426</td>\n",
       "      <td>CountVectorizer</td>\n",
       "      <td>-2.333803</td>\n",
       "      <td>RF</td>\n",
       "    </tr>\n",
       "    <tr>\n",
       "      <th>3</th>\n",
       "      <td>VotingClassifier(estimators=[('tree',\\n       ...</td>\n",
       "      <td>{'ada__n_estimators': 30, 'tree__max_depth': 5...</td>\n",
       "      <td>0.795174</td>\n",
       "      <td>0.600898</td>\n",
       "      <td>CountVectorizer</td>\n",
       "      <td>-24.431914</td>\n",
       "      <td>Vote</td>\n",
       "    </tr>\n",
       "    <tr>\n",
       "      <th>2</th>\n",
       "      <td>AdaBoostClassifier(base_estimator=DecisionTree...</td>\n",
       "      <td>{'base_estimator__max_depth': 1, 'learning_rat...</td>\n",
       "      <td>0.628126</td>\n",
       "      <td>0.598257</td>\n",
       "      <td>CountVectorizer</td>\n",
       "      <td>-4.755314</td>\n",
       "      <td>AdaBoost</td>\n",
       "    </tr>\n",
       "    <tr>\n",
       "      <th>12</th>\n",
       "      <td>DecisionTreeClassifier()</td>\n",
       "      <td>{'max_depth': 5, 'n_estimators': 200, 'n_gram'...</td>\n",
       "      <td>0.688640</td>\n",
       "      <td>0.597938</td>\n",
       "      <td>TfidfVectorizer</td>\n",
       "      <td>-13.171178</td>\n",
       "      <td>DT</td>\n",
       "    </tr>\n",
       "    <tr>\n",
       "      <th>9</th>\n",
       "      <td>DecisionTreeClassifier()</td>\n",
       "      <td>{'max_depth': 5, 'n_estimators': 200, 'n_gram'...</td>\n",
       "      <td>0.691284</td>\n",
       "      <td>0.597409</td>\n",
       "      <td>TfidfVectorizer</td>\n",
       "      <td>-13.579740</td>\n",
       "      <td>DT</td>\n",
       "    </tr>\n",
       "    <tr>\n",
       "      <th>14</th>\n",
       "      <td>DecisionTreeClassifier()</td>\n",
       "      <td>{'max_depth': 5, 'n_estimators': 200, 'n_gram'...</td>\n",
       "      <td>0.689345</td>\n",
       "      <td>0.597409</td>\n",
       "      <td>TfidfVectorizer</td>\n",
       "      <td>-13.336676</td>\n",
       "      <td>DT</td>\n",
       "    </tr>\n",
       "    <tr>\n",
       "      <th>10</th>\n",
       "      <td>DecisionTreeClassifier()</td>\n",
       "      <td>{'max_depth': 5, 'n_estimators': 200, 'n_gram'...</td>\n",
       "      <td>0.691108</td>\n",
       "      <td>0.597145</td>\n",
       "      <td>TfidfVectorizer</td>\n",
       "      <td>-13.595949</td>\n",
       "      <td>DT</td>\n",
       "    </tr>\n",
       "    <tr>\n",
       "      <th>8</th>\n",
       "      <td>DecisionTreeClassifier()</td>\n",
       "      <td>{'max_depth': 5, 'n_estimators': 200, 'n_gram'...</td>\n",
       "      <td>0.690315</td>\n",
       "      <td>0.596088</td>\n",
       "      <td>TfidfVectorizer</td>\n",
       "      <td>-13.649843</td>\n",
       "      <td>DT</td>\n",
       "    </tr>\n",
       "    <tr>\n",
       "      <th>11</th>\n",
       "      <td>DecisionTreeClassifier()</td>\n",
       "      <td>{'max_depth': 5, 'n_estimators': 200, 'n_gram'...</td>\n",
       "      <td>0.686789</td>\n",
       "      <td>0.595559</td>\n",
       "      <td>TfidfVectorizer</td>\n",
       "      <td>-13.283602</td>\n",
       "      <td>DT</td>\n",
       "    </tr>\n",
       "    <tr>\n",
       "      <th>16</th>\n",
       "      <td>DecisionTreeClassifier()</td>\n",
       "      <td>{'max_depth': 5, 'n_estimators': 200, 'n_gram'...</td>\n",
       "      <td>0.688816</td>\n",
       "      <td>0.594502</td>\n",
       "      <td>TfidfVectorizer</td>\n",
       "      <td>-13.692285</td>\n",
       "      <td>DT</td>\n",
       "    </tr>\n",
       "    <tr>\n",
       "      <th>13</th>\n",
       "      <td>DecisionTreeClassifier()</td>\n",
       "      <td>{'max_depth': 5, 'n_estimators': 200, 'n_gram'...</td>\n",
       "      <td>0.687583</td>\n",
       "      <td>0.592123</td>\n",
       "      <td>TfidfVectorizer</td>\n",
       "      <td>-13.883418</td>\n",
       "      <td>DT</td>\n",
       "    </tr>\n",
       "    <tr>\n",
       "      <th>5</th>\n",
       "      <td>RandomForestClassifier(max_depth=20)</td>\n",
       "      <td>{'max_depth': 20, 'n_estimators': 100}</td>\n",
       "      <td>0.682383</td>\n",
       "      <td>0.591330</td>\n",
       "      <td>TfidfVectorizer</td>\n",
       "      <td>-13.343441</td>\n",
       "      <td>RF</td>\n",
       "    </tr>\n",
       "    <tr>\n",
       "      <th>4</th>\n",
       "      <td>nb</td>\n",
       "      <td>NaN</td>\n",
       "      <td>0.637173</td>\n",
       "      <td>0.590801</td>\n",
       "      <td>TfidfVectorizer</td>\n",
       "      <td>-7.277754</td>\n",
       "      <td>NB</td>\n",
       "    </tr>\n",
       "    <tr>\n",
       "      <th>6</th>\n",
       "      <td>AdaBoostClassifier(base_estimator=DecisionTree...</td>\n",
       "      <td>{'base_estimator__max_depth': 2, 'learning_rat...</td>\n",
       "      <td>0.670486</td>\n",
       "      <td>0.589215</td>\n",
       "      <td>TfidfVectorizer</td>\n",
       "      <td>-12.121168</td>\n",
       "      <td>AdaBoost</td>\n",
       "    </tr>\n",
       "    <tr>\n",
       "      <th>15</th>\n",
       "      <td>DecisionTreeClassifier()</td>\n",
       "      <td>{'max_depth': 5, 'n_estimators': 200, 'n_gram'...</td>\n",
       "      <td>0.686966</td>\n",
       "      <td>0.589215</td>\n",
       "      <td>TfidfVectorizer</td>\n",
       "      <td>-14.229358</td>\n",
       "      <td>DT</td>\n",
       "    </tr>\n",
       "    <tr>\n",
       "      <th>27</th>\n",
       "      <td>svm</td>\n",
       "      <td>{'memory': None, 'steps': [('standardscaler', ...</td>\n",
       "      <td>0.840134</td>\n",
       "      <td>0.586307</td>\n",
       "      <td>CountVectorizer</td>\n",
       "      <td>-30.212657</td>\n",
       "      <td>SVM</td>\n",
       "    </tr>\n",
       "    <tr>\n",
       "      <th>7</th>\n",
       "      <td>VotingClassifier(estimators=[('tree',\\n       ...</td>\n",
       "      <td>{'ada__n_estimators': 50, 'tree__max_depth': 1...</td>\n",
       "      <td>0.617873</td>\n",
       "      <td>0.549035</td>\n",
       "      <td>TfidfVectorizer</td>\n",
       "      <td>-11.141037</td>\n",
       "      <td>Vote</td>\n",
       "    </tr>\n",
       "    <tr>\n",
       "      <th>19</th>\n",
       "      <td>DecisionTreeClassifier()</td>\n",
       "      <td>{'max_depth': 5, 'n_estimators': 200, 'n_gram'...</td>\n",
       "      <td>0.570547</td>\n",
       "      <td>0.547713</td>\n",
       "      <td>TfidfVectorizer</td>\n",
       "      <td>-4.002092</td>\n",
       "      <td>DT</td>\n",
       "    </tr>\n",
       "    <tr>\n",
       "      <th>23</th>\n",
       "      <td>DecisionTreeClassifier()</td>\n",
       "      <td>{'max_depth': 5, 'n_estimators': 200, 'n_gram'...</td>\n",
       "      <td>0.570547</td>\n",
       "      <td>0.547713</td>\n",
       "      <td>TfidfVectorizer</td>\n",
       "      <td>-4.002092</td>\n",
       "      <td>DT</td>\n",
       "    </tr>\n",
       "    <tr>\n",
       "      <th>21</th>\n",
       "      <td>DecisionTreeClassifier()</td>\n",
       "      <td>{'max_depth': 5, 'n_estimators': 200, 'n_gram'...</td>\n",
       "      <td>0.570900</td>\n",
       "      <td>0.546656</td>\n",
       "      <td>TfidfVectorizer</td>\n",
       "      <td>-4.246578</td>\n",
       "      <td>DT</td>\n",
       "    </tr>\n",
       "    <tr>\n",
       "      <th>25</th>\n",
       "      <td>DecisionTreeClassifier()</td>\n",
       "      <td>{'max_depth': 5, 'n_estimators': 200, 'n_gram'...</td>\n",
       "      <td>0.570900</td>\n",
       "      <td>0.546656</td>\n",
       "      <td>TfidfVectorizer</td>\n",
       "      <td>-4.246578</td>\n",
       "      <td>DT</td>\n",
       "    </tr>\n",
       "    <tr>\n",
       "      <th>20</th>\n",
       "      <td>DecisionTreeClassifier()</td>\n",
       "      <td>{'max_depth': 5, 'n_estimators': 200, 'n_gram'...</td>\n",
       "      <td>0.569842</td>\n",
       "      <td>0.545334</td>\n",
       "      <td>TfidfVectorizer</td>\n",
       "      <td>-4.300815</td>\n",
       "      <td>DT</td>\n",
       "    </tr>\n",
       "    <tr>\n",
       "      <th>24</th>\n",
       "      <td>DecisionTreeClassifier()</td>\n",
       "      <td>{'max_depth': 5, 'n_estimators': 200, 'n_gram'...</td>\n",
       "      <td>0.569842</td>\n",
       "      <td>0.545334</td>\n",
       "      <td>TfidfVectorizer</td>\n",
       "      <td>-4.300815</td>\n",
       "      <td>DT</td>\n",
       "    </tr>\n",
       "    <tr>\n",
       "      <th>17</th>\n",
       "      <td>DecisionTreeClassifier()</td>\n",
       "      <td>{'max_depth': 5, 'n_estimators': 200, 'n_gram'...</td>\n",
       "      <td>0.574072</td>\n",
       "      <td>0.544013</td>\n",
       "      <td>TfidfVectorizer</td>\n",
       "      <td>-5.236230</td>\n",
       "      <td>DT</td>\n",
       "    </tr>\n",
       "    <tr>\n",
       "      <th>22</th>\n",
       "      <td>DecisionTreeClassifier()</td>\n",
       "      <td>{'max_depth': 5, 'n_estimators': 200, 'n_gram'...</td>\n",
       "      <td>0.571429</td>\n",
       "      <td>0.542691</td>\n",
       "      <td>TfidfVectorizer</td>\n",
       "      <td>-5.029077</td>\n",
       "      <td>DT</td>\n",
       "    </tr>\n",
       "    <tr>\n",
       "      <th>18</th>\n",
       "      <td>DecisionTreeClassifier()</td>\n",
       "      <td>{'max_depth': 5, 'n_estimators': 200, 'n_gram'...</td>\n",
       "      <td>0.571429</td>\n",
       "      <td>0.542691</td>\n",
       "      <td>TfidfVectorizer</td>\n",
       "      <td>-5.029077</td>\n",
       "      <td>DT</td>\n",
       "    </tr>\n",
       "  </tbody>\n",
       "</table>\n",
       "</div>"
      ],
      "text/plain": [
       "                                                model  \\\n",
       "26                                                 lr   \n",
       "0                                                  nb   \n",
       "1   RandomForestClassifier(max_depth=5, n_estimato...   \n",
       "3   VotingClassifier(estimators=[('tree',\\n       ...   \n",
       "2   AdaBoostClassifier(base_estimator=DecisionTree...   \n",
       "12                           DecisionTreeClassifier()   \n",
       "9                            DecisionTreeClassifier()   \n",
       "14                           DecisionTreeClassifier()   \n",
       "10                           DecisionTreeClassifier()   \n",
       "8                            DecisionTreeClassifier()   \n",
       "11                           DecisionTreeClassifier()   \n",
       "16                           DecisionTreeClassifier()   \n",
       "13                           DecisionTreeClassifier()   \n",
       "5                RandomForestClassifier(max_depth=20)   \n",
       "4                                                  nb   \n",
       "6   AdaBoostClassifier(base_estimator=DecisionTree...   \n",
       "15                           DecisionTreeClassifier()   \n",
       "27                                                svm   \n",
       "7   VotingClassifier(estimators=[('tree',\\n       ...   \n",
       "19                           DecisionTreeClassifier()   \n",
       "23                           DecisionTreeClassifier()   \n",
       "21                           DecisionTreeClassifier()   \n",
       "25                           DecisionTreeClassifier()   \n",
       "20                           DecisionTreeClassifier()   \n",
       "24                           DecisionTreeClassifier()   \n",
       "17                           DecisionTreeClassifier()   \n",
       "22                           DecisionTreeClassifier()   \n",
       "18                           DecisionTreeClassifier()   \n",
       "\n",
       "                                           parameters     train      test  \\\n",
       "26  {'Cs': 10, 'class_weight': None, 'cv': 5, 'dua...  0.710144  0.609305   \n",
       "0                                                 NaN  0.624428  0.605124   \n",
       "1               {'max_depth': 5, 'n_estimators': 200}  0.615798  0.601426   \n",
       "3   {'ada__n_estimators': 30, 'tree__max_depth': 5...  0.795174  0.600898   \n",
       "2   {'base_estimator__max_depth': 1, 'learning_rat...  0.628126  0.598257   \n",
       "12  {'max_depth': 5, 'n_estimators': 200, 'n_gram'...  0.688640  0.597938   \n",
       "9   {'max_depth': 5, 'n_estimators': 200, 'n_gram'...  0.691284  0.597409   \n",
       "14  {'max_depth': 5, 'n_estimators': 200, 'n_gram'...  0.689345  0.597409   \n",
       "10  {'max_depth': 5, 'n_estimators': 200, 'n_gram'...  0.691108  0.597145   \n",
       "8   {'max_depth': 5, 'n_estimators': 200, 'n_gram'...  0.690315  0.596088   \n",
       "11  {'max_depth': 5, 'n_estimators': 200, 'n_gram'...  0.686789  0.595559   \n",
       "16  {'max_depth': 5, 'n_estimators': 200, 'n_gram'...  0.688816  0.594502   \n",
       "13  {'max_depth': 5, 'n_estimators': 200, 'n_gram'...  0.687583  0.592123   \n",
       "5              {'max_depth': 20, 'n_estimators': 100}  0.682383  0.591330   \n",
       "4                                                 NaN  0.637173  0.590801   \n",
       "6   {'base_estimator__max_depth': 2, 'learning_rat...  0.670486  0.589215   \n",
       "15  {'max_depth': 5, 'n_estimators': 200, 'n_gram'...  0.686966  0.589215   \n",
       "27  {'memory': None, 'steps': [('standardscaler', ...  0.840134  0.586307   \n",
       "7   {'ada__n_estimators': 50, 'tree__max_depth': 1...  0.617873  0.549035   \n",
       "19  {'max_depth': 5, 'n_estimators': 200, 'n_gram'...  0.570547  0.547713   \n",
       "23  {'max_depth': 5, 'n_estimators': 200, 'n_gram'...  0.570547  0.547713   \n",
       "21  {'max_depth': 5, 'n_estimators': 200, 'n_gram'...  0.570900  0.546656   \n",
       "25  {'max_depth': 5, 'n_estimators': 200, 'n_gram'...  0.570900  0.546656   \n",
       "20  {'max_depth': 5, 'n_estimators': 200, 'n_gram'...  0.569842  0.545334   \n",
       "24  {'max_depth': 5, 'n_estimators': 200, 'n_gram'...  0.569842  0.545334   \n",
       "17  {'max_depth': 5, 'n_estimators': 200, 'n_gram'...  0.574072  0.544013   \n",
       "22  {'max_depth': 5, 'n_estimators': 200, 'n_gram'...  0.571429  0.542691   \n",
       "18  {'max_depth': 5, 'n_estimators': 200, 'n_gram'...  0.571429  0.542691   \n",
       "\n",
       "         vectorizer      delta estimator  \n",
       "26  CountVectorizer -14.199784    LogReg  \n",
       "0   CountVectorizer  -3.091387        NB  \n",
       "1   CountVectorizer  -2.333803        RF  \n",
       "3   CountVectorizer -24.431914      Vote  \n",
       "2   CountVectorizer  -4.755314  AdaBoost  \n",
       "12  TfidfVectorizer -13.171178        DT  \n",
       "9   TfidfVectorizer -13.579740        DT  \n",
       "14  TfidfVectorizer -13.336676        DT  \n",
       "10  TfidfVectorizer -13.595949        DT  \n",
       "8   TfidfVectorizer -13.649843        DT  \n",
       "11  TfidfVectorizer -13.283602        DT  \n",
       "16  TfidfVectorizer -13.692285        DT  \n",
       "13  TfidfVectorizer -13.883418        DT  \n",
       "5   TfidfVectorizer -13.343441        RF  \n",
       "4   TfidfVectorizer  -7.277754        NB  \n",
       "6   TfidfVectorizer -12.121168  AdaBoost  \n",
       "15  TfidfVectorizer -14.229358        DT  \n",
       "27  CountVectorizer -30.212657       SVM  \n",
       "7   TfidfVectorizer -11.141037      Vote  \n",
       "19  TfidfVectorizer  -4.002092        DT  \n",
       "23  TfidfVectorizer  -4.002092        DT  \n",
       "21  TfidfVectorizer  -4.246578        DT  \n",
       "25  TfidfVectorizer  -4.246578        DT  \n",
       "20  TfidfVectorizer  -4.300815        DT  \n",
       "24  TfidfVectorizer  -4.300815        DT  \n",
       "17  TfidfVectorizer  -5.236230        DT  \n",
       "22  TfidfVectorizer  -5.029077        DT  \n",
       "18  TfidfVectorizer  -5.029077        DT  "
      ]
     },
     "execution_count": 14,
     "metadata": {},
     "output_type": "execute_result"
    }
   ],
   "source": [
    "final_results"
   ]
  },
  {
   "cell_type": "code",
   "execution_count": 15,
   "id": "a953bc3a",
   "metadata": {},
   "outputs": [],
   "source": [
    "final_results = pd.concat(res,ignore_index=True)"
   ]
  },
  {
   "cell_type": "code",
   "execution_count": 16,
   "id": "0e52efc2",
   "metadata": {},
   "outputs": [
    {
     "data": {
      "text/html": [
       "<div>\n",
       "<style scoped>\n",
       "    .dataframe tbody tr th:only-of-type {\n",
       "        vertical-align: middle;\n",
       "    }\n",
       "\n",
       "    .dataframe tbody tr th {\n",
       "        vertical-align: top;\n",
       "    }\n",
       "\n",
       "    .dataframe thead th {\n",
       "        text-align: right;\n",
       "    }\n",
       "</style>\n",
       "<table border=\"1\" class=\"dataframe\">\n",
       "  <thead>\n",
       "    <tr style=\"text-align: right;\">\n",
       "      <th></th>\n",
       "      <th>model</th>\n",
       "      <th>parameters</th>\n",
       "      <th>train</th>\n",
       "      <th>test</th>\n",
       "      <th>vectorizer</th>\n",
       "      <th>delta</th>\n",
       "    </tr>\n",
       "    <tr>\n",
       "      <th>estimator</th>\n",
       "      <th></th>\n",
       "      <th></th>\n",
       "      <th></th>\n",
       "      <th></th>\n",
       "      <th></th>\n",
       "      <th></th>\n",
       "    </tr>\n",
       "  </thead>\n",
       "  <tbody>\n",
       "    <tr>\n",
       "      <th>RF</th>\n",
       "      <td>RandomForestClassifier(max_depth=5, n_estimato...</td>\n",
       "      <td>{'max_depth': 5, 'n_estimators': 200}</td>\n",
       "      <td>0.615798</td>\n",
       "      <td>0.601426</td>\n",
       "      <td>CountVectorizer</td>\n",
       "      <td>-2.333803</td>\n",
       "    </tr>\n",
       "    <tr>\n",
       "      <th>NB</th>\n",
       "      <td>nb</td>\n",
       "      <td>NaN</td>\n",
       "      <td>0.624428</td>\n",
       "      <td>0.605124</td>\n",
       "      <td>CountVectorizer</td>\n",
       "      <td>-3.091387</td>\n",
       "    </tr>\n",
       "    <tr>\n",
       "      <th>DT</th>\n",
       "      <td>DecisionTreeClassifier()</td>\n",
       "      <td>{'max_depth': 5, 'n_estimators': 200, 'n_gram'...</td>\n",
       "      <td>0.570547</td>\n",
       "      <td>0.547713</td>\n",
       "      <td>TfidfVectorizer</td>\n",
       "      <td>-4.002092</td>\n",
       "    </tr>\n",
       "    <tr>\n",
       "      <th>AdaBoost</th>\n",
       "      <td>AdaBoostClassifier(base_estimator=DecisionTree...</td>\n",
       "      <td>{'base_estimator__max_depth': 1, 'learning_rat...</td>\n",
       "      <td>0.628126</td>\n",
       "      <td>0.598257</td>\n",
       "      <td>CountVectorizer</td>\n",
       "      <td>-4.755314</td>\n",
       "    </tr>\n",
       "    <tr>\n",
       "      <th>Vote</th>\n",
       "      <td>VotingClassifier(estimators=[('tree',\\n       ...</td>\n",
       "      <td>{'ada__n_estimators': 50, 'tree__max_depth': 1...</td>\n",
       "      <td>0.617873</td>\n",
       "      <td>0.549035</td>\n",
       "      <td>TfidfVectorizer</td>\n",
       "      <td>-11.141037</td>\n",
       "    </tr>\n",
       "    <tr>\n",
       "      <th>LogReg</th>\n",
       "      <td>lr</td>\n",
       "      <td>{'Cs': 10, 'class_weight': None, 'cv': 5, 'dua...</td>\n",
       "      <td>0.710144</td>\n",
       "      <td>0.609305</td>\n",
       "      <td>CountVectorizer</td>\n",
       "      <td>-14.199784</td>\n",
       "    </tr>\n",
       "    <tr>\n",
       "      <th>SVM</th>\n",
       "      <td>svm</td>\n",
       "      <td>{'memory': None, 'steps': [('standardscaler', ...</td>\n",
       "      <td>0.840134</td>\n",
       "      <td>0.586307</td>\n",
       "      <td>CountVectorizer</td>\n",
       "      <td>-30.212657</td>\n",
       "    </tr>\n",
       "  </tbody>\n",
       "</table>\n",
       "</div>"
      ],
      "text/plain": [
       "                                                       model  \\\n",
       "estimator                                                      \n",
       "RF         RandomForestClassifier(max_depth=5, n_estimato...   \n",
       "NB                                                        nb   \n",
       "DT                                  DecisionTreeClassifier()   \n",
       "AdaBoost   AdaBoostClassifier(base_estimator=DecisionTree...   \n",
       "Vote       VotingClassifier(estimators=[('tree',\\n       ...   \n",
       "LogReg                                                    lr   \n",
       "SVM                                                      svm   \n",
       "\n",
       "                                                  parameters     train  \\\n",
       "estimator                                                                \n",
       "RF                     {'max_depth': 5, 'n_estimators': 200}  0.615798   \n",
       "NB                                                       NaN  0.624428   \n",
       "DT         {'max_depth': 5, 'n_estimators': 200, 'n_gram'...  0.570547   \n",
       "AdaBoost   {'base_estimator__max_depth': 1, 'learning_rat...  0.628126   \n",
       "Vote       {'ada__n_estimators': 50, 'tree__max_depth': 1...  0.617873   \n",
       "LogReg     {'Cs': 10, 'class_weight': None, 'cv': 5, 'dua...  0.710144   \n",
       "SVM        {'memory': None, 'steps': [('standardscaler', ...  0.840134   \n",
       "\n",
       "               test       vectorizer      delta  \n",
       "estimator                                        \n",
       "RF         0.601426  CountVectorizer  -2.333803  \n",
       "NB         0.605124  CountVectorizer  -3.091387  \n",
       "DT         0.547713  TfidfVectorizer  -4.002092  \n",
       "AdaBoost   0.598257  CountVectorizer  -4.755314  \n",
       "Vote       0.549035  TfidfVectorizer -11.141037  \n",
       "LogReg     0.609305  CountVectorizer -14.199784  \n",
       "SVM        0.586307  CountVectorizer -30.212657  "
      ]
     },
     "execution_count": 16,
     "metadata": {},
     "output_type": "execute_result"
    }
   ],
   "source": [
    "# plotting the best test scores for each estimator\n",
    "models = pd.DataFrame(final_results.groupby('estimator').max().sort_values(by='delta',ascending=False))\n",
    "models"
   ]
  },
  {
   "cell_type": "code",
   "execution_count": 17,
   "id": "e44bd2a2",
   "metadata": {},
   "outputs": [
    {
     "data": {
      "image/png": "[encoded data removed]",
      "text/plain": [
       "<Figure size 432x288 with 1 Axes>"
      ]
     },
     "metadata": {
      "needs_background": "light"
     },
     "output_type": "display_data"
    }
   ],
   "source": [
    "models[['train','test']].plot(kind='bar')\n",
    "plt.title('Estimators ordered by delta');"
   ]
  },
  {
   "cell_type": "markdown",
   "id": "9dabe77e",
   "metadata": {},
   "source": [
    "Although LogReg shows to be the best test model, it is not fairly compared because the model used in the above graph is the only one with unlimited features in the CountVectoriser(). On the other hand other estimators like RF and VotingClassifier(Vote) use GridSearchCV and providing such simulations with an expanded feature set will be computationally exhausting.\n",
    "\n",
    "Random Forest with following advantages:\n",
    "1. Has presently the best delta of train-test score\n",
    "2. there is feature importance\n",
    "3. not overfitt (2.3% difference)\n",
    "\n",
    "Disadvantages:\n",
    "1. May not be able to express non-linear relationships in the features (however they may be addressed by the method of tokenisation)"
   ]
  },
  {
   "cell_type": "code",
   "execution_count": 18,
   "id": "a6bfe84d",
   "metadata": {
    "scrolled": true
   },
   "outputs": [
    {
     "data": {
      "text/plain": [
       "model         RandomForestClassifier(max_depth=5, n_estimato...\n",
       "parameters                {'max_depth': 5, 'n_estimators': 200}\n",
       "train                                                  0.615798\n",
       "test                                                   0.601426\n",
       "vectorizer                                      CountVectorizer\n",
       "delta                                                 -2.333803\n",
       "Name: RF, dtype: object"
      ]
     },
     "execution_count": 18,
     "metadata": {},
     "output_type": "execute_result"
    }
   ],
   "source": [
    "# finding the best model\n",
    "models.loc['RF']"
   ]
  },
  {
   "cell_type": "markdown",
   "id": "9c961653",
   "metadata": {},
   "source": [
    "## 5.5 Combine Best Tokenizer/Vectorizer, ngram and Estimator\n",
    "\n",
    "### 5.5.1 CountVectorizer and Logistic Regression\n",
    "Tokenizer/Vecotrizer: CountVectorizer(stop_words = 'english',ngram_range=(1,5),max_features=3000)  \n",
    "Estimator: RandomForestClassifier(max_depth=5, n_estimators=200)"
   ]
  },
  {
   "cell_type": "code",
   "execution_count": 56,
   "id": "22d3afd3",
   "metadata": {},
   "outputs": [],
   "source": [
    "X = pd.DataFrame(cvec.fit_transform(X).todense(),\n",
    "                          columns = cvec.get_feature_names())"
   ]
  },
  {
   "cell_type": "code",
   "execution_count": 57,
   "id": "c8e90fc8",
   "metadata": {},
   "outputs": [
    {
     "data": {
      "text/plain": [
       "(15142, 500)"
      ]
     },
     "execution_count": 57,
     "metadata": {},
     "output_type": "execute_result"
    }
   ],
   "source": [
    "X.shape"
   ]
  },
  {
   "cell_type": "code",
   "execution_count": 58,
   "id": "2b45b605",
   "metadata": {
    "scrolled": true
   },
   "outputs": [
    {
     "data": {
      "text/plain": [
       "RandomForestClassifier(max_depth=5, n_estimators=200)"
      ]
     },
     "execution_count": 58,
     "metadata": {},
     "output_type": "execute_result"
    }
   ],
   "source": [
    "rf3 = RandomForestClassifier(max_depth=5, n_estimators=200)\n",
    "rf3.fit(X, y)"
   ]
  },
  {
   "cell_type": "code",
   "execution_count": 62,
   "id": "c8d72bcf",
   "metadata": {
    "scrolled": false
   },
   "outputs": [],
   "source": [
    "from joblib import dump, load"
   ]
  },
  {
   "cell_type": "code",
   "execution_count": 63,
   "id": "a2b973f1",
   "metadata": {},
   "outputs": [
    {
     "data": {
      "text/plain": [
       "['best_model.joblib']"
      ]
     },
     "execution_count": 63,
     "metadata": {},
     "output_type": "execute_result"
    }
   ],
   "source": [
    "# save best model\n",
    "dump(rf3, 'best_model.joblib')"
   ]
  },
  {
   "cell_type": "code",
   "execution_count": 64,
   "id": "cdd8d6eb",
   "metadata": {},
   "outputs": [
    {
     "data": {
      "text/plain": [
       "0.5499207606973059"
      ]
     },
     "execution_count": 64,
     "metadata": {},
     "output_type": "execute_result"
    }
   ],
   "source": [
    "# load\n",
    "rf3 = load('best_model.joblib')\n",
    "rf3.score(X_test_cvec, y_test)"
   ]
  },
  {
   "cell_type": "markdown",
   "id": "2ff0b999",
   "metadata": {},
   "source": [
    "### 5.5.2 Scoring the best model"
   ]
  },
  {
   "cell_type": "code",
   "execution_count": 69,
   "id": "8d82c607",
   "metadata": {},
   "outputs": [
    {
     "name": "stdout",
     "output_type": "stream",
     "text": [
      "[[2904 1193]\n",
      " [4657 6388]]\n",
      "True Negatives:\t2904\n",
      "False Positives:\t4657\n",
      "False Negatives:\t1193\n",
      "True Positives:\t6388\n"
     ]
    }
   ],
   "source": [
    "predictions = rf3.predict(X)\n",
    "print(confusion_matrix(y, predictions).T)\n",
    "tn, fp, fn, tp = confusion_matrix(y, predictions).ravel()\n",
    "print(\"True Negatives:\\t%s\" % tn)\n",
    "print(\"False Positives:\\t%s\" % fp)\n",
    "print(\"False Negatives:\\t%s\" % fn)\n",
    "print(\"True Positives:\\t%s\" % tp)"
   ]
  },
  {
   "cell_type": "code",
   "execution_count": 70,
   "id": "b2102562",
   "metadata": {},
   "outputs": [
    {
     "name": "stdout",
     "output_type": "stream",
     "text": [
      "Accuracy\t61.4\n",
      "Sensitivity\t84.3\n",
      "Specificity\t38.4\n"
     ]
    }
   ],
   "source": [
    "print(f'Accuracy\\t{(tp+tn)/(tp+tn+fp+fn)*100:.1f}')\n",
    "print(f'Sensitivity\\t{tp/(tp+fn)*100:.1f}')\n",
    "print(f'Specificity\\t{tn/(tn+fp)*100:.1f}')"
   ]
  },
  {
   "cell_type": "code",
   "execution_count": 72,
   "id": "0f619d03",
   "metadata": {},
   "outputs": [
    {
     "data": {
      "image/png": "[encoded data removed]",
      "text/plain": [
       "<Figure size 432x288 with 1 Axes>"
      ]
     },
     "metadata": {
      "needs_background": "light"
     },
     "output_type": "display_data"
    }
   ],
   "source": [
    "plot_confusion_matrix(rf3, X, y, cmap='Greens', colorbar=False\n",
    "                      , normalize='true', display_labels=['StockMarket', 'stocks'])\n",
    "plt.title('Confusion matrix, normalized \"True label\"' );"
   ]
  },
  {
   "cell_type": "markdown",
   "id": "148cf81e",
   "metadata": {},
   "source": [
    "# 6. Visualisations"
   ]
  },
  {
   "cell_type": "markdown",
   "id": "997ad2c4",
   "metadata": {},
   "source": [
    "## 6.0 Subreddit\n",
    "choice of subreddit matters, as seen here even though `stocks-Stockmarket` is used in final analysis. A categorical dissimmilar topic like `Paleontology` is a lot easier for a model to differentiate"
   ]
  },
  {
   "cell_type": "code",
   "execution_count": 73,
   "id": "f814fa17",
   "metadata": {
    "scrolled": true
   },
   "outputs": [
    {
     "data": {
      "image/png": "[encoded data removed]",
      "text/plain": [
       "<Figure size 432x288 with 1 Axes>"
      ]
     },
     "metadata": {},
     "output_type": "display_data"
    }
   ],
   "source": [
    "# plot the performance of each test vs others\n",
    "y = [0.594237,0.843284]\n",
    "x = ['stocks-StockMarket','stocks-Paleontology']\n",
    "\n",
    "sns.set_theme(style=\"whitegrid\")\n",
    "sns.set(font_scale = 1)\n",
    "plt.ylim(0,1)\n",
    "\n",
    "sns.barplot(x=x,y=y).set(title='Accuracy vs Subreddit Topics');"
   ]
  },
  {
   "cell_type": "markdown",
   "id": "5162588a",
   "metadata": {},
   "source": [
    "## 6.1 Best Model - Visualisations (Logistic Regression)"
   ]
  },
  {
   "cell_type": "markdown",
   "id": "03c00017",
   "metadata": {},
   "source": [
    "### 6.1.1 Best Model - AUC"
   ]
  },
  {
   "cell_type": "code",
   "execution_count": 83,
   "id": "e96292e3",
   "metadata": {},
   "outputs": [],
   "source": [
    "y=df['stocks']"
   ]
  },
  {
   "cell_type": "code",
   "execution_count": 84,
   "id": "82b37d6d",
   "metadata": {},
   "outputs": [
    {
     "data": {
      "image/png": "[encoded data removed]",
      "text/plain": [
       "<Figure size 432x288 with 1 Axes>"
      ]
     },
     "metadata": {},
     "output_type": "display_data"
    }
   ],
   "source": [
    "rf_roc = plot_roc_curve(rf3, X, y,color='limegreen')\n",
    "plt.title('TP rate vs FP rate');"
   ]
  },
  {
   "cell_type": "markdown",
   "id": "ef2fc345",
   "metadata": {},
   "source": [
    "## 6.2 Random Forest"
   ]
  },
  {
   "cell_type": "code",
   "execution_count": 85,
   "id": "8b6c18d2",
   "metadata": {
    "scrolled": true
   },
   "outputs": [],
   "source": [
    "from sklearn.inspection import permutation_importance\n",
    "import matplotlib.pyplot as plt"
   ]
  },
  {
   "cell_type": "code",
   "execution_count": 86,
   "id": "926780f9",
   "metadata": {},
   "outputs": [
    {
     "data": {
      "text/plain": [
       "model         RandomForestClassifier(max_depth=5, n_estimato...\n",
       "parameters                {'max_depth': 5, 'n_estimators': 200}\n",
       "train                                                  0.615798\n",
       "test                                                   0.601426\n",
       "vectorizer                                      CountVectorizer\n",
       "delta                                                 -2.333803\n",
       "Name: RF, dtype: object"
      ]
     },
     "execution_count": 86,
     "metadata": {},
     "output_type": "execute_result"
    }
   ],
   "source": [
    "# use the best RF model to find some important words or phrases\n",
    "models.loc['RF']"
   ]
  },
  {
   "cell_type": "code",
   "execution_count": 88,
   "id": "34077e4e",
   "metadata": {},
   "outputs": [],
   "source": [
    "forest_importances = pd.Series(rf3.feature_importances_, index=X.columns)\n",
    "forest_import_20_top = forest_importances.sort_values(key=lambda x: abs(x)).tail(20)\n",
    "forest_import_20_bot = forest_importances.sort_values().head(20)"
   ]
  },
  {
   "cell_type": "markdown",
   "id": "d7a5f2d4",
   "metadata": {},
   "source": [
    "### 6.2.1 Random Forest Most Important Words"
   ]
  },
  {
   "cell_type": "code",
   "execution_count": 89,
   "id": "341fd05f",
   "metadata": {},
   "outputs": [
    {
     "data": {
      "image/png": "[encoded data removed]",
      "text/plain": [
       "<Figure size 432x288 with 1 Axes>"
      ]
     },
     "metadata": {},
     "output_type": "display_data"
    }
   ],
   "source": [
    "fig, ax = plt.subplots()\n",
    "forest_import_20_top.plot.barh(ax=ax)\n",
    "ax.set_title(\"Top 20 Feature importances using permutation on full model\")\n",
    "ax.set_ylabel(\"Mean accuracy decrease\")\n",
    "fig.tight_layout()\n",
    "plt.show()"
   ]
  },
  {
   "cell_type": "markdown",
   "id": "790c17f2",
   "metadata": {},
   "source": [
    "### 6.2.2 Random Forest Least Important Words"
   ]
  },
  {
   "cell_type": "code",
   "execution_count": 90,
   "id": "c5a79ee0",
   "metadata": {},
   "outputs": [
    {
     "data": {
      "image/png": "[encoded data removed]",
      "text/plain": [
       "<Figure size 432x288 with 1 Axes>"
      ]
     },
     "metadata": {},
     "output_type": "display_data"
    }
   ],
   "source": [
    "fig, ax = plt.subplots()\n",
    "forest_import_20_bot.plot.barh(ax=ax)\n",
    "ax.set_title(\"Bottom 20 Feature importances using permutation on full model\")\n",
    "ax.set_ylabel(\"Mean accuracy decrease\")\n",
    "fig.tight_layout()\n",
    "plt.show()"
   ]
  },
  {
   "cell_type": "markdown",
   "id": "92b247b8",
   "metadata": {},
   "source": [
    "### 6.2.3 DECISION TREE, TREE VIZ"
   ]
  },
  {
   "cell_type": "code",
   "execution_count": 91,
   "id": "46d8961b",
   "metadata": {},
   "outputs": [],
   "source": [
    "import matplotlib.pyplot as plt\n",
    "from sklearn.tree import plot_tree"
   ]
  },
  {
   "cell_type": "code",
   "execution_count": 93,
   "id": "0eb2342f",
   "metadata": {
    "scrolled": false
   },
   "outputs": [
    {
     "data": {
      "image/png": "[encoded data removed]",
      "text/plain": [
       "<Figure size 1080x720 with 1 Axes>"
      ]
     },
     "metadata": {},
     "output_type": "display_data"
    }
   ],
   "source": [
    "fig = plt.figure(figsize=(15, 10))\n",
    "plot_tree(rf3.estimators_[0], \n",
    "          feature_names=X.columns,\n",
    "          filled=True, impurity=True, \n",
    "          rounded=True);"
   ]
  },
  {
   "cell_type": "markdown",
   "id": "a7e95e29",
   "metadata": {},
   "source": [
    "# Conclusions \n",
    "\n",
    "The model with based on trials of: \n",
    "\n",
    "- Tokenizer/Vecotrizer: `CountVectorizer`, `TfidfVectorizer`  \n",
    "- Estimators: `Naive Bayes`, `Random Forest`, `Adaboost`, `VotingClassifier`, `SVM`, `Logistic Regression`\n",
    "\n",
    "After trialling some range of datapoints, ngram, estimators, number of features, the model with the best performance is: \n",
    "- CountVectorizer(stop_words = 'english',ngram_range=(1,5),max_features=3000)  \n",
    "- Estimator: LogisticRegressionCV(cv=5,  random_state=42, max_iter=200,n_jobs=-1)\n",
    "\n",
    "**Baseline accuracy is 0.5 and best model test score is 0.61 with 23% improvement.**\n",
    "\n",
    "Objectives:\n",
    "    1. Determine effectiveness of python models at NLP and classification of socially defined online communities  \n",
    "    2. To decide if there may be a redundancy in having subreddits\n",
    "\n",
    "**There is significant score improvement to the baseline of the model therefore the model can be useful to distinguish a subreddit however the error rate is still 39%. There appears to be a high amount of overlap in the topics and so the models find it hard to distinguish. However the content in the title may not be sufficient to prove that the groups are distinct. Other aspects such as media and length of selftext should be relevant but were not available due to the API restrictions.**\n",
    "\n",
    "# Recommendations\n",
    "1. EDA and project scores allude that high `max_feature` contributing to favourable scores because of the inclusion of more rare words (where `stocks` and `StockMarket` share many similar words).  Towards the end of the project, the `max_feature` hyperparameter appears to be very significant because as it was unlimited during the initial Logistic Regression fit there was an improvement in scores. Due to time constraints there was no further investigation on the relationship between `max_feature` and score. Further work may be done to try an expanded feature set against decision tree classifiers.\n",
    "\n",
    "2. Although Stemming and Lemmatising was avoided for this analysis. It may be helpful to the model to allow for a more generalised regression. Also be able to consolidate words and reduce the need for so many features.\n",
    "\n",
    "3. Further work can be done to compare the model Accuracy, Sensitivity and Specificity against human classifications in a blind test. Trails can be performed with the model and human trained or read the same number of articles and compare the scores. Additionally the current best model trained against a large sample can be used to see how the former scores differ.\n",
    "\n",
    "---"
   ]
  }
 ],
 "metadata": {
  "kernelspec": {
   "display_name": "Python 3",
   "language": "python",
   "name": "python3"
  },
  "language_info": {
   "codemirror_mode": {
    "name": "ipython",
    "version": 3
   },
   "file_extension": ".py",
   "mimetype": "text/x-python",
   "name": "python",
   "nbconvert_exporter": "python",
   "pygments_lexer": "ipython3",
   "version": "3.8.8"
  }
 },
 "nbformat": 4,
 "nbformat_minor": 5
}
