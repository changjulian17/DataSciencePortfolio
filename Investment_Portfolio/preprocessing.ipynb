{
  "nbformat": 4,
  "nbformat_minor": 0,
  "metadata": {
    "colab": {
      "name": "preprocessing_final.ipynb",
      "provenance": [],
      "collapsed_sections": []
    },
    "kernelspec": {
      "name": "python3",
      "display_name": "Python 3"
    },
    "language_info": {
      "name": "python"
    }
  },
  "cells": [
    {
      "cell_type": "markdown",
      "metadata": {
        "id": "Q-hEq0AkdSc8"
      },
      "source": [
        "# Preprocessing\n",
        "This notebook is to collecting data from Yahoo finance and prepared excel sheets then compile and enrich asset prices with indicators for use on model later."
      ]
    },
    {
      "cell_type": "markdown",
      "metadata": {
        "id": "kcZXwA-T6tKr"
      },
      "source": [
        "## FinrRL\n",
        "FinRL is the first open-source framework to demonstrate the great potential of applying deep reinforcement learning in quantitative finance. We help practitioners establish the development pipeline of trading strategies using deep reinforcement learning (DRL). A DRL agent learns by continuously interacting with an environment in a trial-and-error manner, making sequential decisions under uncertainty, and achieving a balance between exploration and exploitation."
      ]
    },
    {
      "cell_type": "code",
      "metadata": {
        "id": "G7BToQ2Y4fTN"
      },
      "source": [
        "## install finrl library\n",
        "!pip install git+https://github.com/AI4Finance-LLC/FinRL-Library.git"
      ],
      "execution_count": null,
      "outputs": []
    },
    {
      "cell_type": "code",
      "metadata": {
        "id": "lT6BDRoK6a_s",
        "colab": {
          "base_uri": "https://localhost:8080/"
        },
        "outputId": "c57776b6-67fc-4be2-ad31-08e560be8f6f"
      },
      "source": [
        "import pandas as pd\n",
        "import numpy as np\n",
        "import matplotlib\n",
        "import matplotlib.pyplot as plt\n",
        "matplotlib.use('Agg')\n",
        "%matplotlib inline\n",
        "import datetime\n",
        "import calendar\n",
        "\n",
        "from finrl.apps import config\n",
        "from finrl.finrl_meta.preprocessor.yahoodownloader import YahooDownloader\n",
        "from finrl.finrl_meta.preprocessor.preprocessors import FeatureEngineer, data_split\n",
        "from finrl.finrl_meta.env_portfolio_allocation.env_portfolio import StockPortfolioEnv\n",
        "from finrl.drl_agents.stablebaselines3.models import DRLAgent\n",
        "from finrl.plot import backtest_stats, backtest_plot, get_daily_return, get_baseline,convert_daily_return_to_pyfolio_ts\n",
        "\n",
        "\n",
        "import sys\n",
        "sys.path.append(\"../FinRL-Library\")"
      ],
      "execution_count": null,
      "outputs": [
        {
          "output_type": "stream",
          "name": "stderr",
          "text": [
            "/usr/local/lib/python3.7/dist-packages/pyfolio/pos.py:27: UserWarning: Module \"zipline.assets\" not found; multipliers will not be applied to position notionals.\n",
            "  'Module \"zipline.assets\" not found; multipliers will not be applied'\n"
          ]
        }
      ]
    },
    {
      "cell_type": "code",
      "metadata": {
        "id": "aupwe06w62u1"
      },
      "source": [
        "import os\n",
        "if not os.path.exists(\"./\" + config.TRAINED_MODEL_DIR):\n",
        "    os.makedirs(\"./\" + config.TRAINED_MODEL_DIR)\n",
        "if not os.path.exists(\"./\" + \"data\"):\n",
        "    os.makedirs(\"./\" + \"data\")"
      ],
      "execution_count": null,
      "outputs": []
    },
    {
      "cell_type": "markdown",
      "metadata": {
        "id": "qWGu36Hs6_M4"
      },
      "source": [
        "## Download Data\n",
        "\n",
        " - Using FinRL to download stock data \n",
        "  - Yahoo Finance is a website that provides stock data, financial news, financial reports, etc. All the data provided by Yahoo Finance is free. FinRL uses a class YahooDownloader to fetch data from Yahoo Finance API\n",
        "Call Limit: Using the Public API (without authentication), you are limited to 2,000 requests per hour per IP (or up to a total of 48,000 requests a day).\n",
        " - Downloading excel sheets for gold and long vol data\n",
        "\n",
        "> Date Range 2004-12-01 to 2021-9-01"
      ]
    },
    {
      "cell_type": "markdown",
      "metadata": {
        "id": "i6eKTRR89IG9"
      },
      "source": [
        "### Stocks from Yahoo Finance"
      ]
    },
    {
      "cell_type": "code",
      "metadata": {
        "id": "XHFLH39J66dm"
      },
      "source": [
        "# list of tickers required from yahoo finance\n",
        "tickers = ['^BCOM','^SP500TR', 'EEM', 'IEF' , 'AGG']"
      ],
      "execution_count": null,
      "outputs": []
    },
    {
      "cell_type": "code",
      "metadata": {
        "id": "euH7sKMH8Qaq",
        "colab": {
          "base_uri": "https://localhost:8080/"
        },
        "outputId": "629dfd8a-6838-4a4f-c903-ddc769b2f8d0"
      },
      "source": [
        "df_stocks = YahooDownloader(start_date = '2004-12-01',\n",
        "                     end_date = '2021-09-01',\n",
        "                     ticker_list = tickers).fetch_data()"
      ],
      "execution_count": null,
      "outputs": [
        {
          "output_type": "stream",
          "name": "stdout",
          "text": [
            "[*********************100%***********************]  1 of 1 completed\n",
            "[*********************100%***********************]  1 of 1 completed\n",
            "[*********************100%***********************]  1 of 1 completed\n",
            "[*********************100%***********************]  1 of 1 completed\n",
            "[*********************100%***********************]  1 of 1 completed\n",
            "Shape of DataFrame:  (21083, 8)\n"
          ]
        }
      ]
    },
    {
      "cell_type": "code",
      "metadata": {
        "id": "-O0oTVOq8azF"
      },
      "source": [
        "df_stocks.tic = df_stocks.tic.replace({'^BCOM': 'COM', '^SP500TR': 'SNP'})"
      ],
      "execution_count": null,
      "outputs": []
    },
    {
      "cell_type": "markdown",
      "metadata": {
        "id": "phGGYvC184sr"
      },
      "source": [
        "*AGG dividends is not included based on the above"
      ]
    },
    {
      "cell_type": "markdown",
      "metadata": {
        "id": "X3STejbEJRKY"
      },
      "source": [
        "### Indices from Funds and Cash assets"
      ]
    },
    {
      "cell_type": "code",
      "metadata": {
        "id": "MLIVeeXs8mzh"
      },
      "source": [
        "# get dates of stocks valuations\n",
        "dates = df_stocks.date.unique()\n",
        "\n",
        "# extract data from git repo\n",
        "url = [\n",
        "       'https://github.com/changjulian17/DataSciencePortfolio/blob/main/Investment_Portfolio/modern_portfolio_theory/data/gold.xlsx?raw=true',\n",
        "       'https://github.com/changjulian17/DataSciencePortfolio/blob/main/Investment_Portfolio/modern_portfolio_theory/data/long-vol.xlsx?raw=true'\n",
        "]\n",
        "# extract gold data and format\n",
        "df_gold = pd.read_excel(url[0],sheet_name='Daily_Indexed')\n",
        "df_gold = df_gold[['Name', 'US dollar']]\n",
        "df_gold.columns = ['date','close']       # match col names to stocks\n",
        "df_gold['tic'] = 'GLD'                   # add ticker data\n",
        "df_gold = df_gold[df_gold.date.isin(dates)] # slice date range\n",
        "df_gold.date = df_gold.date.dt.strftime('%Y-%m-%d')  # pass date to string\n",
        "\n",
        "# extract long-vol data and format\n",
        "# percentage change is already in excel, so we can skip one step\n",
        "df_lv = pd.read_excel(url[1])  \n",
        "df_lv.columns = df_lv.iloc[2]\n",
        "df_lv = df_lv[3:].set_index('ReturnDate')['Index']\n",
        "df_lv.index = pd.to_datetime(df_lv.index)# set date as index\n",
        "df_lv = df_lv.resample('24h').ffill()    # upsample month returns to daily return by averaging\n",
        "df_lv = df_lv.reset_index()              # set date as column\n",
        "df_lv.columns = ['date','close']         # match col names to stocks\n",
        "df_lv = df_lv[df_lv.date.isin(dates)]    # slice date range\n",
        "df_lv['tic'] = 'LOV'                     # add ticker data\n",
        "df_lv.date = df_lv.date.dt.strftime('%Y-%m-%d')  # pass date to string\n",
        "\n",
        "# extract cash\n",
        "df_cash = pd.DataFrame(dates,columns=['date'])\n",
        "df_cash['tic'], df_cash['close'] = 'CSH', 1"
      ],
      "execution_count": null,
      "outputs": []
    },
    {
      "cell_type": "markdown",
      "metadata": {
        "id": "0I9GYWueCdf6"
      },
      "source": [
        "# Preprocess Data\n",
        "Data preprocessing is a crucial step for training a high quality machine learning model. We need to check for missing data and do feature engineering in order to convert the data into a model-ready state.\n",
        "\n",
        "- Add technical indicators. In practical trading, various information needs to be taken into account, for example the historical stock prices, current holding shares, technical indicators, etc.\n",
        "- Add covariance matrix\n",
        "- Add cash as an asset\n",
        "\n",
        "All the datasets must have date for all the days that the model runs. This is to ensure all tensor calculations is possible"
      ]
    },
    {
      "cell_type": "code",
      "metadata": {
        "colab": {
          "base_uri": "https://localhost:8080/"
        },
        "id": "8l6evamAKPgh",
        "outputId": "b31cc17a-99bb-478c-fafc-aa8fbd7a5683"
      },
      "source": [
        "df_stocks.date.nunique(),df_gold.date.nunique(),df_lv.date.nunique(),df_cash.date.nunique()"
      ],
      "execution_count": null,
      "outputs": [
        {
          "output_type": "execute_result",
          "data": {
            "text/plain": [
              "(4217, 4217, 4217, 4217)"
            ]
          },
          "metadata": {},
          "execution_count": 8
        }
      ]
    },
    {
      "cell_type": "code",
      "metadata": {
        "id": "rdnid8WoMoW5"
      },
      "source": [
        "# combine the datasets\n",
        "df = pd.concat([df_stocks,df_gold,df_lv,df_cash],axis=0).fillna(0)"
      ],
      "execution_count": null,
      "outputs": []
    },
    {
      "cell_type": "code",
      "metadata": {
        "id": "KG3Ac_XKUOar"
      },
      "source": [
        "# BCOM is missing two days '2005-11-25', '2014-09-08'\n",
        "# these dates are removed\n",
        "dates = [date for date in df_stocks.date.unique() if date not in ['2005-11-25', '2014-09-08']]\n",
        "df = df[df['date'].isin(dates)]"
      ],
      "execution_count": null,
      "outputs": []
    },
    {
      "cell_type": "code",
      "metadata": {
        "colab": {
          "base_uri": "https://localhost:8080/"
        },
        "id": "A_rWk4r5L8kX",
        "outputId": "154cbc1c-99c6-4fcc-95d6-d0f1452b14af"
      },
      "source": [
        "df.date.nunique()"
      ],
      "execution_count": null,
      "outputs": [
        {
          "output_type": "execute_result",
          "data": {
            "text/plain": [
              "4215"
            ]
          },
          "metadata": {},
          "execution_count": 11
        }
      ]
    },
    {
      "cell_type": "code",
      "metadata": {
        "colab": {
          "base_uri": "https://localhost:8080/",
          "height": 297
        },
        "id": "kVEYtNJ-kPaE",
        "outputId": "5061b23c-559e-4cdf-b3ef-b75bef198309"
      },
      "source": [
        "df.head(8)"
      ],
      "execution_count": null,
      "outputs": [
        {
          "output_type": "execute_result",
          "data": {
            "text/html": [
              "<div>\n",
              "<style scoped>\n",
              "    .dataframe tbody tr th:only-of-type {\n",
              "        vertical-align: middle;\n",
              "    }\n",
              "\n",
              "    .dataframe tbody tr th {\n",
              "        vertical-align: top;\n",
              "    }\n",
              "\n",
              "    .dataframe thead th {\n",
              "        text-align: right;\n",
              "    }\n",
              "</style>\n",
              "<table border=\"1\" class=\"dataframe\">\n",
              "  <thead>\n",
              "    <tr style=\"text-align: right;\">\n",
              "      <th></th>\n",
              "      <th>date</th>\n",
              "      <th>open</th>\n",
              "      <th>high</th>\n",
              "      <th>low</th>\n",
              "      <th>close</th>\n",
              "      <th>volume</th>\n",
              "      <th>tic</th>\n",
              "      <th>day</th>\n",
              "    </tr>\n",
              "  </thead>\n",
              "  <tbody>\n",
              "    <tr>\n",
              "      <th>0</th>\n",
              "      <td>2004-12-01</td>\n",
              "      <td>101.949997</td>\n",
              "      <td>101.949997</td>\n",
              "      <td>101.510002</td>\n",
              "      <td>59.327103</td>\n",
              "      <td>49000.0</td>\n",
              "      <td>AGG</td>\n",
              "      <td>2.0</td>\n",
              "    </tr>\n",
              "    <tr>\n",
              "      <th>1</th>\n",
              "      <td>2004-12-01</td>\n",
              "      <td>21.799999</td>\n",
              "      <td>21.872223</td>\n",
              "      <td>21.738890</td>\n",
              "      <td>15.839635</td>\n",
              "      <td>6652800.0</td>\n",
              "      <td>EEM</td>\n",
              "      <td>2.0</td>\n",
              "    </tr>\n",
              "    <tr>\n",
              "      <th>2</th>\n",
              "      <td>2004-12-01</td>\n",
              "      <td>84.459999</td>\n",
              "      <td>84.459999</td>\n",
              "      <td>84.099998</td>\n",
              "      <td>54.277710</td>\n",
              "      <td>257600.0</td>\n",
              "      <td>IEF</td>\n",
              "      <td>2.0</td>\n",
              "    </tr>\n",
              "    <tr>\n",
              "      <th>3</th>\n",
              "      <td>2004-12-01</td>\n",
              "      <td>153.320007</td>\n",
              "      <td>153.809998</td>\n",
              "      <td>149.880005</td>\n",
              "      <td>149.880005</td>\n",
              "      <td>0.0</td>\n",
              "      <td>COM</td>\n",
              "      <td>2.0</td>\n",
              "    </tr>\n",
              "    <tr>\n",
              "      <th>4</th>\n",
              "      <td>2004-12-01</td>\n",
              "      <td>1766.900024</td>\n",
              "      <td>1766.900024</td>\n",
              "      <td>1766.900024</td>\n",
              "      <td>1766.900024</td>\n",
              "      <td>0.0</td>\n",
              "      <td>SNP</td>\n",
              "      <td>2.0</td>\n",
              "    </tr>\n",
              "    <tr>\n",
              "      <th>5</th>\n",
              "      <td>2004-12-02</td>\n",
              "      <td>101.669998</td>\n",
              "      <td>101.739998</td>\n",
              "      <td>101.500000</td>\n",
              "      <td>59.438148</td>\n",
              "      <td>51500.0</td>\n",
              "      <td>AGG</td>\n",
              "      <td>3.0</td>\n",
              "    </tr>\n",
              "    <tr>\n",
              "      <th>6</th>\n",
              "      <td>2004-12-02</td>\n",
              "      <td>22.000000</td>\n",
              "      <td>22.000000</td>\n",
              "      <td>21.788889</td>\n",
              "      <td>15.816258</td>\n",
              "      <td>2802600.0</td>\n",
              "      <td>EEM</td>\n",
              "      <td>3.0</td>\n",
              "    </tr>\n",
              "    <tr>\n",
              "      <th>7</th>\n",
              "      <td>2004-12-02</td>\n",
              "      <td>84.040001</td>\n",
              "      <td>84.169998</td>\n",
              "      <td>83.879997</td>\n",
              "      <td>54.155266</td>\n",
              "      <td>886300.0</td>\n",
              "      <td>IEF</td>\n",
              "      <td>3.0</td>\n",
              "    </tr>\n",
              "  </tbody>\n",
              "</table>\n",
              "</div>"
            ],
            "text/plain": [
              "         date         open         high  ...     volume  tic  day\n",
              "0  2004-12-01   101.949997   101.949997  ...    49000.0  AGG  2.0\n",
              "1  2004-12-01    21.799999    21.872223  ...  6652800.0  EEM  2.0\n",
              "2  2004-12-01    84.459999    84.459999  ...   257600.0  IEF  2.0\n",
              "3  2004-12-01   153.320007   153.809998  ...        0.0  COM  2.0\n",
              "4  2004-12-01  1766.900024  1766.900024  ...        0.0  SNP  2.0\n",
              "5  2004-12-02   101.669998   101.739998  ...    51500.0  AGG  3.0\n",
              "6  2004-12-02    22.000000    22.000000  ...  2802600.0  EEM  3.0\n",
              "7  2004-12-02    84.040001    84.169998  ...   886300.0  IEF  3.0\n",
              "\n",
              "[8 rows x 8 columns]"
            ]
          },
          "metadata": {},
          "execution_count": 12
        }
      ]
    },
    {
      "cell_type": "markdown",
      "metadata": {
        "id": "23r9AXqicmaf"
      },
      "source": [
        "## Get Standard Indicators"
      ]
    },
    {
      "cell_type": "code",
      "metadata": {
        "colab": {
          "base_uri": "https://localhost:8080/"
        },
        "id": "71jFBz78BuX1",
        "outputId": "31faae40-96c8-4f4c-e4c6-b7a88a5b809a"
      },
      "source": [
        "fe = FeatureEngineer(\n",
        "                    use_technical_indicator=True,\n",
        "                    use_turbulence=False,\n",
        "                    user_defined_feature = False)\n",
        "\n",
        "df = fe.preprocess_data(df)"
      ],
      "execution_count": null,
      "outputs": [
        {
          "output_type": "stream",
          "name": "stdout",
          "text": [
            "Successfully added technical indicators\n"
          ]
        }
      ]
    },
    {
      "cell_type": "code",
      "metadata": {
        "colab": {
          "base_uri": "https://localhost:8080/"
        },
        "id": "--pGPSIhTu_o",
        "outputId": "f7bf1b91-ee2a-4524-833d-9a9bf6bb7591"
      },
      "source": [
        "df.shape"
      ],
      "execution_count": null,
      "outputs": [
        {
          "output_type": "execute_result",
          "data": {
            "text/plain": [
              "(33720, 16)"
            ]
          },
          "metadata": {},
          "execution_count": 14
        }
      ]
    },
    {
      "cell_type": "code",
      "metadata": {
        "colab": {
          "base_uri": "https://localhost:8080/",
          "height": 405
        },
        "id": "1PkQYH6kCooz",
        "outputId": "24b635c1-cf19-4e7e-8bc6-b810c43fa39d"
      },
      "source": [
        "df.head(8)"
      ],
      "execution_count": null,
      "outputs": [
        {
          "output_type": "execute_result",
          "data": {
            "text/html": [
              "<div>\n",
              "<style scoped>\n",
              "    .dataframe tbody tr th:only-of-type {\n",
              "        vertical-align: middle;\n",
              "    }\n",
              "\n",
              "    .dataframe tbody tr th {\n",
              "        vertical-align: top;\n",
              "    }\n",
              "\n",
              "    .dataframe thead th {\n",
              "        text-align: right;\n",
              "    }\n",
              "</style>\n",
              "<table border=\"1\" class=\"dataframe\">\n",
              "  <thead>\n",
              "    <tr style=\"text-align: right;\">\n",
              "      <th></th>\n",
              "      <th>date</th>\n",
              "      <th>open</th>\n",
              "      <th>high</th>\n",
              "      <th>low</th>\n",
              "      <th>close</th>\n",
              "      <th>volume</th>\n",
              "      <th>tic</th>\n",
              "      <th>day</th>\n",
              "      <th>macd</th>\n",
              "      <th>boll_ub</th>\n",
              "      <th>boll_lb</th>\n",
              "      <th>rsi_30</th>\n",
              "      <th>cci_30</th>\n",
              "      <th>dx_30</th>\n",
              "      <th>close_30_sma</th>\n",
              "      <th>close_60_sma</th>\n",
              "    </tr>\n",
              "  </thead>\n",
              "  <tbody>\n",
              "    <tr>\n",
              "      <th>0</th>\n",
              "      <td>2004-12-01</td>\n",
              "      <td>101.949997</td>\n",
              "      <td>101.949997</td>\n",
              "      <td>101.510002</td>\n",
              "      <td>59.327103</td>\n",
              "      <td>49000.0</td>\n",
              "      <td>AGG</td>\n",
              "      <td>2.0</td>\n",
              "      <td>0.0</td>\n",
              "      <td>59.539668</td>\n",
              "      <td>59.225583</td>\n",
              "      <td>100.0</td>\n",
              "      <td>-66.666667</td>\n",
              "      <td>100.0</td>\n",
              "      <td>59.327103</td>\n",
              "      <td>59.327103</td>\n",
              "    </tr>\n",
              "    <tr>\n",
              "      <th>4215</th>\n",
              "      <td>2004-12-01</td>\n",
              "      <td>153.320007</td>\n",
              "      <td>153.809998</td>\n",
              "      <td>149.880005</td>\n",
              "      <td>149.880005</td>\n",
              "      <td>0.0</td>\n",
              "      <td>COM</td>\n",
              "      <td>2.0</td>\n",
              "      <td>0.0</td>\n",
              "      <td>59.539668</td>\n",
              "      <td>59.225583</td>\n",
              "      <td>100.0</td>\n",
              "      <td>-66.666667</td>\n",
              "      <td>100.0</td>\n",
              "      <td>149.880005</td>\n",
              "      <td>149.880005</td>\n",
              "    </tr>\n",
              "    <tr>\n",
              "      <th>8430</th>\n",
              "      <td>2004-12-01</td>\n",
              "      <td>0.000000</td>\n",
              "      <td>0.000000</td>\n",
              "      <td>0.000000</td>\n",
              "      <td>1.000000</td>\n",
              "      <td>0.0</td>\n",
              "      <td>CSH</td>\n",
              "      <td>0.0</td>\n",
              "      <td>0.0</td>\n",
              "      <td>59.539668</td>\n",
              "      <td>59.225583</td>\n",
              "      <td>100.0</td>\n",
              "      <td>-66.666667</td>\n",
              "      <td>100.0</td>\n",
              "      <td>1.000000</td>\n",
              "      <td>1.000000</td>\n",
              "    </tr>\n",
              "    <tr>\n",
              "      <th>12645</th>\n",
              "      <td>2004-12-01</td>\n",
              "      <td>21.799999</td>\n",
              "      <td>21.872223</td>\n",
              "      <td>21.738890</td>\n",
              "      <td>15.839635</td>\n",
              "      <td>6652800.0</td>\n",
              "      <td>EEM</td>\n",
              "      <td>2.0</td>\n",
              "      <td>0.0</td>\n",
              "      <td>59.539668</td>\n",
              "      <td>59.225583</td>\n",
              "      <td>100.0</td>\n",
              "      <td>-66.666667</td>\n",
              "      <td>100.0</td>\n",
              "      <td>15.839635</td>\n",
              "      <td>15.839635</td>\n",
              "    </tr>\n",
              "    <tr>\n",
              "      <th>16860</th>\n",
              "      <td>2004-12-01</td>\n",
              "      <td>0.000000</td>\n",
              "      <td>0.000000</td>\n",
              "      <td>0.000000</td>\n",
              "      <td>157.350000</td>\n",
              "      <td>0.0</td>\n",
              "      <td>GLD</td>\n",
              "      <td>0.0</td>\n",
              "      <td>0.0</td>\n",
              "      <td>59.539668</td>\n",
              "      <td>59.225583</td>\n",
              "      <td>100.0</td>\n",
              "      <td>-66.666667</td>\n",
              "      <td>100.0</td>\n",
              "      <td>157.350000</td>\n",
              "      <td>157.350000</td>\n",
              "    </tr>\n",
              "    <tr>\n",
              "      <th>21075</th>\n",
              "      <td>2004-12-01</td>\n",
              "      <td>84.459999</td>\n",
              "      <td>84.459999</td>\n",
              "      <td>84.099998</td>\n",
              "      <td>54.277710</td>\n",
              "      <td>257600.0</td>\n",
              "      <td>IEF</td>\n",
              "      <td>2.0</td>\n",
              "      <td>0.0</td>\n",
              "      <td>59.539668</td>\n",
              "      <td>59.225583</td>\n",
              "      <td>100.0</td>\n",
              "      <td>-66.666667</td>\n",
              "      <td>100.0</td>\n",
              "      <td>54.277710</td>\n",
              "      <td>54.277710</td>\n",
              "    </tr>\n",
              "    <tr>\n",
              "      <th>25290</th>\n",
              "      <td>2004-12-01</td>\n",
              "      <td>0.000000</td>\n",
              "      <td>0.000000</td>\n",
              "      <td>0.000000</td>\n",
              "      <td>100.000000</td>\n",
              "      <td>0.0</td>\n",
              "      <td>LOV</td>\n",
              "      <td>0.0</td>\n",
              "      <td>0.0</td>\n",
              "      <td>59.539668</td>\n",
              "      <td>59.225583</td>\n",
              "      <td>100.0</td>\n",
              "      <td>-66.666667</td>\n",
              "      <td>100.0</td>\n",
              "      <td>100.000000</td>\n",
              "      <td>100.000000</td>\n",
              "    </tr>\n",
              "  </tbody>\n",
              "</table>\n",
              "</div>"
            ],
            "text/plain": [
              "             date        open        high  ...  dx_30  close_30_sma  close_60_sma\n",
              "0      2004-12-01  101.949997  101.949997  ...  100.0     59.327103     59.327103\n",
              "4215   2004-12-01  153.320007  153.809998  ...  100.0    149.880005    149.880005\n",
              "8430   2004-12-01    0.000000    0.000000  ...  100.0      1.000000      1.000000\n",
              "12645  2004-12-01   21.799999   21.872223  ...  100.0     15.839635     15.839635\n",
              "16860  2004-12-01    0.000000    0.000000  ...  100.0    157.350000    157.350000\n",
              "21075  2004-12-01   84.459999   84.459999  ...  100.0     54.277710     54.277710\n",
              "25290  2004-12-01    0.000000    0.000000  ...  100.0    100.000000    100.000000\n",
              "\n",
              "[7 rows x 16 columns]"
            ]
          },
          "metadata": {},
          "execution_count": 15
        }
      ]
    },
    {
      "cell_type": "markdown",
      "metadata": {
        "id": "hkblypciQrW4"
      },
      "source": [
        "## Get Covariance Matrix as States\n",
        "\n",
        "The Covariance is calculated based on the price movements in a year. But since this cannot be computed for the first year worth of date therefore data from 2014 will be dropped."
      ]
    },
    {
      "cell_type": "code",
      "metadata": {
        "id": "n4GV2ZMZccEo"
      },
      "source": [
        "# add covariance matrix as states\n",
        "df=df.sort_values(['date','tic'],ignore_index=True)\n",
        "df.index = df.date.factorize()[0]\n",
        "\n",
        "cov_list = []\n",
        "return_list = []\n",
        "\n",
        "# look back is one year\n",
        "lookback=252  # 252 trading days in a year\n",
        "for i in range(lookback,len(df.index.unique())):\n",
        "  data_lookback = df.loc[i-lookback:i,:]\n",
        "  price_lookback=data_lookback.pivot_table(index = 'date',columns = 'tic', values = 'close')\n",
        "  return_lookback = price_lookback.pct_change().dropna()\n",
        "  return_list.append(return_lookback)\n",
        "\n",
        "  covs = return_lookback.cov().values \n",
        "  cov_list.append(covs)\n",
        "\n",
        "  \n",
        "df_cov = pd.DataFrame({'date':df.date.unique()[lookback:],'cov_list':cov_list,'return_list':return_list})\n",
        "df = df.merge(df_cov, on='date')\n",
        "df = df.sort_values(['date','tic']).reset_index(drop=True)"
      ],
      "execution_count": null,
      "outputs": []
    },
    {
      "cell_type": "markdown",
      "metadata": {
        "id": "pS-oupq9wMr3"
      },
      "source": [
        "## Get log differences and month\n",
        "\n",
        "daily log differences for all the closing prices. Add month to help account for seasonality"
      ]
    },
    {
      "cell_type": "code",
      "metadata": {
        "id": "48cP-YLhdWOi"
      },
      "source": [
        "df_list = []\n",
        "\n",
        "for tic in df.tic.unique():\n",
        "  # get log differences for all close prices\n",
        "  deltas = df[df.tic==tic][['close','close_30_sma','close_60_sma']]\\\n",
        "                                  .pct_change().apply(lambda x: np.log(1+x))\n",
        "  deltas.columns = ['close_delta','close_30_sma_delta','close_60_sma_delta']\n",
        "\n",
        "  # add to a list\n",
        "  df_list.append(deltas)\n",
        "\n",
        "df_deltas_combined = pd.concat(df_list).sort_index()\n",
        "df = df.merge(df_deltas_combined,left_index=True,right_index=True)"
      ],
      "execution_count": null,
      "outputs": []
    },
    {
      "cell_type": "code",
      "metadata": {
        "id": "lVafpcaH2k5A"
      },
      "source": [
        "df['month'] = df.date.str.split('-',expand=True)[1].astype('category')"
      ],
      "execution_count": null,
      "outputs": []
    },
    {
      "cell_type": "markdown",
      "metadata": {
        "id": "_SEJ9ZdZwlMb"
      },
      "source": [
        "# Feature selection\n",
        "The RL models used are stationary, so it is important to give stationary features as states"
      ]
    },
    {
      "cell_type": "code",
      "metadata": {
        "id": "39tm8eEadWRg",
        "colab": {
          "base_uri": "https://localhost:8080/"
        },
        "outputId": "344f3e97-9f65-4c1d-becb-d4bb3e53bedc"
      },
      "source": [
        "df = df[[\n",
        "         'date',\n",
        "         'month',\n",
        "         'close', \n",
        "         'volume', \n",
        "         'tic', \n",
        "         'macd',\n",
        "         'rsi_30', \n",
        "         'cci_30', \n",
        "         'dx_30', \n",
        "         'close_30_sma',\n",
        "         'close_60_sma', \n",
        "         'cov_list', \n",
        "         'return_list',\n",
        "         'close_delta',\n",
        "         \"close_30_sma_delta\",\n",
        "         \"close_60_sma_delta\",\n",
        "         ]].dropna()\n",
        "\n",
        "df.shape"
      ],
      "execution_count": null,
      "outputs": [
        {
          "output_type": "execute_result",
          "data": {
            "text/plain": [
              "(31696, 16)"
            ]
          },
          "metadata": {},
          "execution_count": 19
        }
      ]
    },
    {
      "cell_type": "markdown",
      "metadata": {
        "id": "opNjbUwprKQD"
      },
      "source": [
        "# Export"
      ]
    },
    {
      "cell_type": "code",
      "metadata": {
        "id": "gszLslKKvWOk"
      },
      "source": [
        "df.to_pickle('./data/processed_data.pkl')"
      ],
      "execution_count": null,
      "outputs": []
    },
    {
      "cell_type": "markdown",
      "metadata": {
        "id": "qs_ovveZpduy"
      },
      "source": [
        "(continued at train.ipynb)"
      ]
    }
  ]
}