{
  "nbformat": 4,
  "nbformat_minor": 0,
  "metadata": {
    "colab": {
      "name": "preprocessing.ipynb",
      "provenance": [],
      "collapsed_sections": []
    },
    "kernelspec": {
      "name": "python3",
      "display_name": "Python 3"
    },
    "language_info": {
      "name": "python"
    }
  },
  "cells": [
    {
      "cell_type": "markdown",
      "metadata": {
        "id": "kcZXwA-T6tKr"
      },
      "source": [
        "# FinrRL\n",
        "FinRL is the first open-source framework to demonstrate the great potential of applying deep reinforcement learning in quantitative finance. We help practitioners establish the development pipeline of trading strategies using deep reinforcement learning (DRL). A DRL agent learns by continuously interacting with an environment in a trial-and-error manner, making sequential decisions under uncertainty, and achieving a balance between exploration and exploitation."
      ]
    },
    {
      "cell_type": "code",
      "metadata": {
        "id": "G7BToQ2Y4fTN"
      },
      "source": [
        "## install finrl library\n",
        "!pip install git+https://github.com/AI4Finance-LLC/FinRL-Library.git"
      ],
      "execution_count": null,
      "outputs": []
    },
    {
      "cell_type": "code",
      "metadata": {
        "id": "lT6BDRoK6a_s",
        "colab": {
          "base_uri": "https://localhost:8080/"
        },
        "outputId": "5133c8df-2490-4b45-c9db-a8a69d548c32"
      },
      "source": [
        "import pandas as pd\n",
        "import numpy as np\n",
        "import matplotlib\n",
        "import matplotlib.pyplot as plt\n",
        "matplotlib.use('Agg')\n",
        "%matplotlib inline\n",
        "import datetime\n",
        "import calendar\n",
        "\n",
        "from finrl.apps import config\n",
        "from finrl.neo_finrl.preprocessor.yahoodownloader import YahooDownloader\n",
        "from finrl.neo_finrl.preprocessor.preprocessors import FeatureEngineer, data_split\n",
        "from finrl.neo_finrl.env_portfolio_allocation.env_portfolio import StockPortfolioEnv\n",
        "from finrl.drl_agents.stablebaselines3.models import DRLAgent\n",
        "from finrl.plot import backtest_stats, backtest_plot, get_daily_return, get_baseline,convert_daily_return_to_pyfolio_ts\n",
        "\n",
        "\n",
        "import sys\n",
        "sys.path.append(\"../FinRL-Library\")"
      ],
      "execution_count": 2,
      "outputs": [
        {
          "output_type": "stream",
          "name": "stderr",
          "text": [
            "/usr/local/lib/python3.7/dist-packages/pyfolio/pos.py:27: UserWarning: Module \"zipline.assets\" not found; multipliers will not be applied to position notionals.\n",
            "  'Module \"zipline.assets\" not found; multipliers will not be applied'\n"
          ]
        }
      ]
    },
    {
      "cell_type": "code",
      "metadata": {
        "id": "aupwe06w62u1"
      },
      "source": [
        "import os\n",
        "if not os.path.exists(\"./\" + config.DATA_SAVE_DIR):\n",
        "    os.makedirs(\"./\" + config.DATA_SAVE_DIR)\n",
        "if not os.path.exists(\"./\" + config.TRAINED_MODEL_DIR):\n",
        "    os.makedirs(\"./\" + config.TRAINED_MODEL_DIR)\n",
        "if not os.path.exists(\"./\" + config.TENSORBOARD_LOG_DIR):\n",
        "    os.makedirs(\"./\" + config.TENSORBOARD_LOG_DIR)\n",
        "if not os.path.exists(\"./\" + config.RESULTS_DIR):\n",
        "    os.makedirs(\"./\" + config.RESULTS_DIR)"
      ],
      "execution_count": 3,
      "outputs": []
    },
    {
      "cell_type": "markdown",
      "metadata": {
        "id": "qWGu36Hs6_M4"
      },
      "source": [
        "## Download Data\n",
        "\n",
        " - Using FinRL to download stock data \n",
        "  - Yahoo Finance is a website that provides stock data, financial news, financial reports, etc. All the data provided by Yahoo Finance is free. FinRL uses a class YahooDownloader to fetch data from Yahoo Finance API\n",
        "Call Limit: Using the Public API (without authentication), you are limited to 2,000 requests per hour per IP (or up to a total of 48,000 requests a day).\n",
        " - Downloading excel sheets for gold and long vol data\n",
        "\n",
        "> Date Range 2004-12-01 to 2021-9-01"
      ]
    },
    {
      "cell_type": "markdown",
      "metadata": {
        "id": "i6eKTRR89IG9"
      },
      "source": [
        "### Stocks from Yahoo Finance"
      ]
    },
    {
      "cell_type": "code",
      "metadata": {
        "id": "XHFLH39J66dm"
      },
      "source": [
        "# list of tickers required from yahoo finance\n",
        "tickers = ['^BCOM','^SP500TR', 'EEM', 'IEF' , 'AGG']"
      ],
      "execution_count": 4,
      "outputs": []
    },
    {
      "cell_type": "code",
      "metadata": {
        "colab": {
          "base_uri": "https://localhost:8080/"
        },
        "id": "euH7sKMH8Qaq",
        "outputId": "2ac3a205-3f99-4971-ff88-53de84264b92"
      },
      "source": [
        "df_stocks = YahooDownloader(start_date = '2004-12-01',\n",
        "                     end_date = '2021-09-01',\n",
        "                     ticker_list = tickers).fetch_data()"
      ],
      "execution_count": 5,
      "outputs": [
        {
          "output_type": "stream",
          "name": "stdout",
          "text": [
            "[*********************100%***********************]  1 of 1 completed\n",
            "[*********************100%***********************]  1 of 1 completed\n",
            "[*********************100%***********************]  1 of 1 completed\n",
            "[*********************100%***********************]  1 of 1 completed\n",
            "[*********************100%***********************]  1 of 1 completed\n",
            "Shape of DataFrame:  (21083, 8)\n"
          ]
        }
      ]
    },
    {
      "cell_type": "code",
      "metadata": {
        "id": "-O0oTVOq8azF"
      },
      "source": [
        "df_stocks.tic = df_stocks.tic.replace({'^BCOM': 'COM', '^SP500TR': 'SNP'})"
      ],
      "execution_count": 6,
      "outputs": []
    },
    {
      "cell_type": "markdown",
      "metadata": {
        "id": "phGGYvC184sr"
      },
      "source": [
        "*AGG dividends is not included based on the above"
      ]
    },
    {
      "cell_type": "code",
      "metadata": {
        "id": "MLIVeeXs8mzh"
      },
      "source": [
        "# get dates of stocks valuations\n",
        "dates = df_stocks.date.unique()\n",
        "\n",
        "# extract data from git repo\n",
        "url = [\n",
        "       'https://github.com/changjulian17/DataSciencePortfolio/blob/main/Investment_Portfolio/data/gold.xlsx?raw=true',\n",
        "       'https://github.com/changjulian17/DataSciencePortfolio/blob/main/Investment_Portfolio/data/long-vol.xlsx?raw=true'\n",
        "]\n",
        "# extract gold data and format\n",
        "df_gold = pd.read_excel(url[0],sheet_name='Daily_Indexed')\n",
        "df_gold = df_gold[['Name', 'US dollar']]\n",
        "df_gold.columns = ['date','close']       # match col names to stocks\n",
        "df_gold['tic'] = 'GLD'                   # add ticker data\n",
        "df_gold = df_gold[df_gold.date.isin(dates)] # slice date range\n",
        "df_gold.date = df_gold.date.dt.strftime('%Y-%m-%d')  # pass date to string\n",
        "\n",
        "# extract long-vol data and format\n",
        "# percentage change is already in excel, so we can skip one step\n",
        "df_lv = pd.read_excel(url[1])  \n",
        "df_lv.columns = df_lv.iloc[2]\n",
        "df_lv = df_lv[3:].set_index('ReturnDate')['Index']\n",
        "df_lv.index = pd.to_datetime(df_lv.index)# set date as index\n",
        "df_lv = df_lv.resample('24h').ffill()    # upsample month returns to daily return by averaging\n",
        "df_lv = df_lv.reset_index()              # set date as column\n",
        "df_lv.columns = ['date','close']         # match col names to stocks\n",
        "df_lv = df_lv[df_lv.date.isin(dates)]    # slice date range\n",
        "df_lv['tic'] = 'LOV'                     # add ticker data\n",
        "df_lv.date = df_lv.date.dt.strftime('%Y-%m-%d')  # pass date to string"
      ],
      "execution_count": 7,
      "outputs": []
    },
    {
      "cell_type": "markdown",
      "metadata": {
        "id": "0I9GYWueCdf6"
      },
      "source": [
        "# Preprocess Data\n",
        "Data preprocessing is a crucial step for training a high quality machine learning model. We need to check for missing data and do feature engineering in order to convert the data into a model-ready state.\n",
        "\n",
        "- Add technical indicators. In practical trading, various information needs to be taken into account, for example the historical stock prices, current holding shares, technical indicators, etc. In this article, we demonstrate two trend-following technical indicators: MACD and RSI.\n",
        "- Add turbulence index. Risk-aversion reflects whether an investor will choose to preserve the capital. It also influences one's trading strategy when facing different market volatility level. To control the risk in a worst-case scenario, such as financial crisis of 2007–2008, FinRL employs the financial turbulence index that measures extreme asset price fluctuation.\n",
        "\n",
        "All the datasets must have date for all the days that the model runs. This is to ensure all tensor calculations is possible"
      ]
    },
    {
      "cell_type": "code",
      "metadata": {
        "colab": {
          "base_uri": "https://localhost:8080/"
        },
        "id": "8l6evamAKPgh",
        "outputId": "f83cfa79-a4c2-4439-f9ae-afff36be9def"
      },
      "source": [
        "df_stocks.date.nunique(),df_gold.date.nunique(),df_lv.date.nunique()"
      ],
      "execution_count": 8,
      "outputs": [
        {
          "output_type": "execute_result",
          "data": {
            "text/plain": [
              "(4217, 4217, 4217)"
            ]
          },
          "metadata": {},
          "execution_count": 8
        }
      ]
    },
    {
      "cell_type": "code",
      "metadata": {
        "id": "rdnid8WoMoW5"
      },
      "source": [
        "# combine the datasets\n",
        "df = pd.concat([df_stocks,df_gold,df_lv],axis=0).fillna(0)"
      ],
      "execution_count": 9,
      "outputs": []
    },
    {
      "cell_type": "code",
      "metadata": {
        "id": "KG3Ac_XKUOar"
      },
      "source": [
        "# BCOM is missing two days '2005-11-25', '2014-09-08'\n",
        "# these dates are removed\n",
        "dates = [date for date in df_stocks.date.unique() if date not in ['2005-11-25', '2014-09-08']]\n",
        "df = df[df['date'].isin(dates)]"
      ],
      "execution_count": 12,
      "outputs": []
    },
    {
      "cell_type": "code",
      "metadata": {
        "colab": {
          "base_uri": "https://localhost:8080/"
        },
        "id": "A_rWk4r5L8kX",
        "outputId": "73e7fd93-edbb-48e0-bc4b-b348b71ac317"
      },
      "source": [
        "df.date.nunique()"
      ],
      "execution_count": 14,
      "outputs": [
        {
          "output_type": "execute_result",
          "data": {
            "text/plain": [
              "4215"
            ]
          },
          "metadata": {},
          "execution_count": 14
        }
      ]
    },
    {
      "cell_type": "markdown",
      "metadata": {
        "id": "23r9AXqicmaf"
      },
      "source": [
        "## Get Standard Indicators"
      ]
    },
    {
      "cell_type": "code",
      "metadata": {
        "colab": {
          "base_uri": "https://localhost:8080/"
        },
        "id": "71jFBz78BuX1",
        "outputId": "95d447a3-3b22-4ec4-d076-2937febd8e1a"
      },
      "source": [
        "fe = FeatureEngineer(\n",
        "                    use_technical_indicator=True,\n",
        "                    use_turbulence=False,\n",
        "                    user_defined_feature = False)\n",
        "\n",
        "#there is an issue with featureEngineer which omits BCOM\n",
        "# all df and bcom is processed separately then joined\n",
        "df = pd.concat([fe.preprocess_data(df)] \\\n",
        "               ,axis=0 \\\n",
        "               ,ignore_index=True) \\\n",
        "                    .sort_values(by='date').reset_index(drop=True)"
      ],
      "execution_count": 15,
      "outputs": [
        {
          "output_type": "stream",
          "name": "stdout",
          "text": [
            "Successfully added technical indicators\n"
          ]
        }
      ]
    },
    {
      "cell_type": "code",
      "metadata": {
        "colab": {
          "base_uri": "https://localhost:8080/"
        },
        "id": "--pGPSIhTu_o",
        "outputId": "7bc10f3b-cbeb-4cfd-abea-7242541574be"
      },
      "source": [
        "df.shape"
      ],
      "execution_count": 16,
      "outputs": [
        {
          "output_type": "execute_result",
          "data": {
            "text/plain": [
              "(29505, 16)"
            ]
          },
          "metadata": {},
          "execution_count": 16
        }
      ]
    },
    {
      "cell_type": "code",
      "metadata": {
        "colab": {
          "base_uri": "https://localhost:8080/",
          "height": 266
        },
        "id": "1PkQYH6kCooz",
        "outputId": "69d07124-46a9-42d1-d66c-cecd7e1e4fb5"
      },
      "source": [
        "df.head(7)"
      ],
      "execution_count": 17,
      "outputs": [
        {
          "output_type": "execute_result",
          "data": {
            "text/html": [
              "<div>\n",
              "<style scoped>\n",
              "    .dataframe tbody tr th:only-of-type {\n",
              "        vertical-align: middle;\n",
              "    }\n",
              "\n",
              "    .dataframe tbody tr th {\n",
              "        vertical-align: top;\n",
              "    }\n",
              "\n",
              "    .dataframe thead th {\n",
              "        text-align: right;\n",
              "    }\n",
              "</style>\n",
              "<table border=\"1\" class=\"dataframe\">\n",
              "  <thead>\n",
              "    <tr style=\"text-align: right;\">\n",
              "      <th></th>\n",
              "      <th>date</th>\n",
              "      <th>open</th>\n",
              "      <th>high</th>\n",
              "      <th>low</th>\n",
              "      <th>close</th>\n",
              "      <th>volume</th>\n",
              "      <th>tic</th>\n",
              "      <th>day</th>\n",
              "      <th>macd</th>\n",
              "      <th>boll_ub</th>\n",
              "      <th>boll_lb</th>\n",
              "      <th>rsi_30</th>\n",
              "      <th>cci_30</th>\n",
              "      <th>dx_30</th>\n",
              "      <th>close_30_sma</th>\n",
              "      <th>close_60_sma</th>\n",
              "    </tr>\n",
              "  </thead>\n",
              "  <tbody>\n",
              "    <tr>\n",
              "      <th>0</th>\n",
              "      <td>2004-12-01</td>\n",
              "      <td>101.949997</td>\n",
              "      <td>101.949997</td>\n",
              "      <td>101.510002</td>\n",
              "      <td>59.411003</td>\n",
              "      <td>49000.0</td>\n",
              "      <td>AGG</td>\n",
              "      <td>2.0</td>\n",
              "      <td>0.0</td>\n",
              "      <td>59.623912</td>\n",
              "      <td>59.30932</td>\n",
              "      <td>100.0</td>\n",
              "      <td>-66.666667</td>\n",
              "      <td>100.0</td>\n",
              "      <td>59.411003</td>\n",
              "      <td>59.411003</td>\n",
              "    </tr>\n",
              "    <tr>\n",
              "      <th>1</th>\n",
              "      <td>2004-12-01</td>\n",
              "      <td>153.320007</td>\n",
              "      <td>153.809998</td>\n",
              "      <td>149.880005</td>\n",
              "      <td>149.880005</td>\n",
              "      <td>0.0</td>\n",
              "      <td>COM</td>\n",
              "      <td>2.0</td>\n",
              "      <td>0.0</td>\n",
              "      <td>59.623912</td>\n",
              "      <td>59.30932</td>\n",
              "      <td>100.0</td>\n",
              "      <td>-66.666667</td>\n",
              "      <td>100.0</td>\n",
              "      <td>149.880005</td>\n",
              "      <td>149.880005</td>\n",
              "    </tr>\n",
              "    <tr>\n",
              "      <th>2</th>\n",
              "      <td>2004-12-01</td>\n",
              "      <td>21.799999</td>\n",
              "      <td>21.872223</td>\n",
              "      <td>21.738890</td>\n",
              "      <td>15.839629</td>\n",
              "      <td>6652800.0</td>\n",
              "      <td>EEM</td>\n",
              "      <td>2.0</td>\n",
              "      <td>0.0</td>\n",
              "      <td>59.623912</td>\n",
              "      <td>59.30932</td>\n",
              "      <td>100.0</td>\n",
              "      <td>-66.666667</td>\n",
              "      <td>100.0</td>\n",
              "      <td>15.839629</td>\n",
              "      <td>15.839629</td>\n",
              "    </tr>\n",
              "    <tr>\n",
              "      <th>3</th>\n",
              "      <td>2004-12-01</td>\n",
              "      <td>0.000000</td>\n",
              "      <td>0.000000</td>\n",
              "      <td>0.000000</td>\n",
              "      <td>157.350000</td>\n",
              "      <td>0.0</td>\n",
              "      <td>GLD</td>\n",
              "      <td>0.0</td>\n",
              "      <td>0.0</td>\n",
              "      <td>59.623912</td>\n",
              "      <td>59.30932</td>\n",
              "      <td>100.0</td>\n",
              "      <td>-66.666667</td>\n",
              "      <td>100.0</td>\n",
              "      <td>157.350000</td>\n",
              "      <td>157.350000</td>\n",
              "    </tr>\n",
              "    <tr>\n",
              "      <th>4</th>\n",
              "      <td>2004-12-01</td>\n",
              "      <td>84.459999</td>\n",
              "      <td>84.459999</td>\n",
              "      <td>84.099998</td>\n",
              "      <td>54.318985</td>\n",
              "      <td>257600.0</td>\n",
              "      <td>IEF</td>\n",
              "      <td>2.0</td>\n",
              "      <td>0.0</td>\n",
              "      <td>59.623912</td>\n",
              "      <td>59.30932</td>\n",
              "      <td>100.0</td>\n",
              "      <td>-66.666667</td>\n",
              "      <td>100.0</td>\n",
              "      <td>54.318985</td>\n",
              "      <td>54.318985</td>\n",
              "    </tr>\n",
              "    <tr>\n",
              "      <th>5</th>\n",
              "      <td>2004-12-01</td>\n",
              "      <td>0.000000</td>\n",
              "      <td>0.000000</td>\n",
              "      <td>0.000000</td>\n",
              "      <td>100.000000</td>\n",
              "      <td>0.0</td>\n",
              "      <td>LOV</td>\n",
              "      <td>0.0</td>\n",
              "      <td>0.0</td>\n",
              "      <td>59.623912</td>\n",
              "      <td>59.30932</td>\n",
              "      <td>100.0</td>\n",
              "      <td>-66.666667</td>\n",
              "      <td>100.0</td>\n",
              "      <td>100.000000</td>\n",
              "      <td>100.000000</td>\n",
              "    </tr>\n",
              "    <tr>\n",
              "      <th>6</th>\n",
              "      <td>2004-12-01</td>\n",
              "      <td>1766.900024</td>\n",
              "      <td>1766.900024</td>\n",
              "      <td>1766.900024</td>\n",
              "      <td>1766.900024</td>\n",
              "      <td>0.0</td>\n",
              "      <td>SNP</td>\n",
              "      <td>2.0</td>\n",
              "      <td>0.0</td>\n",
              "      <td>59.623912</td>\n",
              "      <td>59.30932</td>\n",
              "      <td>100.0</td>\n",
              "      <td>-66.666667</td>\n",
              "      <td>100.0</td>\n",
              "      <td>1766.900024</td>\n",
              "      <td>1766.900024</td>\n",
              "    </tr>\n",
              "  </tbody>\n",
              "</table>\n",
              "</div>"
            ],
            "text/plain": [
              "         date         open         high  ...  dx_30  close_30_sma  close_60_sma\n",
              "0  2004-12-01   101.949997   101.949997  ...  100.0     59.411003     59.411003\n",
              "1  2004-12-01   153.320007   153.809998  ...  100.0    149.880005    149.880005\n",
              "2  2004-12-01    21.799999    21.872223  ...  100.0     15.839629     15.839629\n",
              "3  2004-12-01     0.000000     0.000000  ...  100.0    157.350000    157.350000\n",
              "4  2004-12-01    84.459999    84.459999  ...  100.0     54.318985     54.318985\n",
              "5  2004-12-01     0.000000     0.000000  ...  100.0    100.000000    100.000000\n",
              "6  2004-12-01  1766.900024  1766.900024  ...  100.0   1766.900024   1766.900024\n",
              "\n",
              "[7 rows x 16 columns]"
            ]
          },
          "metadata": {},
          "execution_count": 17
        }
      ]
    },
    {
      "cell_type": "markdown",
      "metadata": {
        "id": "hkblypciQrW4"
      },
      "source": [
        "## Get Covariance Matrix as States\n",
        "\n",
        "The Covariance is calculated based on the price movements in a year. But since this cannot be computed for the first year worth of date therefore data from 2014 will be dropped."
      ]
    },
    {
      "cell_type": "code",
      "metadata": {
        "id": "n4GV2ZMZccEo"
      },
      "source": [
        "# add covariance matrix as states\n",
        "df=df.sort_values(['date','tic'],ignore_index=True)\n",
        "df.index = df.date.factorize()[0]\n",
        "\n",
        "cov_list = []\n",
        "return_list = []\n",
        "\n",
        "# look back is one year\n",
        "lookback=252  # 252 trading days in a year\n",
        "for i in range(lookback,len(df.index.unique())):\n",
        "  data_lookback = df.loc[i-lookback:i,:]\n",
        "  price_lookback=data_lookback.pivot_table(index = 'date',columns = 'tic', values = 'close')\n",
        "  return_lookback = price_lookback.pct_change().dropna()\n",
        "  return_list.append(return_lookback)\n",
        "\n",
        "  covs = return_lookback.cov().values \n",
        "  cov_list.append(covs)\n",
        "\n",
        "  \n",
        "df_cov = pd.DataFrame({'date':df.date.unique()[lookback:],'cov_list':cov_list,'return_list':return_list})\n",
        "df = df.merge(df_cov, on='date')\n",
        "df = df.sort_values(['date','tic']).reset_index(drop=True)"
      ],
      "execution_count": 18,
      "outputs": []
    },
    {
      "cell_type": "code",
      "metadata": {
        "colab": {
          "base_uri": "https://localhost:8080/"
        },
        "id": "MhnjNHP-c1Ww",
        "outputId": "8b8aac4a-800e-49cd-8b1c-a191daae029d"
      },
      "source": [
        "df.shape"
      ],
      "execution_count": 19,
      "outputs": [
        {
          "output_type": "execute_result",
          "data": {
            "text/plain": [
              "(27741, 18)"
            ]
          },
          "metadata": {},
          "execution_count": 19
        }
      ]
    },
    {
      "cell_type": "code",
      "metadata": {
        "colab": {
          "base_uri": "https://localhost:8080/",
          "height": 643
        },
        "id": "OqaiggV6dC1D",
        "outputId": "23cab3ff-2100-4ec8-ddca-b3da8be3183e"
      },
      "source": [
        "df.head(7)"
      ],
      "execution_count": 20,
      "outputs": [
        {
          "output_type": "execute_result",
          "data": {
            "text/html": [
              "<div>\n",
              "<style scoped>\n",
              "    .dataframe tbody tr th:only-of-type {\n",
              "        vertical-align: middle;\n",
              "    }\n",
              "\n",
              "    .dataframe tbody tr th {\n",
              "        vertical-align: top;\n",
              "    }\n",
              "\n",
              "    .dataframe thead th {\n",
              "        text-align: right;\n",
              "    }\n",
              "</style>\n",
              "<table border=\"1\" class=\"dataframe\">\n",
              "  <thead>\n",
              "    <tr style=\"text-align: right;\">\n",
              "      <th></th>\n",
              "      <th>date</th>\n",
              "      <th>open</th>\n",
              "      <th>high</th>\n",
              "      <th>low</th>\n",
              "      <th>close</th>\n",
              "      <th>volume</th>\n",
              "      <th>tic</th>\n",
              "      <th>day</th>\n",
              "      <th>macd</th>\n",
              "      <th>boll_ub</th>\n",
              "      <th>boll_lb</th>\n",
              "      <th>rsi_30</th>\n",
              "      <th>cci_30</th>\n",
              "      <th>dx_30</th>\n",
              "      <th>close_30_sma</th>\n",
              "      <th>close_60_sma</th>\n",
              "      <th>cov_list</th>\n",
              "      <th>return_list</th>\n",
              "    </tr>\n",
              "  </thead>\n",
              "  <tbody>\n",
              "    <tr>\n",
              "      <th>0</th>\n",
              "      <td>2005-12-01</td>\n",
              "      <td>99.900002</td>\n",
              "      <td>100.110001</td>\n",
              "      <td>99.519997</td>\n",
              "      <td>60.696129</td>\n",
              "      <td>520700.0</td>\n",
              "      <td>AGG</td>\n",
              "      <td>3.0</td>\n",
              "      <td>0.022095</td>\n",
              "      <td>61.125890</td>\n",
              "      <td>60.233496</td>\n",
              "      <td>46.969058</td>\n",
              "      <td>-60.765433</td>\n",
              "      <td>26.937726</td>\n",
              "      <td>60.702300</td>\n",
              "      <td>60.953128</td>\n",
              "      <td>[[4.456546252710798e-06, -2.026681109035418e-0...</td>\n",
              "      <td>tic              AGG       COM       EEM      ...</td>\n",
              "    </tr>\n",
              "    <tr>\n",
              "      <th>1</th>\n",
              "      <td>2005-12-01</td>\n",
              "      <td>166.789993</td>\n",
              "      <td>170.270004</td>\n",
              "      <td>166.789993</td>\n",
              "      <td>169.940002</td>\n",
              "      <td>0.0</td>\n",
              "      <td>COM</td>\n",
              "      <td>3.0</td>\n",
              "      <td>-1.074083</td>\n",
              "      <td>168.988715</td>\n",
              "      <td>162.738290</td>\n",
              "      <td>52.292436</td>\n",
              "      <td>44.659020</td>\n",
              "      <td>7.052643</td>\n",
              "      <td>167.457001</td>\n",
              "      <td>170.427833</td>\n",
              "      <td>[[4.456546252710798e-06, -2.026681109035418e-0...</td>\n",
              "      <td>tic              AGG       COM       EEM      ...</td>\n",
              "    </tr>\n",
              "    <tr>\n",
              "      <th>2</th>\n",
              "      <td>2005-12-01</td>\n",
              "      <td>28.283333</td>\n",
              "      <td>28.833332</td>\n",
              "      <td>28.283333</td>\n",
              "      <td>21.119377</td>\n",
              "      <td>7673100.0</td>\n",
              "      <td>EEM</td>\n",
              "      <td>3.0</td>\n",
              "      <td>0.304364</td>\n",
              "      <td>21.032070</td>\n",
              "      <td>19.770905</td>\n",
              "      <td>60.168543</td>\n",
              "      <td>122.724279</td>\n",
              "      <td>28.843042</td>\n",
              "      <td>19.964131</td>\n",
              "      <td>19.969270</td>\n",
              "      <td>[[4.456546252710798e-06, -2.026681109035418e-0...</td>\n",
              "      <td>tic              AGG       COM       EEM      ...</td>\n",
              "    </tr>\n",
              "    <tr>\n",
              "      <th>3</th>\n",
              "      <td>2005-12-01</td>\n",
              "      <td>0.000000</td>\n",
              "      <td>0.000000</td>\n",
              "      <td>0.000000</td>\n",
              "      <td>173.640000</td>\n",
              "      <td>0.0</td>\n",
              "      <td>GLD</td>\n",
              "      <td>0.0</td>\n",
              "      <td>2.939711</td>\n",
              "      <td>176.091027</td>\n",
              "      <td>155.306973</td>\n",
              "      <td>66.773536</td>\n",
              "      <td>155.922795</td>\n",
              "      <td>28.843042</td>\n",
              "      <td>164.670333</td>\n",
              "      <td>162.871333</td>\n",
              "      <td>[[4.456546252710798e-06, -2.026681109035418e-0...</td>\n",
              "      <td>tic              AGG       COM       EEM      ...</td>\n",
              "    </tr>\n",
              "    <tr>\n",
              "      <th>4</th>\n",
              "      <td>2005-12-01</td>\n",
              "      <td>83.099998</td>\n",
              "      <td>83.239998</td>\n",
              "      <td>82.750000</td>\n",
              "      <td>55.536125</td>\n",
              "      <td>321100.0</td>\n",
              "      <td>IEF</td>\n",
              "      <td>3.0</td>\n",
              "      <td>0.045126</td>\n",
              "      <td>56.085167</td>\n",
              "      <td>54.809773</td>\n",
              "      <td>47.859808</td>\n",
              "      <td>-13.470797</td>\n",
              "      <td>18.743677</td>\n",
              "      <td>55.456889</td>\n",
              "      <td>55.809508</td>\n",
              "      <td>[[4.456546252710798e-06, -2.026681109035418e-0...</td>\n",
              "      <td>tic              AGG       COM       EEM      ...</td>\n",
              "    </tr>\n",
              "    <tr>\n",
              "      <th>5</th>\n",
              "      <td>2005-12-01</td>\n",
              "      <td>0.000000</td>\n",
              "      <td>0.000000</td>\n",
              "      <td>0.000000</td>\n",
              "      <td>105.212552</td>\n",
              "      <td>0.0</td>\n",
              "      <td>LOV</td>\n",
              "      <td>0.0</td>\n",
              "      <td>0.625454</td>\n",
              "      <td>104.578579</td>\n",
              "      <td>103.450777</td>\n",
              "      <td>84.378224</td>\n",
              "      <td>100.822624</td>\n",
              "      <td>18.743677</td>\n",
              "      <td>102.936849</td>\n",
              "      <td>102.396800</td>\n",
              "      <td>[[4.456546252710798e-06, -2.026681109035418e-0...</td>\n",
              "      <td>tic              AGG       COM       EEM      ...</td>\n",
              "    </tr>\n",
              "    <tr>\n",
              "      <th>6</th>\n",
              "      <td>2005-12-01</td>\n",
              "      <td>1910.229980</td>\n",
              "      <td>1910.229980</td>\n",
              "      <td>1910.229980</td>\n",
              "      <td>1910.229980</td>\n",
              "      <td>0.0</td>\n",
              "      <td>SNP</td>\n",
              "      <td>3.0</td>\n",
              "      <td>22.514496</td>\n",
              "      <td>1923.324009</td>\n",
              "      <td>1815.232022</td>\n",
              "      <td>61.531653</td>\n",
              "      <td>124.376930</td>\n",
              "      <td>34.557673</td>\n",
              "      <td>1845.098348</td>\n",
              "      <td>1834.943337</td>\n",
              "      <td>[[4.456546252710798e-06, -2.026681109035418e-0...</td>\n",
              "      <td>tic              AGG       COM       EEM      ...</td>\n",
              "    </tr>\n",
              "  </tbody>\n",
              "</table>\n",
              "</div>"
            ],
            "text/plain": [
              "         date  ...                                        return_list\n",
              "0  2005-12-01  ...  tic              AGG       COM       EEM      ...\n",
              "1  2005-12-01  ...  tic              AGG       COM       EEM      ...\n",
              "2  2005-12-01  ...  tic              AGG       COM       EEM      ...\n",
              "3  2005-12-01  ...  tic              AGG       COM       EEM      ...\n",
              "4  2005-12-01  ...  tic              AGG       COM       EEM      ...\n",
              "5  2005-12-01  ...  tic              AGG       COM       EEM      ...\n",
              "6  2005-12-01  ...  tic              AGG       COM       EEM      ...\n",
              "\n",
              "[7 rows x 18 columns]"
            ]
          },
          "metadata": {},
          "execution_count": 20
        }
      ]
    },
    {
      "cell_type": "code",
      "metadata": {
        "id": "gszLslKKvWOk"
      },
      "source": [
        "df.to_pickle('processed_data.pkl')"
      ],
      "execution_count": 21,
      "outputs": []
    }
  ]
}