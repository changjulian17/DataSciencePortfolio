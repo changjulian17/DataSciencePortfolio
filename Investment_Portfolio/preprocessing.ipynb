{
  "nbformat": 4,
  "nbformat_minor": 0,
  "metadata": {
    "colab": {
      "name": "preprocessing.ipynb",
      "provenance": [],
      "collapsed_sections": []
    },
    "kernelspec": {
      "name": "python3",
      "display_name": "Python 3"
    },
    "language_info": {
      "name": "python"
    }
  },
  "cells": [
    {
      "cell_type": "markdown",
      "metadata": {
        "id": "kcZXwA-T6tKr"
      },
      "source": [
        "# FinrRL\n",
        "FinRL is the first open-source framework to demonstrate the great potential of applying deep reinforcement learning in quantitative finance. We help practitioners establish the development pipeline of trading strategies using deep reinforcement learning (DRL). A DRL agent learns by continuously interacting with an environment in a trial-and-error manner, making sequential decisions under uncertainty, and achieving a balance between exploration and exploitation."
      ]
    },
    {
      "cell_type": "code",
      "metadata": {
        "id": "G7BToQ2Y4fTN",
        "colab": {
          "base_uri": "https://localhost:8080/"
        },
        "outputId": "cbb2b16f-1f9e-4f01-f3ea-8afbb0c62d97"
      },
      "source": [
        "## install finrl library\n",
        "!pip install git+https://github.com/AI4Finance-LLC/FinRL-Library.git"
      ],
      "execution_count": 1,
      "outputs": [
        {
          "output_type": "stream",
          "name": "stdout",
          "text": [
            "Collecting git+https://github.com/AI4Finance-LLC/FinRL-Library.git\n",
            "  Cloning https://github.com/AI4Finance-LLC/FinRL-Library.git to /tmp/pip-req-build-k0h17iu8\n",
            "  Running command git clone -q https://github.com/AI4Finance-LLC/FinRL-Library.git /tmp/pip-req-build-k0h17iu8\n",
            "Collecting pyfolio@ git+https://github.com/quantopian/pyfolio.git#egg=pyfolio-0.9.2\n",
            "  Cloning https://github.com/quantopian/pyfolio.git to /tmp/pip-install-siw_n_38/pyfolio_b824b2b136624ff5bcb503d93db551d5\n",
            "  Running command git clone -q https://github.com/quantopian/pyfolio.git /tmp/pip-install-siw_n_38/pyfolio_b824b2b136624ff5bcb503d93db551d5\n",
            "Collecting elegantrl@ git+https://github.com/AI4Finance-Foundation/ElegantRL.git#egg=elegantrl\n",
            "  Cloning https://github.com/AI4Finance-Foundation/ElegantRL.git to /tmp/pip-install-siw_n_38/elegantrl_e39e273dac13444aac5668e3269c2d86\n",
            "  Running command git clone -q https://github.com/AI4Finance-Foundation/ElegantRL.git /tmp/pip-install-siw_n_38/elegantrl_e39e273dac13444aac5668e3269c2d86\n",
            "Requirement already satisfied: numpy>=1.17.3 in /usr/local/lib/python3.7/dist-packages (from finrl==0.3.3) (1.19.5)\n",
            "Requirement already satisfied: pandas>=1.1.5 in /usr/local/lib/python3.7/dist-packages (from finrl==0.3.3) (1.1.5)\n",
            "Requirement already satisfied: stockstats in /usr/local/lib/python3.7/dist-packages (from finrl==0.3.3) (0.3.2)\n",
            "Requirement already satisfied: yfinance in /usr/local/lib/python3.7/dist-packages (from finrl==0.3.3) (0.1.64)\n",
            "Requirement already satisfied: elegantrl in /usr/local/lib/python3.7/dist-packages (from finrl==0.3.3) (0.3.2)\n",
            "Requirement already satisfied: matplotlib in /usr/local/lib/python3.7/dist-packages (from finrl==0.3.3) (3.2.2)\n",
            "Requirement already satisfied: scikit-learn>=0.21.0 in /usr/local/lib/python3.7/dist-packages (from finrl==0.3.3) (0.22.2.post1)\n",
            "Requirement already satisfied: gym>=0.17 in /usr/local/lib/python3.7/dist-packages (from finrl==0.3.3) (0.17.3)\n",
            "Requirement already satisfied: stable-baselines3[extra] in /usr/local/lib/python3.7/dist-packages (from finrl==0.3.3) (1.3.0)\n",
            "Requirement already satisfied: ray[default] in /usr/local/lib/python3.7/dist-packages (from finrl==0.3.3) (1.8.0)\n",
            "Requirement already satisfied: lz4 in /usr/local/lib/python3.7/dist-packages (from finrl==0.3.3) (3.1.3)\n",
            "Requirement already satisfied: tensorboardX in /usr/local/lib/python3.7/dist-packages (from finrl==0.3.3) (2.4)\n",
            "Requirement already satisfied: gputil in /usr/local/lib/python3.7/dist-packages (from finrl==0.3.3) (1.4.0)\n",
            "Requirement already satisfied: trading_calendars in /usr/local/lib/python3.7/dist-packages (from finrl==0.3.3) (2.1.1)\n",
            "Requirement already satisfied: alpaca_trade_api in /usr/local/lib/python3.7/dist-packages (from finrl==0.3.3) (1.4.1)\n",
            "Requirement already satisfied: ccxt in /usr/local/lib/python3.7/dist-packages (from finrl==0.3.3) (1.60.86)\n",
            "Requirement already satisfied: jqdatasdk in /usr/local/lib/python3.7/dist-packages (from finrl==0.3.3) (1.8.10)\n",
            "Requirement already satisfied: wrds in /usr/local/lib/python3.7/dist-packages (from finrl==0.3.3) (3.1.1)\n",
            "Requirement already satisfied: pytest in /usr/local/lib/python3.7/dist-packages (from finrl==0.3.3) (3.6.4)\n",
            "Requirement already satisfied: setuptools>=41.4.0 in /usr/local/lib/python3.7/dist-packages (from finrl==0.3.3) (57.4.0)\n",
            "Requirement already satisfied: wheel>=0.33.6 in /usr/local/lib/python3.7/dist-packages (from finrl==0.3.3) (0.37.0)\n",
            "Requirement already satisfied: pre-commit in /usr/local/lib/python3.7/dist-packages (from finrl==0.3.3) (2.15.0)\n",
            "Requirement already satisfied: pybullet in /usr/local/lib/python3.7/dist-packages (from elegantrl@ git+https://github.com/AI4Finance-Foundation/ElegantRL.git#egg=elegantrl->finrl==0.3.3) (3.2.0)\n",
            "Requirement already satisfied: torch in /usr/local/lib/python3.7/dist-packages (from elegantrl@ git+https://github.com/AI4Finance-Foundation/ElegantRL.git#egg=elegantrl->finrl==0.3.3) (1.9.0+cu111)\n",
            "Requirement already satisfied: opencv-python in /usr/local/lib/python3.7/dist-packages (from elegantrl@ git+https://github.com/AI4Finance-Foundation/ElegantRL.git#egg=elegantrl->finrl==0.3.3) (4.1.2.30)\n",
            "Requirement already satisfied: box2d-py in /usr/local/lib/python3.7/dist-packages (from elegantrl@ git+https://github.com/AI4Finance-Foundation/ElegantRL.git#egg=elegantrl->finrl==0.3.3) (2.3.8)\n",
            "Requirement already satisfied: ipython>=3.2.3 in /usr/local/lib/python3.7/dist-packages (from pyfolio@ git+https://github.com/quantopian/pyfolio.git#egg=pyfolio-0.9.2->finrl==0.3.3) (5.5.0)\n",
            "Requirement already satisfied: pytz>=2014.10 in /usr/local/lib/python3.7/dist-packages (from pyfolio@ git+https://github.com/quantopian/pyfolio.git#egg=pyfolio-0.9.2->finrl==0.3.3) (2018.9)\n",
            "Requirement already satisfied: scipy>=0.14.0 in /usr/local/lib/python3.7/dist-packages (from pyfolio@ git+https://github.com/quantopian/pyfolio.git#egg=pyfolio-0.9.2->finrl==0.3.3) (1.4.1)\n",
            "Requirement already satisfied: seaborn>=0.7.1 in /usr/local/lib/python3.7/dist-packages (from pyfolio@ git+https://github.com/quantopian/pyfolio.git#egg=pyfolio-0.9.2->finrl==0.3.3) (0.11.2)\n",
            "Requirement already satisfied: empyrical>=0.5.0 in /usr/local/lib/python3.7/dist-packages (from pyfolio@ git+https://github.com/quantopian/pyfolio.git#egg=pyfolio-0.9.2->finrl==0.3.3) (0.5.5)\n",
            "Requirement already satisfied: pandas-datareader>=0.2 in /usr/local/lib/python3.7/dist-packages (from empyrical>=0.5.0->pyfolio@ git+https://github.com/quantopian/pyfolio.git#egg=pyfolio-0.9.2->finrl==0.3.3) (0.9.0)\n",
            "Requirement already satisfied: cloudpickle<1.7.0,>=1.2.0 in /usr/local/lib/python3.7/dist-packages (from gym>=0.17->finrl==0.3.3) (1.3.0)\n",
            "Requirement already satisfied: pyglet<=1.5.0,>=1.4.0 in /usr/local/lib/python3.7/dist-packages (from gym>=0.17->finrl==0.3.3) (1.5.0)\n",
            "Requirement already satisfied: simplegeneric>0.8 in /usr/local/lib/python3.7/dist-packages (from ipython>=3.2.3->pyfolio@ git+https://github.com/quantopian/pyfolio.git#egg=pyfolio-0.9.2->finrl==0.3.3) (0.8.1)\n",
            "Requirement already satisfied: traitlets>=4.2 in /usr/local/lib/python3.7/dist-packages (from ipython>=3.2.3->pyfolio@ git+https://github.com/quantopian/pyfolio.git#egg=pyfolio-0.9.2->finrl==0.3.3) (5.1.1)\n",
            "Requirement already satisfied: prompt-toolkit<2.0.0,>=1.0.4 in /usr/local/lib/python3.7/dist-packages (from ipython>=3.2.3->pyfolio@ git+https://github.com/quantopian/pyfolio.git#egg=pyfolio-0.9.2->finrl==0.3.3) (1.0.18)\n",
            "Requirement already satisfied: pickleshare in /usr/local/lib/python3.7/dist-packages (from ipython>=3.2.3->pyfolio@ git+https://github.com/quantopian/pyfolio.git#egg=pyfolio-0.9.2->finrl==0.3.3) (0.7.5)\n",
            "Requirement already satisfied: decorator in /usr/local/lib/python3.7/dist-packages (from ipython>=3.2.3->pyfolio@ git+https://github.com/quantopian/pyfolio.git#egg=pyfolio-0.9.2->finrl==0.3.3) (4.4.2)\n",
            "Requirement already satisfied: pygments in /usr/local/lib/python3.7/dist-packages (from ipython>=3.2.3->pyfolio@ git+https://github.com/quantopian/pyfolio.git#egg=pyfolio-0.9.2->finrl==0.3.3) (2.6.1)\n",
            "Requirement already satisfied: pexpect in /usr/local/lib/python3.7/dist-packages (from ipython>=3.2.3->pyfolio@ git+https://github.com/quantopian/pyfolio.git#egg=pyfolio-0.9.2->finrl==0.3.3) (4.8.0)\n",
            "Requirement already satisfied: pyparsing!=2.0.4,!=2.1.2,!=2.1.6,>=2.0.1 in /usr/local/lib/python3.7/dist-packages (from matplotlib->finrl==0.3.3) (2.4.7)\n",
            "Requirement already satisfied: kiwisolver>=1.0.1 in /usr/local/lib/python3.7/dist-packages (from matplotlib->finrl==0.3.3) (1.3.2)\n",
            "Requirement already satisfied: python-dateutil>=2.1 in /usr/local/lib/python3.7/dist-packages (from matplotlib->finrl==0.3.3) (2.8.2)\n",
            "Requirement already satisfied: cycler>=0.10 in /usr/local/lib/python3.7/dist-packages (from matplotlib->finrl==0.3.3) (0.11.0)\n",
            "Requirement already satisfied: lxml in /usr/local/lib/python3.7/dist-packages (from pandas-datareader>=0.2->empyrical>=0.5.0->pyfolio@ git+https://github.com/quantopian/pyfolio.git#egg=pyfolio-0.9.2->finrl==0.3.3) (4.6.4)\n",
            "Requirement already satisfied: requests>=2.19.0 in /usr/local/lib/python3.7/dist-packages (from pandas-datareader>=0.2->empyrical>=0.5.0->pyfolio@ git+https://github.com/quantopian/pyfolio.git#egg=pyfolio-0.9.2->finrl==0.3.3) (2.23.0)\n",
            "Requirement already satisfied: six>=1.9.0 in /usr/local/lib/python3.7/dist-packages (from prompt-toolkit<2.0.0,>=1.0.4->ipython>=3.2.3->pyfolio@ git+https://github.com/quantopian/pyfolio.git#egg=pyfolio-0.9.2->finrl==0.3.3) (1.15.0)\n",
            "Requirement already satisfied: wcwidth in /usr/local/lib/python3.7/dist-packages (from prompt-toolkit<2.0.0,>=1.0.4->ipython>=3.2.3->pyfolio@ git+https://github.com/quantopian/pyfolio.git#egg=pyfolio-0.9.2->finrl==0.3.3) (0.2.5)\n",
            "Requirement already satisfied: future in /usr/local/lib/python3.7/dist-packages (from pyglet<=1.5.0,>=1.4.0->gym>=0.17->finrl==0.3.3) (0.16.0)\n",
            "Requirement already satisfied: urllib3!=1.25.0,!=1.25.1,<1.26,>=1.21.1 in /usr/local/lib/python3.7/dist-packages (from requests>=2.19.0->pandas-datareader>=0.2->empyrical>=0.5.0->pyfolio@ git+https://github.com/quantopian/pyfolio.git#egg=pyfolio-0.9.2->finrl==0.3.3) (1.24.3)\n",
            "Requirement already satisfied: certifi>=2017.4.17 in /usr/local/lib/python3.7/dist-packages (from requests>=2.19.0->pandas-datareader>=0.2->empyrical>=0.5.0->pyfolio@ git+https://github.com/quantopian/pyfolio.git#egg=pyfolio-0.9.2->finrl==0.3.3) (2021.10.8)\n",
            "Requirement already satisfied: chardet<4,>=3.0.2 in /usr/local/lib/python3.7/dist-packages (from requests>=2.19.0->pandas-datareader>=0.2->empyrical>=0.5.0->pyfolio@ git+https://github.com/quantopian/pyfolio.git#egg=pyfolio-0.9.2->finrl==0.3.3) (3.0.4)\n",
            "Requirement already satisfied: idna<3,>=2.5 in /usr/local/lib/python3.7/dist-packages (from requests>=2.19.0->pandas-datareader>=0.2->empyrical>=0.5.0->pyfolio@ git+https://github.com/quantopian/pyfolio.git#egg=pyfolio-0.9.2->finrl==0.3.3) (2.10)\n",
            "Requirement already satisfied: joblib>=0.11 in /usr/local/lib/python3.7/dist-packages (from scikit-learn>=0.21.0->finrl==0.3.3) (1.1.0)\n",
            "Requirement already satisfied: websockets<10,>=8.0 in /usr/local/lib/python3.7/dist-packages (from alpaca_trade_api->finrl==0.3.3) (9.1)\n",
            "Requirement already satisfied: aiohttp==3.7.4 in /usr/local/lib/python3.7/dist-packages (from alpaca_trade_api->finrl==0.3.3) (3.7.4)\n",
            "Requirement already satisfied: websocket-client<2,>=0.56.0 in /usr/local/lib/python3.7/dist-packages (from alpaca_trade_api->finrl==0.3.3) (1.2.1)\n",
            "Requirement already satisfied: PyYAML==5.4.1 in /usr/local/lib/python3.7/dist-packages (from alpaca_trade_api->finrl==0.3.3) (5.4.1)\n",
            "Requirement already satisfied: msgpack==1.0.2 in /usr/local/lib/python3.7/dist-packages (from alpaca_trade_api->finrl==0.3.3) (1.0.2)\n",
            "Requirement already satisfied: attrs>=17.3.0 in /usr/local/lib/python3.7/dist-packages (from aiohttp==3.7.4->alpaca_trade_api->finrl==0.3.3) (21.2.0)\n",
            "Requirement already satisfied: typing-extensions>=3.6.5 in /usr/local/lib/python3.7/dist-packages (from aiohttp==3.7.4->alpaca_trade_api->finrl==0.3.3) (3.10.0.2)\n",
            "Requirement already satisfied: yarl<2.0,>=1.0 in /usr/local/lib/python3.7/dist-packages (from aiohttp==3.7.4->alpaca_trade_api->finrl==0.3.3) (1.6.3)\n",
            "Requirement already satisfied: multidict<7.0,>=4.5 in /usr/local/lib/python3.7/dist-packages (from aiohttp==3.7.4->alpaca_trade_api->finrl==0.3.3) (5.2.0)\n",
            "Requirement already satisfied: async-timeout<4.0,>=3.0 in /usr/local/lib/python3.7/dist-packages (from aiohttp==3.7.4->alpaca_trade_api->finrl==0.3.3) (3.0.1)\n",
            "Requirement already satisfied: cryptography>=2.6.1 in /usr/local/lib/python3.7/dist-packages (from ccxt->finrl==0.3.3) (35.0.0)\n",
            "Requirement already satisfied: aiodns>=1.1.1 in /usr/local/lib/python3.7/dist-packages (from ccxt->finrl==0.3.3) (3.0.0)\n",
            "Requirement already satisfied: pycares>=4.0.0 in /usr/local/lib/python3.7/dist-packages (from aiodns>=1.1.1->ccxt->finrl==0.3.3) (4.1.2)\n",
            "Requirement already satisfied: cffi>=1.12 in /usr/local/lib/python3.7/dist-packages (from cryptography>=2.6.1->ccxt->finrl==0.3.3) (1.15.0)\n",
            "Requirement already satisfied: pycparser in /usr/local/lib/python3.7/dist-packages (from cffi>=1.12->cryptography>=2.6.1->ccxt->finrl==0.3.3) (2.20)\n",
            "Requirement already satisfied: SQLAlchemy>=1.2.8 in /usr/local/lib/python3.7/dist-packages (from jqdatasdk->finrl==0.3.3) (1.4.26)\n",
            "Requirement already satisfied: pymysql>=0.7.6 in /usr/local/lib/python3.7/dist-packages (from jqdatasdk->finrl==0.3.3) (1.0.2)\n",
            "Requirement already satisfied: thriftpy2>=0.3.9 in /usr/local/lib/python3.7/dist-packages (from jqdatasdk->finrl==0.3.3) (0.4.14)\n",
            "Requirement already satisfied: greenlet!=0.4.17 in /usr/local/lib/python3.7/dist-packages (from SQLAlchemy>=1.2.8->jqdatasdk->finrl==0.3.3) (1.1.2)\n",
            "Requirement already satisfied: importlib-metadata in /usr/local/lib/python3.7/dist-packages (from SQLAlchemy>=1.2.8->jqdatasdk->finrl==0.3.3) (4.8.1)\n",
            "Requirement already satisfied: ply<4.0,>=3.4 in /usr/local/lib/python3.7/dist-packages (from thriftpy2>=0.3.9->jqdatasdk->finrl==0.3.3) (3.11)\n",
            "Requirement already satisfied: zipp>=0.5 in /usr/local/lib/python3.7/dist-packages (from importlib-metadata->SQLAlchemy>=1.2.8->jqdatasdk->finrl==0.3.3) (3.6.0)\n",
            "Requirement already satisfied: ptyprocess>=0.5 in /usr/local/lib/python3.7/dist-packages (from pexpect->ipython>=3.2.3->pyfolio@ git+https://github.com/quantopian/pyfolio.git#egg=pyfolio-0.9.2->finrl==0.3.3) (0.7.0)\n",
            "Requirement already satisfied: cfgv>=2.0.0 in /usr/local/lib/python3.7/dist-packages (from pre-commit->finrl==0.3.3) (3.3.1)\n",
            "Requirement already satisfied: nodeenv>=0.11.1 in /usr/local/lib/python3.7/dist-packages (from pre-commit->finrl==0.3.3) (1.6.0)\n",
            "Requirement already satisfied: identify>=1.0.0 in /usr/local/lib/python3.7/dist-packages (from pre-commit->finrl==0.3.3) (2.3.5)\n",
            "Requirement already satisfied: virtualenv>=20.0.8 in /usr/local/lib/python3.7/dist-packages (from pre-commit->finrl==0.3.3) (20.10.0)\n",
            "Requirement already satisfied: toml in /usr/local/lib/python3.7/dist-packages (from pre-commit->finrl==0.3.3) (0.10.2)\n",
            "Requirement already satisfied: backports.entry-points-selectable>=1.0.4 in /usr/local/lib/python3.7/dist-packages (from virtualenv>=20.0.8->pre-commit->finrl==0.3.3) (1.1.1)\n",
            "Requirement already satisfied: platformdirs<3,>=2 in /usr/local/lib/python3.7/dist-packages (from virtualenv>=20.0.8->pre-commit->finrl==0.3.3) (2.4.0)\n",
            "Requirement already satisfied: filelock<4,>=3.2 in /usr/local/lib/python3.7/dist-packages (from virtualenv>=20.0.8->pre-commit->finrl==0.3.3) (3.3.2)\n",
            "Requirement already satisfied: distlib<1,>=0.3.1 in /usr/local/lib/python3.7/dist-packages (from virtualenv>=20.0.8->pre-commit->finrl==0.3.3) (0.3.3)\n",
            "Requirement already satisfied: more-itertools>=4.0.0 in /usr/local/lib/python3.7/dist-packages (from pytest->finrl==0.3.3) (8.10.0)\n",
            "Requirement already satisfied: atomicwrites>=1.0 in /usr/local/lib/python3.7/dist-packages (from pytest->finrl==0.3.3) (1.4.0)\n",
            "Requirement already satisfied: pluggy<0.8,>=0.5 in /usr/local/lib/python3.7/dist-packages (from pytest->finrl==0.3.3) (0.7.1)\n",
            "Requirement already satisfied: py>=1.5.0 in /usr/local/lib/python3.7/dist-packages (from pytest->finrl==0.3.3) (1.11.0)\n",
            "Requirement already satisfied: click>=7.0 in /usr/local/lib/python3.7/dist-packages (from ray[default]->finrl==0.3.3) (7.1.2)\n",
            "Requirement already satisfied: redis>=3.5.0 in /usr/local/lib/python3.7/dist-packages (from ray[default]->finrl==0.3.3) (3.5.3)\n",
            "Requirement already satisfied: protobuf>=3.15.3 in /usr/local/lib/python3.7/dist-packages (from ray[default]->finrl==0.3.3) (3.17.3)\n",
            "Requirement already satisfied: grpcio>=1.28.1 in /usr/local/lib/python3.7/dist-packages (from ray[default]->finrl==0.3.3) (1.41.1)\n",
            "Requirement already satisfied: jsonschema in /usr/local/lib/python3.7/dist-packages (from ray[default]->finrl==0.3.3) (2.6.0)\n",
            "Requirement already satisfied: opencensus in /usr/local/lib/python3.7/dist-packages (from ray[default]->finrl==0.3.3) (0.8.0)\n",
            "Requirement already satisfied: aiohttp-cors in /usr/local/lib/python3.7/dist-packages (from ray[default]->finrl==0.3.3) (0.7.0)\n",
            "Requirement already satisfied: py-spy>=0.2.0 in /usr/local/lib/python3.7/dist-packages (from ray[default]->finrl==0.3.3) (0.3.10)\n",
            "Requirement already satisfied: colorful in /usr/local/lib/python3.7/dist-packages (from ray[default]->finrl==0.3.3) (0.5.4)\n",
            "Requirement already satisfied: gpustat>=1.0.0b1 in /usr/local/lib/python3.7/dist-packages (from ray[default]->finrl==0.3.3) (1.0.0b1)\n",
            "Requirement already satisfied: aioredis<2 in /usr/local/lib/python3.7/dist-packages (from ray[default]->finrl==0.3.3) (1.3.1)\n",
            "Requirement already satisfied: prometheus-client>=0.7.1 in /usr/local/lib/python3.7/dist-packages (from ray[default]->finrl==0.3.3) (0.12.0)\n",
            "Requirement already satisfied: hiredis in /usr/local/lib/python3.7/dist-packages (from aioredis<2->ray[default]->finrl==0.3.3) (2.0.0)\n",
            "Requirement already satisfied: psutil in /usr/local/lib/python3.7/dist-packages (from gpustat>=1.0.0b1->ray[default]->finrl==0.3.3) (5.4.8)\n",
            "Requirement already satisfied: nvidia-ml-py3>=7.352.0 in /usr/local/lib/python3.7/dist-packages (from gpustat>=1.0.0b1->ray[default]->finrl==0.3.3) (7.352.0)\n",
            "Requirement already satisfied: blessed>=1.17.1 in /usr/local/lib/python3.7/dist-packages (from gpustat>=1.0.0b1->ray[default]->finrl==0.3.3) (1.19.0)\n",
            "Requirement already satisfied: google-api-core<3.0.0,>=1.0.0 in /usr/local/lib/python3.7/dist-packages (from opencensus->ray[default]->finrl==0.3.3) (1.26.3)\n",
            "Requirement already satisfied: opencensus-context==0.1.2 in /usr/local/lib/python3.7/dist-packages (from opencensus->ray[default]->finrl==0.3.3) (0.1.2)\n",
            "Requirement already satisfied: packaging>=14.3 in /usr/local/lib/python3.7/dist-packages (from google-api-core<3.0.0,>=1.0.0->opencensus->ray[default]->finrl==0.3.3) (21.2)\n",
            "Requirement already satisfied: googleapis-common-protos<2.0dev,>=1.6.0 in /usr/local/lib/python3.7/dist-packages (from google-api-core<3.0.0,>=1.0.0->opencensus->ray[default]->finrl==0.3.3) (1.53.0)\n",
            "Requirement already satisfied: google-auth<2.0dev,>=1.21.1 in /usr/local/lib/python3.7/dist-packages (from google-api-core<3.0.0,>=1.0.0->opencensus->ray[default]->finrl==0.3.3) (1.35.0)\n",
            "Requirement already satisfied: pyasn1-modules>=0.2.1 in /usr/local/lib/python3.7/dist-packages (from google-auth<2.0dev,>=1.21.1->google-api-core<3.0.0,>=1.0.0->opencensus->ray[default]->finrl==0.3.3) (0.2.8)\n",
            "Requirement already satisfied: cachetools<5.0,>=2.0.0 in /usr/local/lib/python3.7/dist-packages (from google-auth<2.0dev,>=1.21.1->google-api-core<3.0.0,>=1.0.0->opencensus->ray[default]->finrl==0.3.3) (4.2.4)\n",
            "Requirement already satisfied: rsa<5,>=3.1.4 in /usr/local/lib/python3.7/dist-packages (from google-auth<2.0dev,>=1.21.1->google-api-core<3.0.0,>=1.0.0->opencensus->ray[default]->finrl==0.3.3) (4.7.2)\n",
            "Requirement already satisfied: pyasn1<0.5.0,>=0.4.6 in /usr/local/lib/python3.7/dist-packages (from pyasn1-modules>=0.2.1->google-auth<2.0dev,>=1.21.1->google-api-core<3.0.0,>=1.0.0->opencensus->ray[default]->finrl==0.3.3) (0.4.8)\n",
            "Requirement already satisfied: tabulate in /usr/local/lib/python3.7/dist-packages (from ray[default]->finrl==0.3.3) (0.8.9)\n",
            "Requirement already satisfied: atari-py~=0.2.0 in /usr/local/lib/python3.7/dist-packages (from stable-baselines3[extra]->finrl==0.3.3) (0.2.9)\n",
            "Requirement already satisfied: tensorboard>=2.2.0 in /usr/local/lib/python3.7/dist-packages (from stable-baselines3[extra]->finrl==0.3.3) (2.7.0)\n",
            "Requirement already satisfied: pillow in /usr/local/lib/python3.7/dist-packages (from stable-baselines3[extra]->finrl==0.3.3) (7.1.2)\n",
            "Requirement already satisfied: tensorboard-data-server<0.7.0,>=0.6.0 in /usr/local/lib/python3.7/dist-packages (from tensorboard>=2.2.0->stable-baselines3[extra]->finrl==0.3.3) (0.6.1)\n",
            "Requirement already satisfied: markdown>=2.6.8 in /usr/local/lib/python3.7/dist-packages (from tensorboard>=2.2.0->stable-baselines3[extra]->finrl==0.3.3) (3.3.4)\n",
            "Requirement already satisfied: tensorboard-plugin-wit>=1.6.0 in /usr/local/lib/python3.7/dist-packages (from tensorboard>=2.2.0->stable-baselines3[extra]->finrl==0.3.3) (1.8.0)\n",
            "Requirement already satisfied: werkzeug>=0.11.15 in /usr/local/lib/python3.7/dist-packages (from tensorboard>=2.2.0->stable-baselines3[extra]->finrl==0.3.3) (1.0.1)\n",
            "Requirement already satisfied: google-auth-oauthlib<0.5,>=0.4.1 in /usr/local/lib/python3.7/dist-packages (from tensorboard>=2.2.0->stable-baselines3[extra]->finrl==0.3.3) (0.4.6)\n",
            "Requirement already satisfied: absl-py>=0.4 in /usr/local/lib/python3.7/dist-packages (from tensorboard>=2.2.0->stable-baselines3[extra]->finrl==0.3.3) (0.12.0)\n",
            "Requirement already satisfied: requests-oauthlib>=0.7.0 in /usr/local/lib/python3.7/dist-packages (from google-auth-oauthlib<0.5,>=0.4.1->tensorboard>=2.2.0->stable-baselines3[extra]->finrl==0.3.3) (1.3.0)\n",
            "Requirement already satisfied: oauthlib>=3.0.0 in /usr/local/lib/python3.7/dist-packages (from requests-oauthlib>=0.7.0->google-auth-oauthlib<0.5,>=0.4.1->tensorboard>=2.2.0->stable-baselines3[extra]->finrl==0.3.3) (3.1.1)\n",
            "Requirement already satisfied: int-date>=0.1.7 in /usr/local/lib/python3.7/dist-packages (from stockstats->finrl==0.3.3) (0.1.8)\n",
            "Requirement already satisfied: toolz in /usr/local/lib/python3.7/dist-packages (from trading_calendars->finrl==0.3.3) (0.11.1)\n",
            "Requirement already satisfied: mock in /usr/local/lib/python3.7/dist-packages (from wrds->finrl==0.3.3) (4.0.3)\n",
            "Requirement already satisfied: psycopg2-binary in /usr/local/lib/python3.7/dist-packages (from wrds->finrl==0.3.3) (2.9.1)\n",
            "Requirement already satisfied: multitasking>=0.0.7 in /usr/local/lib/python3.7/dist-packages (from yfinance->finrl==0.3.3) (0.0.9)\n"
          ]
        }
      ]
    },
    {
      "cell_type": "code",
      "metadata": {
        "id": "lT6BDRoK6a_s",
        "colab": {
          "base_uri": "https://localhost:8080/"
        },
        "outputId": "ea981314-88ad-45c6-9535-35605a38d269"
      },
      "source": [
        "import pandas as pd\n",
        "import numpy as np\n",
        "import matplotlib\n",
        "import matplotlib.pyplot as plt\n",
        "matplotlib.use('Agg')\n",
        "%matplotlib inline\n",
        "import datetime\n",
        "import calendar\n",
        "\n",
        "from finrl.apps import config\n",
        "from finrl.neo_finrl.preprocessor.yahoodownloader import YahooDownloader\n",
        "from finrl.neo_finrl.preprocessor.preprocessors import FeatureEngineer, data_split\n",
        "from finrl.neo_finrl.env_portfolio_allocation.env_portfolio import StockPortfolioEnv\n",
        "from finrl.drl_agents.stablebaselines3.models import DRLAgent\n",
        "from finrl.plot import backtest_stats, backtest_plot, get_daily_return, get_baseline,convert_daily_return_to_pyfolio_ts\n",
        "\n",
        "\n",
        "import sys\n",
        "sys.path.append(\"../FinRL-Library\")"
      ],
      "execution_count": 2,
      "outputs": [
        {
          "output_type": "stream",
          "name": "stderr",
          "text": [
            "/usr/local/lib/python3.7/dist-packages/pyfolio/pos.py:27: UserWarning: Module \"zipline.assets\" not found; multipliers will not be applied to position notionals.\n",
            "  'Module \"zipline.assets\" not found; multipliers will not be applied'\n"
          ]
        }
      ]
    },
    {
      "cell_type": "code",
      "metadata": {
        "id": "aupwe06w62u1"
      },
      "source": [
        "import os\n",
        "if not os.path.exists(\"./\" + config.DATA_SAVE_DIR):\n",
        "    os.makedirs(\"./\" + config.DATA_SAVE_DIR)\n",
        "if not os.path.exists(\"./\" + config.TRAINED_MODEL_DIR):\n",
        "    os.makedirs(\"./\" + config.TRAINED_MODEL_DIR)\n",
        "if not os.path.exists(\"./\" + config.TENSORBOARD_LOG_DIR):\n",
        "    os.makedirs(\"./\" + config.TENSORBOARD_LOG_DIR)\n",
        "if not os.path.exists(\"./\" + config.RESULTS_DIR):\n",
        "    os.makedirs(\"./\" + config.RESULTS_DIR)"
      ],
      "execution_count": 3,
      "outputs": []
    },
    {
      "cell_type": "markdown",
      "metadata": {
        "id": "qWGu36Hs6_M4"
      },
      "source": [
        "## Download Data\n",
        "\n",
        " - Using FinRL to download stock data \n",
        "  - Yahoo Finance is a website that provides stock data, financial news, financial reports, etc. All the data provided by Yahoo Finance is free. FinRL uses a class YahooDownloader to fetch data from Yahoo Finance API\n",
        "Call Limit: Using the Public API (without authentication), you are limited to 2,000 requests per hour per IP (or up to a total of 48,000 requests a day).\n",
        " - Downloading excel sheets for gold and long vol data\n",
        "\n",
        "> Date Range 2004-12-01 to 2021-9-01"
      ]
    },
    {
      "cell_type": "markdown",
      "metadata": {
        "id": "i6eKTRR89IG9"
      },
      "source": [
        "### Stocks from Yahoo Finance"
      ]
    },
    {
      "cell_type": "code",
      "metadata": {
        "id": "XHFLH39J66dm"
      },
      "source": [
        "# list of tickers required from yahoo finance\n",
        "tickers = ['^BCOM','^SP500TR', 'EEM', 'IEF' , 'AGG']"
      ],
      "execution_count": 4,
      "outputs": []
    },
    {
      "cell_type": "code",
      "metadata": {
        "colab": {
          "base_uri": "https://localhost:8080/"
        },
        "id": "euH7sKMH8Qaq",
        "outputId": "75aa1258-951a-4a7b-d82d-c5e75f5e50c5"
      },
      "source": [
        "df_stocks = YahooDownloader(start_date = '2004-12-01',\n",
        "                     end_date = '2021-09-01',\n",
        "                     ticker_list = tickers).fetch_data()"
      ],
      "execution_count": 5,
      "outputs": [
        {
          "output_type": "stream",
          "name": "stdout",
          "text": [
            "[*********************100%***********************]  1 of 1 completed\n",
            "[*********************100%***********************]  1 of 1 completed\n",
            "[*********************100%***********************]  1 of 1 completed\n",
            "[*********************100%***********************]  1 of 1 completed\n",
            "[*********************100%***********************]  1 of 1 completed\n",
            "Shape of DataFrame:  (21083, 8)\n"
          ]
        }
      ]
    },
    {
      "cell_type": "code",
      "metadata": {
        "id": "-O0oTVOq8azF"
      },
      "source": [
        "df_stocks.tic = df_stocks.tic.replace({'^BCOM': 'COM', '^SP500TR': 'SNP'})"
      ],
      "execution_count": 6,
      "outputs": []
    },
    {
      "cell_type": "markdown",
      "metadata": {
        "id": "phGGYvC184sr"
      },
      "source": [
        "*AGG dividends is not included based on the above"
      ]
    },
    {
      "cell_type": "code",
      "metadata": {
        "id": "MLIVeeXs8mzh"
      },
      "source": [
        "# get dates of stocks valuations\n",
        "dates = df_stocks.date.unique()\n",
        "\n",
        "# extract data from git repo\n",
        "url = [\n",
        "       'https://github.com/changjulian17/DataSciencePortfolio/blob/main/Investment_Portfolio/data/gold.xlsx?raw=true',\n",
        "       'https://github.com/changjulian17/DataSciencePortfolio/blob/main/Investment_Portfolio/data/long-vol.xlsx?raw=true'\n",
        "]\n",
        "# extract gold data and format\n",
        "df_gold = pd.read_excel(url[0],sheet_name='Daily_Indexed')\n",
        "df_gold = df_gold[['Name', 'US dollar']]\n",
        "df_gold.columns = ['date','close']       # match col names to stocks\n",
        "df_gold['tic'] = 'GLD'                   # add ticker data\n",
        "df_gold = df_gold[df_gold.date.isin(dates)] # slice date range\n",
        "df_gold.date = df_gold.date.dt.strftime('%Y-%m-%d')  # pass date to string\n",
        "\n",
        "# extract long-vol data and format\n",
        "# percentage change is already in excel, so we can skip one step\n",
        "df_lv = pd.read_excel(url[1])  \n",
        "df_lv.columns = df_lv.iloc[2]\n",
        "df_lv = df_lv[3:].set_index('ReturnDate')['Index']\n",
        "df_lv.index = pd.to_datetime(df_lv.index)# set date as index\n",
        "df_lv = df_lv.resample('24h').ffill()    # upsample month returns to daily return by averaging\n",
        "df_lv = df_lv.reset_index()              # set date as column\n",
        "df_lv.columns = ['date','close']         # match col names to stocks\n",
        "df_lv = df_lv[df_lv.date.isin(dates)]    # slice date range\n",
        "df_lv['tic'] = 'LOV'                     # add ticker data\n",
        "df_lv.date = df_lv.date.dt.strftime('%Y-%m-%d')  # pass date to string"
      ],
      "execution_count": 7,
      "outputs": []
    },
    {
      "cell_type": "code",
      "metadata": {
        "colab": {
          "base_uri": "https://localhost:8080/"
        },
        "id": "8l6evamAKPgh",
        "outputId": "442906e5-6af4-4da5-93c5-83c6f9551bdb"
      },
      "source": [
        "df_stocks.date.nunique(),df_gold.date.nunique(),df_lv.date.nunique()"
      ],
      "execution_count": 22,
      "outputs": [
        {
          "output_type": "execute_result",
          "data": {
            "text/plain": [
              "(4217, 4217, 4217)"
            ]
          },
          "metadata": {},
          "execution_count": 22
        }
      ]
    },
    {
      "cell_type": "code",
      "metadata": {
        "id": "6xWAQx5G4VDa"
      },
      "source": [
        "df_com = df_stocks[df_stocks.tic=='COM']"
      ],
      "execution_count": 23,
      "outputs": []
    },
    {
      "cell_type": "code",
      "metadata": {
        "id": "rdnid8WoMoW5"
      },
      "source": [
        "df = pd.concat([df_stocks,df_gold,df_lv],axis=0).fillna(0)"
      ],
      "execution_count": 24,
      "outputs": []
    },
    {
      "cell_type": "markdown",
      "metadata": {
        "id": "0I9GYWueCdf6"
      },
      "source": [
        "# Preprocess Data\n",
        "Data preprocessing is a crucial step for training a high quality machine learning model. We need to check for missing data and do feature engineering in order to convert the data into a model-ready state.\n",
        "\n",
        "- Add technical indicators. In practical trading, various information needs to be taken into account, for example the historical stock prices, current holding shares, technical indicators, etc. In this article, we demonstrate two trend-following technical indicators: MACD and RSI.\n",
        "- Add turbulence index. Risk-aversion reflects whether an investor will choose to preserve the capital. It also influences one's trading strategy when facing different market volatility level. To control the risk in a worst-case scenario, such as financial crisis of 2007–2008, FinRL employs the financial turbulence index that measures extreme asset price fluctuation."
      ]
    },
    {
      "cell_type": "markdown",
      "metadata": {
        "id": "23r9AXqicmaf"
      },
      "source": [
        "## Get Standard Indicators"
      ]
    },
    {
      "cell_type": "code",
      "metadata": {
        "colab": {
          "base_uri": "https://localhost:8080/"
        },
        "id": "71jFBz78BuX1",
        "outputId": "7e2a1d88-fb57-47dd-da3e-b6d5f9148a5c"
      },
      "source": [
        "fe = FeatureEngineer(\n",
        "                    use_technical_indicator=True,\n",
        "                    use_turbulence=False,\n",
        "                    user_defined_feature = False)\n",
        "\n",
        "#there is an issue with featureEngineer which omits BCOM\n",
        "# all df and bcom is processed separately then joined\n",
        "df = pd.concat([fe.preprocess_data(df),fe.preprocess_data(df_com)] \\\n",
        "               ,axis=0 \\\n",
        "               ,ignore_index=True) \\\n",
        "                    .sort_values(by='date').reset_index(drop=True)"
      ],
      "execution_count": 25,
      "outputs": [
        {
          "output_type": "stream",
          "name": "stdout",
          "text": [
            "Successfully added technical indicators\n",
            "Successfully added technical indicators\n"
          ]
        }
      ]
    },
    {
      "cell_type": "code",
      "metadata": {
        "colab": {
          "base_uri": "https://localhost:8080/",
          "height": 643
        },
        "id": "1PkQYH6kCooz",
        "outputId": "45ea87d8-b665-4eee-edc8-315ad3436d1e"
      },
      "source": [
        "df.head(7)"
      ],
      "execution_count": 31,
      "outputs": [
        {
          "output_type": "execute_result",
          "data": {
            "text/html": [
              "<div>\n",
              "<style scoped>\n",
              "    .dataframe tbody tr th:only-of-type {\n",
              "        vertical-align: middle;\n",
              "    }\n",
              "\n",
              "    .dataframe tbody tr th {\n",
              "        vertical-align: top;\n",
              "    }\n",
              "\n",
              "    .dataframe thead th {\n",
              "        text-align: right;\n",
              "    }\n",
              "</style>\n",
              "<table border=\"1\" class=\"dataframe\">\n",
              "  <thead>\n",
              "    <tr style=\"text-align: right;\">\n",
              "      <th></th>\n",
              "      <th>date</th>\n",
              "      <th>open</th>\n",
              "      <th>high</th>\n",
              "      <th>low</th>\n",
              "      <th>close</th>\n",
              "      <th>volume</th>\n",
              "      <th>tic</th>\n",
              "      <th>day</th>\n",
              "      <th>macd</th>\n",
              "      <th>boll_ub</th>\n",
              "      <th>boll_lb</th>\n",
              "      <th>rsi_30</th>\n",
              "      <th>cci_30</th>\n",
              "      <th>dx_30</th>\n",
              "      <th>close_30_sma</th>\n",
              "      <th>close_60_sma</th>\n",
              "      <th>cov_list</th>\n",
              "      <th>return_list</th>\n",
              "    </tr>\n",
              "  </thead>\n",
              "  <tbody>\n",
              "    <tr>\n",
              "      <th>0</th>\n",
              "      <td>2005-11-30</td>\n",
              "      <td>100.519997</td>\n",
              "      <td>100.529999</td>\n",
              "      <td>100.080002</td>\n",
              "      <td>60.781929</td>\n",
              "      <td>158200.0</td>\n",
              "      <td>AGG</td>\n",
              "      <td>2.0</td>\n",
              "      <td>0.043665</td>\n",
              "      <td>61.179544</td>\n",
              "      <td>60.218158</td>\n",
              "      <td>48.233940</td>\n",
              "      <td>17.998227</td>\n",
              "      <td>6.180951</td>\n",
              "      <td>60.715075</td>\n",
              "      <td>60.959517</td>\n",
              "      <td>[[4.45735196430886e-06, 1.2365538734889978e-07...</td>\n",
              "      <td>tic              AGG       COM       EEM      ...</td>\n",
              "    </tr>\n",
              "    <tr>\n",
              "      <th>1</th>\n",
              "      <td>2005-11-30</td>\n",
              "      <td>163.889999</td>\n",
              "      <td>166.679993</td>\n",
              "      <td>163.330002</td>\n",
              "      <td>166.399994</td>\n",
              "      <td>0.0</td>\n",
              "      <td>COM</td>\n",
              "      <td>2.0</td>\n",
              "      <td>-1.558136</td>\n",
              "      <td>168.117714</td>\n",
              "      <td>163.184291</td>\n",
              "      <td>48.306688</td>\n",
              "      <td>-52.866853</td>\n",
              "      <td>13.579081</td>\n",
              "      <td>167.618668</td>\n",
              "      <td>170.454500</td>\n",
              "      <td>[[4.45735196430886e-06, 1.2365538734889978e-07...</td>\n",
              "      <td>tic              AGG       COM       EEM      ...</td>\n",
              "    </tr>\n",
              "    <tr>\n",
              "      <th>2</th>\n",
              "      <td>2005-11-30</td>\n",
              "      <td>28.020000</td>\n",
              "      <td>28.283333</td>\n",
              "      <td>28.020000</td>\n",
              "      <td>20.580990</td>\n",
              "      <td>7608600.0</td>\n",
              "      <td>EEM</td>\n",
              "      <td>2.0</td>\n",
              "      <td>0.271509</td>\n",
              "      <td>20.962609</td>\n",
              "      <td>19.813205</td>\n",
              "      <td>56.359050</td>\n",
              "      <td>82.271829</td>\n",
              "      <td>8.221150</td>\n",
              "      <td>19.955077</td>\n",
              "      <td>19.964743</td>\n",
              "      <td>[[4.45735196430886e-06, 1.2365538734889978e-07...</td>\n",
              "      <td>tic              AGG       COM       EEM      ...</td>\n",
              "    </tr>\n",
              "    <tr>\n",
              "      <th>3</th>\n",
              "      <td>2005-11-30</td>\n",
              "      <td>0.000000</td>\n",
              "      <td>0.000000</td>\n",
              "      <td>0.000000</td>\n",
              "      <td>172.220000</td>\n",
              "      <td>0.0</td>\n",
              "      <td>GLD</td>\n",
              "      <td>0.0</td>\n",
              "      <td>2.832793</td>\n",
              "      <td>175.825686</td>\n",
              "      <td>155.439314</td>\n",
              "      <td>65.281911</td>\n",
              "      <td>133.970785</td>\n",
              "      <td>8.221150</td>\n",
              "      <td>164.626000</td>\n",
              "      <td>162.849167</td>\n",
              "      <td>[[4.45735196430886e-06, 1.2365538734889978e-07...</td>\n",
              "      <td>tic              AGG       COM       EEM      ...</td>\n",
              "    </tr>\n",
              "    <tr>\n",
              "      <th>4</th>\n",
              "      <td>2005-11-30</td>\n",
              "      <td>83.540001</td>\n",
              "      <td>83.540001</td>\n",
              "      <td>83.239998</td>\n",
              "      <td>55.661400</td>\n",
              "      <td>46100.0</td>\n",
              "      <td>IEF</td>\n",
              "      <td>2.0</td>\n",
              "      <td>0.068568</td>\n",
              "      <td>56.138196</td>\n",
              "      <td>54.795323</td>\n",
              "      <td>49.147093</td>\n",
              "      <td>41.428754</td>\n",
              "      <td>4.164550</td>\n",
              "      <td>55.469750</td>\n",
              "      <td>55.815947</td>\n",
              "      <td>[[4.45735196430886e-06, 1.2365538734889978e-07...</td>\n",
              "      <td>tic              AGG       COM       EEM      ...</td>\n",
              "    </tr>\n",
              "    <tr>\n",
              "      <th>5</th>\n",
              "      <td>2005-11-30</td>\n",
              "      <td>0.000000</td>\n",
              "      <td>0.000000</td>\n",
              "      <td>0.000000</td>\n",
              "      <td>103.951632</td>\n",
              "      <td>0.0</td>\n",
              "      <td>LOV</td>\n",
              "      <td>0.0</td>\n",
              "      <td>0.524868</td>\n",
              "      <td>103.951635</td>\n",
              "      <td>103.951629</td>\n",
              "      <td>77.363716</td>\n",
              "      <td>47.619048</td>\n",
              "      <td>4.164550</td>\n",
              "      <td>102.894819</td>\n",
              "      <td>102.375785</td>\n",
              "      <td>[[4.45735196430886e-06, 1.2365538734889978e-07...</td>\n",
              "      <td>tic              AGG       COM       EEM      ...</td>\n",
              "    </tr>\n",
              "    <tr>\n",
              "      <th>6</th>\n",
              "      <td>2005-11-30</td>\n",
              "      <td>1887.280029</td>\n",
              "      <td>1887.280029</td>\n",
              "      <td>1887.280029</td>\n",
              "      <td>1887.280029</td>\n",
              "      <td>0.0</td>\n",
              "      <td>SNP</td>\n",
              "      <td>2.0</td>\n",
              "      <td>21.924100</td>\n",
              "      <td>1924.227682</td>\n",
              "      <td>1814.746353</td>\n",
              "      <td>57.958637</td>\n",
              "      <td>79.944730</td>\n",
              "      <td>20.891094</td>\n",
              "      <td>1845.237683</td>\n",
              "      <td>1835.013005</td>\n",
              "      <td>[[4.45735196430886e-06, 1.2365538734889978e-07...</td>\n",
              "      <td>tic              AGG       COM       EEM      ...</td>\n",
              "    </tr>\n",
              "  </tbody>\n",
              "</table>\n",
              "</div>"
            ],
            "text/plain": [
              "         date  ...                                        return_list\n",
              "0  2005-11-30  ...  tic              AGG       COM       EEM      ...\n",
              "1  2005-11-30  ...  tic              AGG       COM       EEM      ...\n",
              "2  2005-11-30  ...  tic              AGG       COM       EEM      ...\n",
              "3  2005-11-30  ...  tic              AGG       COM       EEM      ...\n",
              "4  2005-11-30  ...  tic              AGG       COM       EEM      ...\n",
              "5  2005-11-30  ...  tic              AGG       COM       EEM      ...\n",
              "6  2005-11-30  ...  tic              AGG       COM       EEM      ...\n",
              "\n",
              "[7 rows x 18 columns]"
            ]
          },
          "metadata": {},
          "execution_count": 31
        }
      ]
    },
    {
      "cell_type": "markdown",
      "metadata": {
        "id": "hkblypciQrW4"
      },
      "source": [
        "## Get Covariance Matrix as States\n",
        "\n",
        "The Covariance is calculated based on the price movements in a year. But since this cannot be computed for the first year worth of date therefore data from 2014 will be dropped."
      ]
    },
    {
      "cell_type": "code",
      "metadata": {
        "id": "n4GV2ZMZccEo"
      },
      "source": [
        "# add covariance matrix as states\n",
        "df=df.sort_values(['date','tic'],ignore_index=True)\n",
        "df.index = df.date.factorize()[0]\n",
        "\n",
        "cov_list = []\n",
        "return_list = []\n",
        "\n",
        "# look back is one year\n",
        "lookback=252  # 252 trading days in a year\n",
        "for i in range(lookback,len(df.index.unique())):\n",
        "  data_lookback = df.loc[i-lookback:i,:]\n",
        "  price_lookback=data_lookback.pivot_table(index = 'date',columns = 'tic', values = 'close')\n",
        "  return_lookback = price_lookback.pct_change().dropna()\n",
        "  return_list.append(return_lookback)\n",
        "\n",
        "  covs = return_lookback.cov().values \n",
        "  cov_list.append(covs)\n",
        "\n",
        "  \n",
        "df_cov = pd.DataFrame({'date':df.date.unique()[lookback:],'cov_list':cov_list,'return_list':return_list})\n",
        "df = df.merge(df_cov, on='date')\n",
        "df = df.sort_values(['date','tic']).reset_index(drop=True)"
      ],
      "execution_count": 27,
      "outputs": []
    },
    {
      "cell_type": "code",
      "metadata": {
        "colab": {
          "base_uri": "https://localhost:8080/"
        },
        "id": "MhnjNHP-c1Ww",
        "outputId": "be7d1018-fbc7-47a3-a459-4cb806553aeb"
      },
      "source": [
        "df.shape"
      ],
      "execution_count": 28,
      "outputs": [
        {
          "output_type": "execute_result",
          "data": {
            "text/plain": [
              "(27754, 18)"
            ]
          },
          "metadata": {},
          "execution_count": 28
        }
      ]
    },
    {
      "cell_type": "code",
      "metadata": {
        "colab": {
          "base_uri": "https://localhost:8080/",
          "height": 479
        },
        "id": "OqaiggV6dC1D",
        "outputId": "588c3dd1-474a-4d51-9e21-450c78baa88f"
      },
      "source": [
        "df.head(7)"
      ],
      "execution_count": 29,
      "outputs": [
        {
          "output_type": "execute_result",
          "data": {
            "text/html": [
              "<div>\n",
              "<style scoped>\n",
              "    .dataframe tbody tr th:only-of-type {\n",
              "        vertical-align: middle;\n",
              "    }\n",
              "\n",
              "    .dataframe tbody tr th {\n",
              "        vertical-align: top;\n",
              "    }\n",
              "\n",
              "    .dataframe thead th {\n",
              "        text-align: right;\n",
              "    }\n",
              "</style>\n",
              "<table border=\"1\" class=\"dataframe\">\n",
              "  <thead>\n",
              "    <tr style=\"text-align: right;\">\n",
              "      <th></th>\n",
              "      <th>date</th>\n",
              "      <th>open</th>\n",
              "      <th>high</th>\n",
              "      <th>low</th>\n",
              "      <th>close</th>\n",
              "      <th>volume</th>\n",
              "      <th>tic</th>\n",
              "      <th>day</th>\n",
              "      <th>macd</th>\n",
              "      <th>boll_ub</th>\n",
              "      <th>boll_lb</th>\n",
              "      <th>rsi_30</th>\n",
              "      <th>cci_30</th>\n",
              "      <th>dx_30</th>\n",
              "      <th>close_30_sma</th>\n",
              "      <th>close_60_sma</th>\n",
              "      <th>cov_list</th>\n",
              "      <th>return_list</th>\n",
              "    </tr>\n",
              "  </thead>\n",
              "  <tbody>\n",
              "    <tr>\n",
              "      <th>0</th>\n",
              "      <td>2005-11-30</td>\n",
              "      <td>100.519997</td>\n",
              "      <td>100.529999</td>\n",
              "      <td>100.080002</td>\n",
              "      <td>60.781929</td>\n",
              "      <td>158200.0</td>\n",
              "      <td>AGG</td>\n",
              "      <td>2.0</td>\n",
              "      <td>0.043665</td>\n",
              "      <td>61.179544</td>\n",
              "      <td>60.218158</td>\n",
              "      <td>48.233940</td>\n",
              "      <td>17.998227</td>\n",
              "      <td>6.180951</td>\n",
              "      <td>60.715075</td>\n",
              "      <td>60.959517</td>\n",
              "      <td>[[4.45735196430886e-06, 1.2365538734889978e-07...</td>\n",
              "      <td>tic              AGG       COM       EEM      ...</td>\n",
              "    </tr>\n",
              "    <tr>\n",
              "      <th>1</th>\n",
              "      <td>2005-11-30</td>\n",
              "      <td>163.889999</td>\n",
              "      <td>166.679993</td>\n",
              "      <td>163.330002</td>\n",
              "      <td>166.399994</td>\n",
              "      <td>0.0</td>\n",
              "      <td>COM</td>\n",
              "      <td>2.0</td>\n",
              "      <td>-1.558136</td>\n",
              "      <td>168.117714</td>\n",
              "      <td>163.184291</td>\n",
              "      <td>48.306688</td>\n",
              "      <td>-52.866853</td>\n",
              "      <td>13.579081</td>\n",
              "      <td>167.618668</td>\n",
              "      <td>170.454500</td>\n",
              "      <td>[[4.45735196430886e-06, 1.2365538734889978e-07...</td>\n",
              "      <td>tic              AGG       COM       EEM      ...</td>\n",
              "    </tr>\n",
              "    <tr>\n",
              "      <th>2</th>\n",
              "      <td>2005-11-30</td>\n",
              "      <td>28.020000</td>\n",
              "      <td>28.283333</td>\n",
              "      <td>28.020000</td>\n",
              "      <td>20.580990</td>\n",
              "      <td>7608600.0</td>\n",
              "      <td>EEM</td>\n",
              "      <td>2.0</td>\n",
              "      <td>0.271509</td>\n",
              "      <td>20.962609</td>\n",
              "      <td>19.813205</td>\n",
              "      <td>56.359050</td>\n",
              "      <td>82.271829</td>\n",
              "      <td>8.221150</td>\n",
              "      <td>19.955077</td>\n",
              "      <td>19.964743</td>\n",
              "      <td>[[4.45735196430886e-06, 1.2365538734889978e-07...</td>\n",
              "      <td>tic              AGG       COM       EEM      ...</td>\n",
              "    </tr>\n",
              "    <tr>\n",
              "      <th>3</th>\n",
              "      <td>2005-11-30</td>\n",
              "      <td>0.000000</td>\n",
              "      <td>0.000000</td>\n",
              "      <td>0.000000</td>\n",
              "      <td>172.220000</td>\n",
              "      <td>0.0</td>\n",
              "      <td>GLD</td>\n",
              "      <td>0.0</td>\n",
              "      <td>2.832793</td>\n",
              "      <td>175.825686</td>\n",
              "      <td>155.439314</td>\n",
              "      <td>65.281911</td>\n",
              "      <td>133.970785</td>\n",
              "      <td>8.221150</td>\n",
              "      <td>164.626000</td>\n",
              "      <td>162.849167</td>\n",
              "      <td>[[4.45735196430886e-06, 1.2365538734889978e-07...</td>\n",
              "      <td>tic              AGG       COM       EEM      ...</td>\n",
              "    </tr>\n",
              "    <tr>\n",
              "      <th>4</th>\n",
              "      <td>2005-11-30</td>\n",
              "      <td>83.540001</td>\n",
              "      <td>83.540001</td>\n",
              "      <td>83.239998</td>\n",
              "      <td>55.661400</td>\n",
              "      <td>46100.0</td>\n",
              "      <td>IEF</td>\n",
              "      <td>2.0</td>\n",
              "      <td>0.068568</td>\n",
              "      <td>56.138196</td>\n",
              "      <td>54.795323</td>\n",
              "      <td>49.147093</td>\n",
              "      <td>41.428754</td>\n",
              "      <td>4.164550</td>\n",
              "      <td>55.469750</td>\n",
              "      <td>55.815947</td>\n",
              "      <td>[[4.45735196430886e-06, 1.2365538734889978e-07...</td>\n",
              "      <td>tic              AGG       COM       EEM      ...</td>\n",
              "    </tr>\n",
              "  </tbody>\n",
              "</table>\n",
              "</div>"
            ],
            "text/plain": [
              "         date  ...                                        return_list\n",
              "0  2005-11-30  ...  tic              AGG       COM       EEM      ...\n",
              "1  2005-11-30  ...  tic              AGG       COM       EEM      ...\n",
              "2  2005-11-30  ...  tic              AGG       COM       EEM      ...\n",
              "3  2005-11-30  ...  tic              AGG       COM       EEM      ...\n",
              "4  2005-11-30  ...  tic              AGG       COM       EEM      ...\n",
              "\n",
              "[5 rows x 18 columns]"
            ]
          },
          "metadata": {},
          "execution_count": 29
        }
      ]
    },
    {
      "cell_type": "code",
      "metadata": {
        "id": "gszLslKKvWOk"
      },
      "source": [
        "df.to_pickle('processed_data.pkl')"
      ],
      "execution_count": 30,
      "outputs": []
    }
  ]
}