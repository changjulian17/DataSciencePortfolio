{
 "cells": [
  {
   "cell_type": "markdown",
   "id": "252c5c1b",
   "metadata": {},
   "source": [
    "# Introduction\n",
    "Using Python to determine an optimal portfolio using nobel prize winning Modern Portfolio Theory concepts. Checkout the [medium](https://medium.com/@changjulian17/modern-portfolio-theory-with-python-f33c9f517cd4) article for a quick overview.\n",
    "\n",
    "# Data Colletction\n",
    "\n",
    "This notebook collects data from Yahoo finance using APIs and loads data from excel sheets downloaded from websites\n",
    "\n",
    "Collect the following data \n",
    "1. equity (snp500 + world)\n",
    "2. FI (T-bill+corpbonds index)\n",
    "3. commodity (commodity index)\n",
    "4. gold (london gold index)\n",
    "5. long-vol (eurohedge log vol)   \n",
    "\n",
    "\n",
    "1. '^SP500TR' (total return inc. div, oldest up to 1988) + 'EEM' (oldest up to 14 apr 2003)\n",
    "2. 'IEF' (oldest up to 2002) + 'AGG' (up to 29 sep 2003 !dividend distributed)\n",
    "3. 'BCOM' (up to 1991)\n",
    "4. 'LBMA Gold Price' excel (1988) -  https://www.gold.org/goldhub/data/gold-prices\n",
    "5. 'Euro hedge long-vol' excel (2005, monthly pricing!) - https://www.eurekahedge.com/Indices/IndexView/Eurekahedge/640/CBOE-Eurekahedge-Long-Volatility-Hedge-Fund-Index\n",
    "\n",
    "### Date Range\n",
    "2004-12-01  to\n",
    "2021-9-31"
   ]
  },
  {
   "cell_type": "code",
   "execution_count": null,
   "id": "9eddecbc",
   "metadata": {},
   "outputs": [
    {
     "name": "stdout",
     "output_type": "stream",
     "text": [
      "Collecting pandas_datareader\n",
      "  Downloading pandas_datareader-0.10.0-py3-none-any.whl (109 kB)\n",
      "     |████████████████████████████████| 109 kB 8.5 MB/s            \n",
      "\u001b[?25hCollecting lxml\n",
      "  Downloading lxml-4.6.4.tar.gz (3.2 MB)\n",
      "     |████████████████████████████████| 3.2 MB 6.0 MB/s            \n",
      "\u001b[?25h  Preparing metadata (setup.py) ... \u001b[?25ldone\n",
      "\u001b[?25hCollecting pandas>=0.23\n",
      "  Downloading pandas-1.3.4.tar.gz (4.7 MB)\n",
      "     |████████████████████████████████| 4.7 MB 10.9 MB/s            \n",
      "\u001b[?25h  Installing build dependencies ... \u001b[?25ldone\n",
      "\u001b[?25h  Getting requirements to build wheel ... \u001b[?25l-"
     ]
    }
   ],
   "source": [
    "!pip install pandas_datareader"
   ]
  },
  {
   "cell_type": "code",
   "execution_count": null,
   "id": "5249f931",
   "metadata": {},
   "outputs": [],
   "source": [
    "import pandas_datareader.data as web\n",
    "from pandas_datareader.yahoo.headers import DEFAULT_HEADERS\n",
    "import datetime\n",
    "import requests_cache\n",
    "\n",
    "import calendar\n",
    "\n",
    "import numpy as np, pandas as pd\n",
    "\n",
    "# plots\n",
    "import matplotlib.pyplot as plt\n",
    "import seaborn as sns"
   ]
  },
  {
   "cell_type": "markdown",
   "id": "c49cefd9",
   "metadata": {},
   "source": [
    "### Data from Yahoo finance"
   ]
  },
  {
   "cell_type": "code",
   "execution_count": null,
   "id": "d324663f",
   "metadata": {},
   "outputs": [],
   "source": [
    "# list of tickers required from yahoo finance\n",
    "tickers = ['^SP500TR','EEM','IEF' , 'AGG','^BCOM']"
   ]
  },
  {
   "cell_type": "code",
   "execution_count": null,
   "id": "47ea1c94",
   "metadata": {
    "scrolled": true
   },
   "outputs": [],
   "source": [
    "# pd datareader with yahoo finance, caching query to sql lite file\n",
    "expire_after = datetime.timedelta(days=3)\n",
    "session = requests_cache.CachedSession(cache_name='cache', backend='sqlite', expire_after=expire_after)\n",
    "session.headers = DEFAULT_HEADERS\n",
    "\n",
    "start = datetime.datetime(2003, 9, 29)\n",
    "\n",
    "end = datetime.datetime(2021, 10, 1)\n",
    "data = web.DataReader(tickers, 'yahoo', start, end,session=session)\n",
    "\n",
    "# use adjusted close as daily price\n",
    "data = data['Adj Close']\n",
    "\n",
    "data.head(3)"
   ]
  },
  {
   "cell_type": "code",
   "execution_count": null,
   "id": "5bcdc727",
   "metadata": {
    "scrolled": true
   },
   "outputs": [],
   "source": [
    "# get dividends for AGG\n",
    "div = web.DataReader('AGG', 'yahoo-dividends', start, end,session=session)\n",
    "div.head(3)"
   ]
  },
  {
   "cell_type": "markdown",
   "id": "2d2db73b",
   "metadata": {},
   "source": [
    "# Data from Websites"
   ]
  },
  {
   "cell_type": "markdown",
   "id": "d6393f93",
   "metadata": {},
   "source": [
    "#### Extract for Long Volatility"
   ]
  },
  {
   "cell_type": "code",
   "execution_count": null,
   "id": "26584808",
   "metadata": {},
   "outputs": [],
   "source": [
    "# percentage change is already in excel, so we can skip one step\n",
    "data_lv = pd.read_excel('./data/long-vol.xlsx')  \n",
    "data_lv.columns = data_lv.iloc[2]\n",
    "data_lv = data_lv[3:].set_index('ReturnDate')['Index']\n",
    "\n",
    "# set date as index\n",
    "data_lv.index = pd.to_datetime(data_lv.index)\n",
    "\n",
    "# upsample month returns to daily return by averaging\n",
    "data_lv = data_lv.resample('24h').ffill()\n",
    "days = [calendar.monthrange(idx.year, idx.month)[1] for idx, x in data_lv.iteritems()]\n",
    "data_lv = data_lv/days"
   ]
  },
  {
   "cell_type": "markdown",
   "id": "0e97152f",
   "metadata": {},
   "source": [
    "#### Extract for Gold"
   ]
  },
  {
   "cell_type": "code",
   "execution_count": null,
   "id": "303c8c04",
   "metadata": {},
   "outputs": [],
   "source": [
    "data_gold = pd.read_excel('./data/gold.xlsx',sheet_name='Daily_Indexed')\n",
    "data_gold = data_gold[['Name', 'US dollar']].set_index('Name')"
   ]
  },
  {
   "cell_type": "markdown",
   "id": "959e35ba",
   "metadata": {},
   "source": [
    "### Compile Data\n",
    "- yahoo ticker\n",
    "- long vol\n",
    "- gold"
   ]
  },
  {
   "cell_type": "markdown",
   "id": "fa0f345c",
   "metadata": {},
   "source": [
    "create one table"
   ]
  },
  {
   "cell_type": "code",
   "execution_count": null,
   "id": "49f02dd7",
   "metadata": {
    "scrolled": true
   },
   "outputs": [],
   "source": [
    "# add dividends to AGG price\n",
    "data = pd.concat([data, div['value']],axis=1)\n",
    "data.AGG = data.AGG + data.value.fillna(0)\n",
    "data.drop(columns='value',inplace=True)"
   ]
  },
  {
   "cell_type": "code",
   "execution_count": null,
   "id": "c7ef11c1",
   "metadata": {
    "scrolled": true
   },
   "outputs": [],
   "source": [
    "# combine yahoo,bcom,gold\n",
    "df = pd.concat([data,data_gold,data_lv],axis=1).dropna()\n",
    "df.columns = ['SNP', \n",
    "              'EEM', \n",
    "              'IEF', \n",
    "              'AGG', \n",
    "              'BCM', \n",
    "              'GLD', \n",
    "              'LOV']\n",
    "\n",
    "#find % difference and log difference\n",
    "df = df.pct_change().apply(lambda x: np.log(1+x))\n",
    "\n",
    "print('% log difference Prices\\n\\n')\n",
    "df.head(3)"
   ]
  },
  {
   "cell_type": "code",
   "execution_count": null,
   "id": "1ece2627",
   "metadata": {},
   "outputs": [],
   "source": [
    "# compile price data only\n",
    "df_px = pd.concat([data,data_gold,data_lv],axis=1).dropna()\n",
    "df_px.columns = ['SNP', \n",
    "                  'EEM', \n",
    "                  'IEF', \n",
    "                  'AGG', \n",
    "                  'BCM', \n",
    "                  'GLD', \n",
    "                  'LOV']"
   ]
  },
  {
   "cell_type": "code",
   "execution_count": null,
   "id": "4f7f665c",
   "metadata": {},
   "outputs": [],
   "source": [
    "print('Share and Index Prices')\n",
    "df_px.head(3)"
   ]
  },
  {
   "cell_type": "markdown",
   "id": "3066ad36",
   "metadata": {},
   "source": [
    "# EDA"
   ]
  },
  {
   "cell_type": "markdown",
   "id": "5f771d55",
   "metadata": {},
   "source": [
    "### Variance"
   ]
  },
  {
   "cell_type": "code",
   "execution_count": null,
   "id": "ca961c95",
   "metadata": {},
   "outputs": [],
   "source": [
    "df.var()*365.25"
   ]
  },
  {
   "cell_type": "markdown",
   "id": "a9a74d81",
   "metadata": {},
   "source": [
    "### Standard Deviation (Volatility)"
   ]
  },
  {
   "cell_type": "code",
   "execution_count": null,
   "id": "a668a1bc",
   "metadata": {},
   "outputs": [],
   "source": [
    "sd = df.std()*np.sqrt(365.25)\n",
    "sd.plot(kind='bar')\n",
    "plt.title('Standard Deviation (Volatility)');"
   ]
  },
  {
   "cell_type": "markdown",
   "id": "e93558d3",
   "metadata": {},
   "source": [
    "> __volatility__  \n",
    "> - Fixed income (i.e. IEF, AGG ) have the lowest. Although interesting that investment grade bonds have lower vol than EEM however the dividends are distributed\n",
    "> - Commodities (BCM, LOV) have twice as much \n",
    "> - Equity has 3 times as much as fixed income "
   ]
  },
  {
   "cell_type": "markdown",
   "id": "55da2986",
   "metadata": {},
   "source": [
    "### Covariance"
   ]
  },
  {
   "cell_type": "code",
   "execution_count": null,
   "id": "d55ca121",
   "metadata": {
    "scrolled": true
   },
   "outputs": [],
   "source": [
    "# create the covariance matrix. \n",
    "# this will be used later in portfolio construction\n",
    "cov_matrix = df.cov()\n",
    "cov_matrix"
   ]
  },
  {
   "cell_type": "code",
   "execution_count": null,
   "id": "b24c5e59",
   "metadata": {},
   "outputs": [],
   "source": [
    "sns.heatmap(df.corr(),annot=True);"
   ]
  },
  {
   "cell_type": "markdown",
   "id": "999877c2",
   "metadata": {},
   "source": [
    "> __Correlation__ \n",
    ">- Equities (SNP, EEM) have a high correlation\n",
    ">- Equities (SNP, EEM) have a slight negative correlation to the risk-free return (IEF) (? due to substitution effect?)\n",
    ">- Fixed Income (IEF, AGG) have a correlation\n",
    ">- Fixed Income (IEF, AGG) have no to negative correclation with commodities\n",
    ">- Commodities and gold have a small correlation\n",
    ">- long vol is least correlated to all portfolios"
   ]
  },
  {
   "cell_type": "markdown",
   "id": "4aa25ac3",
   "metadata": {},
   "source": [
    "### Expected Return"
   ]
  },
  {
   "cell_type": "code",
   "execution_count": null,
   "id": "2431bab8",
   "metadata": {
    "scrolled": false
   },
   "outputs": [],
   "source": [
    "# get average daily return times 365.25 in the year that is extracted from dataset\n",
    "e_r = df.mean()*365.25\n",
    "\n",
    "# plot exp return\n",
    "e_r.plot(kind='bar')\n",
    "plt.title('Expected Annual Return');\n",
    "\n",
    "e_r"
   ]
  },
  {
   "cell_type": "markdown",
   "id": "ed025467",
   "metadata": {},
   "source": [
    "> __Returns__\n",
    "> - SNP highest, Commodities lowest.\n",
    "> - risk-free rate(IEF) is still higher than investment grade bonds\n",
    "> - long-vol still outperforms commodities\n",
    "> - although EEM has the highest vol it doesnt have the highest returns which should not be expected because higher volatility or risk is associated with more returns"
   ]
  },
  {
   "cell_type": "markdown",
   "id": "62c09f9e",
   "metadata": {},
   "source": [
    "### Positive and Negative months"
   ]
  },
  {
   "cell_type": "code",
   "execution_count": null,
   "id": "16b8d044",
   "metadata": {},
   "outputs": [],
   "source": [
    "for col in df.columns:\n",
    "    new_col = col + '_sign'\n",
    "    df[new_col] = np.sign(df[col])"
   ]
  },
  {
   "cell_type": "code",
   "execution_count": null,
   "id": "04573528",
   "metadata": {},
   "outputs": [],
   "source": [
    "signs = []\n",
    "\n",
    "for col in df.columns:\n",
    "    if '_sign' in col:\n",
    "        signs.append(df[col].value_counts(normalize=True))\n",
    "        \n",
    "df_signs = pd.concat(signs,axis=1)"
   ]
  },
  {
   "cell_type": "code",
   "execution_count": null,
   "id": "75220544",
   "metadata": {},
   "outputs": [],
   "source": [
    "df_signs"
   ]
  },
  {
   "cell_type": "markdown",
   "id": "82bca198",
   "metadata": {},
   "source": [
    "# MPT Portfolio construction"
   ]
  },
  {
   "cell_type": "markdown",
   "id": "dad006af",
   "metadata": {},
   "source": [
    "For Modern Portfolio Theory there are a few assumptions about investor's objective:\n",
    "1. maximise returns\n",
    "2. minimise risk / volatility / standard deviation\n",
    "\n",
    "In order to make an optimal portfolio is the maximum return for a given level of risk. The following steps is used to determine the optimal portfolio given our constrained assets above.\n",
    "\n",
    "1. initiate no. of assets and portfolios to simulate. \n",
    "2. for each random portfolio (created with random weights)\n",
    "3. save the return - using weighted average to determine\n",
    "4. save the volatility - using covariance matrix multiplied by associated weights. "
   ]
  },
  {
   "cell_type": "code",
   "execution_count": null,
   "id": "b68e6574",
   "metadata": {},
   "outputs": [],
   "source": [
    "\"\"\"\n",
    "p_ret = []\n",
    "p_weights = []\n",
    "p_vol = []\n",
    "\n",
    "# set no. of assets and portfolios to simulate\n",
    "num_assets = len(df_px.columns)\n",
    "num_portfolios = 10_000_000\n",
    "\n",
    "# for each random portfolio, find the return and volatility\n",
    "for portfolio in range(num_portfolios):\n",
    "    # create random weights\n",
    "    weights = np.random.random(num_assets)\n",
    "    weights = weights/np.sum(weights)\n",
    "    p_weights.append(weights)\n",
    "    \n",
    "    returns = np.dot(weights,e_r)\n",
    "    p_ret.append(returns)\n",
    "    \n",
    "    var = cov_matrix.mul(weights,axis=0).mul(weights,axis=1).sum().sum()\n",
    "    ann_sd = np.sqrt(var*365.25)\n",
    "    p_vol.append(ann_sd)\n",
    "    \n",
    "data = {'returns': p_ret, 'volatility': p_vol}\n",
    "\n",
    "for counter, symbol in enumerate(df_px.columns.tolist()):\n",
    "    data[symbol + '_weight'] = [w[counter] for w in p_weights]\n",
    "    \n",
    "portfolios = pd.DataFrame(data)\n",
    "\n",
    "portfolios.to_csv('./data/portfolios.csv',index=False)\n",
    "\"\"\""
   ]
  },
  {
   "cell_type": "code",
   "execution_count": null,
   "id": "f8f4772c",
   "metadata": {},
   "outputs": [],
   "source": [
    "portfolios = pd.read_csv('./data/portfolios.csv')"
   ]
  },
  {
   "cell_type": "code",
   "execution_count": null,
   "id": "ece300fb",
   "metadata": {
    "scrolled": true
   },
   "outputs": [],
   "source": [
    "# portfolios with lowest volatility\n",
    "min_var_port = portfolios.loc[portfolios['volatility'].idxmin()]\n",
    "\n",
    "portfolios.plot.scatter(x='volatility',y='returns',grid=True,\\\n",
    "                        marker='o', s=10, alpha=0.3,figsize=[10,10])\n",
    "plt.scatter(x=min_var_port[1],y=min_var_port[0],\\\n",
    "            color='r', marker='*', s=500)\n",
    "plt.title('Efficient Frontier and least risky portfolio');"
   ]
  },
  {
   "cell_type": "markdown",
   "id": "d5caa12e",
   "metadata": {},
   "source": [
    "The red star indicates the random portfolio with the least volatility"
   ]
  },
  {
   "cell_type": "code",
   "execution_count": null,
   "id": "61adb9e8",
   "metadata": {},
   "outputs": [],
   "source": [
    "portfolios.head(3).T"
   ]
  },
  {
   "cell_type": "code",
   "execution_count": null,
   "id": "b1e1fdf6",
   "metadata": {},
   "outputs": [],
   "source": [
    "min_var_port[:2]"
   ]
  },
  {
   "cell_type": "markdown",
   "id": "1b96fff0",
   "metadata": {},
   "source": [
    "\n",
    "### Optimal Risky Portfolio\n",
    "$$Sharpe Ratio = \\frac{E(R_i)-rf}{\\sigma_i}$$\n",
    "Sharpe Ratio is the ratio of return to volatility. The larger the ratio, the more return per unit vol.\n",
    "\n",
    "rf is the risk free rate of 0.08% since the time horizon for each portfolio is 1 month before the portfolio is re-adjusted"
   ]
  },
  {
   "cell_type": "code",
   "execution_count": null,
   "id": "e5b1099e",
   "metadata": {},
   "outputs": [],
   "source": [
    "rf = np.log(1+.0008)"
   ]
  },
  {
   "cell_type": "code",
   "execution_count": null,
   "id": "5b616b69",
   "metadata": {},
   "outputs": [],
   "source": [
    "portfolios['sharpe'] = (portfolios['returns']-rf)/portfolios['volatility']"
   ]
  },
  {
   "cell_type": "code",
   "execution_count": null,
   "id": "bd1c1c76",
   "metadata": {},
   "outputs": [],
   "source": [
    "sharpe_max = portfolios.loc[portfolios['sharpe'].idxmax()]\n",
    "sharpe_max"
   ]
  },
  {
   "cell_type": "markdown",
   "id": "0023ab36",
   "metadata": {},
   "source": [
    "The Sharpe optimised portfolio favours the more safe returns."
   ]
  },
  {
   "cell_type": "code",
   "execution_count": null,
   "id": "836dd5b8",
   "metadata": {},
   "outputs": [],
   "source": [
    "# plot the \n",
    "portfolios.plot.scatter(x='volatility',y='returns',grid=True,\\\n",
    "                        marker='o', s=10, alpha=0.3,figsize=[10,10])\n",
    "plt.scatter(x=min_var_port[1],y=min_var_port[0],\\\n",
    "            color='r', marker='*', s=500);\n",
    "plt.scatter(x=sharpe_max[1],y=sharpe_max[0],\\\n",
    "            color='y', marker='*', s=500);\n",
    "plt.title('Efficient Frontier and least risky / max sharpe portfolio');"
   ]
  },
  {
   "cell_type": "markdown",
   "id": "b5ab389d",
   "metadata": {},
   "source": [
    "### Capital Allocation Line\n",
    "$$E(R_P) = rf + \\frac{E(R_i)-rf}{\\sigma_i}\\sigma_p$$\n",
    "This line implies all the possible allocations of portfolio. i.e. different combinations of the sharpe optimised portfolio and a risk-free asset (e.g. T-bill) (from risk free to most risk).\n",
    "\n",
    "There is a linear relationship in returns, because th portfolio only has 2 components and as the risky portfolio weight decreases the returns decrease monotonously. linear relationship in sd due to the risk-free having 0 vol so the decrease in volatility from the optimal portfolio to risk free is monotonous.\n",
    "\n",
    "### Utility Function\n",
    "$$U = E(R)-0.5A\\sigma^2$$\n",
    "This function is from a economic model. Higher return leads to higher utility.\n",
    "A is the coefficient of risk aversion. If A is small then the are less risk averse. We assume 25 < A < 35.\n",
    "\n",
    "Expected return is the level of utility and is discounted by level of risk aversion.\n",
    "\n",
    "Here we will use 3.5 as a conservative level\n",
    "\n",
    "### Final optimised portfolio\n",
    "To come up with the final optimised portfolio below, we find the intersection of the Capital allocation line and Utility function\n",
    "\n",
    "Assumptions\n",
    "- investors always want to reduce risk\n",
    "- investors want the greatest return for risk"
   ]
  },
  {
   "cell_type": "code",
   "execution_count": null,
   "id": "926eb0c6",
   "metadata": {},
   "outputs": [],
   "source": [
    "cal_x = []\n",
    "cal_y = []\n",
    "utility = []\n",
    "a = 35\n",
    "max_returns = portfolios.returns.max()\n",
    "\n",
    "for er in np.linspace(rf, max_returns, 1000):\n",
    "    sd = (er - rf)/((sharpe_max[0]-rf)/sharpe_max[1])\n",
    "    u = er - .5*a*(sd**2)\n",
    "    cal_x.append(sd)\n",
    "    cal_y.append(er)\n",
    "    utility.append(u)\n",
    "    \n",
    "data2 = {'utility':utility, 'cal_y':cal_y, 'cal_x':cal_x}\n",
    "cal = pd.DataFrame(data2)\n",
    "cal.head()"
   ]
  },
  {
   "cell_type": "code",
   "execution_count": null,
   "id": "a9949836",
   "metadata": {},
   "outputs": [],
   "source": [
    "investors_port = cal.iloc[cal['utility'].idxmax()]\n",
    "investors_port"
   ]
  },
  {
   "cell_type": "code",
   "execution_count": null,
   "id": "92d8f32e",
   "metadata": {
    "scrolled": false
   },
   "outputs": [],
   "source": [
    "portfolios.plot.scatter(x='volatility',y='returns',grid=True,\\\n",
    "                        marker='o', s=10, alpha=0.3,figsize=[10,10])\n",
    "plt.scatter(x=min_var_port[1],y=min_var_port[0],\\\n",
    "            color='r', marker='*', s=500)\n",
    "plt.scatter(x=sharpe_max[1],y=sharpe_max[0],\\\n",
    "            color='y', marker='*', s=500)\n",
    "plt.plot(cal_x, cal_y, color='purple')\n",
    "plt.plot(investors_port[2], investors_port[1], '*', color='lightgreen')\n",
    "plt.title('Efficient Frontier and least risky / max sharpe portfolio / max utility portfolio');"
   ]
  },
  {
   "cell_type": "markdown",
   "id": "7514a759",
   "metadata": {},
   "source": [
    "# Utility adjusted Portfolio\n",
    "\n",
    "The point on the CAL is a weighted combination of complete sharpe optimised or rf (cash) portfolios. The final portfolio mix is found by the ratio of return vs the sharpe optimised "
   ]
  },
  {
   "cell_type": "code",
   "execution_count": null,
   "id": "0484334e",
   "metadata": {},
   "outputs": [],
   "source": [
    "# find weight of sharpe optimised portfolio\n",
    "pct_risk = investors_port[2]/sharpe_max[1]\n",
    "\n",
    "# find final returns, vol, weights of \n",
    "# sharpe optimised portfolio components\n",
    "risk = sharpe_max[2:]*pct_risk\n",
    "\n",
    "# find final returns, vol, weights of rf\n",
    "risk_free = pd.Series([(1-pct_risk)], index=['Cash'])\n",
    "\n",
    "port_fin = pd.concat([investors_port,risk,risk_free], axis=0).rename({'cal_y':'returns', 'cal_x':'volatility'})\n",
    "port_fin"
   ]
  },
  {
   "cell_type": "markdown",
   "id": "df224ec9",
   "metadata": {},
   "source": [
    "## Validating greatest utility, return, volatility\n",
    "There is alternative to using the Capital Allocation Line. Here, the utility for each portfolio can be calculated, solving for the maximum utility.\n",
    "\n",
    "Then then compare the returns of the Capital Allocation Line for the same risk.\n",
    "\n",
    "On Capital Allocation Line:\n",
    "\n",
    "| util  | return  | volatility  |\n",
    "|---|---|---|\n",
    "| 0.060 |  0.124 |  0.160 | \n",
    "| 0.058 |  0.131 |  0.171 | \n",
    "\t\t\n",
    "On Efficient Frontier:\n",
    "\n",
    "| util  | return  | volatility  |\n",
    "|---|---|---|\n",
    "| -0.0172 |  0.114 |0.162|\n",
    "\n",
    "It can be seen the CAL allocates with higher return with even lower volatility. Also the point on the Efficient Frontier does not maximise return to volatility."
   ]
  },
  {
   "cell_type": "code",
   "execution_count": null,
   "id": "31db798e",
   "metadata": {},
   "outputs": [],
   "source": [
    "portfolios['utility'] = portfolios['returns'] - .5*a*(portfolios['volatility']**2)"
   ]
  },
  {
   "cell_type": "code",
   "execution_count": null,
   "id": "ed8143f3",
   "metadata": {},
   "outputs": [],
   "source": [
    "portfolios.loc[portfolios['utility'].idxmax()]"
   ]
  },
  {
   "cell_type": "code",
   "execution_count": null,
   "id": "073ac2e1",
   "metadata": {},
   "outputs": [],
   "source": [
    "cal.utility.describe()"
   ]
  }
 ],
 "metadata": {
  "kernelspec": {
   "display_name": "Python 3 (ipykernel)",
   "language": "python",
   "name": "python3"
  },
  "language_info": {
   "codemirror_mode": {
    "name": "ipython",
    "version": 3
   },
   "file_extension": ".py",
   "mimetype": "text/x-python",
   "name": "python",
   "nbconvert_exporter": "python",
   "pygments_lexer": "ipython3",
   "version": "3.9.7"
  }
 },
 "nbformat": 4,
 "nbformat_minor": 5
}
