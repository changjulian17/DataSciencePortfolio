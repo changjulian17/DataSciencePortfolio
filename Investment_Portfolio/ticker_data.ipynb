{
 "cells": [
  {
   "cell_type": "markdown",
   "id": "252c5c1b",
   "metadata": {},
   "source": [
    "# Data Colletction\n",
    "\n",
    "This notebook collects data from Yahoo finance using APIs and loads data from excel sheets downloaded from websites\n",
    "\n",
    "Collect the following data \n",
    "1. equity (snp500 + world)\n",
    "2. FI (T-bill+corpbonds index)\n",
    "3. commodity (commodity index)\n",
    "4. gold (london gold index)\n",
    "5. long-vol (eurohedge log vol)   \n",
    "\n",
    "\n",
    "1. '^SP500TR' (total return inc. div, oldest up to 1988) + 'EEM' (oldest up to 14 apr 2003)\n",
    "2. 'IEF' (oldest up to 2002) + 'AGG' (up to 29 sep 2003 !dividend distributed)\n",
    "3. 'BCOM' (up to 1991)\n",
    "4. 'LBMA Gold Price' excel (1988) -  https://www.gold.org/goldhub/data/gold-prices\n",
    "5. 'Euro hedge long-vol' excel (2005, monthly pricing!) - https://www.eurekahedge.com/Indices/IndexView/Eurekahedge/640/CBOE-Eurekahedge-Long-Volatility-Hedge-Fund-Index\n",
    "\n",
    "### Date Range\n",
    "2003-9-29\n",
    "2021-9-31"
   ]
  },
  {
   "cell_type": "code",
   "execution_count": 1,
   "id": "5249f931",
   "metadata": {},
   "outputs": [],
   "source": [
    "import pandas_datareader.data as web\n",
    "from pandas_datareader.yahoo.headers import DEFAULT_HEADERS\n",
    "import datetime\n",
    "import requests_cache\n",
    "\n",
    "import calendar\n",
    "\n",
    "import numpy as np, pandas as pd\n",
    "\n",
    "# plots\n",
    "import matplotlib.pyplot as plt\n",
    "import seaborn as sns"
   ]
  },
  {
   "cell_type": "markdown",
   "id": "c49cefd9",
   "metadata": {},
   "source": [
    "### Data from Yahoo finance"
   ]
  },
  {
   "cell_type": "code",
   "execution_count": 2,
   "id": "d324663f",
   "metadata": {},
   "outputs": [],
   "source": [
    "# list of tickers required from yahoo finance\n",
    "tickers = ['^SP500TR','EEM','IEF' , 'AGG','^BCOM']"
   ]
  },
  {
   "cell_type": "code",
   "execution_count": 3,
   "id": "47ea1c94",
   "metadata": {
    "scrolled": true
   },
   "outputs": [
    {
     "data": {
      "text/html": [
       "<div>\n",
       "<style scoped>\n",
       "    .dataframe tbody tr th:only-of-type {\n",
       "        vertical-align: middle;\n",
       "    }\n",
       "\n",
       "    .dataframe tbody tr th {\n",
       "        vertical-align: top;\n",
       "    }\n",
       "\n",
       "    .dataframe thead th {\n",
       "        text-align: right;\n",
       "    }\n",
       "</style>\n",
       "<table border=\"1\" class=\"dataframe\">\n",
       "  <thead>\n",
       "    <tr style=\"text-align: right;\">\n",
       "      <th>Symbols</th>\n",
       "      <th>^SP500TR</th>\n",
       "      <th>EEM</th>\n",
       "      <th>IEF</th>\n",
       "      <th>AGG</th>\n",
       "      <th>^BCOM</th>\n",
       "    </tr>\n",
       "    <tr>\n",
       "      <th>Date</th>\n",
       "      <th></th>\n",
       "      <th></th>\n",
       "      <th></th>\n",
       "      <th></th>\n",
       "      <th></th>\n",
       "    </tr>\n",
       "  </thead>\n",
       "  <tbody>\n",
       "    <tr>\n",
       "      <th>2003-09-29</th>\n",
       "      <td>1462.199951</td>\n",
       "      <td>10.932035</td>\n",
       "      <td>52.032452</td>\n",
       "      <td>57.497868</td>\n",
       "      <td>120.430000</td>\n",
       "    </tr>\n",
       "    <tr>\n",
       "      <th>2003-09-30</th>\n",
       "      <td>1446.770020</td>\n",
       "      <td>10.897560</td>\n",
       "      <td>52.536022</td>\n",
       "      <td>57.796093</td>\n",
       "      <td>120.900002</td>\n",
       "    </tr>\n",
       "    <tr>\n",
       "      <th>2003-10-01</th>\n",
       "      <td>1479.229980</td>\n",
       "      <td>11.183769</td>\n",
       "      <td>52.769112</td>\n",
       "      <td>57.767990</td>\n",
       "      <td>121.139999</td>\n",
       "    </tr>\n",
       "  </tbody>\n",
       "</table>\n",
       "</div>"
      ],
      "text/plain": [
       "Symbols        ^SP500TR        EEM        IEF        AGG       ^BCOM\n",
       "Date                                                                \n",
       "2003-09-29  1462.199951  10.932035  52.032452  57.497868  120.430000\n",
       "2003-09-30  1446.770020  10.897560  52.536022  57.796093  120.900002\n",
       "2003-10-01  1479.229980  11.183769  52.769112  57.767990  121.139999"
      ]
     },
     "execution_count": 3,
     "metadata": {},
     "output_type": "execute_result"
    }
   ],
   "source": [
    "# pd datareader with yahoo finance, caching query to sql lite file\n",
    "expire_after = datetime.timedelta(days=3)\n",
    "session = requests_cache.CachedSession(cache_name='cache', backend='sqlite', expire_after=expire_after)\n",
    "session.headers = DEFAULT_HEADERS\n",
    "\n",
    "start = datetime.datetime(2003, 9, 29)\n",
    "\n",
    "end = datetime.datetime(2021, 10, 1)\n",
    "data = web.DataReader(tickers, 'yahoo', start, end,session=session)\n",
    "\n",
    "# use adjusted close as daily price\n",
    "data = data['Adj Close']\n",
    "\n",
    "data.head(3)"
   ]
  },
  {
   "cell_type": "code",
   "execution_count": 4,
   "id": "5bcdc727",
   "metadata": {
    "scrolled": true
   },
   "outputs": [
    {
     "data": {
      "text/html": [
       "<div>\n",
       "<style scoped>\n",
       "    .dataframe tbody tr th:only-of-type {\n",
       "        vertical-align: middle;\n",
       "    }\n",
       "\n",
       "    .dataframe tbody tr th {\n",
       "        vertical-align: top;\n",
       "    }\n",
       "\n",
       "    .dataframe thead th {\n",
       "        text-align: right;\n",
       "    }\n",
       "</style>\n",
       "<table border=\"1\" class=\"dataframe\">\n",
       "  <thead>\n",
       "    <tr style=\"text-align: right;\">\n",
       "      <th></th>\n",
       "      <th>action</th>\n",
       "      <th>value</th>\n",
       "    </tr>\n",
       "  </thead>\n",
       "  <tbody>\n",
       "    <tr>\n",
       "      <th>2021-10-01</th>\n",
       "      <td>DIVIDEND</td>\n",
       "      <td>0.180</td>\n",
       "    </tr>\n",
       "    <tr>\n",
       "      <th>2021-09-01</th>\n",
       "      <td>DIVIDEND</td>\n",
       "      <td>0.167</td>\n",
       "    </tr>\n",
       "    <tr>\n",
       "      <th>2021-08-02</th>\n",
       "      <td>DIVIDEND</td>\n",
       "      <td>0.167</td>\n",
       "    </tr>\n",
       "  </tbody>\n",
       "</table>\n",
       "</div>"
      ],
      "text/plain": [
       "              action  value\n",
       "2021-10-01  DIVIDEND  0.180\n",
       "2021-09-01  DIVIDEND  0.167\n",
       "2021-08-02  DIVIDEND  0.167"
      ]
     },
     "execution_count": 4,
     "metadata": {},
     "output_type": "execute_result"
    }
   ],
   "source": [
    "# get dividends for AGG\n",
    "div = web.DataReader('AGG', 'yahoo-dividends', start, end,session=session)\n",
    "div.head(3)"
   ]
  },
  {
   "cell_type": "markdown",
   "id": "2d2db73b",
   "metadata": {},
   "source": [
    "# Data from Websites"
   ]
  },
  {
   "cell_type": "markdown",
   "id": "d6393f93",
   "metadata": {},
   "source": [
    "#### Extract for Long Volatility"
   ]
  },
  {
   "cell_type": "code",
   "execution_count": 5,
   "id": "26584808",
   "metadata": {},
   "outputs": [],
   "source": [
    "# percentage change is already in excel, so we can skip one step\n",
    "data_lv = pd.read_excel('./data/long-vol.xlsx')  \n",
    "data_lv.columns = data_lv.iloc[2]\n",
    "data_lv = data_lv[3:].set_index('ReturnDate')['Index']\n",
    "\n",
    "# set date as index\n",
    "data_lv.index = pd.to_datetime(data_lv.index)\n",
    "\n",
    "# upsample month returns to daily return by averaging\n",
    "data_lv = data_lv.resample('24h').ffill()\n",
    "days = [calendar.monthrange(idx.year, idx.month)[1] for idx, x in data_lv.iteritems()]\n",
    "data_lv = data_lv/days"
   ]
  },
  {
   "cell_type": "markdown",
   "id": "0e97152f",
   "metadata": {},
   "source": [
    "#### Extract for Gold"
   ]
  },
  {
   "cell_type": "code",
   "execution_count": 6,
   "id": "303c8c04",
   "metadata": {},
   "outputs": [],
   "source": [
    "data_gold = pd.read_excel('./data/gold.xlsx',sheet_name='Daily_Indexed')\n",
    "data_gold = data_gold[['Name', 'US dollar']].set_index('Name')"
   ]
  },
  {
   "cell_type": "markdown",
   "id": "959e35ba",
   "metadata": {},
   "source": [
    "### Compile Data\n",
    "- yahoo ticker\n",
    "- long vol\n",
    "- gold"
   ]
  },
  {
   "cell_type": "markdown",
   "id": "fa0f345c",
   "metadata": {},
   "source": [
    "create one table"
   ]
  },
  {
   "cell_type": "code",
   "execution_count": 7,
   "id": "49f02dd7",
   "metadata": {
    "scrolled": true
   },
   "outputs": [],
   "source": [
    "# add dividends to AGG price\n",
    "data = pd.concat([data, div['value']],axis=1)\n",
    "data.AGG = data.AGG + data.value.fillna(0)\n",
    "data.drop(columns='value',inplace=True)"
   ]
  },
  {
   "cell_type": "code",
   "execution_count": 49,
   "id": "c7ef11c1",
   "metadata": {
    "scrolled": true
   },
   "outputs": [
    {
     "name": "stdout",
     "output_type": "stream",
     "text": [
      "% log difference Prices\n",
      "\n",
      "\n"
     ]
    },
    {
     "data": {
      "text/html": [
       "<div>\n",
       "<style scoped>\n",
       "    .dataframe tbody tr th:only-of-type {\n",
       "        vertical-align: middle;\n",
       "    }\n",
       "\n",
       "    .dataframe tbody tr th {\n",
       "        vertical-align: top;\n",
       "    }\n",
       "\n",
       "    .dataframe thead th {\n",
       "        text-align: right;\n",
       "    }\n",
       "</style>\n",
       "<table border=\"1\" class=\"dataframe\">\n",
       "  <thead>\n",
       "    <tr style=\"text-align: right;\">\n",
       "      <th></th>\n",
       "      <th>SNP</th>\n",
       "      <th>EEM</th>\n",
       "      <th>IEF</th>\n",
       "      <th>AGG</th>\n",
       "      <th>BCM</th>\n",
       "      <th>GLD</th>\n",
       "      <th>LOV</th>\n",
       "    </tr>\n",
       "  </thead>\n",
       "  <tbody>\n",
       "    <tr>\n",
       "      <th>2004-12-01</th>\n",
       "      <td>NaN</td>\n",
       "      <td>NaN</td>\n",
       "      <td>NaN</td>\n",
       "      <td>NaN</td>\n",
       "      <td>NaN</td>\n",
       "      <td>NaN</td>\n",
       "      <td>NaN</td>\n",
       "    </tr>\n",
       "    <tr>\n",
       "      <th>2004-12-02</th>\n",
       "      <td>-0.000866</td>\n",
       "      <td>-0.001477</td>\n",
       "      <td>-0.002259</td>\n",
       "      <td>-0.003294</td>\n",
       "      <td>-0.031172</td>\n",
       "      <td>0.002983</td>\n",
       "      <td>0.0</td>\n",
       "    </tr>\n",
       "    <tr>\n",
       "      <th>2004-12-03</th>\n",
       "      <td>0.000713</td>\n",
       "      <td>0.004525</td>\n",
       "      <td>0.009949</td>\n",
       "      <td>0.005784</td>\n",
       "      <td>-0.000413</td>\n",
       "      <td>-0.012305</td>\n",
       "      <td>0.0</td>\n",
       "    </tr>\n",
       "  </tbody>\n",
       "</table>\n",
       "</div>"
      ],
      "text/plain": [
       "                 SNP       EEM       IEF       AGG       BCM       GLD  LOV\n",
       "2004-12-01       NaN       NaN       NaN       NaN       NaN       NaN  NaN\n",
       "2004-12-02 -0.000866 -0.001477 -0.002259 -0.003294 -0.031172  0.002983  0.0\n",
       "2004-12-03  0.000713  0.004525  0.009949  0.005784 -0.000413 -0.012305  0.0"
      ]
     },
     "execution_count": 49,
     "metadata": {},
     "output_type": "execute_result"
    }
   ],
   "source": [
    "# combine yahoo,bcom,gold\n",
    "df = pd.concat([data,data_gold,data_lv],axis=1).dropna()\n",
    "df.columns = ['SNP', \n",
    "              'EEM', \n",
    "              'IEF', \n",
    "              'AGG', \n",
    "              'BCM', \n",
    "              'GLD', \n",
    "              'LOV']\n",
    "\n",
    "#find % difference and log difference\n",
    "df = df.pct_change().apply(lambda x: np.log(1+x))\n",
    "\n",
    "print('% log difference Prices\\n\\n')\n",
    "df.head(3)"
   ]
  },
  {
   "cell_type": "code",
   "execution_count": 50,
   "id": "1ece2627",
   "metadata": {},
   "outputs": [],
   "source": [
    "# compile price data only\n",
    "df_px = pd.concat([data,data_gold,data_lv],axis=1).dropna()\n",
    "df_px.columns = ['SNP', \n",
    "                  'EEM', \n",
    "                  'IEF', \n",
    "                  'AGG', \n",
    "                  'BCM', \n",
    "                  'GLD', \n",
    "                  'LOV']"
   ]
  },
  {
   "cell_type": "code",
   "execution_count": 51,
   "id": "4f7f665c",
   "metadata": {},
   "outputs": [
    {
     "name": "stdout",
     "output_type": "stream",
     "text": [
      "Share and Index Prices\n"
     ]
    },
    {
     "data": {
      "text/html": [
       "<div>\n",
       "<style scoped>\n",
       "    .dataframe tbody tr th:only-of-type {\n",
       "        vertical-align: middle;\n",
       "    }\n",
       "\n",
       "    .dataframe tbody tr th {\n",
       "        vertical-align: top;\n",
       "    }\n",
       "\n",
       "    .dataframe thead th {\n",
       "        text-align: right;\n",
       "    }\n",
       "</style>\n",
       "<table border=\"1\" class=\"dataframe\">\n",
       "  <thead>\n",
       "    <tr style=\"text-align: right;\">\n",
       "      <th></th>\n",
       "      <th>SNP</th>\n",
       "      <th>EEM</th>\n",
       "      <th>IEF</th>\n",
       "      <th>AGG</th>\n",
       "      <th>BCM</th>\n",
       "      <th>GLD</th>\n",
       "      <th>LOV</th>\n",
       "    </tr>\n",
       "  </thead>\n",
       "  <tbody>\n",
       "    <tr>\n",
       "      <th>2004-12-01</th>\n",
       "      <td>1766.900024</td>\n",
       "      <td>15.839630</td>\n",
       "      <td>54.357414</td>\n",
       "      <td>59.812436</td>\n",
       "      <td>149.880005</td>\n",
       "      <td>157.35</td>\n",
       "      <td>3.225806</td>\n",
       "    </tr>\n",
       "    <tr>\n",
       "      <th>2004-12-02</th>\n",
       "      <td>1765.369995</td>\n",
       "      <td>15.816259</td>\n",
       "      <td>54.234745</td>\n",
       "      <td>59.615761</td>\n",
       "      <td>145.279999</td>\n",
       "      <td>157.82</td>\n",
       "      <td>3.225806</td>\n",
       "    </tr>\n",
       "    <tr>\n",
       "      <th>2004-12-03</th>\n",
       "      <td>1766.630005</td>\n",
       "      <td>15.887982</td>\n",
       "      <td>54.777012</td>\n",
       "      <td>59.961605</td>\n",
       "      <td>145.220001</td>\n",
       "      <td>155.89</td>\n",
       "      <td>3.225806</td>\n",
       "    </tr>\n",
       "  </tbody>\n",
       "</table>\n",
       "</div>"
      ],
      "text/plain": [
       "                    SNP        EEM        IEF        AGG         BCM     GLD  \\\n",
       "2004-12-01  1766.900024  15.839630  54.357414  59.812436  149.880005  157.35   \n",
       "2004-12-02  1765.369995  15.816259  54.234745  59.615761  145.279999  157.82   \n",
       "2004-12-03  1766.630005  15.887982  54.777012  59.961605  145.220001  155.89   \n",
       "\n",
       "                 LOV  \n",
       "2004-12-01  3.225806  \n",
       "2004-12-02  3.225806  \n",
       "2004-12-03  3.225806  "
      ]
     },
     "execution_count": 51,
     "metadata": {},
     "output_type": "execute_result"
    }
   ],
   "source": [
    "print('Share and Index Prices')\n",
    "df_px.head(3)"
   ]
  },
  {
   "cell_type": "markdown",
   "id": "3066ad36",
   "metadata": {},
   "source": [
    "# EDA"
   ]
  },
  {
   "cell_type": "markdown",
   "id": "5f771d55",
   "metadata": {},
   "source": [
    "### Variance"
   ]
  },
  {
   "cell_type": "code",
   "execution_count": 11,
   "id": "ca961c95",
   "metadata": {},
   "outputs": [
    {
     "data": {
      "text/plain": [
       "SNP    0.037952\n",
       "EEM    0.086088\n",
       "IEF    0.004088\n",
       "AGG    0.002720\n",
       "BCM    0.027031\n",
       "GLD    0.032436\n",
       "LOV    0.031646\n",
       "dtype: float64"
      ]
     },
     "execution_count": 11,
     "metadata": {},
     "output_type": "execute_result"
    }
   ],
   "source": [
    "df.var()*250"
   ]
  },
  {
   "cell_type": "markdown",
   "id": "a9a74d81",
   "metadata": {},
   "source": [
    "### Standard Deviation (Volatility)"
   ]
  },
  {
   "cell_type": "code",
   "execution_count": 12,
   "id": "a668a1bc",
   "metadata": {},
   "outputs": [
    {
     "data": {
      "image/png": "[encoded data removed]",
      "text/plain": [
       "<Figure size 432x288 with 1 Axes>"
      ]
     },
     "metadata": {
      "needs_background": "light"
     },
     "output_type": "display_data"
    }
   ],
   "source": [
    "sd = df.std()*np.sqrt(250)\n",
    "sd.plot(kind='bar')\n",
    "plt.title('Standard Deviation (Volatility)');"
   ]
  },
  {
   "cell_type": "markdown",
   "id": "e93558d3",
   "metadata": {},
   "source": [
    "> __volatility__  \n",
    "> - Fixed income (i.e. IEF, AGG ) have the lowest. Although interesting that investment grade bonds have lower vol than EEM however the dividends are distributed\n",
    "> - Commodities (BCM, LOV) have twice as much \n",
    "> - Equity has 3 times as much as fixed income "
   ]
  },
  {
   "cell_type": "markdown",
   "id": "55da2986",
   "metadata": {},
   "source": [
    "### Covariance"
   ]
  },
  {
   "cell_type": "code",
   "execution_count": 13,
   "id": "d55ca121",
   "metadata": {
    "scrolled": true
   },
   "outputs": [
    {
     "data": {
      "text/html": [
       "<div>\n",
       "<style scoped>\n",
       "    .dataframe tbody tr th:only-of-type {\n",
       "        vertical-align: middle;\n",
       "    }\n",
       "\n",
       "    .dataframe tbody tr th {\n",
       "        vertical-align: top;\n",
       "    }\n",
       "\n",
       "    .dataframe thead th {\n",
       "        text-align: right;\n",
       "    }\n",
       "</style>\n",
       "<table border=\"1\" class=\"dataframe\">\n",
       "  <thead>\n",
       "    <tr style=\"text-align: right;\">\n",
       "      <th></th>\n",
       "      <th>SNP</th>\n",
       "      <th>EEM</th>\n",
       "      <th>IEF</th>\n",
       "      <th>AGG</th>\n",
       "      <th>BCM</th>\n",
       "      <th>GLD</th>\n",
       "      <th>LOV</th>\n",
       "    </tr>\n",
       "  </thead>\n",
       "  <tbody>\n",
       "    <tr>\n",
       "      <th>SNP</th>\n",
       "      <td>1.518060e-04</td>\n",
       "      <td>1.936971e-04</td>\n",
       "      <td>-2.051703e-05</td>\n",
       "      <td>-3.351474e-06</td>\n",
       "      <td>4.335085e-05</td>\n",
       "      <td>2.840239e-06</td>\n",
       "      <td>4.312711e-07</td>\n",
       "    </tr>\n",
       "    <tr>\n",
       "      <th>EEM</th>\n",
       "      <td>1.936971e-04</td>\n",
       "      <td>3.443514e-04</td>\n",
       "      <td>-2.610095e-05</td>\n",
       "      <td>-3.623782e-06</td>\n",
       "      <td>7.875011e-05</td>\n",
       "      <td>1.826943e-05</td>\n",
       "      <td>7.060554e-07</td>\n",
       "    </tr>\n",
       "    <tr>\n",
       "      <th>IEF</th>\n",
       "      <td>-2.051703e-05</td>\n",
       "      <td>-2.610095e-05</td>\n",
       "      <td>1.635160e-05</td>\n",
       "      <td>8.439181e-06</td>\n",
       "      <td>-7.774529e-06</td>\n",
       "      <td>3.597607e-06</td>\n",
       "      <td>7.444790e-07</td>\n",
       "    </tr>\n",
       "    <tr>\n",
       "      <th>AGG</th>\n",
       "      <td>-3.351474e-06</td>\n",
       "      <td>-3.623782e-06</td>\n",
       "      <td>8.439181e-06</td>\n",
       "      <td>1.087898e-05</td>\n",
       "      <td>1.129888e-07</td>\n",
       "      <td>2.412357e-06</td>\n",
       "      <td>1.109466e-06</td>\n",
       "    </tr>\n",
       "    <tr>\n",
       "      <th>BCM</th>\n",
       "      <td>4.335085e-05</td>\n",
       "      <td>7.875011e-05</td>\n",
       "      <td>-7.774529e-06</td>\n",
       "      <td>1.129888e-07</td>\n",
       "      <td>1.081237e-04</td>\n",
       "      <td>3.764651e-05</td>\n",
       "      <td>1.574205e-07</td>\n",
       "    </tr>\n",
       "    <tr>\n",
       "      <th>GLD</th>\n",
       "      <td>2.840239e-06</td>\n",
       "      <td>1.826943e-05</td>\n",
       "      <td>3.597607e-06</td>\n",
       "      <td>2.412357e-06</td>\n",
       "      <td>3.764651e-05</td>\n",
       "      <td>1.297434e-04</td>\n",
       "      <td>-9.957715e-08</td>\n",
       "    </tr>\n",
       "    <tr>\n",
       "      <th>LOV</th>\n",
       "      <td>4.312711e-07</td>\n",
       "      <td>7.060554e-07</td>\n",
       "      <td>7.444790e-07</td>\n",
       "      <td>1.109466e-06</td>\n",
       "      <td>1.574205e-07</td>\n",
       "      <td>-9.957715e-08</td>\n",
       "      <td>1.265826e-04</td>\n",
       "    </tr>\n",
       "  </tbody>\n",
       "</table>\n",
       "</div>"
      ],
      "text/plain": [
       "              SNP           EEM           IEF           AGG           BCM  \\\n",
       "SNP  1.518060e-04  1.936971e-04 -2.051703e-05 -3.351474e-06  4.335085e-05   \n",
       "EEM  1.936971e-04  3.443514e-04 -2.610095e-05 -3.623782e-06  7.875011e-05   \n",
       "IEF -2.051703e-05 -2.610095e-05  1.635160e-05  8.439181e-06 -7.774529e-06   \n",
       "AGG -3.351474e-06 -3.623782e-06  8.439181e-06  1.087898e-05  1.129888e-07   \n",
       "BCM  4.335085e-05  7.875011e-05 -7.774529e-06  1.129888e-07  1.081237e-04   \n",
       "GLD  2.840239e-06  1.826943e-05  3.597607e-06  2.412357e-06  3.764651e-05   \n",
       "LOV  4.312711e-07  7.060554e-07  7.444790e-07  1.109466e-06  1.574205e-07   \n",
       "\n",
       "              GLD           LOV  \n",
       "SNP  2.840239e-06  4.312711e-07  \n",
       "EEM  1.826943e-05  7.060554e-07  \n",
       "IEF  3.597607e-06  7.444790e-07  \n",
       "AGG  2.412357e-06  1.109466e-06  \n",
       "BCM  3.764651e-05  1.574205e-07  \n",
       "GLD  1.297434e-04 -9.957715e-08  \n",
       "LOV -9.957715e-08  1.265826e-04  "
      ]
     },
     "execution_count": 13,
     "metadata": {},
     "output_type": "execute_result"
    }
   ],
   "source": [
    "# create the covariance matrix. \n",
    "# this will be used later in portfolio construction\n",
    "cov_matrix = df.cov()\n",
    "cov_matrix"
   ]
  },
  {
   "cell_type": "code",
   "execution_count": 90,
   "id": "3d6f0e1f",
   "metadata": {},
   "outputs": [
    {
     "data": {
      "text/plain": [
       "<AxesSubplot:>"
      ]
     },
     "execution_count": 90,
     "metadata": {},
     "output_type": "execute_result"
    },
    {
     "data": {
      "image/png": "[encoded data removed]",
      "text/plain": [
       "<Figure size 432x288 with 2 Axes>"
      ]
     },
     "metadata": {
      "needs_background": "light"
     },
     "output_type": "display_data"
    }
   ],
   "source": [
    "sns.heatmap(df.corr(),annot=True);"
   ]
  },
  {
   "cell_type": "markdown",
   "id": "6fef7b3d",
   "metadata": {},
   "source": [
    "> __Correlation__ \n",
    ">- Equities (SNP, EEM) have a high correlation\n",
    ">- Equities (SNP, EEM) have a slight negative correlation to the risk-free return (IEF) (? due to substitution effect?)\n",
    ">- Fixed Income (IEF, AGG) have a correlation\n",
    ">- Fixed Income (IEF, AGG) have no to negative correclation with commodities\n",
    ">- Commodities and gold have a small correlation\n",
    ">- long vol is least correlated to all portfolios"
   ]
  },
  {
   "cell_type": "markdown",
   "id": "4aa25ac3",
   "metadata": {},
   "source": [
    "### Expected Return"
   ]
  },
  {
   "cell_type": "code",
   "execution_count": 94,
   "id": "e6c5d64d",
   "metadata": {
    "scrolled": false
   },
   "outputs": [
    {
     "data": {
      "text/plain": [
       "SNP    0.099373\n",
       "EEM    0.071725\n",
       "IEF    0.045498\n",
       "AGG    0.039244\n",
       "BCM   -0.026379\n",
       "GLD    0.082236\n",
       "LOV    0.039436\n",
       "dtype: float64"
      ]
     },
     "execution_count": 94,
     "metadata": {},
     "output_type": "execute_result"
    },
    {
     "data": {
      "image/png": "[encoded data removed]",
      "text/plain": [
       "<Figure size 432x288 with 1 Axes>"
      ]
     },
     "metadata": {
      "needs_background": "light"
     },
     "output_type": "display_data"
    }
   ],
   "source": [
    "# get average daily return times 250 trading days a year\n",
    "e_r = df.mean()*250\n",
    "\n",
    "# plot exp return\n",
    "e_r.plot(kind='bar')\n",
    "plt.title('Expected Annual Return');\n",
    "\n",
    "e_r"
   ]
  },
  {
   "cell_type": "markdown",
   "id": "3a7d48d7",
   "metadata": {},
   "source": [
    "> __Returns__\n",
    "> - SNP highest, Commodities lowest.\n",
    "> - risk-free rate(IEF) is still higher than investment grade bonds\n",
    "> - long-vol still outperforms commodities\n",
    "> - although EEM has the highest vol it doesnt have the highest returns which should not be expected because higher volatility or risk is associated with more returns"
   ]
  },
  {
   "cell_type": "markdown",
   "id": "1ff42678",
   "metadata": {},
   "source": [
    "### Positive and Negative months"
   ]
  },
  {
   "cell_type": "code",
   "execution_count": 98,
   "id": "a0bba08b",
   "metadata": {},
   "outputs": [],
   "source": [
    "for col in df.columns:\n",
    "    new_col = col + '_sign'\n",
    "    df[new_col] = np.sign(df[col])"
   ]
  },
  {
   "cell_type": "code",
   "execution_count": 114,
   "id": "7bc1f36e",
   "metadata": {},
   "outputs": [
    {
     "name": "stdout",
     "output_type": "stream",
     "text": [
      " 1.0    0.555397\n",
      "-1.0    0.443891\n",
      " 0.0    0.000712\n",
      "Name: SNP_sign, dtype: float64 \n",
      "\n",
      " 1.0    0.530486\n",
      "-1.0    0.462159\n",
      " 0.0    0.007355\n",
      "Name: EEM_sign, dtype: float64 \n",
      "\n",
      " 1.0    0.523843\n",
      "-1.0    0.466429\n",
      " 0.0    0.009727\n",
      "Name: IEF_sign, dtype: float64 \n",
      "\n",
      " 1.0    0.535469\n",
      "-1.0    0.448873\n",
      " 0.0    0.015658\n",
      "Name: AGG_sign, dtype: float64 \n",
      "\n",
      " 1.0    0.508897\n",
      "-1.0    0.485172\n",
      " 0.0    0.005931\n",
      "Name: BCM_sign, dtype: float64 \n",
      "\n",
      " 1.0    0.506999\n",
      "-1.0    0.459786\n",
      " 0.0    0.033215\n",
      "Name: GLD_sign, dtype: float64 \n",
      "\n",
      " 0.0    0.952313\n",
      " 1.0    0.024911\n",
      "-1.0    0.022776\n",
      "Name: LOV_sign, dtype: float64 \n",
      "\n"
     ]
    }
   ],
   "source": [
    "for col in df.columns:\n",
    "    if '_sign' in col:\n",
    "        print(df[col].value_counts(normalize=True),'\\n')"
   ]
  },
  {
   "cell_type": "markdown",
   "id": "3824933a",
   "metadata": {},
   "source": [
    "# Portfolio construction"
   ]
  },
  {
   "cell_type": "code",
   "execution_count": null,
   "id": "1cf37c87",
   "metadata": {},
   "outputs": [],
   "source": [
    "p_ret = []\n",
    "p_weights = []\n",
    "p_vol = []\n",
    "\n",
    "num_assets = len(df_px.columns)\n",
    "num_portfolios = 10_000_000\n",
    "\n",
    "for portfolio in range(num_portfolios):\n",
    "    #weights = [.25,.75]\n",
    "    weights = np.random.random(num_assets)\n",
    "    weights = weights/np.sum(weights)\n",
    "    p_weights.append(weights)\n",
    "    \n",
    "    returns = np.dot(weights,e_r)\n",
    "    p_ret.append(returns)\n",
    "    \n",
    "    var = cov_matrix.mul(weights,axis=0).mul(weights,axis=1).sum().sum()\n",
    "    ann_sd = np.sqrt(var*250)\n",
    "    p_vol.append(ann_sd)\n",
    "    \n",
    "data = {'returns': p_ret, 'volatility': p_vol}"
   ]
  },
  {
   "cell_type": "code",
   "execution_count": null,
   "id": "21ed8263",
   "metadata": {},
   "outputs": [],
   "source": [
    "for counter, symbol in enumerate(df_px.columns.tolist()):\n",
    "    data[symbol + '_weight'] = [w[counter] for w in p_weights]\n",
    "    \n",
    "portfolios = pd.DataFrame(data)\n",
    "portfolios"
   ]
  },
  {
   "cell_type": "code",
   "execution_count": null,
   "id": "77786960",
   "metadata": {},
   "outputs": [],
   "source": [
    "# portfolios with lowest volatility\n",
    "min_var_port = portfolios.loc[portfolios['volatility'].idxmin()]\n",
    "\n",
    "portfolios.plot.scatter(x='volatility',y='returns',grid=True,\\\n",
    "                        marker='o', s=10, alpha=0.3,figsize=[10,10])\n",
    "plt.scatter(x=min_var_port[1],y=min_var_port[0],\\\n",
    "            color='r', marker='*', s=500);"
   ]
  },
  {
   "cell_type": "code",
   "execution_count": null,
   "id": "3a32c6fd",
   "metadata": {},
   "outputs": [],
   "source": [
    "portfolios.to_csv('./data/portfolios.csv',index=False)"
   ]
  }
 ],
 "metadata": {
  "kernelspec": {
   "display_name": "Python 3",
   "language": "python",
   "name": "python3"
  },
  "language_info": {
   "codemirror_mode": {
    "name": "ipython",
    "version": 3
   },
   "file_extension": ".py",
   "mimetype": "text/x-python",
   "name": "python",
   "nbconvert_exporter": "python",
   "pygments_lexer": "ipython3",
   "version": "3.8.8"
  }
 },
 "nbformat": 4,
 "nbformat_minor": 5
}
