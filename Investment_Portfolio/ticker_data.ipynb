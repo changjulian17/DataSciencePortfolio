{
 "cells": [
  {
   "cell_type": "markdown",
   "id": "252c5c1b",
   "metadata": {},
   "source": [
    "Collect the following data \n",
    "1. equity (snp500 + world)\n",
    "2. FI (T-bill+corpbonds index)\n",
    "3. commodity (commodity index)\n",
    "4. gold (london gold index)\n",
    "5. long-vol (eurohedge log vol)   \n",
    "\n",
    "1. '^SP500TR' (total return inc. div, oldest up to 1988) + 'EEM' (oldest up to 14 apr 2003)\n",
    "2. 'IEF' (oldest up to 2002) + 'AGG' (up to 29 sep 2003 !dividend distributed)\n",
    "3. 'BCOM' (up to 1991)\n",
    "4. 'LBMA Gold Price' excel (1988) -  https://www.gold.org/goldhub/data/gold-prices\n",
    "5. 'Euro hedge long-vol' excel (2005, monthly pricing!) - https://www.eurekahedge.com/Indices/IndexView/Eurekahedge/640/CBOE-Eurekahedge-Long-Volatility-Hedge-Fund-Index\n",
    "\n",
    "### Date Range\n",
    "2003-9-29\n",
    "2021-9-31"
   ]
  },
  {
   "cell_type": "code",
   "execution_count": 3,
   "id": "5249f931",
   "metadata": {},
   "outputs": [],
   "source": [
    "import pandas_datareader.data as web\n",
    "from pandas_datareader.yahoo.headers import DEFAULT_HEADERS\n",
    "import datetime\n",
    "import requests_cache\n",
    "\n",
    "import numpy as np, pandas as pd"
   ]
  },
  {
   "cell_type": "markdown",
   "id": "c49cefd9",
   "metadata": {},
   "source": [
    "# Data from Yahoo finance"
   ]
  },
  {
   "cell_type": "code",
   "execution_count": 33,
   "id": "d324663f",
   "metadata": {},
   "outputs": [],
   "source": [
    "# list of tickers required from yahoo finance\n",
    "tickers = ['^SP500TR','EEM','IEF' , 'AGG','^BCOM']"
   ]
  },
  {
   "cell_type": "code",
   "execution_count": 45,
   "id": "47ea1c94",
   "metadata": {},
   "outputs": [],
   "source": [
    "# pd datareader with yahoo finance, caching query to sql lite file\n",
    "expire_after = datetime.timedelta(days=3)\n",
    "session = requests_cache.CachedSession(cache_name='cache', backend='sqlite', expire_after=expire_after)\n",
    "session.headers = DEFAULT_HEADERS\n",
    "\n",
    "start = datetime.datetime(2003, 9, 29)\n",
    "\n",
    "end = datetime.datetime(2021, 10, 1)\n",
    "data = web.DataReader(tickers, 'yahoo', start, end, session=session)"
   ]
  },
  {
   "cell_type": "code",
   "execution_count": 46,
   "id": "bd5da10f",
   "metadata": {
    "scrolled": false
   },
   "outputs": [
    {
     "data": {
      "text/html": [
       "<div>\n",
       "<style scoped>\n",
       "    .dataframe tbody tr th:only-of-type {\n",
       "        vertical-align: middle;\n",
       "    }\n",
       "\n",
       "    .dataframe tbody tr th {\n",
       "        vertical-align: top;\n",
       "    }\n",
       "\n",
       "    .dataframe thead tr th {\n",
       "        text-align: left;\n",
       "    }\n",
       "\n",
       "    .dataframe thead tr:last-of-type th {\n",
       "        text-align: right;\n",
       "    }\n",
       "</style>\n",
       "<table border=\"1\" class=\"dataframe\">\n",
       "  <thead>\n",
       "    <tr>\n",
       "      <th>Attributes</th>\n",
       "      <th colspan=\"5\" halign=\"left\">Adj Close</th>\n",
       "      <th colspan=\"5\" halign=\"left\">Close</th>\n",
       "      <th>...</th>\n",
       "      <th colspan=\"5\" halign=\"left\">Open</th>\n",
       "      <th colspan=\"5\" halign=\"left\">Volume</th>\n",
       "    </tr>\n",
       "    <tr>\n",
       "      <th>Symbols</th>\n",
       "      <th>^SP500TR</th>\n",
       "      <th>EEM</th>\n",
       "      <th>IEF</th>\n",
       "      <th>AGG</th>\n",
       "      <th>^BCOM</th>\n",
       "      <th>^SP500TR</th>\n",
       "      <th>EEM</th>\n",
       "      <th>IEF</th>\n",
       "      <th>AGG</th>\n",
       "      <th>^BCOM</th>\n",
       "      <th>...</th>\n",
       "      <th>^SP500TR</th>\n",
       "      <th>EEM</th>\n",
       "      <th>IEF</th>\n",
       "      <th>AGG</th>\n",
       "      <th>^BCOM</th>\n",
       "      <th>^SP500TR</th>\n",
       "      <th>EEM</th>\n",
       "      <th>IEF</th>\n",
       "      <th>AGG</th>\n",
       "      <th>^BCOM</th>\n",
       "    </tr>\n",
       "    <tr>\n",
       "      <th>Date</th>\n",
       "      <th></th>\n",
       "      <th></th>\n",
       "      <th></th>\n",
       "      <th></th>\n",
       "      <th></th>\n",
       "      <th></th>\n",
       "      <th></th>\n",
       "      <th></th>\n",
       "      <th></th>\n",
       "      <th></th>\n",
       "      <th></th>\n",
       "      <th></th>\n",
       "      <th></th>\n",
       "      <th></th>\n",
       "      <th></th>\n",
       "      <th></th>\n",
       "      <th></th>\n",
       "      <th></th>\n",
       "      <th></th>\n",
       "      <th></th>\n",
       "      <th></th>\n",
       "    </tr>\n",
       "  </thead>\n",
       "  <tbody>\n",
       "    <tr>\n",
       "      <th>2003-09-29</th>\n",
       "      <td>1462.199951</td>\n",
       "      <td>10.932035</td>\n",
       "      <td>52.032452</td>\n",
       "      <td>57.497845</td>\n",
       "      <td>120.430000</td>\n",
       "      <td>1462.199951</td>\n",
       "      <td>15.151111</td>\n",
       "      <td>85.760002</td>\n",
       "      <td>102.169998</td>\n",
       "      <td>120.430000</td>\n",
       "      <td>...</td>\n",
       "      <td>1462.199951</td>\n",
       "      <td>15.068889</td>\n",
       "      <td>85.900002</td>\n",
       "      <td>102.290001</td>\n",
       "      <td>119.620003</td>\n",
       "      <td>0.0</td>\n",
       "      <td>1071000.0</td>\n",
       "      <td>97500.0</td>\n",
       "      <td>13600.0</td>\n",
       "      <td>0.0</td>\n",
       "    </tr>\n",
       "    <tr>\n",
       "      <th>2003-09-30</th>\n",
       "      <td>1446.770020</td>\n",
       "      <td>10.897563</td>\n",
       "      <td>52.536015</td>\n",
       "      <td>57.796089</td>\n",
       "      <td>120.900002</td>\n",
       "      <td>1446.770020</td>\n",
       "      <td>15.103333</td>\n",
       "      <td>86.589996</td>\n",
       "      <td>102.699997</td>\n",
       "      <td>120.900002</td>\n",
       "      <td>...</td>\n",
       "      <td>1446.770020</td>\n",
       "      <td>15.245556</td>\n",
       "      <td>85.940002</td>\n",
       "      <td>102.300003</td>\n",
       "      <td>120.720001</td>\n",
       "      <td>0.0</td>\n",
       "      <td>2218500.0</td>\n",
       "      <td>450400.0</td>\n",
       "      <td>62600.0</td>\n",
       "      <td>0.0</td>\n",
       "    </tr>\n",
       "    <tr>\n",
       "      <th>2003-10-01</th>\n",
       "      <td>1479.229980</td>\n",
       "      <td>11.183772</td>\n",
       "      <td>52.769131</td>\n",
       "      <td>57.767998</td>\n",
       "      <td>121.139999</td>\n",
       "      <td>1479.229980</td>\n",
       "      <td>15.500000</td>\n",
       "      <td>86.239998</td>\n",
       "      <td>102.650002</td>\n",
       "      <td>121.139999</td>\n",
       "      <td>...</td>\n",
       "      <td>1479.229980</td>\n",
       "      <td>15.312222</td>\n",
       "      <td>86.269997</td>\n",
       "      <td>102.639999</td>\n",
       "      <td>120.849998</td>\n",
       "      <td>0.0</td>\n",
       "      <td>1123200.0</td>\n",
       "      <td>102100.0</td>\n",
       "      <td>66300.0</td>\n",
       "      <td>0.0</td>\n",
       "    </tr>\n",
       "    <tr>\n",
       "      <th>2003-10-02</th>\n",
       "      <td>1482.359985</td>\n",
       "      <td>11.344110</td>\n",
       "      <td>52.579453</td>\n",
       "      <td>57.677971</td>\n",
       "      <td>121.930000</td>\n",
       "      <td>1482.359985</td>\n",
       "      <td>15.722222</td>\n",
       "      <td>85.930000</td>\n",
       "      <td>102.489998</td>\n",
       "      <td>121.930000</td>\n",
       "      <td>...</td>\n",
       "      <td>1482.359985</td>\n",
       "      <td>15.645556</td>\n",
       "      <td>85.730003</td>\n",
       "      <td>102.199997</td>\n",
       "      <td>122.000000</td>\n",
       "      <td>0.0</td>\n",
       "      <td>1017900.0</td>\n",
       "      <td>163500.0</td>\n",
       "      <td>68900.0</td>\n",
       "      <td>0.0</td>\n",
       "    </tr>\n",
       "    <tr>\n",
       "      <th>2003-10-03</th>\n",
       "      <td>1496.319946</td>\n",
       "      <td>11.456348</td>\n",
       "      <td>51.851284</td>\n",
       "      <td>57.261505</td>\n",
       "      <td>121.940002</td>\n",
       "      <td>1496.319946</td>\n",
       "      <td>15.877778</td>\n",
       "      <td>84.739998</td>\n",
       "      <td>101.750000</td>\n",
       "      <td>121.940002</td>\n",
       "      <td>...</td>\n",
       "      <td>1496.319946</td>\n",
       "      <td>15.944444</td>\n",
       "      <td>85.169998</td>\n",
       "      <td>102.050003</td>\n",
       "      <td>121.690002</td>\n",
       "      <td>0.0</td>\n",
       "      <td>2016900.0</td>\n",
       "      <td>319500.0</td>\n",
       "      <td>64500.0</td>\n",
       "      <td>0.0</td>\n",
       "    </tr>\n",
       "  </tbody>\n",
       "</table>\n",
       "<p>5 rows × 30 columns</p>\n",
       "</div>"
      ],
      "text/plain": [
       "Attributes    Adj Close                                               \\\n",
       "Symbols        ^SP500TR        EEM        IEF        AGG       ^BCOM   \n",
       "Date                                                                   \n",
       "2003-09-29  1462.199951  10.932035  52.032452  57.497845  120.430000   \n",
       "2003-09-30  1446.770020  10.897563  52.536015  57.796089  120.900002   \n",
       "2003-10-01  1479.229980  11.183772  52.769131  57.767998  121.139999   \n",
       "2003-10-02  1482.359985  11.344110  52.579453  57.677971  121.930000   \n",
       "2003-10-03  1496.319946  11.456348  51.851284  57.261505  121.940002   \n",
       "\n",
       "Attributes        Close                                                ...  \\\n",
       "Symbols        ^SP500TR        EEM        IEF         AGG       ^BCOM  ...   \n",
       "Date                                                                   ...   \n",
       "2003-09-29  1462.199951  15.151111  85.760002  102.169998  120.430000  ...   \n",
       "2003-09-30  1446.770020  15.103333  86.589996  102.699997  120.900002  ...   \n",
       "2003-10-01  1479.229980  15.500000  86.239998  102.650002  121.139999  ...   \n",
       "2003-10-02  1482.359985  15.722222  85.930000  102.489998  121.930000  ...   \n",
       "2003-10-03  1496.319946  15.877778  84.739998  101.750000  121.940002  ...   \n",
       "\n",
       "Attributes         Open                                                \\\n",
       "Symbols        ^SP500TR        EEM        IEF         AGG       ^BCOM   \n",
       "Date                                                                    \n",
       "2003-09-29  1462.199951  15.068889  85.900002  102.290001  119.620003   \n",
       "2003-09-30  1446.770020  15.245556  85.940002  102.300003  120.720001   \n",
       "2003-10-01  1479.229980  15.312222  86.269997  102.639999  120.849998   \n",
       "2003-10-02  1482.359985  15.645556  85.730003  102.199997  122.000000   \n",
       "2003-10-03  1496.319946  15.944444  85.169998  102.050003  121.690002   \n",
       "\n",
       "Attributes   Volume                                      \n",
       "Symbols    ^SP500TR        EEM       IEF      AGG ^BCOM  \n",
       "Date                                                     \n",
       "2003-09-29      0.0  1071000.0   97500.0  13600.0   0.0  \n",
       "2003-09-30      0.0  2218500.0  450400.0  62600.0   0.0  \n",
       "2003-10-01      0.0  1123200.0  102100.0  66300.0   0.0  \n",
       "2003-10-02      0.0  1017900.0  163500.0  68900.0   0.0  \n",
       "2003-10-03      0.0  2016900.0  319500.0  64500.0   0.0  \n",
       "\n",
       "[5 rows x 30 columns]"
      ]
     },
     "execution_count": 46,
     "metadata": {},
     "output_type": "execute_result"
    }
   ],
   "source": [
    "data.head()"
   ]
  },
  {
   "cell_type": "code",
   "execution_count": 47,
   "id": "8c4b800e",
   "metadata": {},
   "outputs": [],
   "source": [
    "# use adjusted close as daily px\n",
    "data = data['Adj Close']\n",
    "\n",
    "# get log pct change as returns each day\n",
    "data = data.pct_change().apply(lambda x: np.log(1+x))"
   ]
  },
  {
   "cell_type": "code",
   "execution_count": 48,
   "id": "6b04b5f6",
   "metadata": {
    "scrolled": true
   },
   "outputs": [
    {
     "data": {
      "text/html": [
       "<div>\n",
       "<style scoped>\n",
       "    .dataframe tbody tr th:only-of-type {\n",
       "        vertical-align: middle;\n",
       "    }\n",
       "\n",
       "    .dataframe tbody tr th {\n",
       "        vertical-align: top;\n",
       "    }\n",
       "\n",
       "    .dataframe thead th {\n",
       "        text-align: right;\n",
       "    }\n",
       "</style>\n",
       "<table border=\"1\" class=\"dataframe\">\n",
       "  <thead>\n",
       "    <tr style=\"text-align: right;\">\n",
       "      <th>Symbols</th>\n",
       "      <th>^SP500TR</th>\n",
       "      <th>EEM</th>\n",
       "      <th>IEF</th>\n",
       "      <th>AGG</th>\n",
       "      <th>^BCOM</th>\n",
       "    </tr>\n",
       "    <tr>\n",
       "      <th>Date</th>\n",
       "      <th></th>\n",
       "      <th></th>\n",
       "      <th></th>\n",
       "      <th></th>\n",
       "      <th></th>\n",
       "    </tr>\n",
       "  </thead>\n",
       "  <tbody>\n",
       "    <tr>\n",
       "      <th>2003-09-29</th>\n",
       "      <td>NaN</td>\n",
       "      <td>NaN</td>\n",
       "      <td>NaN</td>\n",
       "      <td>NaN</td>\n",
       "      <td>NaN</td>\n",
       "    </tr>\n",
       "    <tr>\n",
       "      <th>2003-09-30</th>\n",
       "      <td>-0.010609</td>\n",
       "      <td>-0.003158</td>\n",
       "      <td>0.009631</td>\n",
       "      <td>0.005174</td>\n",
       "      <td>0.003895</td>\n",
       "    </tr>\n",
       "    <tr>\n",
       "      <th>2003-10-01</th>\n",
       "      <td>0.022188</td>\n",
       "      <td>0.025925</td>\n",
       "      <td>0.004427</td>\n",
       "      <td>-0.000486</td>\n",
       "      <td>0.001983</td>\n",
       "    </tr>\n",
       "    <tr>\n",
       "      <th>2003-10-02</th>\n",
       "      <td>0.002114</td>\n",
       "      <td>0.014235</td>\n",
       "      <td>-0.003601</td>\n",
       "      <td>-0.001560</td>\n",
       "      <td>0.006500</td>\n",
       "    </tr>\n",
       "    <tr>\n",
       "      <th>2003-10-03</th>\n",
       "      <td>0.009373</td>\n",
       "      <td>0.009845</td>\n",
       "      <td>-0.013946</td>\n",
       "      <td>-0.007247</td>\n",
       "      <td>0.000082</td>\n",
       "    </tr>\n",
       "  </tbody>\n",
       "</table>\n",
       "</div>"
      ],
      "text/plain": [
       "Symbols     ^SP500TR       EEM       IEF       AGG     ^BCOM\n",
       "Date                                                        \n",
       "2003-09-29       NaN       NaN       NaN       NaN       NaN\n",
       "2003-09-30 -0.010609 -0.003158  0.009631  0.005174  0.003895\n",
       "2003-10-01  0.022188  0.025925  0.004427 -0.000486  0.001983\n",
       "2003-10-02  0.002114  0.014235 -0.003601 -0.001560  0.006500\n",
       "2003-10-03  0.009373  0.009845 -0.013946 -0.007247  0.000082"
      ]
     },
     "execution_count": 48,
     "metadata": {},
     "output_type": "execute_result"
    }
   ],
   "source": [
    "data.head()"
   ]
  },
  {
   "cell_type": "code",
   "execution_count": 82,
   "id": "5c4f4fde",
   "metadata": {},
   "outputs": [
    {
     "data": {
      "text/plain": [
       "Symbols\n",
       "^SP500TR    1\n",
       "EEM         1\n",
       "IEF         1\n",
       "AGG         1\n",
       "^BCOM       1\n",
       "dtype: int64"
      ]
     },
     "execution_count": 82,
     "metadata": {},
     "output_type": "execute_result"
    }
   ],
   "source": [
    "data.isnull().sum()"
   ]
  },
  {
   "cell_type": "markdown",
   "id": "2d2db73b",
   "metadata": {},
   "source": [
    "# Data from Websites"
   ]
  },
  {
   "cell_type": "code",
   "execution_count": 83,
   "id": "26584808",
   "metadata": {},
   "outputs": [],
   "source": [
    "long_vol = pd.read_excel('./data/long-vol.xlsx')  \n",
    "long_vol.columns = long_vol.iloc[2]\n",
    "long_vol = long_vol[3:].set_index('ReturnDate')['PercentReturn']"
   ]
  },
  {
   "cell_type": "code",
   "execution_count": 85,
   "id": "f1fd89c5",
   "metadata": {},
   "outputs": [
    {
     "data": {
      "text/plain": [
       "-4.98858528860432"
      ]
     },
     "execution_count": 85,
     "metadata": {},
     "output_type": "execute_result"
    }
   ],
   "source": [
    "long_vol.min()"
   ]
  },
  {
   "cell_type": "code",
   "execution_count": 86,
   "id": "3e341c71",
   "metadata": {},
   "outputs": [
    {
     "name": "stderr",
     "output_type": "stream",
     "text": [
      "<ipython-input-86-bb463563359a>:1: RuntimeWarning: invalid value encountered in log\n",
      "  np.log(-4)\n"
     ]
    },
    {
     "data": {
      "text/plain": [
       "nan"
      ]
     },
     "execution_count": 86,
     "metadata": {},
     "output_type": "execute_result"
    }
   ],
   "source": [
    "np.log(-4)"
   ]
  },
  {
   "cell_type": "code",
   "execution_count": 97,
   "id": "303c8c04",
   "metadata": {},
   "outputs": [],
   "source": [
    "gold = pd.read_excel('./data/gold.xlsx',sheet_name='Daily_Indexed')\n",
    "gold = gold[['Name', 'US dollar']].set_index('Name')\n",
    "gold = gold.pct_change().apply(lambda x:np.log(1+x))"
   ]
  }
 ],
 "metadata": {
  "kernelspec": {
   "display_name": "Python 3",
   "language": "python",
   "name": "python3"
  },
  "language_info": {
   "codemirror_mode": {
    "name": "ipython",
    "version": 3
   },
   "file_extension": ".py",
   "mimetype": "text/x-python",
   "name": "python",
   "nbconvert_exporter": "python",
   "pygments_lexer": "ipython3",
   "version": "3.8.8"
  }
 },
 "nbformat": 4,
 "nbformat_minor": 5
}
