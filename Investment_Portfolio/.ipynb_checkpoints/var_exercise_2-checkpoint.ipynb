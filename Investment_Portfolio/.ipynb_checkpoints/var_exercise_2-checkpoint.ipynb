{
 "cells": [
  {
   "cell_type": "markdown",
   "id": "2493bd51",
   "metadata": {},
   "source": [
    "# Import with Pandas DataReader"
   ]
  },
  {
   "cell_type": "code",
   "execution_count": 41,
   "id": "a3d06a66",
   "metadata": {},
   "outputs": [],
   "source": [
    "from pandas_datareader import data"
   ]
  },
  {
   "cell_type": "code",
   "execution_count": 42,
   "id": "73afc690",
   "metadata": {},
   "outputs": [
    {
     "data": {
      "text/html": [
       "<div>\n",
       "<style scoped>\n",
       "    .dataframe tbody tr th:only-of-type {\n",
       "        vertical-align: middle;\n",
       "    }\n",
       "\n",
       "    .dataframe tbody tr th {\n",
       "        vertical-align: top;\n",
       "    }\n",
       "\n",
       "    .dataframe thead tr th {\n",
       "        text-align: left;\n",
       "    }\n",
       "\n",
       "    .dataframe thead tr:last-of-type th {\n",
       "        text-align: right;\n",
       "    }\n",
       "</style>\n",
       "<table border=\"1\" class=\"dataframe\">\n",
       "  <thead>\n",
       "    <tr>\n",
       "      <th>Attributes</th>\n",
       "      <th colspan=\"2\" halign=\"left\">Adj Close</th>\n",
       "      <th colspan=\"2\" halign=\"left\">Close</th>\n",
       "      <th colspan=\"2\" halign=\"left\">High</th>\n",
       "      <th colspan=\"2\" halign=\"left\">Low</th>\n",
       "      <th colspan=\"2\" halign=\"left\">Open</th>\n",
       "      <th colspan=\"2\" halign=\"left\">Volume</th>\n",
       "    </tr>\n",
       "    <tr>\n",
       "      <th>Symbols</th>\n",
       "      <th>AAPL</th>\n",
       "      <th>TSLA</th>\n",
       "      <th>AAPL</th>\n",
       "      <th>TSLA</th>\n",
       "      <th>AAPL</th>\n",
       "      <th>TSLA</th>\n",
       "      <th>AAPL</th>\n",
       "      <th>TSLA</th>\n",
       "      <th>AAPL</th>\n",
       "      <th>TSLA</th>\n",
       "      <th>AAPL</th>\n",
       "      <th>TSLA</th>\n",
       "    </tr>\n",
       "    <tr>\n",
       "      <th>Date</th>\n",
       "      <th></th>\n",
       "      <th></th>\n",
       "      <th></th>\n",
       "      <th></th>\n",
       "      <th></th>\n",
       "      <th></th>\n",
       "      <th></th>\n",
       "      <th></th>\n",
       "      <th></th>\n",
       "      <th></th>\n",
       "      <th></th>\n",
       "      <th></th>\n",
       "    </tr>\n",
       "  </thead>\n",
       "  <tbody>\n",
       "    <tr>\n",
       "      <th>2012-01-03</th>\n",
       "      <td>12.610314</td>\n",
       "      <td>5.616</td>\n",
       "      <td>14.686786</td>\n",
       "      <td>5.616</td>\n",
       "      <td>14.732143</td>\n",
       "      <td>5.900</td>\n",
       "      <td>14.607143</td>\n",
       "      <td>5.530</td>\n",
       "      <td>14.621429</td>\n",
       "      <td>5.788</td>\n",
       "      <td>302220800.0</td>\n",
       "      <td>4640500.0</td>\n",
       "    </tr>\n",
       "    <tr>\n",
       "      <th>2012-01-04</th>\n",
       "      <td>12.678083</td>\n",
       "      <td>5.542</td>\n",
       "      <td>14.765714</td>\n",
       "      <td>5.542</td>\n",
       "      <td>14.810000</td>\n",
       "      <td>5.734</td>\n",
       "      <td>14.617143</td>\n",
       "      <td>5.500</td>\n",
       "      <td>14.642857</td>\n",
       "      <td>5.642</td>\n",
       "      <td>260022000.0</td>\n",
       "      <td>3150500.0</td>\n",
       "    </tr>\n",
       "    <tr>\n",
       "      <th>2012-01-05</th>\n",
       "      <td>12.818837</td>\n",
       "      <td>5.424</td>\n",
       "      <td>14.929643</td>\n",
       "      <td>5.424</td>\n",
       "      <td>14.948214</td>\n",
       "      <td>5.586</td>\n",
       "      <td>14.738214</td>\n",
       "      <td>5.370</td>\n",
       "      <td>14.819643</td>\n",
       "      <td>5.552</td>\n",
       "      <td>271269600.0</td>\n",
       "      <td>5027500.0</td>\n",
       "    </tr>\n",
       "    <tr>\n",
       "      <th>2012-01-06</th>\n",
       "      <td>12.952842</td>\n",
       "      <td>5.382</td>\n",
       "      <td>15.085714</td>\n",
       "      <td>5.382</td>\n",
       "      <td>15.098214</td>\n",
       "      <td>5.558</td>\n",
       "      <td>14.972143</td>\n",
       "      <td>5.282</td>\n",
       "      <td>14.991786</td>\n",
       "      <td>5.440</td>\n",
       "      <td>318292800.0</td>\n",
       "      <td>4931500.0</td>\n",
       "    </tr>\n",
       "    <tr>\n",
       "      <th>2012-01-09</th>\n",
       "      <td>12.932296</td>\n",
       "      <td>5.450</td>\n",
       "      <td>15.061786</td>\n",
       "      <td>5.450</td>\n",
       "      <td>15.276786</td>\n",
       "      <td>5.498</td>\n",
       "      <td>15.048214</td>\n",
       "      <td>5.224</td>\n",
       "      <td>15.196429</td>\n",
       "      <td>5.400</td>\n",
       "      <td>394024400.0</td>\n",
       "      <td>4485000.0</td>\n",
       "    </tr>\n",
       "  </tbody>\n",
       "</table>\n",
       "</div>"
      ],
      "text/plain": [
       "Attributes  Adj Close             Close              High               Low  \\\n",
       "Symbols          AAPL   TSLA       AAPL   TSLA       AAPL   TSLA       AAPL   \n",
       "Date                                                                          \n",
       "2012-01-03  12.610314  5.616  14.686786  5.616  14.732143  5.900  14.607143   \n",
       "2012-01-04  12.678083  5.542  14.765714  5.542  14.810000  5.734  14.617143   \n",
       "2012-01-05  12.818837  5.424  14.929643  5.424  14.948214  5.586  14.738214   \n",
       "2012-01-06  12.952842  5.382  15.085714  5.382  15.098214  5.558  14.972143   \n",
       "2012-01-09  12.932296  5.450  15.061786  5.450  15.276786  5.498  15.048214   \n",
       "\n",
       "Attributes              Open              Volume             \n",
       "Symbols      TSLA       AAPL   TSLA         AAPL       TSLA  \n",
       "Date                                                         \n",
       "2012-01-03  5.530  14.621429  5.788  302220800.0  4640500.0  \n",
       "2012-01-04  5.500  14.642857  5.642  260022000.0  3150500.0  \n",
       "2012-01-05  5.370  14.819643  5.552  271269600.0  5027500.0  \n",
       "2012-01-06  5.282  14.991786  5.440  318292800.0  4931500.0  \n",
       "2012-01-09  5.224  15.196429  5.400  394024400.0  4485000.0  "
      ]
     },
     "execution_count": 42,
     "metadata": {},
     "output_type": "execute_result"
    }
   ],
   "source": [
    "df = data.DataReader(['AAPL','TSLA'],'yahoo',start='2012/01/01',end='2018/01/01')\n",
    "df.head()"
   ]
  },
  {
   "cell_type": "code",
   "execution_count": 43,
   "id": "4d74d74e",
   "metadata": {},
   "outputs": [
    {
     "data": {
      "text/html": [
       "<div>\n",
       "<style scoped>\n",
       "    .dataframe tbody tr th:only-of-type {\n",
       "        vertical-align: middle;\n",
       "    }\n",
       "\n",
       "    .dataframe tbody tr th {\n",
       "        vertical-align: top;\n",
       "    }\n",
       "\n",
       "    .dataframe thead th {\n",
       "        text-align: right;\n",
       "    }\n",
       "</style>\n",
       "<table border=\"1\" class=\"dataframe\">\n",
       "  <thead>\n",
       "    <tr style=\"text-align: right;\">\n",
       "      <th>Symbols</th>\n",
       "      <th>AAPL</th>\n",
       "      <th>TSLA</th>\n",
       "    </tr>\n",
       "    <tr>\n",
       "      <th>Date</th>\n",
       "      <th></th>\n",
       "      <th></th>\n",
       "    </tr>\n",
       "  </thead>\n",
       "  <tbody>\n",
       "    <tr>\n",
       "      <th>2012-01-03</th>\n",
       "      <td>12.610314</td>\n",
       "      <td>5.616</td>\n",
       "    </tr>\n",
       "    <tr>\n",
       "      <th>2012-01-04</th>\n",
       "      <td>12.678083</td>\n",
       "      <td>5.542</td>\n",
       "    </tr>\n",
       "    <tr>\n",
       "      <th>2012-01-05</th>\n",
       "      <td>12.818837</td>\n",
       "      <td>5.424</td>\n",
       "    </tr>\n",
       "    <tr>\n",
       "      <th>2012-01-06</th>\n",
       "      <td>12.952842</td>\n",
       "      <td>5.382</td>\n",
       "    </tr>\n",
       "    <tr>\n",
       "      <th>2012-01-09</th>\n",
       "      <td>12.932296</td>\n",
       "      <td>5.450</td>\n",
       "    </tr>\n",
       "  </tbody>\n",
       "</table>\n",
       "</div>"
      ],
      "text/plain": [
       "Symbols          AAPL   TSLA\n",
       "Date                        \n",
       "2012-01-03  12.610314  5.616\n",
       "2012-01-04  12.678083  5.542\n",
       "2012-01-05  12.818837  5.424\n",
       "2012-01-06  12.952842  5.382\n",
       "2012-01-09  12.932296  5.450"
      ]
     },
     "execution_count": 43,
     "metadata": {},
     "output_type": "execute_result"
    }
   ],
   "source": [
    "df['Adj Close'].head()"
   ]
  },
  {
   "cell_type": "code",
   "execution_count": 44,
   "id": "04a7efd8",
   "metadata": {},
   "outputs": [],
   "source": [
    "df_fed = data.DataReader('DGS1MO','fred',start='2012/01/01',end='2018/01/01')"
   ]
  },
  {
   "cell_type": "code",
   "execution_count": 45,
   "id": "2e546e2c",
   "metadata": {},
   "outputs": [
    {
     "data": {
      "text/html": [
       "<div>\n",
       "<style scoped>\n",
       "    .dataframe tbody tr th:only-of-type {\n",
       "        vertical-align: middle;\n",
       "    }\n",
       "\n",
       "    .dataframe tbody tr th {\n",
       "        vertical-align: top;\n",
       "    }\n",
       "\n",
       "    .dataframe thead th {\n",
       "        text-align: right;\n",
       "    }\n",
       "</style>\n",
       "<table border=\"1\" class=\"dataframe\">\n",
       "  <thead>\n",
       "    <tr style=\"text-align: right;\">\n",
       "      <th></th>\n",
       "      <th>DGS1MO</th>\n",
       "    </tr>\n",
       "    <tr>\n",
       "      <th>DATE</th>\n",
       "      <th></th>\n",
       "    </tr>\n",
       "  </thead>\n",
       "  <tbody>\n",
       "    <tr>\n",
       "      <th>2012-01-02</th>\n",
       "      <td>NaN</td>\n",
       "    </tr>\n",
       "    <tr>\n",
       "      <th>2012-01-03</th>\n",
       "      <td>0.01</td>\n",
       "    </tr>\n",
       "    <tr>\n",
       "      <th>2012-01-04</th>\n",
       "      <td>0.01</td>\n",
       "    </tr>\n",
       "    <tr>\n",
       "      <th>2012-01-05</th>\n",
       "      <td>0.01</td>\n",
       "    </tr>\n",
       "    <tr>\n",
       "      <th>2012-01-06</th>\n",
       "      <td>0.02</td>\n",
       "    </tr>\n",
       "  </tbody>\n",
       "</table>\n",
       "</div>"
      ],
      "text/plain": [
       "            DGS1MO\n",
       "DATE              \n",
       "2012-01-02     NaN\n",
       "2012-01-03    0.01\n",
       "2012-01-04    0.01\n",
       "2012-01-05    0.01\n",
       "2012-01-06    0.02"
      ]
     },
     "execution_count": 45,
     "metadata": {},
     "output_type": "execute_result"
    }
   ],
   "source": [
    "df_fed.head()"
   ]
  },
  {
   "cell_type": "markdown",
   "id": "3fdf99d1",
   "metadata": {},
   "source": [
    "# Importing with Quandl"
   ]
  },
  {
   "cell_type": "code",
   "execution_count": 46,
   "id": "f71d4186",
   "metadata": {},
   "outputs": [],
   "source": [
    "#!pip install quandl"
   ]
  },
  {
   "cell_type": "code",
   "execution_count": 47,
   "id": "1bcee3ee",
   "metadata": {},
   "outputs": [],
   "source": [
    "import quandl\n",
    "quandl.ApiConfig.api_key = \"VijHdQwRpsszRMhSdfeS\"\n",
    "import numpy as np\n",
    "import pandas as pd"
   ]
  },
  {
   "cell_type": "code",
   "execution_count": 65,
   "id": "09bf03d4",
   "metadata": {},
   "outputs": [],
   "source": [
    "prices = quandl.get_table('SHARADAR/SEP', ticker=['AAPL', 'KO', 'NKE', 'TSLA', 'XOM'], date={'gte':'2017-01-01', 'lte':'2018-12-31'}, paginate=True)"
   ]
  },
  {
   "cell_type": "code",
   "execution_count": 68,
   "id": "16f9e4ee",
   "metadata": {},
   "outputs": [
    {
     "data": {
      "text/html": [
       "<div>\n",
       "<style scoped>\n",
       "    .dataframe tbody tr th:only-of-type {\n",
       "        vertical-align: middle;\n",
       "    }\n",
       "\n",
       "    .dataframe tbody tr th {\n",
       "        vertical-align: top;\n",
       "    }\n",
       "\n",
       "    .dataframe thead th {\n",
       "        text-align: right;\n",
       "    }\n",
       "</style>\n",
       "<table border=\"1\" class=\"dataframe\">\n",
       "  <thead>\n",
       "    <tr style=\"text-align: right;\">\n",
       "      <th></th>\n",
       "      <th>ticker</th>\n",
       "      <th>date</th>\n",
       "      <th>open</th>\n",
       "      <th>high</th>\n",
       "      <th>low</th>\n",
       "      <th>close</th>\n",
       "      <th>volume</th>\n",
       "      <th>closeadj</th>\n",
       "      <th>closeunadj</th>\n",
       "      <th>lastupdated</th>\n",
       "    </tr>\n",
       "    <tr>\n",
       "      <th>None</th>\n",
       "      <th></th>\n",
       "      <th></th>\n",
       "      <th></th>\n",
       "      <th></th>\n",
       "      <th></th>\n",
       "      <th></th>\n",
       "      <th></th>\n",
       "      <th></th>\n",
       "      <th></th>\n",
       "      <th></th>\n",
       "    </tr>\n",
       "  </thead>\n",
       "  <tbody>\n",
       "    <tr>\n",
       "      <th>405</th>\n",
       "      <td>AAPL</td>\n",
       "      <td>2018-09-10</td>\n",
       "      <td>55.237</td>\n",
       "      <td>55.462</td>\n",
       "      <td>54.117</td>\n",
       "      <td>54.583</td>\n",
       "      <td>158065812.0</td>\n",
       "      <td>52.876</td>\n",
       "      <td>218.33</td>\n",
       "      <td>2021-08-06</td>\n",
       "    </tr>\n",
       "    <tr>\n",
       "      <th>406</th>\n",
       "      <td>AAPL</td>\n",
       "      <td>2018-09-07</td>\n",
       "      <td>55.462</td>\n",
       "      <td>56.343</td>\n",
       "      <td>55.178</td>\n",
       "      <td>55.325</td>\n",
       "      <td>150479240.0</td>\n",
       "      <td>53.596</td>\n",
       "      <td>221.30</td>\n",
       "      <td>2021-08-06</td>\n",
       "    </tr>\n",
       "    <tr>\n",
       "      <th>407</th>\n",
       "      <td>AAPL</td>\n",
       "      <td>2018-09-06</td>\n",
       "      <td>56.557</td>\n",
       "      <td>56.837</td>\n",
       "      <td>55.325</td>\n",
       "      <td>55.775</td>\n",
       "      <td>137159904.0</td>\n",
       "      <td>54.032</td>\n",
       "      <td>223.10</td>\n",
       "      <td>2021-08-06</td>\n",
       "    </tr>\n",
       "    <tr>\n",
       "      <th>408</th>\n",
       "      <td>AAPL</td>\n",
       "      <td>2018-09-05</td>\n",
       "      <td>57.248</td>\n",
       "      <td>57.417</td>\n",
       "      <td>56.275</td>\n",
       "      <td>56.718</td>\n",
       "      <td>133331840.0</td>\n",
       "      <td>54.945</td>\n",
       "      <td>226.87</td>\n",
       "      <td>2021-08-06</td>\n",
       "    </tr>\n",
       "    <tr>\n",
       "      <th>409</th>\n",
       "      <td>AAPL</td>\n",
       "      <td>2018-09-04</td>\n",
       "      <td>57.102</td>\n",
       "      <td>57.295</td>\n",
       "      <td>56.657</td>\n",
       "      <td>57.090</td>\n",
       "      <td>109560528.0</td>\n",
       "      <td>55.305</td>\n",
       "      <td>228.36</td>\n",
       "      <td>2021-08-06</td>\n",
       "    </tr>\n",
       "  </tbody>\n",
       "</table>\n",
       "</div>"
      ],
      "text/plain": [
       "     ticker       date    open    high     low   close       volume  closeadj  \\\n",
       "None                                                                            \n",
       "405    AAPL 2018-09-10  55.237  55.462  54.117  54.583  158065812.0    52.876   \n",
       "406    AAPL 2018-09-07  55.462  56.343  55.178  55.325  150479240.0    53.596   \n",
       "407    AAPL 2018-09-06  56.557  56.837  55.325  55.775  137159904.0    54.032   \n",
       "408    AAPL 2018-09-05  57.248  57.417  56.275  56.718  133331840.0    54.945   \n",
       "409    AAPL 2018-09-04  57.102  57.295  56.657  57.090  109560528.0    55.305   \n",
       "\n",
       "      closeunadj lastupdated  \n",
       "None                          \n",
       "405       218.33  2021-08-06  \n",
       "406       221.30  2021-08-06  \n",
       "407       223.10  2021-08-06  \n",
       "408       226.87  2021-08-06  \n",
       "409       228.36  2021-08-06  "
      ]
     },
     "execution_count": 68,
     "metadata": {},
     "output_type": "execute_result"
    }
   ],
   "source": [
    "prices.tail()"
   ]
  },
  {
   "cell_type": "code",
   "execution_count": 69,
   "id": "de9fcebd",
   "metadata": {},
   "outputs": [],
   "source": [
    "pivoted = prices.pivot(index='date', columns='ticker', values='close')"
   ]
  },
  {
   "cell_type": "code",
   "execution_count": 71,
   "id": "468355bc",
   "metadata": {},
   "outputs": [
    {
     "data": {
      "text/html": [
       "<div>\n",
       "<style scoped>\n",
       "    .dataframe tbody tr th:only-of-type {\n",
       "        vertical-align: middle;\n",
       "    }\n",
       "\n",
       "    .dataframe tbody tr th {\n",
       "        vertical-align: top;\n",
       "    }\n",
       "\n",
       "    .dataframe thead th {\n",
       "        text-align: right;\n",
       "    }\n",
       "</style>\n",
       "<table border=\"1\" class=\"dataframe\">\n",
       "  <thead>\n",
       "    <tr style=\"text-align: right;\">\n",
       "      <th>ticker</th>\n",
       "      <th>AAPL</th>\n",
       "      <th>KO</th>\n",
       "      <th>NKE</th>\n",
       "      <th>TSLA</th>\n",
       "      <th>XOM</th>\n",
       "    </tr>\n",
       "    <tr>\n",
       "      <th>date</th>\n",
       "      <th></th>\n",
       "      <th></th>\n",
       "      <th></th>\n",
       "      <th></th>\n",
       "      <th></th>\n",
       "    </tr>\n",
       "  </thead>\n",
       "  <tbody>\n",
       "    <tr>\n",
       "      <th>2018-09-04</th>\n",
       "      <td>57.090</td>\n",
       "      <td>44.76</td>\n",
       "      <td>79.60</td>\n",
       "      <td>57.790</td>\n",
       "      <td>80.29</td>\n",
       "    </tr>\n",
       "    <tr>\n",
       "      <th>2018-09-05</th>\n",
       "      <td>56.718</td>\n",
       "      <td>45.38</td>\n",
       "      <td>79.92</td>\n",
       "      <td>56.148</td>\n",
       "      <td>81.36</td>\n",
       "    </tr>\n",
       "    <tr>\n",
       "      <th>2018-09-06</th>\n",
       "      <td>55.775</td>\n",
       "      <td>45.77</td>\n",
       "      <td>80.40</td>\n",
       "      <td>56.190</td>\n",
       "      <td>80.46</td>\n",
       "    </tr>\n",
       "    <tr>\n",
       "      <th>2018-09-07</th>\n",
       "      <td>55.325</td>\n",
       "      <td>45.72</td>\n",
       "      <td>80.30</td>\n",
       "      <td>52.648</td>\n",
       "      <td>81.83</td>\n",
       "    </tr>\n",
       "    <tr>\n",
       "      <th>2018-09-10</th>\n",
       "      <td>54.583</td>\n",
       "      <td>46.06</td>\n",
       "      <td>82.10</td>\n",
       "      <td>57.100</td>\n",
       "      <td>81.71</td>\n",
       "    </tr>\n",
       "    <tr>\n",
       "      <th>...</th>\n",
       "      <td>...</td>\n",
       "      <td>...</td>\n",
       "      <td>...</td>\n",
       "      <td>...</td>\n",
       "      <td>...</td>\n",
       "    </tr>\n",
       "    <tr>\n",
       "      <th>2018-12-24</th>\n",
       "      <td>36.708</td>\n",
       "      <td>45.96</td>\n",
       "      <td>68.10</td>\n",
       "      <td>59.078</td>\n",
       "      <td>65.51</td>\n",
       "    </tr>\n",
       "    <tr>\n",
       "      <th>2018-12-26</th>\n",
       "      <td>39.292</td>\n",
       "      <td>46.94</td>\n",
       "      <td>73.01</td>\n",
       "      <td>65.218</td>\n",
       "      <td>68.64</td>\n",
       "    </tr>\n",
       "    <tr>\n",
       "      <th>2018-12-27</th>\n",
       "      <td>39.038</td>\n",
       "      <td>47.53</td>\n",
       "      <td>73.67</td>\n",
       "      <td>63.226</td>\n",
       "      <td>68.94</td>\n",
       "    </tr>\n",
       "    <tr>\n",
       "      <th>2018-12-28</th>\n",
       "      <td>39.057</td>\n",
       "      <td>47.20</td>\n",
       "      <td>73.34</td>\n",
       "      <td>66.774</td>\n",
       "      <td>68.17</td>\n",
       "    </tr>\n",
       "    <tr>\n",
       "      <th>2018-12-31</th>\n",
       "      <td>39.435</td>\n",
       "      <td>47.35</td>\n",
       "      <td>74.14</td>\n",
       "      <td>66.560</td>\n",
       "      <td>68.19</td>\n",
       "    </tr>\n",
       "  </tbody>\n",
       "</table>\n",
       "<p>82 rows × 5 columns</p>\n",
       "</div>"
      ],
      "text/plain": [
       "ticker        AAPL     KO    NKE    TSLA    XOM\n",
       "date                                           \n",
       "2018-09-04  57.090  44.76  79.60  57.790  80.29\n",
       "2018-09-05  56.718  45.38  79.92  56.148  81.36\n",
       "2018-09-06  55.775  45.77  80.40  56.190  80.46\n",
       "2018-09-07  55.325  45.72  80.30  52.648  81.83\n",
       "2018-09-10  54.583  46.06  82.10  57.100  81.71\n",
       "...            ...    ...    ...     ...    ...\n",
       "2018-12-24  36.708  45.96  68.10  59.078  65.51\n",
       "2018-12-26  39.292  46.94  73.01  65.218  68.64\n",
       "2018-12-27  39.038  47.53  73.67  63.226  68.94\n",
       "2018-12-28  39.057  47.20  73.34  66.774  68.17\n",
       "2018-12-31  39.435  47.35  74.14  66.560  68.19\n",
       "\n",
       "[82 rows x 5 columns]"
      ]
     },
     "execution_count": 71,
     "metadata": {},
     "output_type": "execute_result"
    }
   ],
   "source": [
    "pivoted.sort_index()"
   ]
  },
  {
   "cell_type": "code",
   "execution_count": 58,
   "id": "b87ee349",
   "metadata": {},
   "outputs": [
    {
     "data": {
      "text/html": [
       "<div>\n",
       "<style scoped>\n",
       "    .dataframe tbody tr th:only-of-type {\n",
       "        vertical-align: middle;\n",
       "    }\n",
       "\n",
       "    .dataframe tbody tr th {\n",
       "        vertical-align: top;\n",
       "    }\n",
       "\n",
       "    .dataframe thead th {\n",
       "        text-align: right;\n",
       "    }\n",
       "</style>\n",
       "<table border=\"1\" class=\"dataframe\">\n",
       "  <thead>\n",
       "    <tr style=\"text-align: right;\">\n",
       "      <th>ticker</th>\n",
       "      <th>AAPL</th>\n",
       "      <th>KO</th>\n",
       "      <th>NKE</th>\n",
       "      <th>TSLA</th>\n",
       "      <th>XOM</th>\n",
       "    </tr>\n",
       "    <tr>\n",
       "      <th>date</th>\n",
       "      <th></th>\n",
       "      <th></th>\n",
       "      <th></th>\n",
       "      <th></th>\n",
       "      <th></th>\n",
       "    </tr>\n",
       "  </thead>\n",
       "  <tbody>\n",
       "    <tr>\n",
       "      <th>2018-09-04</th>\n",
       "      <td>NaN</td>\n",
       "      <td>NaN</td>\n",
       "      <td>NaN</td>\n",
       "      <td>NaN</td>\n",
       "      <td>NaN</td>\n",
       "    </tr>\n",
       "    <tr>\n",
       "      <th>2018-09-05</th>\n",
       "      <td>-0.006516</td>\n",
       "      <td>0.013852</td>\n",
       "      <td>0.004020</td>\n",
       "      <td>-0.028413</td>\n",
       "      <td>0.013327</td>\n",
       "    </tr>\n",
       "    <tr>\n",
       "      <th>2018-09-06</th>\n",
       "      <td>-0.016626</td>\n",
       "      <td>0.008594</td>\n",
       "      <td>0.006006</td>\n",
       "      <td>0.000748</td>\n",
       "      <td>-0.011062</td>\n",
       "    </tr>\n",
       "    <tr>\n",
       "      <th>2018-09-07</th>\n",
       "      <td>-0.008068</td>\n",
       "      <td>-0.001092</td>\n",
       "      <td>-0.001244</td>\n",
       "      <td>-0.063036</td>\n",
       "      <td>0.017027</td>\n",
       "    </tr>\n",
       "    <tr>\n",
       "      <th>2018-09-10</th>\n",
       "      <td>-0.013412</td>\n",
       "      <td>0.007437</td>\n",
       "      <td>0.022416</td>\n",
       "      <td>0.084562</td>\n",
       "      <td>-0.001466</td>\n",
       "    </tr>\n",
       "  </tbody>\n",
       "</table>\n",
       "</div>"
      ],
      "text/plain": [
       "ticker          AAPL        KO       NKE      TSLA       XOM\n",
       "date                                                        \n",
       "2018-09-04       NaN       NaN       NaN       NaN       NaN\n",
       "2018-09-05 -0.006516  0.013852  0.004020 -0.028413  0.013327\n",
       "2018-09-06 -0.016626  0.008594  0.006006  0.000748 -0.011062\n",
       "2018-09-07 -0.008068 -0.001092 -0.001244 -0.063036  0.017027\n",
       "2018-09-10 -0.013412  0.007437  0.022416  0.084562 -0.001466"
      ]
     },
     "execution_count": 58,
     "metadata": {},
     "output_type": "execute_result"
    }
   ],
   "source": [
    "# calculate % change\n",
    "pivoted.pct_change().head()"
   ]
  },
  {
   "cell_type": "markdown",
   "id": "4d0ce9b8",
   "metadata": {},
   "source": [
    "# Calculating Variance"
   ]
  },
  {
   "cell_type": "markdown",
   "id": "d908c086",
   "metadata": {},
   "source": [
    "$$s^{2} = \\frac{\\sum (x_{i} - \\bar{x})^{2}}{N - 1}$$"
   ]
  },
  {
   "cell_type": "code",
   "execution_count": 59,
   "id": "0b73ee7e",
   "metadata": {},
   "outputs": [
    {
     "data": {
      "text/plain": [
       "date\n",
       "2018-09-04         NaN\n",
       "2018-09-05   -0.006537\n",
       "2018-09-06   -0.016766\n",
       "2018-09-07   -0.008101\n",
       "2018-09-10   -0.013502\n",
       "Name: AAPL, dtype: float64"
      ]
     },
     "execution_count": 59,
     "metadata": {},
     "output_type": "execute_result"
    }
   ],
   "source": [
    "aapl = pivoted['AAPL'].pct_change().apply(lambda x : np.log(1+x))\n",
    "aapl.head()"
   ]
  },
  {
   "cell_type": "code",
   "execution_count": 60,
   "id": "a2ab6f0c",
   "metadata": {},
   "outputs": [],
   "source": [
    "mean_appl = aapl.mean()"
   ]
  },
  {
   "cell_type": "code",
   "execution_count": 61,
   "id": "49394c89",
   "metadata": {},
   "outputs": [
    {
     "data": {
      "text/plain": [
       "-0.004567595347237204"
      ]
     },
     "execution_count": 61,
     "metadata": {},
     "output_type": "execute_result"
    }
   ],
   "source": [
    "aapl.mean()"
   ]
  },
  {
   "cell_type": "code",
   "execution_count": 62,
   "id": "8c1a3391",
   "metadata": {},
   "outputs": [],
   "source": [
    "sqd_aapl = aapl.apply(lambda x: (x-mean_aapl)**2)"
   ]
  },
  {
   "cell_type": "code",
   "execution_count": 63,
   "id": "5be966cf",
   "metadata": {},
   "outputs": [],
   "source": [
    "ssqd_aapl = sqd_aapl.sum()"
   ]
  },
  {
   "cell_type": "code",
   "execution_count": 39,
   "id": "84806003",
   "metadata": {},
   "outputs": [
    {
     "data": {
      "text/plain": [
       "0.04422322669016032"
      ]
     },
     "execution_count": 39,
     "metadata": {},
     "output_type": "execute_result"
    }
   ],
   "source": [
    "ssqd_aapl"
   ]
  },
  {
   "cell_type": "code",
   "execution_count": 72,
   "id": "daf3d3cf",
   "metadata": {},
   "outputs": [
    {
     "data": {
      "text/plain": [
       "0.000552790333627004"
      ]
     },
     "execution_count": 72,
     "metadata": {},
     "output_type": "execute_result"
    }
   ],
   "source": [
    "ssqd_aapl/(aapl.count()-1)"
   ]
  },
  {
   "cell_type": "code",
   "execution_count": 75,
   "id": "b853b532",
   "metadata": {},
   "outputs": [
    {
     "data": {
      "text/plain": [
       "0.0005527903336270039"
      ]
     },
     "execution_count": 75,
     "metadata": {},
     "output_type": "execute_result"
    }
   ],
   "source": [
    "var_aapl = aapl.var()\n",
    "var_aapl"
   ]
  },
  {
   "cell_type": "markdown",
   "id": "f8df545e",
   "metadata": {},
   "source": [
    "# Standard Deviation"
   ]
  },
  {
   "cell_type": "markdown",
   "id": "4c66e1f6",
   "metadata": {},
   "source": [
    "$$s = \\sqrt{\\frac{\\sum (x_{i} - \\bar{x})^{2}}{N - 1}}$$"
   ]
  },
  {
   "cell_type": "code",
   "execution_count": 76,
   "id": "c2f62d8a",
   "metadata": {},
   "outputs": [
    {
     "data": {
      "text/plain": [
       "0.0235114936494261"
      ]
     },
     "execution_count": 76,
     "metadata": {},
     "output_type": "execute_result"
    }
   ],
   "source": [
    "np.sqrt(var_aapl)"
   ]
  },
  {
   "cell_type": "code",
   "execution_count": 77,
   "id": "a4f8b9a9",
   "metadata": {},
   "outputs": [
    {
     "data": {
      "text/plain": [
       "0.0235114936494261"
      ]
     },
     "execution_count": 77,
     "metadata": {},
     "output_type": "execute_result"
    }
   ],
   "source": [
    "# daily vol\n",
    "aapl.std()"
   ]
  },
  {
   "cell_type": "code",
   "execution_count": 79,
   "id": "fac9ab59",
   "metadata": {},
   "outputs": [
    {
     "data": {
      "text/plain": [
       "0.3717493556238544"
      ]
     },
     "execution_count": 79,
     "metadata": {},
     "output_type": "execute_result"
    }
   ],
   "source": [
    "# annual vol (250 trading days~)\n",
    "aapl.std()*np.sqrt(250)"
   ]
  },
  {
   "cell_type": "code",
   "execution_count": 91,
   "id": "413a485a",
   "metadata": {},
   "outputs": [
    {
     "data": {
      "image/png": "[encoded data removed]",
      "text/plain": [
       "<Figure size 432x288 with 1 Axes>"
      ]
     },
     "metadata": {
      "needs_background": "light"
     },
     "output_type": "display_data"
    }
   ],
   "source": [
    "pivoted.pct_change().apply(lambda x: np.log(1+x)).std().apply(lambda x: x*np.sqrt(250)).plot(kind='bar', cmap='Pastel1');"
   ]
  },
  {
   "cell_type": "code",
   "execution_count": 102,
   "id": "8df612f4",
   "metadata": {},
   "outputs": [
    {
     "data": {
      "text/plain": [
       "0.0005527903336270039"
      ]
     },
     "execution_count": 102,
     "metadata": {},
     "output_type": "execute_result"
    }
   ],
   "source": [
    "aapl.var()"
   ]
  },
  {
   "cell_type": "markdown",
   "id": "f2800096",
   "metadata": {},
   "source": [
    "# Covariace\n",
    "\n",
    "$$cov_{x_{i},x_{j}}=\\frac{\\sum_{i=1j=1}^{N}(x_{i}-\\bar{x_{i}})(x_{j}-\\bar{x_{j}})}{N-1}$$"
   ]
  },
  {
   "cell_type": "code",
   "execution_count": 110,
   "id": "f6a51a41",
   "metadata": {},
   "outputs": [],
   "source": [
    "df = pivoted.pct_change()"
   ]
  },
  {
   "cell_type": "code",
   "execution_count": 111,
   "id": "1791df13",
   "metadata": {},
   "outputs": [],
   "source": [
    "mean_aapl = df['AAPL'].mean()"
   ]
  },
  {
   "cell_type": "code",
   "execution_count": 112,
   "id": "2995ac47",
   "metadata": {},
   "outputs": [],
   "source": [
    "mean_tsla = df['TSLA'].mean()"
   ]
  },
  {
   "cell_type": "code",
   "execution_count": 113,
   "id": "97b3365a",
   "metadata": {},
   "outputs": [],
   "source": [
    "df['DEV_AAPL'] = df['AAPL'].apply(lambda x: x-mean_aapl)"
   ]
  },
  {
   "cell_type": "code",
   "execution_count": 114,
   "id": "29759f37",
   "metadata": {},
   "outputs": [],
   "source": [
    "df['DEV_TSLA'] = df['TSLA'].apply(lambda x: x-mean_tsla)"
   ]
  },
  {
   "cell_type": "code",
   "execution_count": 115,
   "id": "bb2afdd0",
   "metadata": {},
   "outputs": [],
   "source": [
    "df['dot_prod'] = df['DEV_AAPL']*df['DEV_TSLA']"
   ]
  },
  {
   "cell_type": "code",
   "execution_count": 123,
   "id": "08768436",
   "metadata": {},
   "outputs": [
    {
     "data": {
      "text/plain": [
       "0.00035960369949982195"
      ]
     },
     "execution_count": 123,
     "metadata": {},
     "output_type": "execute_result"
    }
   ],
   "source": [
    "df['dot_prod'].sum()/(df.DEV_AAPL.count()-1)"
   ]
  },
  {
   "cell_type": "code",
   "execution_count": 117,
   "id": "80baa6e4",
   "metadata": {},
   "outputs": [
    {
     "data": {
      "text/plain": [
       "0.0003596036994998219"
      ]
     },
     "execution_count": 117,
     "metadata": {},
     "output_type": "execute_result"
    }
   ],
   "source": [
    "df['AAPL'].cov(df['TSLA'])"
   ]
  },
  {
   "cell_type": "code",
   "execution_count": null,
   "id": "f56e20b5",
   "metadata": {},
   "outputs": [],
   "source": []
  }
 ],
 "metadata": {
  "kernelspec": {
   "display_name": "Python 3",
   "language": "python",
   "name": "python3"
  },
  "language_info": {
   "codemirror_mode": {
    "name": "ipython",
    "version": 3
   },
   "file_extension": ".py",
   "mimetype": "text/x-python",
   "name": "python",
   "nbconvert_exporter": "python",
   "pygments_lexer": "ipython3",
   "version": "3.8.8"
  }
 },
 "nbformat": 4,
 "nbformat_minor": 5
}
