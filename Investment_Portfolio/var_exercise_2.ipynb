{
 "cells": [
  {
   "cell_type": "markdown",
   "id": "2493bd51",
   "metadata": {},
   "source": [
    "# Import with Pandas DataReader"
   ]
  },
  {
   "cell_type": "code",
   "execution_count": 1,
   "id": "a3d06a66",
   "metadata": {},
   "outputs": [],
   "source": [
    "from pandas_datareader import data"
   ]
  },
  {
   "cell_type": "code",
   "execution_count": 2,
   "id": "cfdb0b90",
   "metadata": {},
   "outputs": [
    {
     "data": {
      "text/html": [
       "<div>\n",
       "<style scoped>\n",
       "    .dataframe tbody tr th:only-of-type {\n",
       "        vertical-align: middle;\n",
       "    }\n",
       "\n",
       "    .dataframe tbody tr th {\n",
       "        vertical-align: top;\n",
       "    }\n",
       "\n",
       "    .dataframe thead th {\n",
       "        text-align: right;\n",
       "    }\n",
       "</style>\n",
       "<table border=\"1\" class=\"dataframe\">\n",
       "  <thead>\n",
       "    <tr style=\"text-align: right;\">\n",
       "      <th></th>\n",
       "      <th>High</th>\n",
       "      <th>Low</th>\n",
       "      <th>Open</th>\n",
       "      <th>Close</th>\n",
       "      <th>Volume</th>\n",
       "      <th>Adj Close</th>\n",
       "    </tr>\n",
       "    <tr>\n",
       "      <th>Date</th>\n",
       "      <th></th>\n",
       "      <th></th>\n",
       "      <th></th>\n",
       "      <th></th>\n",
       "      <th></th>\n",
       "      <th></th>\n",
       "    </tr>\n",
       "  </thead>\n",
       "  <tbody>\n",
       "    <tr>\n",
       "      <th>1995-01-03</th>\n",
       "      <td>0.347098</td>\n",
       "      <td>0.338170</td>\n",
       "      <td>0.347098</td>\n",
       "      <td>0.342634</td>\n",
       "      <td>1.038688e+08</td>\n",
       "      <td>0.290871</td>\n",
       "    </tr>\n",
       "    <tr>\n",
       "      <th>1995-01-04</th>\n",
       "      <td>0.353795</td>\n",
       "      <td>0.344866</td>\n",
       "      <td>0.344866</td>\n",
       "      <td>0.351563</td>\n",
       "      <td>1.586816e+08</td>\n",
       "      <td>0.298451</td>\n",
       "    </tr>\n",
       "    <tr>\n",
       "      <th>1995-01-05</th>\n",
       "      <td>0.351563</td>\n",
       "      <td>0.345982</td>\n",
       "      <td>0.350446</td>\n",
       "      <td>0.347098</td>\n",
       "      <td>7.364000e+07</td>\n",
       "      <td>0.294660</td>\n",
       "    </tr>\n",
       "    <tr>\n",
       "      <th>1995-01-06</th>\n",
       "      <td>0.385045</td>\n",
       "      <td>0.367188</td>\n",
       "      <td>0.371652</td>\n",
       "      <td>0.375000</td>\n",
       "      <td>1.076622e+09</td>\n",
       "      <td>0.318347</td>\n",
       "    </tr>\n",
       "    <tr>\n",
       "      <th>1995-01-09</th>\n",
       "      <td>0.373884</td>\n",
       "      <td>0.366071</td>\n",
       "      <td>0.371652</td>\n",
       "      <td>0.367885</td>\n",
       "      <td>2.740864e+08</td>\n",
       "      <td>0.312307</td>\n",
       "    </tr>\n",
       "    <tr>\n",
       "      <th>...</th>\n",
       "      <td>...</td>\n",
       "      <td>...</td>\n",
       "      <td>...</td>\n",
       "      <td>...</td>\n",
       "      <td>...</td>\n",
       "      <td>...</td>\n",
       "    </tr>\n",
       "    <tr>\n",
       "      <th>2019-12-24</th>\n",
       "      <td>71.222504</td>\n",
       "      <td>70.730003</td>\n",
       "      <td>71.172501</td>\n",
       "      <td>71.067497</td>\n",
       "      <td>4.847880e+07</td>\n",
       "      <td>70.129509</td>\n",
       "    </tr>\n",
       "    <tr>\n",
       "      <th>2019-12-26</th>\n",
       "      <td>72.495003</td>\n",
       "      <td>71.175003</td>\n",
       "      <td>71.205002</td>\n",
       "      <td>72.477501</td>\n",
       "      <td>9.312120e+07</td>\n",
       "      <td>71.520912</td>\n",
       "    </tr>\n",
       "    <tr>\n",
       "      <th>2019-12-27</th>\n",
       "      <td>73.492500</td>\n",
       "      <td>72.029999</td>\n",
       "      <td>72.779999</td>\n",
       "      <td>72.449997</td>\n",
       "      <td>1.462660e+08</td>\n",
       "      <td>71.493759</td>\n",
       "    </tr>\n",
       "    <tr>\n",
       "      <th>2019-12-30</th>\n",
       "      <td>73.172501</td>\n",
       "      <td>71.305000</td>\n",
       "      <td>72.364998</td>\n",
       "      <td>72.879997</td>\n",
       "      <td>1.441144e+08</td>\n",
       "      <td>71.918091</td>\n",
       "    </tr>\n",
       "    <tr>\n",
       "      <th>2019-12-31</th>\n",
       "      <td>73.419998</td>\n",
       "      <td>72.379997</td>\n",
       "      <td>72.482498</td>\n",
       "      <td>73.412498</td>\n",
       "      <td>1.008056e+08</td>\n",
       "      <td>72.443565</td>\n",
       "    </tr>\n",
       "  </tbody>\n",
       "</table>\n",
       "<p>6294 rows × 6 columns</p>\n",
       "</div>"
      ],
      "text/plain": [
       "                 High        Low       Open      Close        Volume  \\\n",
       "Date                                                                   \n",
       "1995-01-03   0.347098   0.338170   0.347098   0.342634  1.038688e+08   \n",
       "1995-01-04   0.353795   0.344866   0.344866   0.351563  1.586816e+08   \n",
       "1995-01-05   0.351563   0.345982   0.350446   0.347098  7.364000e+07   \n",
       "1995-01-06   0.385045   0.367188   0.371652   0.375000  1.076622e+09   \n",
       "1995-01-09   0.373884   0.366071   0.371652   0.367885  2.740864e+08   \n",
       "...               ...        ...        ...        ...           ...   \n",
       "2019-12-24  71.222504  70.730003  71.172501  71.067497  4.847880e+07   \n",
       "2019-12-26  72.495003  71.175003  71.205002  72.477501  9.312120e+07   \n",
       "2019-12-27  73.492500  72.029999  72.779999  72.449997  1.462660e+08   \n",
       "2019-12-30  73.172501  71.305000  72.364998  72.879997  1.441144e+08   \n",
       "2019-12-31  73.419998  72.379997  72.482498  73.412498  1.008056e+08   \n",
       "\n",
       "            Adj Close  \n",
       "Date                   \n",
       "1995-01-03   0.290871  \n",
       "1995-01-04   0.298451  \n",
       "1995-01-05   0.294660  \n",
       "1995-01-06   0.318347  \n",
       "1995-01-09   0.312307  \n",
       "...               ...  \n",
       "2019-12-24  70.129509  \n",
       "2019-12-26  71.520912  \n",
       "2019-12-27  71.493759  \n",
       "2019-12-30  71.918091  \n",
       "2019-12-31  72.443565  \n",
       "\n",
       "[6294 rows x 6 columns]"
      ]
     },
     "execution_count": 2,
     "metadata": {},
     "output_type": "execute_result"
    }
   ],
   "source": [
    "# need to paginate to get more data\n",
    "data.DataReader('AAPL','yahoo',start='1995/01/01',end='2020/01/01')"
   ]
  },
  {
   "cell_type": "code",
   "execution_count": null,
   "id": "69297737",
   "metadata": {},
   "outputs": [],
   "source": []
  },
  {
   "cell_type": "code",
   "execution_count": 3,
   "id": "73afc690",
   "metadata": {},
   "outputs": [
    {
     "data": {
      "text/html": [
       "<div>\n",
       "<style scoped>\n",
       "    .dataframe tbody tr th:only-of-type {\n",
       "        vertical-align: middle;\n",
       "    }\n",
       "\n",
       "    .dataframe tbody tr th {\n",
       "        vertical-align: top;\n",
       "    }\n",
       "\n",
       "    .dataframe thead tr th {\n",
       "        text-align: left;\n",
       "    }\n",
       "\n",
       "    .dataframe thead tr:last-of-type th {\n",
       "        text-align: right;\n",
       "    }\n",
       "</style>\n",
       "<table border=\"1\" class=\"dataframe\">\n",
       "  <thead>\n",
       "    <tr>\n",
       "      <th>Attributes</th>\n",
       "      <th colspan=\"2\" halign=\"left\">Adj Close</th>\n",
       "      <th colspan=\"2\" halign=\"left\">Close</th>\n",
       "      <th colspan=\"2\" halign=\"left\">High</th>\n",
       "      <th colspan=\"2\" halign=\"left\">Low</th>\n",
       "      <th colspan=\"2\" halign=\"left\">Open</th>\n",
       "      <th colspan=\"2\" halign=\"left\">Volume</th>\n",
       "    </tr>\n",
       "    <tr>\n",
       "      <th>Symbols</th>\n",
       "      <th>AAPL</th>\n",
       "      <th>TSLA</th>\n",
       "      <th>AAPL</th>\n",
       "      <th>TSLA</th>\n",
       "      <th>AAPL</th>\n",
       "      <th>TSLA</th>\n",
       "      <th>AAPL</th>\n",
       "      <th>TSLA</th>\n",
       "      <th>AAPL</th>\n",
       "      <th>TSLA</th>\n",
       "      <th>AAPL</th>\n",
       "      <th>TSLA</th>\n",
       "    </tr>\n",
       "    <tr>\n",
       "      <th>Date</th>\n",
       "      <th></th>\n",
       "      <th></th>\n",
       "      <th></th>\n",
       "      <th></th>\n",
       "      <th></th>\n",
       "      <th></th>\n",
       "      <th></th>\n",
       "      <th></th>\n",
       "      <th></th>\n",
       "      <th></th>\n",
       "      <th></th>\n",
       "      <th></th>\n",
       "    </tr>\n",
       "  </thead>\n",
       "  <tbody>\n",
       "    <tr>\n",
       "      <th>2012-01-03</th>\n",
       "      <td>12.610314</td>\n",
       "      <td>5.616</td>\n",
       "      <td>14.686786</td>\n",
       "      <td>5.616</td>\n",
       "      <td>14.732143</td>\n",
       "      <td>5.900</td>\n",
       "      <td>14.607143</td>\n",
       "      <td>5.530</td>\n",
       "      <td>14.621429</td>\n",
       "      <td>5.788</td>\n",
       "      <td>302220800.0</td>\n",
       "      <td>4640500.0</td>\n",
       "    </tr>\n",
       "    <tr>\n",
       "      <th>2012-01-04</th>\n",
       "      <td>12.678085</td>\n",
       "      <td>5.542</td>\n",
       "      <td>14.765714</td>\n",
       "      <td>5.542</td>\n",
       "      <td>14.810000</td>\n",
       "      <td>5.734</td>\n",
       "      <td>14.617143</td>\n",
       "      <td>5.500</td>\n",
       "      <td>14.642857</td>\n",
       "      <td>5.642</td>\n",
       "      <td>260022000.0</td>\n",
       "      <td>3150500.0</td>\n",
       "    </tr>\n",
       "    <tr>\n",
       "      <th>2012-01-05</th>\n",
       "      <td>12.818837</td>\n",
       "      <td>5.424</td>\n",
       "      <td>14.929643</td>\n",
       "      <td>5.424</td>\n",
       "      <td>14.948214</td>\n",
       "      <td>5.586</td>\n",
       "      <td>14.738214</td>\n",
       "      <td>5.370</td>\n",
       "      <td>14.819643</td>\n",
       "      <td>5.552</td>\n",
       "      <td>271269600.0</td>\n",
       "      <td>5027500.0</td>\n",
       "    </tr>\n",
       "    <tr>\n",
       "      <th>2012-01-06</th>\n",
       "      <td>12.952841</td>\n",
       "      <td>5.382</td>\n",
       "      <td>15.085714</td>\n",
       "      <td>5.382</td>\n",
       "      <td>15.098214</td>\n",
       "      <td>5.558</td>\n",
       "      <td>14.972143</td>\n",
       "      <td>5.282</td>\n",
       "      <td>14.991786</td>\n",
       "      <td>5.440</td>\n",
       "      <td>318292800.0</td>\n",
       "      <td>4931500.0</td>\n",
       "    </tr>\n",
       "    <tr>\n",
       "      <th>2012-01-09</th>\n",
       "      <td>12.932299</td>\n",
       "      <td>5.450</td>\n",
       "      <td>15.061786</td>\n",
       "      <td>5.450</td>\n",
       "      <td>15.276786</td>\n",
       "      <td>5.498</td>\n",
       "      <td>15.048214</td>\n",
       "      <td>5.224</td>\n",
       "      <td>15.196429</td>\n",
       "      <td>5.400</td>\n",
       "      <td>394024400.0</td>\n",
       "      <td>4485000.0</td>\n",
       "    </tr>\n",
       "  </tbody>\n",
       "</table>\n",
       "</div>"
      ],
      "text/plain": [
       "Attributes  Adj Close             Close              High               Low  \\\n",
       "Symbols          AAPL   TSLA       AAPL   TSLA       AAPL   TSLA       AAPL   \n",
       "Date                                                                          \n",
       "2012-01-03  12.610314  5.616  14.686786  5.616  14.732143  5.900  14.607143   \n",
       "2012-01-04  12.678085  5.542  14.765714  5.542  14.810000  5.734  14.617143   \n",
       "2012-01-05  12.818837  5.424  14.929643  5.424  14.948214  5.586  14.738214   \n",
       "2012-01-06  12.952841  5.382  15.085714  5.382  15.098214  5.558  14.972143   \n",
       "2012-01-09  12.932299  5.450  15.061786  5.450  15.276786  5.498  15.048214   \n",
       "\n",
       "Attributes              Open              Volume             \n",
       "Symbols      TSLA       AAPL   TSLA         AAPL       TSLA  \n",
       "Date                                                         \n",
       "2012-01-03  5.530  14.621429  5.788  302220800.0  4640500.0  \n",
       "2012-01-04  5.500  14.642857  5.642  260022000.0  3150500.0  \n",
       "2012-01-05  5.370  14.819643  5.552  271269600.0  5027500.0  \n",
       "2012-01-06  5.282  14.991786  5.440  318292800.0  4931500.0  \n",
       "2012-01-09  5.224  15.196429  5.400  394024400.0  4485000.0  "
      ]
     },
     "execution_count": 3,
     "metadata": {},
     "output_type": "execute_result"
    }
   ],
   "source": [
    "df = data.DataReader(['AAPL','TSLA'],'yahoo',start='2012/01/01',end='2018/01/01')\n",
    "df.head()"
   ]
  },
  {
   "cell_type": "code",
   "execution_count": 4,
   "id": "4d74d74e",
   "metadata": {},
   "outputs": [],
   "source": [
    "df.to_csv('./data/test.csv',index=False)"
   ]
  },
  {
   "cell_type": "code",
   "execution_count": 5,
   "id": "04a7efd8",
   "metadata": {},
   "outputs": [],
   "source": [
    "df_fed = data.DataReader('DGS1MO','fred',start='2012/01/01',end='2018/01/01')"
   ]
  },
  {
   "cell_type": "code",
   "execution_count": 6,
   "id": "2e546e2c",
   "metadata": {},
   "outputs": [
    {
     "data": {
      "text/html": [
       "<div>\n",
       "<style scoped>\n",
       "    .dataframe tbody tr th:only-of-type {\n",
       "        vertical-align: middle;\n",
       "    }\n",
       "\n",
       "    .dataframe tbody tr th {\n",
       "        vertical-align: top;\n",
       "    }\n",
       "\n",
       "    .dataframe thead th {\n",
       "        text-align: right;\n",
       "    }\n",
       "</style>\n",
       "<table border=\"1\" class=\"dataframe\">\n",
       "  <thead>\n",
       "    <tr style=\"text-align: right;\">\n",
       "      <th></th>\n",
       "      <th>DGS1MO</th>\n",
       "    </tr>\n",
       "    <tr>\n",
       "      <th>DATE</th>\n",
       "      <th></th>\n",
       "    </tr>\n",
       "  </thead>\n",
       "  <tbody>\n",
       "    <tr>\n",
       "      <th>2012-01-02</th>\n",
       "      <td>NaN</td>\n",
       "    </tr>\n",
       "    <tr>\n",
       "      <th>2012-01-03</th>\n",
       "      <td>0.01</td>\n",
       "    </tr>\n",
       "    <tr>\n",
       "      <th>2012-01-04</th>\n",
       "      <td>0.01</td>\n",
       "    </tr>\n",
       "    <tr>\n",
       "      <th>2012-01-05</th>\n",
       "      <td>0.01</td>\n",
       "    </tr>\n",
       "    <tr>\n",
       "      <th>2012-01-06</th>\n",
       "      <td>0.02</td>\n",
       "    </tr>\n",
       "  </tbody>\n",
       "</table>\n",
       "</div>"
      ],
      "text/plain": [
       "            DGS1MO\n",
       "DATE              \n",
       "2012-01-02     NaN\n",
       "2012-01-03    0.01\n",
       "2012-01-04    0.01\n",
       "2012-01-05    0.01\n",
       "2012-01-06    0.02"
      ]
     },
     "execution_count": 6,
     "metadata": {},
     "output_type": "execute_result"
    }
   ],
   "source": [
    "df_fed.head()"
   ]
  },
  {
   "cell_type": "markdown",
   "id": "3fdf99d1",
   "metadata": {},
   "source": [
    "# Importing with Quandl"
   ]
  },
  {
   "cell_type": "code",
   "execution_count": 7,
   "id": "f71d4186",
   "metadata": {},
   "outputs": [],
   "source": [
    "#!pip install quandl"
   ]
  },
  {
   "cell_type": "code",
   "execution_count": 8,
   "id": "1bcee3ee",
   "metadata": {},
   "outputs": [],
   "source": [
    "import quandl\n",
    "quandl.ApiConfig.api_key = \"VijHdQwRpsszRMhSdfeS\"\n",
    "import numpy as np\n",
    "import pandas as pd"
   ]
  },
  {
   "cell_type": "code",
   "execution_count": 9,
   "id": "09bf03d4",
   "metadata": {},
   "outputs": [],
   "source": [
    "prices = quandl.get_table('SHARADAR/SEP', ticker=['AAPL', 'KO', 'NKE', 'TSLA', 'XOM'], date={'gte':'2017-01-01', 'lte':'2018-12-31'}, paginate=True)"
   ]
  },
  {
   "cell_type": "code",
   "execution_count": 10,
   "id": "16f9e4ee",
   "metadata": {},
   "outputs": [
    {
     "data": {
      "text/html": [
       "<div>\n",
       "<style scoped>\n",
       "    .dataframe tbody tr th:only-of-type {\n",
       "        vertical-align: middle;\n",
       "    }\n",
       "\n",
       "    .dataframe tbody tr th {\n",
       "        vertical-align: top;\n",
       "    }\n",
       "\n",
       "    .dataframe thead th {\n",
       "        text-align: right;\n",
       "    }\n",
       "</style>\n",
       "<table border=\"1\" class=\"dataframe\">\n",
       "  <thead>\n",
       "    <tr style=\"text-align: right;\">\n",
       "      <th></th>\n",
       "      <th>ticker</th>\n",
       "      <th>date</th>\n",
       "      <th>open</th>\n",
       "      <th>high</th>\n",
       "      <th>low</th>\n",
       "      <th>close</th>\n",
       "      <th>volume</th>\n",
       "      <th>closeadj</th>\n",
       "      <th>closeunadj</th>\n",
       "      <th>lastupdated</th>\n",
       "    </tr>\n",
       "    <tr>\n",
       "      <th>None</th>\n",
       "      <th></th>\n",
       "      <th></th>\n",
       "      <th></th>\n",
       "      <th></th>\n",
       "      <th></th>\n",
       "      <th></th>\n",
       "      <th></th>\n",
       "      <th></th>\n",
       "      <th></th>\n",
       "      <th></th>\n",
       "    </tr>\n",
       "  </thead>\n",
       "  <tbody>\n",
       "    <tr>\n",
       "      <th>405</th>\n",
       "      <td>AAPL</td>\n",
       "      <td>2018-09-10</td>\n",
       "      <td>55.237</td>\n",
       "      <td>55.462</td>\n",
       "      <td>54.117</td>\n",
       "      <td>54.583</td>\n",
       "      <td>158065812.0</td>\n",
       "      <td>52.876</td>\n",
       "      <td>218.33</td>\n",
       "      <td>2021-08-06</td>\n",
       "    </tr>\n",
       "    <tr>\n",
       "      <th>406</th>\n",
       "      <td>AAPL</td>\n",
       "      <td>2018-09-07</td>\n",
       "      <td>55.462</td>\n",
       "      <td>56.343</td>\n",
       "      <td>55.178</td>\n",
       "      <td>55.325</td>\n",
       "      <td>150479240.0</td>\n",
       "      <td>53.596</td>\n",
       "      <td>221.30</td>\n",
       "      <td>2021-08-06</td>\n",
       "    </tr>\n",
       "    <tr>\n",
       "      <th>407</th>\n",
       "      <td>AAPL</td>\n",
       "      <td>2018-09-06</td>\n",
       "      <td>56.557</td>\n",
       "      <td>56.837</td>\n",
       "      <td>55.325</td>\n",
       "      <td>55.775</td>\n",
       "      <td>137159904.0</td>\n",
       "      <td>54.032</td>\n",
       "      <td>223.10</td>\n",
       "      <td>2021-08-06</td>\n",
       "    </tr>\n",
       "    <tr>\n",
       "      <th>408</th>\n",
       "      <td>AAPL</td>\n",
       "      <td>2018-09-05</td>\n",
       "      <td>57.248</td>\n",
       "      <td>57.417</td>\n",
       "      <td>56.275</td>\n",
       "      <td>56.718</td>\n",
       "      <td>133331840.0</td>\n",
       "      <td>54.945</td>\n",
       "      <td>226.87</td>\n",
       "      <td>2021-08-06</td>\n",
       "    </tr>\n",
       "    <tr>\n",
       "      <th>409</th>\n",
       "      <td>AAPL</td>\n",
       "      <td>2018-09-04</td>\n",
       "      <td>57.102</td>\n",
       "      <td>57.295</td>\n",
       "      <td>56.657</td>\n",
       "      <td>57.090</td>\n",
       "      <td>109560528.0</td>\n",
       "      <td>55.305</td>\n",
       "      <td>228.36</td>\n",
       "      <td>2021-08-06</td>\n",
       "    </tr>\n",
       "  </tbody>\n",
       "</table>\n",
       "</div>"
      ],
      "text/plain": [
       "     ticker       date    open    high     low   close       volume  closeadj  \\\n",
       "None                                                                            \n",
       "405    AAPL 2018-09-10  55.237  55.462  54.117  54.583  158065812.0    52.876   \n",
       "406    AAPL 2018-09-07  55.462  56.343  55.178  55.325  150479240.0    53.596   \n",
       "407    AAPL 2018-09-06  56.557  56.837  55.325  55.775  137159904.0    54.032   \n",
       "408    AAPL 2018-09-05  57.248  57.417  56.275  56.718  133331840.0    54.945   \n",
       "409    AAPL 2018-09-04  57.102  57.295  56.657  57.090  109560528.0    55.305   \n",
       "\n",
       "      closeunadj lastupdated  \n",
       "None                          \n",
       "405       218.33  2021-08-06  \n",
       "406       221.30  2021-08-06  \n",
       "407       223.10  2021-08-06  \n",
       "408       226.87  2021-08-06  \n",
       "409       228.36  2021-08-06  "
      ]
     },
     "execution_count": 10,
     "metadata": {},
     "output_type": "execute_result"
    }
   ],
   "source": [
    "prices.tail()"
   ]
  },
  {
   "cell_type": "code",
   "execution_count": 11,
   "id": "de9fcebd",
   "metadata": {},
   "outputs": [],
   "source": [
    "pivoted = prices.pivot(index='date', columns='ticker', values='close')"
   ]
  },
  {
   "cell_type": "code",
   "execution_count": 12,
   "id": "468355bc",
   "metadata": {},
   "outputs": [
    {
     "data": {
      "text/html": [
       "<div>\n",
       "<style scoped>\n",
       "    .dataframe tbody tr th:only-of-type {\n",
       "        vertical-align: middle;\n",
       "    }\n",
       "\n",
       "    .dataframe tbody tr th {\n",
       "        vertical-align: top;\n",
       "    }\n",
       "\n",
       "    .dataframe thead th {\n",
       "        text-align: right;\n",
       "    }\n",
       "</style>\n",
       "<table border=\"1\" class=\"dataframe\">\n",
       "  <thead>\n",
       "    <tr style=\"text-align: right;\">\n",
       "      <th>ticker</th>\n",
       "      <th>AAPL</th>\n",
       "      <th>KO</th>\n",
       "      <th>NKE</th>\n",
       "      <th>TSLA</th>\n",
       "      <th>XOM</th>\n",
       "    </tr>\n",
       "    <tr>\n",
       "      <th>date</th>\n",
       "      <th></th>\n",
       "      <th></th>\n",
       "      <th></th>\n",
       "      <th></th>\n",
       "      <th></th>\n",
       "    </tr>\n",
       "  </thead>\n",
       "  <tbody>\n",
       "    <tr>\n",
       "      <th>2018-09-04</th>\n",
       "      <td>57.090</td>\n",
       "      <td>44.76</td>\n",
       "      <td>79.60</td>\n",
       "      <td>57.790</td>\n",
       "      <td>80.29</td>\n",
       "    </tr>\n",
       "    <tr>\n",
       "      <th>2018-09-05</th>\n",
       "      <td>56.718</td>\n",
       "      <td>45.38</td>\n",
       "      <td>79.92</td>\n",
       "      <td>56.148</td>\n",
       "      <td>81.36</td>\n",
       "    </tr>\n",
       "    <tr>\n",
       "      <th>2018-09-06</th>\n",
       "      <td>55.775</td>\n",
       "      <td>45.77</td>\n",
       "      <td>80.40</td>\n",
       "      <td>56.190</td>\n",
       "      <td>80.46</td>\n",
       "    </tr>\n",
       "    <tr>\n",
       "      <th>2018-09-07</th>\n",
       "      <td>55.325</td>\n",
       "      <td>45.72</td>\n",
       "      <td>80.30</td>\n",
       "      <td>52.648</td>\n",
       "      <td>81.83</td>\n",
       "    </tr>\n",
       "    <tr>\n",
       "      <th>2018-09-10</th>\n",
       "      <td>54.583</td>\n",
       "      <td>46.06</td>\n",
       "      <td>82.10</td>\n",
       "      <td>57.100</td>\n",
       "      <td>81.71</td>\n",
       "    </tr>\n",
       "    <tr>\n",
       "      <th>...</th>\n",
       "      <td>...</td>\n",
       "      <td>...</td>\n",
       "      <td>...</td>\n",
       "      <td>...</td>\n",
       "      <td>...</td>\n",
       "    </tr>\n",
       "    <tr>\n",
       "      <th>2018-12-24</th>\n",
       "      <td>36.708</td>\n",
       "      <td>45.96</td>\n",
       "      <td>68.10</td>\n",
       "      <td>59.078</td>\n",
       "      <td>65.51</td>\n",
       "    </tr>\n",
       "    <tr>\n",
       "      <th>2018-12-26</th>\n",
       "      <td>39.292</td>\n",
       "      <td>46.94</td>\n",
       "      <td>73.01</td>\n",
       "      <td>65.218</td>\n",
       "      <td>68.64</td>\n",
       "    </tr>\n",
       "    <tr>\n",
       "      <th>2018-12-27</th>\n",
       "      <td>39.038</td>\n",
       "      <td>47.53</td>\n",
       "      <td>73.67</td>\n",
       "      <td>63.226</td>\n",
       "      <td>68.94</td>\n",
       "    </tr>\n",
       "    <tr>\n",
       "      <th>2018-12-28</th>\n",
       "      <td>39.057</td>\n",
       "      <td>47.20</td>\n",
       "      <td>73.34</td>\n",
       "      <td>66.774</td>\n",
       "      <td>68.17</td>\n",
       "    </tr>\n",
       "    <tr>\n",
       "      <th>2018-12-31</th>\n",
       "      <td>39.435</td>\n",
       "      <td>47.35</td>\n",
       "      <td>74.14</td>\n",
       "      <td>66.560</td>\n",
       "      <td>68.19</td>\n",
       "    </tr>\n",
       "  </tbody>\n",
       "</table>\n",
       "<p>82 rows × 5 columns</p>\n",
       "</div>"
      ],
      "text/plain": [
       "ticker        AAPL     KO    NKE    TSLA    XOM\n",
       "date                                           \n",
       "2018-09-04  57.090  44.76  79.60  57.790  80.29\n",
       "2018-09-05  56.718  45.38  79.92  56.148  81.36\n",
       "2018-09-06  55.775  45.77  80.40  56.190  80.46\n",
       "2018-09-07  55.325  45.72  80.30  52.648  81.83\n",
       "2018-09-10  54.583  46.06  82.10  57.100  81.71\n",
       "...            ...    ...    ...     ...    ...\n",
       "2018-12-24  36.708  45.96  68.10  59.078  65.51\n",
       "2018-12-26  39.292  46.94  73.01  65.218  68.64\n",
       "2018-12-27  39.038  47.53  73.67  63.226  68.94\n",
       "2018-12-28  39.057  47.20  73.34  66.774  68.17\n",
       "2018-12-31  39.435  47.35  74.14  66.560  68.19\n",
       "\n",
       "[82 rows x 5 columns]"
      ]
     },
     "execution_count": 12,
     "metadata": {},
     "output_type": "execute_result"
    }
   ],
   "source": [
    "pivoted.sort_index()"
   ]
  },
  {
   "cell_type": "code",
   "execution_count": 13,
   "id": "b87ee349",
   "metadata": {},
   "outputs": [
    {
     "data": {
      "text/html": [
       "<div>\n",
       "<style scoped>\n",
       "    .dataframe tbody tr th:only-of-type {\n",
       "        vertical-align: middle;\n",
       "    }\n",
       "\n",
       "    .dataframe tbody tr th {\n",
       "        vertical-align: top;\n",
       "    }\n",
       "\n",
       "    .dataframe thead th {\n",
       "        text-align: right;\n",
       "    }\n",
       "</style>\n",
       "<table border=\"1\" class=\"dataframe\">\n",
       "  <thead>\n",
       "    <tr style=\"text-align: right;\">\n",
       "      <th>ticker</th>\n",
       "      <th>AAPL</th>\n",
       "      <th>KO</th>\n",
       "      <th>NKE</th>\n",
       "      <th>TSLA</th>\n",
       "      <th>XOM</th>\n",
       "    </tr>\n",
       "    <tr>\n",
       "      <th>date</th>\n",
       "      <th></th>\n",
       "      <th></th>\n",
       "      <th></th>\n",
       "      <th></th>\n",
       "      <th></th>\n",
       "    </tr>\n",
       "  </thead>\n",
       "  <tbody>\n",
       "    <tr>\n",
       "      <th>2018-09-04</th>\n",
       "      <td>NaN</td>\n",
       "      <td>NaN</td>\n",
       "      <td>NaN</td>\n",
       "      <td>NaN</td>\n",
       "      <td>NaN</td>\n",
       "    </tr>\n",
       "    <tr>\n",
       "      <th>2018-09-05</th>\n",
       "      <td>-0.006516</td>\n",
       "      <td>0.013852</td>\n",
       "      <td>0.004020</td>\n",
       "      <td>-0.028413</td>\n",
       "      <td>0.013327</td>\n",
       "    </tr>\n",
       "    <tr>\n",
       "      <th>2018-09-06</th>\n",
       "      <td>-0.016626</td>\n",
       "      <td>0.008594</td>\n",
       "      <td>0.006006</td>\n",
       "      <td>0.000748</td>\n",
       "      <td>-0.011062</td>\n",
       "    </tr>\n",
       "    <tr>\n",
       "      <th>2018-09-07</th>\n",
       "      <td>-0.008068</td>\n",
       "      <td>-0.001092</td>\n",
       "      <td>-0.001244</td>\n",
       "      <td>-0.063036</td>\n",
       "      <td>0.017027</td>\n",
       "    </tr>\n",
       "    <tr>\n",
       "      <th>2018-09-10</th>\n",
       "      <td>-0.013412</td>\n",
       "      <td>0.007437</td>\n",
       "      <td>0.022416</td>\n",
       "      <td>0.084562</td>\n",
       "      <td>-0.001466</td>\n",
       "    </tr>\n",
       "  </tbody>\n",
       "</table>\n",
       "</div>"
      ],
      "text/plain": [
       "ticker          AAPL        KO       NKE      TSLA       XOM\n",
       "date                                                        \n",
       "2018-09-04       NaN       NaN       NaN       NaN       NaN\n",
       "2018-09-05 -0.006516  0.013852  0.004020 -0.028413  0.013327\n",
       "2018-09-06 -0.016626  0.008594  0.006006  0.000748 -0.011062\n",
       "2018-09-07 -0.008068 -0.001092 -0.001244 -0.063036  0.017027\n",
       "2018-09-10 -0.013412  0.007437  0.022416  0.084562 -0.001466"
      ]
     },
     "execution_count": 13,
     "metadata": {},
     "output_type": "execute_result"
    }
   ],
   "source": [
    "# calculate % change\n",
    "pivoted.pct_change().head()"
   ]
  },
  {
   "cell_type": "markdown",
   "id": "4d0ce9b8",
   "metadata": {},
   "source": [
    "# Calculating Variance"
   ]
  },
  {
   "cell_type": "markdown",
   "id": "d908c086",
   "metadata": {},
   "source": [
    "$$s^{2} = \\frac{\\sum (x_{i} - \\bar{x})^{2}}{N - 1}$$"
   ]
  },
  {
   "cell_type": "code",
   "execution_count": 14,
   "id": "0b73ee7e",
   "metadata": {},
   "outputs": [
    {
     "data": {
      "text/plain": [
       "date\n",
       "2018-09-04         NaN\n",
       "2018-09-05   -0.006537\n",
       "2018-09-06   -0.016766\n",
       "2018-09-07   -0.008101\n",
       "2018-09-10   -0.013502\n",
       "Name: AAPL, dtype: float64"
      ]
     },
     "execution_count": 14,
     "metadata": {},
     "output_type": "execute_result"
    }
   ],
   "source": [
    "aapl = pivoted['AAPL'].pct_change().apply(lambda x : np.log(1+x))\n",
    "aapl.head()"
   ]
  },
  {
   "cell_type": "code",
   "execution_count": 15,
   "id": "a2ab6f0c",
   "metadata": {},
   "outputs": [],
   "source": [
    "mean_aapl = aapl.mean()"
   ]
  },
  {
   "cell_type": "code",
   "execution_count": 16,
   "id": "49394c89",
   "metadata": {},
   "outputs": [
    {
     "data": {
      "text/plain": [
       "-0.004567595347237204"
      ]
     },
     "execution_count": 16,
     "metadata": {},
     "output_type": "execute_result"
    }
   ],
   "source": [
    "aapl.mean()"
   ]
  },
  {
   "cell_type": "code",
   "execution_count": 17,
   "id": "8c1a3391",
   "metadata": {},
   "outputs": [],
   "source": [
    "sqd_aapl = aapl.apply(lambda x: (x-mean_aapl)**2)"
   ]
  },
  {
   "cell_type": "code",
   "execution_count": 18,
   "id": "5be966cf",
   "metadata": {},
   "outputs": [],
   "source": [
    "ssqd_aapl = sqd_aapl.sum()"
   ]
  },
  {
   "cell_type": "code",
   "execution_count": 19,
   "id": "84806003",
   "metadata": {},
   "outputs": [
    {
     "data": {
      "text/plain": [
       "0.04422322669016032"
      ]
     },
     "execution_count": 19,
     "metadata": {},
     "output_type": "execute_result"
    }
   ],
   "source": [
    "ssqd_aapl"
   ]
  },
  {
   "cell_type": "code",
   "execution_count": 20,
   "id": "daf3d3cf",
   "metadata": {},
   "outputs": [
    {
     "data": {
      "text/plain": [
       "0.000552790333627004"
      ]
     },
     "execution_count": 20,
     "metadata": {},
     "output_type": "execute_result"
    }
   ],
   "source": [
    "ssqd_aapl/(aapl.count()-1)"
   ]
  },
  {
   "cell_type": "code",
   "execution_count": 21,
   "id": "b853b532",
   "metadata": {},
   "outputs": [
    {
     "data": {
      "text/plain": [
       "0.0005527903336270039"
      ]
     },
     "execution_count": 21,
     "metadata": {},
     "output_type": "execute_result"
    }
   ],
   "source": [
    "var_aapl = aapl.var()\n",
    "var_aapl"
   ]
  },
  {
   "cell_type": "markdown",
   "id": "f8df545e",
   "metadata": {},
   "source": [
    "# Standard Deviation"
   ]
  },
  {
   "cell_type": "markdown",
   "id": "4c66e1f6",
   "metadata": {},
   "source": [
    "$$s = \\sqrt{\\frac{\\sum (x_{i} - \\bar{x})^{2}}{N - 1}}$$"
   ]
  },
  {
   "cell_type": "code",
   "execution_count": 22,
   "id": "c2f62d8a",
   "metadata": {},
   "outputs": [
    {
     "data": {
      "text/plain": [
       "0.0235114936494261"
      ]
     },
     "execution_count": 22,
     "metadata": {},
     "output_type": "execute_result"
    }
   ],
   "source": [
    "np.sqrt(var_aapl)"
   ]
  },
  {
   "cell_type": "code",
   "execution_count": 23,
   "id": "a4f8b9a9",
   "metadata": {},
   "outputs": [
    {
     "data": {
      "text/plain": [
       "0.0235114936494261"
      ]
     },
     "execution_count": 23,
     "metadata": {},
     "output_type": "execute_result"
    }
   ],
   "source": [
    "# daily vol\n",
    "aapl.std()"
   ]
  },
  {
   "cell_type": "code",
   "execution_count": 24,
   "id": "fac9ab59",
   "metadata": {},
   "outputs": [
    {
     "data": {
      "text/plain": [
       "0.3717493556238544"
      ]
     },
     "execution_count": 24,
     "metadata": {},
     "output_type": "execute_result"
    }
   ],
   "source": [
    "# annual vol (250 trading days~)\n",
    "aapl.std()*np.sqrt(250)"
   ]
  },
  {
   "cell_type": "code",
   "execution_count": 25,
   "id": "413a485a",
   "metadata": {},
   "outputs": [
    {
     "data": {
      "image/png": "[encoded data removed]",
      "text/plain": [
       "<Figure size 432x288 with 1 Axes>"
      ]
     },
     "metadata": {
      "needs_background": "light"
     },
     "output_type": "display_data"
    }
   ],
   "source": [
    "pivoted.pct_change().apply(lambda x: np.log(1+x)).std().apply(lambda x: x*np.sqrt(250)).plot(kind='bar', cmap='Pastel1');"
   ]
  },
  {
   "cell_type": "code",
   "execution_count": 26,
   "id": "8df612f4",
   "metadata": {},
   "outputs": [
    {
     "data": {
      "text/plain": [
       "0.0005527903336270039"
      ]
     },
     "execution_count": 26,
     "metadata": {},
     "output_type": "execute_result"
    }
   ],
   "source": [
    "aapl.var()"
   ]
  },
  {
   "cell_type": "markdown",
   "id": "f2800096",
   "metadata": {},
   "source": [
    "# Covariace\n",
    "\n",
    "$$cov_{x_{i},x_{j}}=\\frac{\\sum_{i=1j=1}^{N}(x_{i}-\\bar{x_{i}})(x_{j}-\\bar{x_{j}})}{N-1}$$"
   ]
  },
  {
   "cell_type": "code",
   "execution_count": 27,
   "id": "f6a51a41",
   "metadata": {},
   "outputs": [],
   "source": [
    "df = pivoted.pct_change()"
   ]
  },
  {
   "cell_type": "code",
   "execution_count": 28,
   "id": "1791df13",
   "metadata": {},
   "outputs": [],
   "source": [
    "mean_aapl = df['AAPL'].mean()"
   ]
  },
  {
   "cell_type": "code",
   "execution_count": 29,
   "id": "2995ac47",
   "metadata": {},
   "outputs": [],
   "source": [
    "mean_tsla = df['TSLA'].mean()"
   ]
  },
  {
   "cell_type": "code",
   "execution_count": 30,
   "id": "97b3365a",
   "metadata": {},
   "outputs": [],
   "source": [
    "df['DEV_AAPL'] = df['AAPL'].apply(lambda x: x-mean_aapl)"
   ]
  },
  {
   "cell_type": "code",
   "execution_count": 31,
   "id": "29759f37",
   "metadata": {},
   "outputs": [],
   "source": [
    "df['DEV_TSLA'] = df['TSLA'].apply(lambda x: x-mean_tsla)"
   ]
  },
  {
   "cell_type": "code",
   "execution_count": 32,
   "id": "bb2afdd0",
   "metadata": {},
   "outputs": [],
   "source": [
    "df['dot_prod'] = df['DEV_AAPL']*df['DEV_TSLA']"
   ]
  },
  {
   "cell_type": "code",
   "execution_count": 33,
   "id": "08768436",
   "metadata": {},
   "outputs": [
    {
     "data": {
      "text/plain": [
       "0.00035960369949982195"
      ]
     },
     "execution_count": 33,
     "metadata": {},
     "output_type": "execute_result"
    }
   ],
   "source": [
    "df['dot_prod'].sum()/(df.DEV_AAPL.count()-1)"
   ]
  },
  {
   "cell_type": "code",
   "execution_count": 34,
   "id": "80baa6e4",
   "metadata": {
    "scrolled": true
   },
   "outputs": [
    {
     "data": {
      "text/plain": [
       "0.0003596036994998219"
      ]
     },
     "execution_count": 34,
     "metadata": {},
     "output_type": "execute_result"
    }
   ],
   "source": [
    "df['AAPL'].cov(df['TSLA'])"
   ]
  },
  {
   "cell_type": "markdown",
   "id": "9a655be1",
   "metadata": {},
   "source": [
    "# Correlation"
   ]
  },
  {
   "cell_type": "markdown",
   "id": "37a19bec",
   "metadata": {},
   "source": [
    "$${SS}_{x_{i}x_{j}} = \\frac {COV_{x_{i},x_{j}}}{\\sigma_{i}\\sigma_{j}}$$"
   ]
  },
  {
   "cell_type": "code",
   "execution_count": 35,
   "id": "e38f95e7",
   "metadata": {},
   "outputs": [],
   "source": [
    "df = pivoted.pct_change()"
   ]
  },
  {
   "cell_type": "code",
   "execution_count": 36,
   "id": "d2887e87",
   "metadata": {},
   "outputs": [
    {
     "data": {
      "text/plain": [
       "0.0019831648958398"
      ]
     },
     "execution_count": 36,
     "metadata": {},
     "output_type": "execute_result"
    }
   ],
   "source": [
    "var_tsla = df['TSLA'].var()\n",
    "var_tsla"
   ]
  },
  {
   "cell_type": "code",
   "execution_count": 37,
   "id": "038b09d4",
   "metadata": {},
   "outputs": [
    {
     "data": {
      "text/plain": [
       "0.00022571746193817468"
      ]
     },
     "execution_count": 37,
     "metadata": {},
     "output_type": "execute_result"
    }
   ],
   "source": [
    "df['XOM'].var()"
   ]
  },
  {
   "cell_type": "code",
   "execution_count": 38,
   "id": "958c1453",
   "metadata": {
    "scrolled": true
   },
   "outputs": [
    {
     "data": {
      "text/plain": [
       "0.044532739595041754"
      ]
     },
     "execution_count": 38,
     "metadata": {},
     "output_type": "execute_result"
    }
   ],
   "source": [
    "df['TSLA'].std()"
   ]
  },
  {
   "cell_type": "code",
   "execution_count": 39,
   "id": "8a89ebd8",
   "metadata": {
    "scrolled": true
   },
   "outputs": [
    {
     "data": {
      "text/plain": [
       "0.015023896363399698"
      ]
     },
     "execution_count": 39,
     "metadata": {},
     "output_type": "execute_result"
    }
   ],
   "source": [
    "df['XOM'].std()"
   ]
  },
  {
   "cell_type": "code",
   "execution_count": 40,
   "id": "fdc2bd63",
   "metadata": {},
   "outputs": [
    {
     "data": {
      "text/plain": [
       "0.3209131840339626"
      ]
     },
     "execution_count": 40,
     "metadata": {},
     "output_type": "execute_result"
    }
   ],
   "source": [
    "df['TSLA'].cov(df['XOM'])/(df['TSLA'].std()*df['XOM'].std())"
   ]
  },
  {
   "cell_type": "code",
   "execution_count": 41,
   "id": "868a6c95",
   "metadata": {},
   "outputs": [
    {
     "data": {
      "text/plain": [
       "0.3209131840339626"
      ]
     },
     "execution_count": 41,
     "metadata": {},
     "output_type": "execute_result"
    }
   ],
   "source": [
    "df['TSLA'].corr(df['XOM'])"
   ]
  },
  {
   "cell_type": "markdown",
   "id": "d652eba8",
   "metadata": {},
   "source": [
    "---\n",
    "# COMBINE THE ABOVE FORMULAS"
   ]
  },
  {
   "cell_type": "markdown",
   "id": "26f33fdf",
   "metadata": {},
   "source": [
    "# Portfolio Variance"
   ]
  },
  {
   "cell_type": "markdown",
   "id": "6e55b2e9",
   "metadata": {},
   "source": [
    "$$\\sigma^2(R_p) = w_1w_1\\sigma^2(R_1) + w_1w_2COV(R_1,R_2) + w_2w_2\\sigma^2(R_2) + w_2w_1COV(R_1,R_2)$$\n",
    "$$\\sigma^2(R_p) = \\sum_{i=1}^n\\sum_{j=1}^nw_iw_jCOV(R_i, R_j)$$"
   ]
  },
  {
   "cell_type": "code",
   "execution_count": 42,
   "id": "95272e1f",
   "metadata": {},
   "outputs": [],
   "source": [
    "prices = quandl.get_table('SHARADAR/SEP', date={'gte':'2017-01-01', 'lte':'2018-12-31'}, paginate=True)\n",
    "stocks = list(prices.ticker.unique())"
   ]
  },
  {
   "cell_type": "code",
   "execution_count": 43,
   "id": "98aeacfb",
   "metadata": {},
   "outputs": [],
   "source": [
    "#!pip install requests_cache"
   ]
  },
  {
   "cell_type": "code",
   "execution_count": 44,
   "id": "5ab03fec",
   "metadata": {},
   "outputs": [],
   "source": [
    "import pandas_datareader.data as web\n",
    "from pandas_datareader.yahoo.headers import DEFAULT_HEADERS\n",
    "import datetime\n",
    "import requests_cache\n",
    "\n",
    "expire_after = datetime.timedelta(days=3)\n",
    "session = requests_cache.CachedSession(cache_name='cache', backend='sqlite', expire_after=expire_after)\n",
    "session.headers = DEFAULT_HEADERS\n",
    "\n",
    "start = datetime.datetime(2017, 1, 1)\n",
    "\n",
    "end = datetime.datetime(2018, 12, 31)\n",
    "f = web.DataReader(stocks, 'yahoo', start, end, session=session)\n"
   ]
  },
  {
   "cell_type": "code",
   "execution_count": 45,
   "id": "939c55b6",
   "metadata": {},
   "outputs": [],
   "source": [
    "# need to paginate to get more data\n",
    "prices = data.DataReader(stocks,'yahoo',start='2017/01/01',end='2018/12/31')"
   ]
  },
  {
   "cell_type": "code",
   "execution_count": 46,
   "id": "3571c138",
   "metadata": {},
   "outputs": [],
   "source": [
    "# sort the columns alphabetically, get returns, get log difference\n",
    "df = f.reindex(sorted(f.columns), axis=1)['Adj Close'].pct_change().apply(lambda x: np.log(1+x))"
   ]
  },
  {
   "cell_type": "code",
   "execution_count": 47,
   "id": "36403317",
   "metadata": {},
   "outputs": [],
   "source": [
    "# remove NA\n",
    "df.dropna(inplace=True)"
   ]
  },
  {
   "cell_type": "code",
   "execution_count": 48,
   "id": "fafa5d69",
   "metadata": {},
   "outputs": [
    {
     "data": {
      "text/html": [
       "<div>\n",
       "<style scoped>\n",
       "    .dataframe tbody tr th:only-of-type {\n",
       "        vertical-align: middle;\n",
       "    }\n",
       "\n",
       "    .dataframe tbody tr th {\n",
       "        vertical-align: top;\n",
       "    }\n",
       "\n",
       "    .dataframe thead th {\n",
       "        text-align: right;\n",
       "    }\n",
       "</style>\n",
       "<table border=\"1\" class=\"dataframe\">\n",
       "  <thead>\n",
       "    <tr style=\"text-align: right;\">\n",
       "      <th>Symbols</th>\n",
       "      <th>AAPL</th>\n",
       "      <th>AXP</th>\n",
       "      <th>BA</th>\n",
       "      <th>CAT</th>\n",
       "      <th>CSCO</th>\n",
       "      <th>CVX</th>\n",
       "      <th>DD</th>\n",
       "      <th>DIS</th>\n",
       "      <th>GE</th>\n",
       "      <th>GS</th>\n",
       "      <th>...</th>\n",
       "      <th>NKE</th>\n",
       "      <th>PFE</th>\n",
       "      <th>PG</th>\n",
       "      <th>TRV</th>\n",
       "      <th>TSLA</th>\n",
       "      <th>UNH</th>\n",
       "      <th>V</th>\n",
       "      <th>VZ</th>\n",
       "      <th>WMT</th>\n",
       "      <th>XOM</th>\n",
       "    </tr>\n",
       "    <tr>\n",
       "      <th>Symbols</th>\n",
       "      <th></th>\n",
       "      <th></th>\n",
       "      <th></th>\n",
       "      <th></th>\n",
       "      <th></th>\n",
       "      <th></th>\n",
       "      <th></th>\n",
       "      <th></th>\n",
       "      <th></th>\n",
       "      <th></th>\n",
       "      <th></th>\n",
       "      <th></th>\n",
       "      <th></th>\n",
       "      <th></th>\n",
       "      <th></th>\n",
       "      <th></th>\n",
       "      <th></th>\n",
       "      <th></th>\n",
       "      <th></th>\n",
       "      <th></th>\n",
       "      <th></th>\n",
       "    </tr>\n",
       "  </thead>\n",
       "  <tbody>\n",
       "    <tr>\n",
       "      <th>AAPL</th>\n",
       "      <td>0.000226</td>\n",
       "      <td>0.000081</td>\n",
       "      <td>0.000104</td>\n",
       "      <td>0.000110</td>\n",
       "      <td>0.000111</td>\n",
       "      <td>0.000058</td>\n",
       "      <td>0.000098</td>\n",
       "      <td>0.000066</td>\n",
       "      <td>0.000062</td>\n",
       "      <td>0.000101</td>\n",
       "      <td>...</td>\n",
       "      <td>0.000076</td>\n",
       "      <td>0.000050</td>\n",
       "      <td>0.000027</td>\n",
       "      <td>0.000039</td>\n",
       "      <td>0.000139</td>\n",
       "      <td>0.000080</td>\n",
       "      <td>0.000119</td>\n",
       "      <td>0.000010</td>\n",
       "      <td>0.000049</td>\n",
       "      <td>0.000057</td>\n",
       "    </tr>\n",
       "    <tr>\n",
       "      <th>AXP</th>\n",
       "      <td>0.000081</td>\n",
       "      <td>0.000150</td>\n",
       "      <td>0.000091</td>\n",
       "      <td>0.000109</td>\n",
       "      <td>0.000089</td>\n",
       "      <td>0.000066</td>\n",
       "      <td>0.000094</td>\n",
       "      <td>0.000060</td>\n",
       "      <td>0.000071</td>\n",
       "      <td>0.000112</td>\n",
       "      <td>...</td>\n",
       "      <td>0.000070</td>\n",
       "      <td>0.000056</td>\n",
       "      <td>0.000035</td>\n",
       "      <td>0.000063</td>\n",
       "      <td>0.000097</td>\n",
       "      <td>0.000072</td>\n",
       "      <td>0.000094</td>\n",
       "      <td>0.000036</td>\n",
       "      <td>0.000047</td>\n",
       "      <td>0.000059</td>\n",
       "    </tr>\n",
       "    <tr>\n",
       "      <th>BA</th>\n",
       "      <td>0.000104</td>\n",
       "      <td>0.000091</td>\n",
       "      <td>0.000256</td>\n",
       "      <td>0.000155</td>\n",
       "      <td>0.000105</td>\n",
       "      <td>0.000084</td>\n",
       "      <td>0.000121</td>\n",
       "      <td>0.000065</td>\n",
       "      <td>0.000073</td>\n",
       "      <td>0.000111</td>\n",
       "      <td>...</td>\n",
       "      <td>0.000082</td>\n",
       "      <td>0.000054</td>\n",
       "      <td>0.000035</td>\n",
       "      <td>0.000065</td>\n",
       "      <td>0.000112</td>\n",
       "      <td>0.000088</td>\n",
       "      <td>0.000112</td>\n",
       "      <td>0.000036</td>\n",
       "      <td>0.000058</td>\n",
       "      <td>0.000072</td>\n",
       "    </tr>\n",
       "    <tr>\n",
       "      <th>CAT</th>\n",
       "      <td>0.000110</td>\n",
       "      <td>0.000109</td>\n",
       "      <td>0.000155</td>\n",
       "      <td>0.000296</td>\n",
       "      <td>0.000123</td>\n",
       "      <td>0.000111</td>\n",
       "      <td>0.000163</td>\n",
       "      <td>0.000072</td>\n",
       "      <td>0.000074</td>\n",
       "      <td>0.000134</td>\n",
       "      <td>...</td>\n",
       "      <td>0.000102</td>\n",
       "      <td>0.000061</td>\n",
       "      <td>0.000038</td>\n",
       "      <td>0.000076</td>\n",
       "      <td>0.000115</td>\n",
       "      <td>0.000084</td>\n",
       "      <td>0.000118</td>\n",
       "      <td>0.000024</td>\n",
       "      <td>0.000056</td>\n",
       "      <td>0.000097</td>\n",
       "    </tr>\n",
       "    <tr>\n",
       "      <th>CSCO</th>\n",
       "      <td>0.000111</td>\n",
       "      <td>0.000089</td>\n",
       "      <td>0.000105</td>\n",
       "      <td>0.000123</td>\n",
       "      <td>0.000189</td>\n",
       "      <td>0.000072</td>\n",
       "      <td>0.000103</td>\n",
       "      <td>0.000068</td>\n",
       "      <td>0.000065</td>\n",
       "      <td>0.000102</td>\n",
       "      <td>...</td>\n",
       "      <td>0.000090</td>\n",
       "      <td>0.000069</td>\n",
       "      <td>0.000036</td>\n",
       "      <td>0.000059</td>\n",
       "      <td>0.000120</td>\n",
       "      <td>0.000075</td>\n",
       "      <td>0.000113</td>\n",
       "      <td>0.000041</td>\n",
       "      <td>0.000062</td>\n",
       "      <td>0.000065</td>\n",
       "    </tr>\n",
       "    <tr>\n",
       "      <th>CVX</th>\n",
       "      <td>0.000058</td>\n",
       "      <td>0.000066</td>\n",
       "      <td>0.000084</td>\n",
       "      <td>0.000111</td>\n",
       "      <td>0.000072</td>\n",
       "      <td>0.000156</td>\n",
       "      <td>0.000086</td>\n",
       "      <td>0.000050</td>\n",
       "      <td>0.000068</td>\n",
       "      <td>0.000082</td>\n",
       "      <td>...</td>\n",
       "      <td>0.000056</td>\n",
       "      <td>0.000047</td>\n",
       "      <td>0.000030</td>\n",
       "      <td>0.000049</td>\n",
       "      <td>0.000076</td>\n",
       "      <td>0.000056</td>\n",
       "      <td>0.000063</td>\n",
       "      <td>0.000038</td>\n",
       "      <td>0.000040</td>\n",
       "      <td>0.000098</td>\n",
       "    </tr>\n",
       "    <tr>\n",
       "      <th>DD</th>\n",
       "      <td>0.000098</td>\n",
       "      <td>0.000094</td>\n",
       "      <td>0.000121</td>\n",
       "      <td>0.000163</td>\n",
       "      <td>0.000103</td>\n",
       "      <td>0.000086</td>\n",
       "      <td>0.000210</td>\n",
       "      <td>0.000071</td>\n",
       "      <td>0.000071</td>\n",
       "      <td>0.000117</td>\n",
       "      <td>...</td>\n",
       "      <td>0.000091</td>\n",
       "      <td>0.000061</td>\n",
       "      <td>0.000039</td>\n",
       "      <td>0.000062</td>\n",
       "      <td>0.000111</td>\n",
       "      <td>0.000076</td>\n",
       "      <td>0.000097</td>\n",
       "      <td>0.000035</td>\n",
       "      <td>0.000051</td>\n",
       "      <td>0.000077</td>\n",
       "    </tr>\n",
       "    <tr>\n",
       "      <th>DIS</th>\n",
       "      <td>0.000066</td>\n",
       "      <td>0.000060</td>\n",
       "      <td>0.000065</td>\n",
       "      <td>0.000072</td>\n",
       "      <td>0.000068</td>\n",
       "      <td>0.000050</td>\n",
       "      <td>0.000071</td>\n",
       "      <td>0.000133</td>\n",
       "      <td>0.000067</td>\n",
       "      <td>0.000069</td>\n",
       "      <td>...</td>\n",
       "      <td>0.000068</td>\n",
       "      <td>0.000050</td>\n",
       "      <td>0.000031</td>\n",
       "      <td>0.000043</td>\n",
       "      <td>0.000082</td>\n",
       "      <td>0.000053</td>\n",
       "      <td>0.000054</td>\n",
       "      <td>0.000041</td>\n",
       "      <td>0.000043</td>\n",
       "      <td>0.000054</td>\n",
       "    </tr>\n",
       "    <tr>\n",
       "      <th>GE</th>\n",
       "      <td>0.000062</td>\n",
       "      <td>0.000071</td>\n",
       "      <td>0.000073</td>\n",
       "      <td>0.000074</td>\n",
       "      <td>0.000065</td>\n",
       "      <td>0.000068</td>\n",
       "      <td>0.000071</td>\n",
       "      <td>0.000067</td>\n",
       "      <td>0.000394</td>\n",
       "      <td>0.000090</td>\n",
       "      <td>...</td>\n",
       "      <td>0.000049</td>\n",
       "      <td>0.000046</td>\n",
       "      <td>0.000023</td>\n",
       "      <td>0.000055</td>\n",
       "      <td>0.000096</td>\n",
       "      <td>0.000053</td>\n",
       "      <td>0.000051</td>\n",
       "      <td>0.000041</td>\n",
       "      <td>0.000035</td>\n",
       "      <td>0.000054</td>\n",
       "    </tr>\n",
       "    <tr>\n",
       "      <th>GS</th>\n",
       "      <td>0.000101</td>\n",
       "      <td>0.000112</td>\n",
       "      <td>0.000111</td>\n",
       "      <td>0.000134</td>\n",
       "      <td>0.000102</td>\n",
       "      <td>0.000082</td>\n",
       "      <td>0.000117</td>\n",
       "      <td>0.000069</td>\n",
       "      <td>0.000090</td>\n",
       "      <td>0.000210</td>\n",
       "      <td>...</td>\n",
       "      <td>0.000068</td>\n",
       "      <td>0.000056</td>\n",
       "      <td>0.000024</td>\n",
       "      <td>0.000077</td>\n",
       "      <td>0.000094</td>\n",
       "      <td>0.000071</td>\n",
       "      <td>0.000100</td>\n",
       "      <td>0.000039</td>\n",
       "      <td>0.000046</td>\n",
       "      <td>0.000070</td>\n",
       "    </tr>\n",
       "    <tr>\n",
       "      <th>HD</th>\n",
       "      <td>0.000069</td>\n",
       "      <td>0.000076</td>\n",
       "      <td>0.000085</td>\n",
       "      <td>0.000101</td>\n",
       "      <td>0.000081</td>\n",
       "      <td>0.000061</td>\n",
       "      <td>0.000091</td>\n",
       "      <td>0.000048</td>\n",
       "      <td>0.000049</td>\n",
       "      <td>0.000077</td>\n",
       "      <td>...</td>\n",
       "      <td>0.000078</td>\n",
       "      <td>0.000049</td>\n",
       "      <td>0.000036</td>\n",
       "      <td>0.000049</td>\n",
       "      <td>0.000081</td>\n",
       "      <td>0.000063</td>\n",
       "      <td>0.000080</td>\n",
       "      <td>0.000037</td>\n",
       "      <td>0.000060</td>\n",
       "      <td>0.000052</td>\n",
       "    </tr>\n",
       "    <tr>\n",
       "      <th>IBM</th>\n",
       "      <td>0.000069</td>\n",
       "      <td>0.000067</td>\n",
       "      <td>0.000078</td>\n",
       "      <td>0.000086</td>\n",
       "      <td>0.000085</td>\n",
       "      <td>0.000054</td>\n",
       "      <td>0.000081</td>\n",
       "      <td>0.000057</td>\n",
       "      <td>0.000077</td>\n",
       "      <td>0.000071</td>\n",
       "      <td>...</td>\n",
       "      <td>0.000061</td>\n",
       "      <td>0.000049</td>\n",
       "      <td>0.000032</td>\n",
       "      <td>0.000051</td>\n",
       "      <td>0.000082</td>\n",
       "      <td>0.000068</td>\n",
       "      <td>0.000076</td>\n",
       "      <td>0.000036</td>\n",
       "      <td>0.000043</td>\n",
       "      <td>0.000049</td>\n",
       "    </tr>\n",
       "    <tr>\n",
       "      <th>INTC</th>\n",
       "      <td>0.000124</td>\n",
       "      <td>0.000079</td>\n",
       "      <td>0.000105</td>\n",
       "      <td>0.000131</td>\n",
       "      <td>0.000130</td>\n",
       "      <td>0.000062</td>\n",
       "      <td>0.000108</td>\n",
       "      <td>0.000075</td>\n",
       "      <td>0.000030</td>\n",
       "      <td>0.000098</td>\n",
       "      <td>...</td>\n",
       "      <td>0.000089</td>\n",
       "      <td>0.000064</td>\n",
       "      <td>0.000030</td>\n",
       "      <td>0.000062</td>\n",
       "      <td>0.000123</td>\n",
       "      <td>0.000081</td>\n",
       "      <td>0.000111</td>\n",
       "      <td>0.000036</td>\n",
       "      <td>0.000052</td>\n",
       "      <td>0.000065</td>\n",
       "    </tr>\n",
       "    <tr>\n",
       "      <th>JNJ</th>\n",
       "      <td>0.000043</td>\n",
       "      <td>0.000052</td>\n",
       "      <td>0.000058</td>\n",
       "      <td>0.000055</td>\n",
       "      <td>0.000068</td>\n",
       "      <td>0.000045</td>\n",
       "      <td>0.000059</td>\n",
       "      <td>0.000034</td>\n",
       "      <td>0.000024</td>\n",
       "      <td>0.000054</td>\n",
       "      <td>...</td>\n",
       "      <td>0.000050</td>\n",
       "      <td>0.000065</td>\n",
       "      <td>0.000043</td>\n",
       "      <td>0.000048</td>\n",
       "      <td>0.000051</td>\n",
       "      <td>0.000058</td>\n",
       "      <td>0.000050</td>\n",
       "      <td>0.000049</td>\n",
       "      <td>0.000045</td>\n",
       "      <td>0.000046</td>\n",
       "    </tr>\n",
       "    <tr>\n",
       "      <th>JPM</th>\n",
       "      <td>0.000077</td>\n",
       "      <td>0.000105</td>\n",
       "      <td>0.000093</td>\n",
       "      <td>0.000115</td>\n",
       "      <td>0.000089</td>\n",
       "      <td>0.000074</td>\n",
       "      <td>0.000098</td>\n",
       "      <td>0.000059</td>\n",
       "      <td>0.000073</td>\n",
       "      <td>0.000141</td>\n",
       "      <td>...</td>\n",
       "      <td>0.000063</td>\n",
       "      <td>0.000056</td>\n",
       "      <td>0.000022</td>\n",
       "      <td>0.000074</td>\n",
       "      <td>0.000078</td>\n",
       "      <td>0.000067</td>\n",
       "      <td>0.000075</td>\n",
       "      <td>0.000039</td>\n",
       "      <td>0.000038</td>\n",
       "      <td>0.000062</td>\n",
       "    </tr>\n",
       "    <tr>\n",
       "      <th>KO</th>\n",
       "      <td>0.000020</td>\n",
       "      <td>0.000029</td>\n",
       "      <td>0.000034</td>\n",
       "      <td>0.000037</td>\n",
       "      <td>0.000033</td>\n",
       "      <td>0.000027</td>\n",
       "      <td>0.000034</td>\n",
       "      <td>0.000025</td>\n",
       "      <td>0.000011</td>\n",
       "      <td>0.000022</td>\n",
       "      <td>...</td>\n",
       "      <td>0.000032</td>\n",
       "      <td>0.000033</td>\n",
       "      <td>0.000046</td>\n",
       "      <td>0.000038</td>\n",
       "      <td>0.000034</td>\n",
       "      <td>0.000030</td>\n",
       "      <td>0.000026</td>\n",
       "      <td>0.000037</td>\n",
       "      <td>0.000036</td>\n",
       "      <td>0.000029</td>\n",
       "    </tr>\n",
       "    <tr>\n",
       "      <th>MCD</th>\n",
       "      <td>0.000043</td>\n",
       "      <td>0.000039</td>\n",
       "      <td>0.000041</td>\n",
       "      <td>0.000055</td>\n",
       "      <td>0.000042</td>\n",
       "      <td>0.000037</td>\n",
       "      <td>0.000042</td>\n",
       "      <td>0.000024</td>\n",
       "      <td>0.000024</td>\n",
       "      <td>0.000040</td>\n",
       "      <td>...</td>\n",
       "      <td>0.000030</td>\n",
       "      <td>0.000031</td>\n",
       "      <td>0.000033</td>\n",
       "      <td>0.000039</td>\n",
       "      <td>0.000050</td>\n",
       "      <td>0.000045</td>\n",
       "      <td>0.000042</td>\n",
       "      <td>0.000032</td>\n",
       "      <td>0.000040</td>\n",
       "      <td>0.000034</td>\n",
       "    </tr>\n",
       "    <tr>\n",
       "      <th>MMM</th>\n",
       "      <td>0.000076</td>\n",
       "      <td>0.000077</td>\n",
       "      <td>0.000101</td>\n",
       "      <td>0.000131</td>\n",
       "      <td>0.000095</td>\n",
       "      <td>0.000063</td>\n",
       "      <td>0.000102</td>\n",
       "      <td>0.000057</td>\n",
       "      <td>0.000058</td>\n",
       "      <td>0.000088</td>\n",
       "      <td>...</td>\n",
       "      <td>0.000072</td>\n",
       "      <td>0.000065</td>\n",
       "      <td>0.000038</td>\n",
       "      <td>0.000069</td>\n",
       "      <td>0.000075</td>\n",
       "      <td>0.000072</td>\n",
       "      <td>0.000083</td>\n",
       "      <td>0.000035</td>\n",
       "      <td>0.000047</td>\n",
       "      <td>0.000062</td>\n",
       "    </tr>\n",
       "    <tr>\n",
       "      <th>MRK</th>\n",
       "      <td>0.000036</td>\n",
       "      <td>0.000041</td>\n",
       "      <td>0.000042</td>\n",
       "      <td>0.000053</td>\n",
       "      <td>0.000060</td>\n",
       "      <td>0.000047</td>\n",
       "      <td>0.000051</td>\n",
       "      <td>0.000042</td>\n",
       "      <td>0.000042</td>\n",
       "      <td>0.000056</td>\n",
       "      <td>...</td>\n",
       "      <td>0.000051</td>\n",
       "      <td>0.000062</td>\n",
       "      <td>0.000038</td>\n",
       "      <td>0.000046</td>\n",
       "      <td>0.000045</td>\n",
       "      <td>0.000049</td>\n",
       "      <td>0.000041</td>\n",
       "      <td>0.000051</td>\n",
       "      <td>0.000047</td>\n",
       "      <td>0.000044</td>\n",
       "    </tr>\n",
       "    <tr>\n",
       "      <th>MSFT</th>\n",
       "      <td>0.000135</td>\n",
       "      <td>0.000097</td>\n",
       "      <td>0.000112</td>\n",
       "      <td>0.000130</td>\n",
       "      <td>0.000132</td>\n",
       "      <td>0.000067</td>\n",
       "      <td>0.000102</td>\n",
       "      <td>0.000065</td>\n",
       "      <td>0.000056</td>\n",
       "      <td>0.000108</td>\n",
       "      <td>...</td>\n",
       "      <td>0.000090</td>\n",
       "      <td>0.000064</td>\n",
       "      <td>0.000028</td>\n",
       "      <td>0.000058</td>\n",
       "      <td>0.000148</td>\n",
       "      <td>0.000091</td>\n",
       "      <td>0.000140</td>\n",
       "      <td>0.000032</td>\n",
       "      <td>0.000046</td>\n",
       "      <td>0.000062</td>\n",
       "    </tr>\n",
       "    <tr>\n",
       "      <th>NKE</th>\n",
       "      <td>0.000076</td>\n",
       "      <td>0.000070</td>\n",
       "      <td>0.000082</td>\n",
       "      <td>0.000102</td>\n",
       "      <td>0.000090</td>\n",
       "      <td>0.000056</td>\n",
       "      <td>0.000091</td>\n",
       "      <td>0.000068</td>\n",
       "      <td>0.000049</td>\n",
       "      <td>0.000068</td>\n",
       "      <td>...</td>\n",
       "      <td>0.000261</td>\n",
       "      <td>0.000051</td>\n",
       "      <td>0.000032</td>\n",
       "      <td>0.000050</td>\n",
       "      <td>0.000131</td>\n",
       "      <td>0.000067</td>\n",
       "      <td>0.000078</td>\n",
       "      <td>0.000037</td>\n",
       "      <td>0.000056</td>\n",
       "      <td>0.000052</td>\n",
       "    </tr>\n",
       "    <tr>\n",
       "      <th>PFE</th>\n",
       "      <td>0.000050</td>\n",
       "      <td>0.000056</td>\n",
       "      <td>0.000054</td>\n",
       "      <td>0.000061</td>\n",
       "      <td>0.000069</td>\n",
       "      <td>0.000047</td>\n",
       "      <td>0.000061</td>\n",
       "      <td>0.000050</td>\n",
       "      <td>0.000046</td>\n",
       "      <td>0.000056</td>\n",
       "      <td>...</td>\n",
       "      <td>0.000051</td>\n",
       "      <td>0.000102</td>\n",
       "      <td>0.000035</td>\n",
       "      <td>0.000048</td>\n",
       "      <td>0.000048</td>\n",
       "      <td>0.000061</td>\n",
       "      <td>0.000056</td>\n",
       "      <td>0.000042</td>\n",
       "      <td>0.000045</td>\n",
       "      <td>0.000046</td>\n",
       "    </tr>\n",
       "    <tr>\n",
       "      <th>PG</th>\n",
       "      <td>0.000027</td>\n",
       "      <td>0.000035</td>\n",
       "      <td>0.000035</td>\n",
       "      <td>0.000038</td>\n",
       "      <td>0.000036</td>\n",
       "      <td>0.000030</td>\n",
       "      <td>0.000039</td>\n",
       "      <td>0.000031</td>\n",
       "      <td>0.000023</td>\n",
       "      <td>0.000024</td>\n",
       "      <td>...</td>\n",
       "      <td>0.000032</td>\n",
       "      <td>0.000035</td>\n",
       "      <td>0.000097</td>\n",
       "      <td>0.000032</td>\n",
       "      <td>0.000048</td>\n",
       "      <td>0.000027</td>\n",
       "      <td>0.000028</td>\n",
       "      <td>0.000043</td>\n",
       "      <td>0.000042</td>\n",
       "      <td>0.000032</td>\n",
       "    </tr>\n",
       "    <tr>\n",
       "      <th>TRV</th>\n",
       "      <td>0.000039</td>\n",
       "      <td>0.000063</td>\n",
       "      <td>0.000065</td>\n",
       "      <td>0.000076</td>\n",
       "      <td>0.000059</td>\n",
       "      <td>0.000049</td>\n",
       "      <td>0.000062</td>\n",
       "      <td>0.000043</td>\n",
       "      <td>0.000055</td>\n",
       "      <td>0.000077</td>\n",
       "      <td>...</td>\n",
       "      <td>0.000050</td>\n",
       "      <td>0.000048</td>\n",
       "      <td>0.000032</td>\n",
       "      <td>0.000115</td>\n",
       "      <td>0.000033</td>\n",
       "      <td>0.000053</td>\n",
       "      <td>0.000047</td>\n",
       "      <td>0.000042</td>\n",
       "      <td>0.000040</td>\n",
       "      <td>0.000049</td>\n",
       "    </tr>\n",
       "    <tr>\n",
       "      <th>TSLA</th>\n",
       "      <td>0.000139</td>\n",
       "      <td>0.000097</td>\n",
       "      <td>0.000112</td>\n",
       "      <td>0.000115</td>\n",
       "      <td>0.000120</td>\n",
       "      <td>0.000076</td>\n",
       "      <td>0.000111</td>\n",
       "      <td>0.000082</td>\n",
       "      <td>0.000096</td>\n",
       "      <td>0.000094</td>\n",
       "      <td>...</td>\n",
       "      <td>0.000131</td>\n",
       "      <td>0.000048</td>\n",
       "      <td>0.000048</td>\n",
       "      <td>0.000033</td>\n",
       "      <td>0.000912</td>\n",
       "      <td>0.000079</td>\n",
       "      <td>0.000125</td>\n",
       "      <td>0.000030</td>\n",
       "      <td>0.000070</td>\n",
       "      <td>0.000071</td>\n",
       "    </tr>\n",
       "    <tr>\n",
       "      <th>UNH</th>\n",
       "      <td>0.000080</td>\n",
       "      <td>0.000072</td>\n",
       "      <td>0.000088</td>\n",
       "      <td>0.000084</td>\n",
       "      <td>0.000075</td>\n",
       "      <td>0.000056</td>\n",
       "      <td>0.000076</td>\n",
       "      <td>0.000053</td>\n",
       "      <td>0.000053</td>\n",
       "      <td>0.000071</td>\n",
       "      <td>...</td>\n",
       "      <td>0.000067</td>\n",
       "      <td>0.000061</td>\n",
       "      <td>0.000027</td>\n",
       "      <td>0.000053</td>\n",
       "      <td>0.000079</td>\n",
       "      <td>0.000146</td>\n",
       "      <td>0.000079</td>\n",
       "      <td>0.000040</td>\n",
       "      <td>0.000052</td>\n",
       "      <td>0.000054</td>\n",
       "    </tr>\n",
       "    <tr>\n",
       "      <th>V</th>\n",
       "      <td>0.000119</td>\n",
       "      <td>0.000094</td>\n",
       "      <td>0.000112</td>\n",
       "      <td>0.000118</td>\n",
       "      <td>0.000113</td>\n",
       "      <td>0.000063</td>\n",
       "      <td>0.000097</td>\n",
       "      <td>0.000054</td>\n",
       "      <td>0.000051</td>\n",
       "      <td>0.000100</td>\n",
       "      <td>...</td>\n",
       "      <td>0.000078</td>\n",
       "      <td>0.000056</td>\n",
       "      <td>0.000028</td>\n",
       "      <td>0.000047</td>\n",
       "      <td>0.000125</td>\n",
       "      <td>0.000079</td>\n",
       "      <td>0.000160</td>\n",
       "      <td>0.000013</td>\n",
       "      <td>0.000044</td>\n",
       "      <td>0.000057</td>\n",
       "    </tr>\n",
       "    <tr>\n",
       "      <th>VZ</th>\n",
       "      <td>0.000010</td>\n",
       "      <td>0.000036</td>\n",
       "      <td>0.000036</td>\n",
       "      <td>0.000024</td>\n",
       "      <td>0.000041</td>\n",
       "      <td>0.000038</td>\n",
       "      <td>0.000035</td>\n",
       "      <td>0.000041</td>\n",
       "      <td>0.000041</td>\n",
       "      <td>0.000039</td>\n",
       "      <td>...</td>\n",
       "      <td>0.000037</td>\n",
       "      <td>0.000042</td>\n",
       "      <td>0.000043</td>\n",
       "      <td>0.000042</td>\n",
       "      <td>0.000030</td>\n",
       "      <td>0.000040</td>\n",
       "      <td>0.000013</td>\n",
       "      <td>0.000139</td>\n",
       "      <td>0.000046</td>\n",
       "      <td>0.000032</td>\n",
       "    </tr>\n",
       "    <tr>\n",
       "      <th>WMT</th>\n",
       "      <td>0.000049</td>\n",
       "      <td>0.000047</td>\n",
       "      <td>0.000058</td>\n",
       "      <td>0.000056</td>\n",
       "      <td>0.000062</td>\n",
       "      <td>0.000040</td>\n",
       "      <td>0.000051</td>\n",
       "      <td>0.000043</td>\n",
       "      <td>0.000035</td>\n",
       "      <td>0.000046</td>\n",
       "      <td>...</td>\n",
       "      <td>0.000056</td>\n",
       "      <td>0.000045</td>\n",
       "      <td>0.000042</td>\n",
       "      <td>0.000040</td>\n",
       "      <td>0.000070</td>\n",
       "      <td>0.000052</td>\n",
       "      <td>0.000044</td>\n",
       "      <td>0.000046</td>\n",
       "      <td>0.000179</td>\n",
       "      <td>0.000040</td>\n",
       "    </tr>\n",
       "    <tr>\n",
       "      <th>XOM</th>\n",
       "      <td>0.000057</td>\n",
       "      <td>0.000059</td>\n",
       "      <td>0.000072</td>\n",
       "      <td>0.000097</td>\n",
       "      <td>0.000065</td>\n",
       "      <td>0.000098</td>\n",
       "      <td>0.000077</td>\n",
       "      <td>0.000054</td>\n",
       "      <td>0.000054</td>\n",
       "      <td>0.000070</td>\n",
       "      <td>...</td>\n",
       "      <td>0.000052</td>\n",
       "      <td>0.000046</td>\n",
       "      <td>0.000032</td>\n",
       "      <td>0.000049</td>\n",
       "      <td>0.000071</td>\n",
       "      <td>0.000054</td>\n",
       "      <td>0.000057</td>\n",
       "      <td>0.000032</td>\n",
       "      <td>0.000040</td>\n",
       "      <td>0.000121</td>\n",
       "    </tr>\n",
       "  </tbody>\n",
       "</table>\n",
       "<p>30 rows × 30 columns</p>\n",
       "</div>"
      ],
      "text/plain": [
       "Symbols      AAPL       AXP        BA       CAT      CSCO       CVX        DD  \\\n",
       "Symbols                                                                         \n",
       "AAPL     0.000226  0.000081  0.000104  0.000110  0.000111  0.000058  0.000098   \n",
       "AXP      0.000081  0.000150  0.000091  0.000109  0.000089  0.000066  0.000094   \n",
       "BA       0.000104  0.000091  0.000256  0.000155  0.000105  0.000084  0.000121   \n",
       "CAT      0.000110  0.000109  0.000155  0.000296  0.000123  0.000111  0.000163   \n",
       "CSCO     0.000111  0.000089  0.000105  0.000123  0.000189  0.000072  0.000103   \n",
       "CVX      0.000058  0.000066  0.000084  0.000111  0.000072  0.000156  0.000086   \n",
       "DD       0.000098  0.000094  0.000121  0.000163  0.000103  0.000086  0.000210   \n",
       "DIS      0.000066  0.000060  0.000065  0.000072  0.000068  0.000050  0.000071   \n",
       "GE       0.000062  0.000071  0.000073  0.000074  0.000065  0.000068  0.000071   \n",
       "GS       0.000101  0.000112  0.000111  0.000134  0.000102  0.000082  0.000117   \n",
       "HD       0.000069  0.000076  0.000085  0.000101  0.000081  0.000061  0.000091   \n",
       "IBM      0.000069  0.000067  0.000078  0.000086  0.000085  0.000054  0.000081   \n",
       "INTC     0.000124  0.000079  0.000105  0.000131  0.000130  0.000062  0.000108   \n",
       "JNJ      0.000043  0.000052  0.000058  0.000055  0.000068  0.000045  0.000059   \n",
       "JPM      0.000077  0.000105  0.000093  0.000115  0.000089  0.000074  0.000098   \n",
       "KO       0.000020  0.000029  0.000034  0.000037  0.000033  0.000027  0.000034   \n",
       "MCD      0.000043  0.000039  0.000041  0.000055  0.000042  0.000037  0.000042   \n",
       "MMM      0.000076  0.000077  0.000101  0.000131  0.000095  0.000063  0.000102   \n",
       "MRK      0.000036  0.000041  0.000042  0.000053  0.000060  0.000047  0.000051   \n",
       "MSFT     0.000135  0.000097  0.000112  0.000130  0.000132  0.000067  0.000102   \n",
       "NKE      0.000076  0.000070  0.000082  0.000102  0.000090  0.000056  0.000091   \n",
       "PFE      0.000050  0.000056  0.000054  0.000061  0.000069  0.000047  0.000061   \n",
       "PG       0.000027  0.000035  0.000035  0.000038  0.000036  0.000030  0.000039   \n",
       "TRV      0.000039  0.000063  0.000065  0.000076  0.000059  0.000049  0.000062   \n",
       "TSLA     0.000139  0.000097  0.000112  0.000115  0.000120  0.000076  0.000111   \n",
       "UNH      0.000080  0.000072  0.000088  0.000084  0.000075  0.000056  0.000076   \n",
       "V        0.000119  0.000094  0.000112  0.000118  0.000113  0.000063  0.000097   \n",
       "VZ       0.000010  0.000036  0.000036  0.000024  0.000041  0.000038  0.000035   \n",
       "WMT      0.000049  0.000047  0.000058  0.000056  0.000062  0.000040  0.000051   \n",
       "XOM      0.000057  0.000059  0.000072  0.000097  0.000065  0.000098  0.000077   \n",
       "\n",
       "Symbols       DIS        GE        GS  ...       NKE       PFE        PG  \\\n",
       "Symbols                                ...                                 \n",
       "AAPL     0.000066  0.000062  0.000101  ...  0.000076  0.000050  0.000027   \n",
       "AXP      0.000060  0.000071  0.000112  ...  0.000070  0.000056  0.000035   \n",
       "BA       0.000065  0.000073  0.000111  ...  0.000082  0.000054  0.000035   \n",
       "CAT      0.000072  0.000074  0.000134  ...  0.000102  0.000061  0.000038   \n",
       "CSCO     0.000068  0.000065  0.000102  ...  0.000090  0.000069  0.000036   \n",
       "CVX      0.000050  0.000068  0.000082  ...  0.000056  0.000047  0.000030   \n",
       "DD       0.000071  0.000071  0.000117  ...  0.000091  0.000061  0.000039   \n",
       "DIS      0.000133  0.000067  0.000069  ...  0.000068  0.000050  0.000031   \n",
       "GE       0.000067  0.000394  0.000090  ...  0.000049  0.000046  0.000023   \n",
       "GS       0.000069  0.000090  0.000210  ...  0.000068  0.000056  0.000024   \n",
       "HD       0.000048  0.000049  0.000077  ...  0.000078  0.000049  0.000036   \n",
       "IBM      0.000057  0.000077  0.000071  ...  0.000061  0.000049  0.000032   \n",
       "INTC     0.000075  0.000030  0.000098  ...  0.000089  0.000064  0.000030   \n",
       "JNJ      0.000034  0.000024  0.000054  ...  0.000050  0.000065  0.000043   \n",
       "JPM      0.000059  0.000073  0.000141  ...  0.000063  0.000056  0.000022   \n",
       "KO       0.000025  0.000011  0.000022  ...  0.000032  0.000033  0.000046   \n",
       "MCD      0.000024  0.000024  0.000040  ...  0.000030  0.000031  0.000033   \n",
       "MMM      0.000057  0.000058  0.000088  ...  0.000072  0.000065  0.000038   \n",
       "MRK      0.000042  0.000042  0.000056  ...  0.000051  0.000062  0.000038   \n",
       "MSFT     0.000065  0.000056  0.000108  ...  0.000090  0.000064  0.000028   \n",
       "NKE      0.000068  0.000049  0.000068  ...  0.000261  0.000051  0.000032   \n",
       "PFE      0.000050  0.000046  0.000056  ...  0.000051  0.000102  0.000035   \n",
       "PG       0.000031  0.000023  0.000024  ...  0.000032  0.000035  0.000097   \n",
       "TRV      0.000043  0.000055  0.000077  ...  0.000050  0.000048  0.000032   \n",
       "TSLA     0.000082  0.000096  0.000094  ...  0.000131  0.000048  0.000048   \n",
       "UNH      0.000053  0.000053  0.000071  ...  0.000067  0.000061  0.000027   \n",
       "V        0.000054  0.000051  0.000100  ...  0.000078  0.000056  0.000028   \n",
       "VZ       0.000041  0.000041  0.000039  ...  0.000037  0.000042  0.000043   \n",
       "WMT      0.000043  0.000035  0.000046  ...  0.000056  0.000045  0.000042   \n",
       "XOM      0.000054  0.000054  0.000070  ...  0.000052  0.000046  0.000032   \n",
       "\n",
       "Symbols       TRV      TSLA       UNH         V        VZ       WMT       XOM  \n",
       "Symbols                                                                        \n",
       "AAPL     0.000039  0.000139  0.000080  0.000119  0.000010  0.000049  0.000057  \n",
       "AXP      0.000063  0.000097  0.000072  0.000094  0.000036  0.000047  0.000059  \n",
       "BA       0.000065  0.000112  0.000088  0.000112  0.000036  0.000058  0.000072  \n",
       "CAT      0.000076  0.000115  0.000084  0.000118  0.000024  0.000056  0.000097  \n",
       "CSCO     0.000059  0.000120  0.000075  0.000113  0.000041  0.000062  0.000065  \n",
       "CVX      0.000049  0.000076  0.000056  0.000063  0.000038  0.000040  0.000098  \n",
       "DD       0.000062  0.000111  0.000076  0.000097  0.000035  0.000051  0.000077  \n",
       "DIS      0.000043  0.000082  0.000053  0.000054  0.000041  0.000043  0.000054  \n",
       "GE       0.000055  0.000096  0.000053  0.000051  0.000041  0.000035  0.000054  \n",
       "GS       0.000077  0.000094  0.000071  0.000100  0.000039  0.000046  0.000070  \n",
       "HD       0.000049  0.000081  0.000063  0.000080  0.000037  0.000060  0.000052  \n",
       "IBM      0.000051  0.000082  0.000068  0.000076  0.000036  0.000043  0.000049  \n",
       "INTC     0.000062  0.000123  0.000081  0.000111  0.000036  0.000052  0.000065  \n",
       "JNJ      0.000048  0.000051  0.000058  0.000050  0.000049  0.000045  0.000046  \n",
       "JPM      0.000074  0.000078  0.000067  0.000075  0.000039  0.000038  0.000062  \n",
       "KO       0.000038  0.000034  0.000030  0.000026  0.000037  0.000036  0.000029  \n",
       "MCD      0.000039  0.000050  0.000045  0.000042  0.000032  0.000040  0.000034  \n",
       "MMM      0.000069  0.000075  0.000072  0.000083  0.000035  0.000047  0.000062  \n",
       "MRK      0.000046  0.000045  0.000049  0.000041  0.000051  0.000047  0.000044  \n",
       "MSFT     0.000058  0.000148  0.000091  0.000140  0.000032  0.000046  0.000062  \n",
       "NKE      0.000050  0.000131  0.000067  0.000078  0.000037  0.000056  0.000052  \n",
       "PFE      0.000048  0.000048  0.000061  0.000056  0.000042  0.000045  0.000046  \n",
       "PG       0.000032  0.000048  0.000027  0.000028  0.000043  0.000042  0.000032  \n",
       "TRV      0.000115  0.000033  0.000053  0.000047  0.000042  0.000040  0.000049  \n",
       "TSLA     0.000033  0.000912  0.000079  0.000125  0.000030  0.000070  0.000071  \n",
       "UNH      0.000053  0.000079  0.000146  0.000079  0.000040  0.000052  0.000054  \n",
       "V        0.000047  0.000125  0.000079  0.000160  0.000013  0.000044  0.000057  \n",
       "VZ       0.000042  0.000030  0.000040  0.000013  0.000139  0.000046  0.000032  \n",
       "WMT      0.000040  0.000070  0.000052  0.000044  0.000046  0.000179  0.000040  \n",
       "XOM      0.000049  0.000071  0.000054  0.000057  0.000032  0.000040  0.000121  \n",
       "\n",
       "[30 rows x 30 columns]"
      ]
     },
     "execution_count": 48,
     "metadata": {},
     "output_type": "execute_result"
    }
   ],
   "source": [
    "# get Cov matrix\n",
    "df.cov()"
   ]
  },
  {
   "cell_type": "code",
   "execution_count": 49,
   "id": "3df19c0a",
   "metadata": {},
   "outputs": [
    {
     "data": {
      "text/html": [
       "<div>\n",
       "<style scoped>\n",
       "    .dataframe tbody tr th:only-of-type {\n",
       "        vertical-align: middle;\n",
       "    }\n",
       "\n",
       "    .dataframe tbody tr th {\n",
       "        vertical-align: top;\n",
       "    }\n",
       "\n",
       "    .dataframe thead th {\n",
       "        text-align: right;\n",
       "    }\n",
       "</style>\n",
       "<table border=\"1\" class=\"dataframe\">\n",
       "  <thead>\n",
       "    <tr style=\"text-align: right;\">\n",
       "      <th>Symbols</th>\n",
       "      <th>AAPL</th>\n",
       "      <th>AXP</th>\n",
       "      <th>BA</th>\n",
       "      <th>CAT</th>\n",
       "      <th>CSCO</th>\n",
       "      <th>CVX</th>\n",
       "      <th>DD</th>\n",
       "      <th>DIS</th>\n",
       "      <th>GE</th>\n",
       "      <th>GS</th>\n",
       "      <th>...</th>\n",
       "      <th>NKE</th>\n",
       "      <th>PFE</th>\n",
       "      <th>PG</th>\n",
       "      <th>TRV</th>\n",
       "      <th>TSLA</th>\n",
       "      <th>UNH</th>\n",
       "      <th>V</th>\n",
       "      <th>VZ</th>\n",
       "      <th>WMT</th>\n",
       "      <th>XOM</th>\n",
       "    </tr>\n",
       "    <tr>\n",
       "      <th>Symbols</th>\n",
       "      <th></th>\n",
       "      <th></th>\n",
       "      <th></th>\n",
       "      <th></th>\n",
       "      <th></th>\n",
       "      <th></th>\n",
       "      <th></th>\n",
       "      <th></th>\n",
       "      <th></th>\n",
       "      <th></th>\n",
       "      <th></th>\n",
       "      <th></th>\n",
       "      <th></th>\n",
       "      <th></th>\n",
       "      <th></th>\n",
       "      <th></th>\n",
       "      <th></th>\n",
       "      <th></th>\n",
       "      <th></th>\n",
       "      <th></th>\n",
       "      <th></th>\n",
       "    </tr>\n",
       "  </thead>\n",
       "  <tbody>\n",
       "    <tr>\n",
       "      <th>AAPL</th>\n",
       "      <td>1.000000</td>\n",
       "      <td>0.438358</td>\n",
       "      <td>0.434415</td>\n",
       "      <td>0.425506</td>\n",
       "      <td>0.535621</td>\n",
       "      <td>0.306547</td>\n",
       "      <td>0.451225</td>\n",
       "      <td>0.379904</td>\n",
       "      <td>0.207276</td>\n",
       "      <td>0.463790</td>\n",
       "      <td>...</td>\n",
       "      <td>0.314434</td>\n",
       "      <td>0.325774</td>\n",
       "      <td>0.184285</td>\n",
       "      <td>0.244458</td>\n",
       "      <td>0.305979</td>\n",
       "      <td>0.439950</td>\n",
       "      <td>0.624889</td>\n",
       "      <td>0.054123</td>\n",
       "      <td>0.241438</td>\n",
       "      <td>0.345994</td>\n",
       "    </tr>\n",
       "    <tr>\n",
       "      <th>AXP</th>\n",
       "      <td>0.438358</td>\n",
       "      <td>1.000000</td>\n",
       "      <td>0.466358</td>\n",
       "      <td>0.516736</td>\n",
       "      <td>0.530124</td>\n",
       "      <td>0.433046</td>\n",
       "      <td>0.530347</td>\n",
       "      <td>0.423082</td>\n",
       "      <td>0.293397</td>\n",
       "      <td>0.628774</td>\n",
       "      <td>...</td>\n",
       "      <td>0.355376</td>\n",
       "      <td>0.449624</td>\n",
       "      <td>0.291097</td>\n",
       "      <td>0.482228</td>\n",
       "      <td>0.260879</td>\n",
       "      <td>0.489366</td>\n",
       "      <td>0.606204</td>\n",
       "      <td>0.247454</td>\n",
       "      <td>0.284904</td>\n",
       "      <td>0.436743</td>\n",
       "    </tr>\n",
       "    <tr>\n",
       "      <th>BA</th>\n",
       "      <td>0.434415</td>\n",
       "      <td>0.466358</td>\n",
       "      <td>1.000000</td>\n",
       "      <td>0.563445</td>\n",
       "      <td>0.479439</td>\n",
       "      <td>0.420814</td>\n",
       "      <td>0.520823</td>\n",
       "      <td>0.351696</td>\n",
       "      <td>0.229071</td>\n",
       "      <td>0.480498</td>\n",
       "      <td>...</td>\n",
       "      <td>0.319275</td>\n",
       "      <td>0.332798</td>\n",
       "      <td>0.222823</td>\n",
       "      <td>0.376340</td>\n",
       "      <td>0.231285</td>\n",
       "      <td>0.454808</td>\n",
       "      <td>0.551223</td>\n",
       "      <td>0.193605</td>\n",
       "      <td>0.272485</td>\n",
       "      <td>0.411304</td>\n",
       "    </tr>\n",
       "    <tr>\n",
       "      <th>CAT</th>\n",
       "      <td>0.425506</td>\n",
       "      <td>0.516736</td>\n",
       "      <td>0.563445</td>\n",
       "      <td>1.000000</td>\n",
       "      <td>0.519472</td>\n",
       "      <td>0.514150</td>\n",
       "      <td>0.653575</td>\n",
       "      <td>0.360866</td>\n",
       "      <td>0.217550</td>\n",
       "      <td>0.535999</td>\n",
       "      <td>...</td>\n",
       "      <td>0.365572</td>\n",
       "      <td>0.350984</td>\n",
       "      <td>0.226307</td>\n",
       "      <td>0.409955</td>\n",
       "      <td>0.220450</td>\n",
       "      <td>0.405835</td>\n",
       "      <td>0.543888</td>\n",
       "      <td>0.117306</td>\n",
       "      <td>0.243363</td>\n",
       "      <td>0.511474</td>\n",
       "    </tr>\n",
       "    <tr>\n",
       "      <th>CSCO</th>\n",
       "      <td>0.535621</td>\n",
       "      <td>0.530124</td>\n",
       "      <td>0.479439</td>\n",
       "      <td>0.519472</td>\n",
       "      <td>1.000000</td>\n",
       "      <td>0.422066</td>\n",
       "      <td>0.516811</td>\n",
       "      <td>0.429900</td>\n",
       "      <td>0.236964</td>\n",
       "      <td>0.512769</td>\n",
       "      <td>...</td>\n",
       "      <td>0.405170</td>\n",
       "      <td>0.498664</td>\n",
       "      <td>0.263034</td>\n",
       "      <td>0.400338</td>\n",
       "      <td>0.289147</td>\n",
       "      <td>0.449893</td>\n",
       "      <td>0.650235</td>\n",
       "      <td>0.252501</td>\n",
       "      <td>0.335856</td>\n",
       "      <td>0.432170</td>\n",
       "    </tr>\n",
       "    <tr>\n",
       "      <th>CVX</th>\n",
       "      <td>0.306547</td>\n",
       "      <td>0.433046</td>\n",
       "      <td>0.420814</td>\n",
       "      <td>0.514150</td>\n",
       "      <td>0.422066</td>\n",
       "      <td>1.000000</td>\n",
       "      <td>0.474843</td>\n",
       "      <td>0.347930</td>\n",
       "      <td>0.274401</td>\n",
       "      <td>0.453749</td>\n",
       "      <td>...</td>\n",
       "      <td>0.278293</td>\n",
       "      <td>0.373741</td>\n",
       "      <td>0.246717</td>\n",
       "      <td>0.368282</td>\n",
       "      <td>0.199944</td>\n",
       "      <td>0.372461</td>\n",
       "      <td>0.396711</td>\n",
       "      <td>0.260597</td>\n",
       "      <td>0.241336</td>\n",
       "      <td>0.717439</td>\n",
       "    </tr>\n",
       "    <tr>\n",
       "      <th>DD</th>\n",
       "      <td>0.451225</td>\n",
       "      <td>0.530347</td>\n",
       "      <td>0.520823</td>\n",
       "      <td>0.653575</td>\n",
       "      <td>0.516811</td>\n",
       "      <td>0.474843</td>\n",
       "      <td>1.000000</td>\n",
       "      <td>0.423117</td>\n",
       "      <td>0.248793</td>\n",
       "      <td>0.559004</td>\n",
       "      <td>...</td>\n",
       "      <td>0.389589</td>\n",
       "      <td>0.417948</td>\n",
       "      <td>0.271773</td>\n",
       "      <td>0.400851</td>\n",
       "      <td>0.253747</td>\n",
       "      <td>0.433062</td>\n",
       "      <td>0.529130</td>\n",
       "      <td>0.206213</td>\n",
       "      <td>0.261878</td>\n",
       "      <td>0.484808</td>\n",
       "    </tr>\n",
       "    <tr>\n",
       "      <th>DIS</th>\n",
       "      <td>0.379904</td>\n",
       "      <td>0.423082</td>\n",
       "      <td>0.351696</td>\n",
       "      <td>0.360866</td>\n",
       "      <td>0.429900</td>\n",
       "      <td>0.347930</td>\n",
       "      <td>0.423117</td>\n",
       "      <td>1.000000</td>\n",
       "      <td>0.291272</td>\n",
       "      <td>0.415233</td>\n",
       "      <td>...</td>\n",
       "      <td>0.365192</td>\n",
       "      <td>0.425598</td>\n",
       "      <td>0.273444</td>\n",
       "      <td>0.346367</td>\n",
       "      <td>0.234608</td>\n",
       "      <td>0.380989</td>\n",
       "      <td>0.370350</td>\n",
       "      <td>0.300670</td>\n",
       "      <td>0.276689</td>\n",
       "      <td>0.429753</td>\n",
       "    </tr>\n",
       "    <tr>\n",
       "      <th>GE</th>\n",
       "      <td>0.207276</td>\n",
       "      <td>0.293397</td>\n",
       "      <td>0.229071</td>\n",
       "      <td>0.217550</td>\n",
       "      <td>0.236964</td>\n",
       "      <td>0.274401</td>\n",
       "      <td>0.248793</td>\n",
       "      <td>0.291272</td>\n",
       "      <td>1.000000</td>\n",
       "      <td>0.313050</td>\n",
       "      <td>...</td>\n",
       "      <td>0.151660</td>\n",
       "      <td>0.229901</td>\n",
       "      <td>0.116441</td>\n",
       "      <td>0.257772</td>\n",
       "      <td>0.159284</td>\n",
       "      <td>0.220657</td>\n",
       "      <td>0.201146</td>\n",
       "      <td>0.175410</td>\n",
       "      <td>0.132182</td>\n",
       "      <td>0.246088</td>\n",
       "    </tr>\n",
       "    <tr>\n",
       "      <th>GS</th>\n",
       "      <td>0.463790</td>\n",
       "      <td>0.628774</td>\n",
       "      <td>0.480498</td>\n",
       "      <td>0.535999</td>\n",
       "      <td>0.512769</td>\n",
       "      <td>0.453749</td>\n",
       "      <td>0.559004</td>\n",
       "      <td>0.415233</td>\n",
       "      <td>0.313050</td>\n",
       "      <td>1.000000</td>\n",
       "      <td>...</td>\n",
       "      <td>0.289447</td>\n",
       "      <td>0.380418</td>\n",
       "      <td>0.171044</td>\n",
       "      <td>0.491515</td>\n",
       "      <td>0.214076</td>\n",
       "      <td>0.402486</td>\n",
       "      <td>0.543776</td>\n",
       "      <td>0.226925</td>\n",
       "      <td>0.239565</td>\n",
       "      <td>0.438362</td>\n",
       "    </tr>\n",
       "    <tr>\n",
       "      <th>HD</th>\n",
       "      <td>0.390361</td>\n",
       "      <td>0.529013</td>\n",
       "      <td>0.452214</td>\n",
       "      <td>0.498838</td>\n",
       "      <td>0.503355</td>\n",
       "      <td>0.415262</td>\n",
       "      <td>0.534584</td>\n",
       "      <td>0.358068</td>\n",
       "      <td>0.209654</td>\n",
       "      <td>0.455201</td>\n",
       "      <td>...</td>\n",
       "      <td>0.410294</td>\n",
       "      <td>0.414699</td>\n",
       "      <td>0.315794</td>\n",
       "      <td>0.391920</td>\n",
       "      <td>0.228893</td>\n",
       "      <td>0.443693</td>\n",
       "      <td>0.536921</td>\n",
       "      <td>0.270551</td>\n",
       "      <td>0.380333</td>\n",
       "      <td>0.407139</td>\n",
       "    </tr>\n",
       "    <tr>\n",
       "      <th>IBM</th>\n",
       "      <td>0.349071</td>\n",
       "      <td>0.418751</td>\n",
       "      <td>0.371634</td>\n",
       "      <td>0.381707</td>\n",
       "      <td>0.473494</td>\n",
       "      <td>0.330235</td>\n",
       "      <td>0.430511</td>\n",
       "      <td>0.377185</td>\n",
       "      <td>0.297152</td>\n",
       "      <td>0.373912</td>\n",
       "      <td>...</td>\n",
       "      <td>0.290318</td>\n",
       "      <td>0.368804</td>\n",
       "      <td>0.249428</td>\n",
       "      <td>0.363291</td>\n",
       "      <td>0.208630</td>\n",
       "      <td>0.427692</td>\n",
       "      <td>0.462620</td>\n",
       "      <td>0.233881</td>\n",
       "      <td>0.247852</td>\n",
       "      <td>0.343104</td>\n",
       "    </tr>\n",
       "    <tr>\n",
       "      <th>INTC</th>\n",
       "      <td>0.489135</td>\n",
       "      <td>0.381069</td>\n",
       "      <td>0.388942</td>\n",
       "      <td>0.450437</td>\n",
       "      <td>0.558278</td>\n",
       "      <td>0.294656</td>\n",
       "      <td>0.439885</td>\n",
       "      <td>0.382392</td>\n",
       "      <td>0.090478</td>\n",
       "      <td>0.399215</td>\n",
       "      <td>...</td>\n",
       "      <td>0.326554</td>\n",
       "      <td>0.375919</td>\n",
       "      <td>0.180859</td>\n",
       "      <td>0.339294</td>\n",
       "      <td>0.240340</td>\n",
       "      <td>0.394132</td>\n",
       "      <td>0.517384</td>\n",
       "      <td>0.180195</td>\n",
       "      <td>0.230029</td>\n",
       "      <td>0.347588</td>\n",
       "    </tr>\n",
       "    <tr>\n",
       "      <th>JNJ</th>\n",
       "      <td>0.256733</td>\n",
       "      <td>0.382137</td>\n",
       "      <td>0.326036</td>\n",
       "      <td>0.284535</td>\n",
       "      <td>0.441754</td>\n",
       "      <td>0.320503</td>\n",
       "      <td>0.362722</td>\n",
       "      <td>0.266400</td>\n",
       "      <td>0.107781</td>\n",
       "      <td>0.332587</td>\n",
       "      <td>...</td>\n",
       "      <td>0.277001</td>\n",
       "      <td>0.573238</td>\n",
       "      <td>0.395089</td>\n",
       "      <td>0.401621</td>\n",
       "      <td>0.150530</td>\n",
       "      <td>0.432319</td>\n",
       "      <td>0.356358</td>\n",
       "      <td>0.375728</td>\n",
       "      <td>0.300692</td>\n",
       "      <td>0.377594</td>\n",
       "    </tr>\n",
       "    <tr>\n",
       "      <th>JPM</th>\n",
       "      <td>0.420415</td>\n",
       "      <td>0.697026</td>\n",
       "      <td>0.477387</td>\n",
       "      <td>0.547842</td>\n",
       "      <td>0.528984</td>\n",
       "      <td>0.483397</td>\n",
       "      <td>0.551049</td>\n",
       "      <td>0.416023</td>\n",
       "      <td>0.299174</td>\n",
       "      <td>0.795976</td>\n",
       "      <td>...</td>\n",
       "      <td>0.316554</td>\n",
       "      <td>0.450882</td>\n",
       "      <td>0.181682</td>\n",
       "      <td>0.561541</td>\n",
       "      <td>0.211854</td>\n",
       "      <td>0.453367</td>\n",
       "      <td>0.485649</td>\n",
       "      <td>0.272750</td>\n",
       "      <td>0.234061</td>\n",
       "      <td>0.462835</td>\n",
       "    </tr>\n",
       "    <tr>\n",
       "      <th>KO</th>\n",
       "      <td>0.167535</td>\n",
       "      <td>0.303037</td>\n",
       "      <td>0.269440</td>\n",
       "      <td>0.278118</td>\n",
       "      <td>0.310582</td>\n",
       "      <td>0.274964</td>\n",
       "      <td>0.304494</td>\n",
       "      <td>0.274767</td>\n",
       "      <td>0.071012</td>\n",
       "      <td>0.195268</td>\n",
       "      <td>...</td>\n",
       "      <td>0.251223</td>\n",
       "      <td>0.419404</td>\n",
       "      <td>0.603342</td>\n",
       "      <td>0.448700</td>\n",
       "      <td>0.145813</td>\n",
       "      <td>0.319318</td>\n",
       "      <td>0.266348</td>\n",
       "      <td>0.406839</td>\n",
       "      <td>0.349051</td>\n",
       "      <td>0.342117</td>\n",
       "    </tr>\n",
       "    <tr>\n",
       "      <th>MCD</th>\n",
       "      <td>0.263731</td>\n",
       "      <td>0.289968</td>\n",
       "      <td>0.233326</td>\n",
       "      <td>0.293874</td>\n",
       "      <td>0.281097</td>\n",
       "      <td>0.273085</td>\n",
       "      <td>0.268189</td>\n",
       "      <td>0.192822</td>\n",
       "      <td>0.111794</td>\n",
       "      <td>0.255064</td>\n",
       "      <td>...</td>\n",
       "      <td>0.173665</td>\n",
       "      <td>0.284461</td>\n",
       "      <td>0.305508</td>\n",
       "      <td>0.334316</td>\n",
       "      <td>0.152759</td>\n",
       "      <td>0.340996</td>\n",
       "      <td>0.305363</td>\n",
       "      <td>0.247725</td>\n",
       "      <td>0.273985</td>\n",
       "      <td>0.288611</td>\n",
       "    </tr>\n",
       "    <tr>\n",
       "      <th>MMM</th>\n",
       "      <td>0.417269</td>\n",
       "      <td>0.514671</td>\n",
       "      <td>0.519624</td>\n",
       "      <td>0.626219</td>\n",
       "      <td>0.567098</td>\n",
       "      <td>0.417231</td>\n",
       "      <td>0.580642</td>\n",
       "      <td>0.404455</td>\n",
       "      <td>0.240041</td>\n",
       "      <td>0.498138</td>\n",
       "      <td>...</td>\n",
       "      <td>0.366603</td>\n",
       "      <td>0.529376</td>\n",
       "      <td>0.313772</td>\n",
       "      <td>0.531967</td>\n",
       "      <td>0.204636</td>\n",
       "      <td>0.491392</td>\n",
       "      <td>0.541810</td>\n",
       "      <td>0.244891</td>\n",
       "      <td>0.289327</td>\n",
       "      <td>0.465604</td>\n",
       "    </tr>\n",
       "    <tr>\n",
       "      <th>MRK</th>\n",
       "      <td>0.210688</td>\n",
       "      <td>0.295058</td>\n",
       "      <td>0.235074</td>\n",
       "      <td>0.273071</td>\n",
       "      <td>0.387476</td>\n",
       "      <td>0.331765</td>\n",
       "      <td>0.310477</td>\n",
       "      <td>0.318833</td>\n",
       "      <td>0.188431</td>\n",
       "      <td>0.342488</td>\n",
       "      <td>...</td>\n",
       "      <td>0.279236</td>\n",
       "      <td>0.546508</td>\n",
       "      <td>0.338034</td>\n",
       "      <td>0.375876</td>\n",
       "      <td>0.131254</td>\n",
       "      <td>0.357645</td>\n",
       "      <td>0.289938</td>\n",
       "      <td>0.383719</td>\n",
       "      <td>0.311707</td>\n",
       "      <td>0.358402</td>\n",
       "    </tr>\n",
       "    <tr>\n",
       "      <th>MSFT</th>\n",
       "      <td>0.633938</td>\n",
       "      <td>0.560415</td>\n",
       "      <td>0.492607</td>\n",
       "      <td>0.534272</td>\n",
       "      <td>0.675416</td>\n",
       "      <td>0.380540</td>\n",
       "      <td>0.498520</td>\n",
       "      <td>0.396188</td>\n",
       "      <td>0.198282</td>\n",
       "      <td>0.524396</td>\n",
       "      <td>...</td>\n",
       "      <td>0.393286</td>\n",
       "      <td>0.443402</td>\n",
       "      <td>0.201921</td>\n",
       "      <td>0.381811</td>\n",
       "      <td>0.346369</td>\n",
       "      <td>0.529480</td>\n",
       "      <td>0.779681</td>\n",
       "      <td>0.193101</td>\n",
       "      <td>0.242540</td>\n",
       "      <td>0.401025</td>\n",
       "    </tr>\n",
       "    <tr>\n",
       "      <th>NKE</th>\n",
       "      <td>0.314434</td>\n",
       "      <td>0.355376</td>\n",
       "      <td>0.319275</td>\n",
       "      <td>0.365572</td>\n",
       "      <td>0.405170</td>\n",
       "      <td>0.278293</td>\n",
       "      <td>0.389589</td>\n",
       "      <td>0.365192</td>\n",
       "      <td>0.151660</td>\n",
       "      <td>0.289447</td>\n",
       "      <td>...</td>\n",
       "      <td>1.000000</td>\n",
       "      <td>0.311111</td>\n",
       "      <td>0.199764</td>\n",
       "      <td>0.285711</td>\n",
       "      <td>0.267538</td>\n",
       "      <td>0.341250</td>\n",
       "      <td>0.379383</td>\n",
       "      <td>0.193849</td>\n",
       "      <td>0.260649</td>\n",
       "      <td>0.294442</td>\n",
       "    </tr>\n",
       "    <tr>\n",
       "      <th>PFE</th>\n",
       "      <td>0.325774</td>\n",
       "      <td>0.449624</td>\n",
       "      <td>0.332798</td>\n",
       "      <td>0.350984</td>\n",
       "      <td>0.498664</td>\n",
       "      <td>0.373741</td>\n",
       "      <td>0.417948</td>\n",
       "      <td>0.425598</td>\n",
       "      <td>0.229901</td>\n",
       "      <td>0.380418</td>\n",
       "      <td>...</td>\n",
       "      <td>0.311111</td>\n",
       "      <td>1.000000</td>\n",
       "      <td>0.350272</td>\n",
       "      <td>0.444002</td>\n",
       "      <td>0.156866</td>\n",
       "      <td>0.494852</td>\n",
       "      <td>0.436545</td>\n",
       "      <td>0.355032</td>\n",
       "      <td>0.329212</td>\n",
       "      <td>0.416618</td>\n",
       "    </tr>\n",
       "    <tr>\n",
       "      <th>PG</th>\n",
       "      <td>0.184285</td>\n",
       "      <td>0.291097</td>\n",
       "      <td>0.222823</td>\n",
       "      <td>0.226307</td>\n",
       "      <td>0.263034</td>\n",
       "      <td>0.246717</td>\n",
       "      <td>0.271773</td>\n",
       "      <td>0.273444</td>\n",
       "      <td>0.116441</td>\n",
       "      <td>0.171044</td>\n",
       "      <td>...</td>\n",
       "      <td>0.199764</td>\n",
       "      <td>0.350272</td>\n",
       "      <td>1.000000</td>\n",
       "      <td>0.302456</td>\n",
       "      <td>0.162533</td>\n",
       "      <td>0.226389</td>\n",
       "      <td>0.221087</td>\n",
       "      <td>0.374375</td>\n",
       "      <td>0.320979</td>\n",
       "      <td>0.297074</td>\n",
       "    </tr>\n",
       "    <tr>\n",
       "      <th>TRV</th>\n",
       "      <td>0.244458</td>\n",
       "      <td>0.482228</td>\n",
       "      <td>0.376340</td>\n",
       "      <td>0.409955</td>\n",
       "      <td>0.400338</td>\n",
       "      <td>0.368282</td>\n",
       "      <td>0.400851</td>\n",
       "      <td>0.346367</td>\n",
       "      <td>0.257772</td>\n",
       "      <td>0.491515</td>\n",
       "      <td>...</td>\n",
       "      <td>0.285711</td>\n",
       "      <td>0.444002</td>\n",
       "      <td>0.302456</td>\n",
       "      <td>1.000000</td>\n",
       "      <td>0.102607</td>\n",
       "      <td>0.406234</td>\n",
       "      <td>0.342994</td>\n",
       "      <td>0.335388</td>\n",
       "      <td>0.281377</td>\n",
       "      <td>0.418098</td>\n",
       "    </tr>\n",
       "    <tr>\n",
       "      <th>TSLA</th>\n",
       "      <td>0.305979</td>\n",
       "      <td>0.260879</td>\n",
       "      <td>0.231285</td>\n",
       "      <td>0.220450</td>\n",
       "      <td>0.289147</td>\n",
       "      <td>0.199944</td>\n",
       "      <td>0.253747</td>\n",
       "      <td>0.234608</td>\n",
       "      <td>0.159284</td>\n",
       "      <td>0.214076</td>\n",
       "      <td>...</td>\n",
       "      <td>0.267538</td>\n",
       "      <td>0.156866</td>\n",
       "      <td>0.162533</td>\n",
       "      <td>0.102607</td>\n",
       "      <td>1.000000</td>\n",
       "      <td>0.217561</td>\n",
       "      <td>0.326803</td>\n",
       "      <td>0.084998</td>\n",
       "      <td>0.172501</td>\n",
       "      <td>0.214539</td>\n",
       "    </tr>\n",
       "    <tr>\n",
       "      <th>UNH</th>\n",
       "      <td>0.439950</td>\n",
       "      <td>0.489366</td>\n",
       "      <td>0.454808</td>\n",
       "      <td>0.405835</td>\n",
       "      <td>0.449893</td>\n",
       "      <td>0.372461</td>\n",
       "      <td>0.433062</td>\n",
       "      <td>0.380989</td>\n",
       "      <td>0.220657</td>\n",
       "      <td>0.402486</td>\n",
       "      <td>...</td>\n",
       "      <td>0.341250</td>\n",
       "      <td>0.494852</td>\n",
       "      <td>0.226389</td>\n",
       "      <td>0.406234</td>\n",
       "      <td>0.217561</td>\n",
       "      <td>1.000000</td>\n",
       "      <td>0.516280</td>\n",
       "      <td>0.280428</td>\n",
       "      <td>0.323596</td>\n",
       "      <td>0.408438</td>\n",
       "    </tr>\n",
       "    <tr>\n",
       "      <th>V</th>\n",
       "      <td>0.624889</td>\n",
       "      <td>0.606204</td>\n",
       "      <td>0.551223</td>\n",
       "      <td>0.543888</td>\n",
       "      <td>0.650235</td>\n",
       "      <td>0.396711</td>\n",
       "      <td>0.529130</td>\n",
       "      <td>0.370350</td>\n",
       "      <td>0.201146</td>\n",
       "      <td>0.543776</td>\n",
       "      <td>...</td>\n",
       "      <td>0.379383</td>\n",
       "      <td>0.436545</td>\n",
       "      <td>0.221087</td>\n",
       "      <td>0.342994</td>\n",
       "      <td>0.326803</td>\n",
       "      <td>0.516280</td>\n",
       "      <td>1.000000</td>\n",
       "      <td>0.090550</td>\n",
       "      <td>0.262567</td>\n",
       "      <td>0.411369</td>\n",
       "    </tr>\n",
       "    <tr>\n",
       "      <th>VZ</th>\n",
       "      <td>0.054123</td>\n",
       "      <td>0.247454</td>\n",
       "      <td>0.193605</td>\n",
       "      <td>0.117306</td>\n",
       "      <td>0.252501</td>\n",
       "      <td>0.260597</td>\n",
       "      <td>0.206213</td>\n",
       "      <td>0.300670</td>\n",
       "      <td>0.175410</td>\n",
       "      <td>0.226925</td>\n",
       "      <td>...</td>\n",
       "      <td>0.193849</td>\n",
       "      <td>0.355032</td>\n",
       "      <td>0.374375</td>\n",
       "      <td>0.335388</td>\n",
       "      <td>0.084998</td>\n",
       "      <td>0.280428</td>\n",
       "      <td>0.090550</td>\n",
       "      <td>1.000000</td>\n",
       "      <td>0.291388</td>\n",
       "      <td>0.245565</td>\n",
       "    </tr>\n",
       "    <tr>\n",
       "      <th>WMT</th>\n",
       "      <td>0.241438</td>\n",
       "      <td>0.284904</td>\n",
       "      <td>0.272485</td>\n",
       "      <td>0.243363</td>\n",
       "      <td>0.335856</td>\n",
       "      <td>0.241336</td>\n",
       "      <td>0.261878</td>\n",
       "      <td>0.276689</td>\n",
       "      <td>0.132182</td>\n",
       "      <td>0.239565</td>\n",
       "      <td>...</td>\n",
       "      <td>0.260649</td>\n",
       "      <td>0.329212</td>\n",
       "      <td>0.320979</td>\n",
       "      <td>0.281377</td>\n",
       "      <td>0.172501</td>\n",
       "      <td>0.323596</td>\n",
       "      <td>0.262567</td>\n",
       "      <td>0.291388</td>\n",
       "      <td>1.000000</td>\n",
       "      <td>0.273793</td>\n",
       "    </tr>\n",
       "    <tr>\n",
       "      <th>XOM</th>\n",
       "      <td>0.345994</td>\n",
       "      <td>0.436743</td>\n",
       "      <td>0.411304</td>\n",
       "      <td>0.511474</td>\n",
       "      <td>0.432170</td>\n",
       "      <td>0.717439</td>\n",
       "      <td>0.484808</td>\n",
       "      <td>0.429753</td>\n",
       "      <td>0.246088</td>\n",
       "      <td>0.438362</td>\n",
       "      <td>...</td>\n",
       "      <td>0.294442</td>\n",
       "      <td>0.416618</td>\n",
       "      <td>0.297074</td>\n",
       "      <td>0.418098</td>\n",
       "      <td>0.214539</td>\n",
       "      <td>0.408438</td>\n",
       "      <td>0.411369</td>\n",
       "      <td>0.245565</td>\n",
       "      <td>0.273793</td>\n",
       "      <td>1.000000</td>\n",
       "    </tr>\n",
       "  </tbody>\n",
       "</table>\n",
       "<p>30 rows × 30 columns</p>\n",
       "</div>"
      ],
      "text/plain": [
       "Symbols      AAPL       AXP        BA       CAT      CSCO       CVX        DD  \\\n",
       "Symbols                                                                         \n",
       "AAPL     1.000000  0.438358  0.434415  0.425506  0.535621  0.306547  0.451225   \n",
       "AXP      0.438358  1.000000  0.466358  0.516736  0.530124  0.433046  0.530347   \n",
       "BA       0.434415  0.466358  1.000000  0.563445  0.479439  0.420814  0.520823   \n",
       "CAT      0.425506  0.516736  0.563445  1.000000  0.519472  0.514150  0.653575   \n",
       "CSCO     0.535621  0.530124  0.479439  0.519472  1.000000  0.422066  0.516811   \n",
       "CVX      0.306547  0.433046  0.420814  0.514150  0.422066  1.000000  0.474843   \n",
       "DD       0.451225  0.530347  0.520823  0.653575  0.516811  0.474843  1.000000   \n",
       "DIS      0.379904  0.423082  0.351696  0.360866  0.429900  0.347930  0.423117   \n",
       "GE       0.207276  0.293397  0.229071  0.217550  0.236964  0.274401  0.248793   \n",
       "GS       0.463790  0.628774  0.480498  0.535999  0.512769  0.453749  0.559004   \n",
       "HD       0.390361  0.529013  0.452214  0.498838  0.503355  0.415262  0.534584   \n",
       "IBM      0.349071  0.418751  0.371634  0.381707  0.473494  0.330235  0.430511   \n",
       "INTC     0.489135  0.381069  0.388942  0.450437  0.558278  0.294656  0.439885   \n",
       "JNJ      0.256733  0.382137  0.326036  0.284535  0.441754  0.320503  0.362722   \n",
       "JPM      0.420415  0.697026  0.477387  0.547842  0.528984  0.483397  0.551049   \n",
       "KO       0.167535  0.303037  0.269440  0.278118  0.310582  0.274964  0.304494   \n",
       "MCD      0.263731  0.289968  0.233326  0.293874  0.281097  0.273085  0.268189   \n",
       "MMM      0.417269  0.514671  0.519624  0.626219  0.567098  0.417231  0.580642   \n",
       "MRK      0.210688  0.295058  0.235074  0.273071  0.387476  0.331765  0.310477   \n",
       "MSFT     0.633938  0.560415  0.492607  0.534272  0.675416  0.380540  0.498520   \n",
       "NKE      0.314434  0.355376  0.319275  0.365572  0.405170  0.278293  0.389589   \n",
       "PFE      0.325774  0.449624  0.332798  0.350984  0.498664  0.373741  0.417948   \n",
       "PG       0.184285  0.291097  0.222823  0.226307  0.263034  0.246717  0.271773   \n",
       "TRV      0.244458  0.482228  0.376340  0.409955  0.400338  0.368282  0.400851   \n",
       "TSLA     0.305979  0.260879  0.231285  0.220450  0.289147  0.199944  0.253747   \n",
       "UNH      0.439950  0.489366  0.454808  0.405835  0.449893  0.372461  0.433062   \n",
       "V        0.624889  0.606204  0.551223  0.543888  0.650235  0.396711  0.529130   \n",
       "VZ       0.054123  0.247454  0.193605  0.117306  0.252501  0.260597  0.206213   \n",
       "WMT      0.241438  0.284904  0.272485  0.243363  0.335856  0.241336  0.261878   \n",
       "XOM      0.345994  0.436743  0.411304  0.511474  0.432170  0.717439  0.484808   \n",
       "\n",
       "Symbols       DIS        GE        GS  ...       NKE       PFE        PG  \\\n",
       "Symbols                                ...                                 \n",
       "AAPL     0.379904  0.207276  0.463790  ...  0.314434  0.325774  0.184285   \n",
       "AXP      0.423082  0.293397  0.628774  ...  0.355376  0.449624  0.291097   \n",
       "BA       0.351696  0.229071  0.480498  ...  0.319275  0.332798  0.222823   \n",
       "CAT      0.360866  0.217550  0.535999  ...  0.365572  0.350984  0.226307   \n",
       "CSCO     0.429900  0.236964  0.512769  ...  0.405170  0.498664  0.263034   \n",
       "CVX      0.347930  0.274401  0.453749  ...  0.278293  0.373741  0.246717   \n",
       "DD       0.423117  0.248793  0.559004  ...  0.389589  0.417948  0.271773   \n",
       "DIS      1.000000  0.291272  0.415233  ...  0.365192  0.425598  0.273444   \n",
       "GE       0.291272  1.000000  0.313050  ...  0.151660  0.229901  0.116441   \n",
       "GS       0.415233  0.313050  1.000000  ...  0.289447  0.380418  0.171044   \n",
       "HD       0.358068  0.209654  0.455201  ...  0.410294  0.414699  0.315794   \n",
       "IBM      0.377185  0.297152  0.373912  ...  0.290318  0.368804  0.249428   \n",
       "INTC     0.382392  0.090478  0.399215  ...  0.326554  0.375919  0.180859   \n",
       "JNJ      0.266400  0.107781  0.332587  ...  0.277001  0.573238  0.395089   \n",
       "JPM      0.416023  0.299174  0.795976  ...  0.316554  0.450882  0.181682   \n",
       "KO       0.274767  0.071012  0.195268  ...  0.251223  0.419404  0.603342   \n",
       "MCD      0.192822  0.111794  0.255064  ...  0.173665  0.284461  0.305508   \n",
       "MMM      0.404455  0.240041  0.498138  ...  0.366603  0.529376  0.313772   \n",
       "MRK      0.318833  0.188431  0.342488  ...  0.279236  0.546508  0.338034   \n",
       "MSFT     0.396188  0.198282  0.524396  ...  0.393286  0.443402  0.201921   \n",
       "NKE      0.365192  0.151660  0.289447  ...  1.000000  0.311111  0.199764   \n",
       "PFE      0.425598  0.229901  0.380418  ...  0.311111  1.000000  0.350272   \n",
       "PG       0.273444  0.116441  0.171044  ...  0.199764  0.350272  1.000000   \n",
       "TRV      0.346367  0.257772  0.491515  ...  0.285711  0.444002  0.302456   \n",
       "TSLA     0.234608  0.159284  0.214076  ...  0.267538  0.156866  0.162533   \n",
       "UNH      0.380989  0.220657  0.402486  ...  0.341250  0.494852  0.226389   \n",
       "V        0.370350  0.201146  0.543776  ...  0.379383  0.436545  0.221087   \n",
       "VZ       0.300670  0.175410  0.226925  ...  0.193849  0.355032  0.374375   \n",
       "WMT      0.276689  0.132182  0.239565  ...  0.260649  0.329212  0.320979   \n",
       "XOM      0.429753  0.246088  0.438362  ...  0.294442  0.416618  0.297074   \n",
       "\n",
       "Symbols       TRV      TSLA       UNH         V        VZ       WMT       XOM  \n",
       "Symbols                                                                        \n",
       "AAPL     0.244458  0.305979  0.439950  0.624889  0.054123  0.241438  0.345994  \n",
       "AXP      0.482228  0.260879  0.489366  0.606204  0.247454  0.284904  0.436743  \n",
       "BA       0.376340  0.231285  0.454808  0.551223  0.193605  0.272485  0.411304  \n",
       "CAT      0.409955  0.220450  0.405835  0.543888  0.117306  0.243363  0.511474  \n",
       "CSCO     0.400338  0.289147  0.449893  0.650235  0.252501  0.335856  0.432170  \n",
       "CVX      0.368282  0.199944  0.372461  0.396711  0.260597  0.241336  0.717439  \n",
       "DD       0.400851  0.253747  0.433062  0.529130  0.206213  0.261878  0.484808  \n",
       "DIS      0.346367  0.234608  0.380989  0.370350  0.300670  0.276689  0.429753  \n",
       "GE       0.257772  0.159284  0.220657  0.201146  0.175410  0.132182  0.246088  \n",
       "GS       0.491515  0.214076  0.402486  0.543776  0.226925  0.239565  0.438362  \n",
       "HD       0.391920  0.228893  0.443693  0.536921  0.270551  0.380333  0.407139  \n",
       "IBM      0.363291  0.208630  0.427692  0.462620  0.233881  0.247852  0.343104  \n",
       "INTC     0.339294  0.240340  0.394132  0.517384  0.180195  0.230029  0.347588  \n",
       "JNJ      0.401621  0.150530  0.432319  0.356358  0.375728  0.300692  0.377594  \n",
       "JPM      0.561541  0.211854  0.453367  0.485649  0.272750  0.234061  0.462835  \n",
       "KO       0.448700  0.145813  0.319318  0.266348  0.406839  0.349051  0.342117  \n",
       "MCD      0.334316  0.152759  0.340996  0.305363  0.247725  0.273985  0.288611  \n",
       "MMM      0.531967  0.204636  0.491392  0.541810  0.244891  0.289327  0.465604  \n",
       "MRK      0.375876  0.131254  0.357645  0.289938  0.383719  0.311707  0.358402  \n",
       "MSFT     0.381811  0.346369  0.529480  0.779681  0.193101  0.242540  0.401025  \n",
       "NKE      0.285711  0.267538  0.341250  0.379383  0.193849  0.260649  0.294442  \n",
       "PFE      0.444002  0.156866  0.494852  0.436545  0.355032  0.329212  0.416618  \n",
       "PG       0.302456  0.162533  0.226389  0.221087  0.374375  0.320979  0.297074  \n",
       "TRV      1.000000  0.102607  0.406234  0.342994  0.335388  0.281377  0.418098  \n",
       "TSLA     0.102607  1.000000  0.217561  0.326803  0.084998  0.172501  0.214539  \n",
       "UNH      0.406234  0.217561  1.000000  0.516280  0.280428  0.323596  0.408438  \n",
       "V        0.342994  0.326803  0.516280  1.000000  0.090550  0.262567  0.411369  \n",
       "VZ       0.335388  0.084998  0.280428  0.090550  1.000000  0.291388  0.245565  \n",
       "WMT      0.281377  0.172501  0.323596  0.262567  0.291388  1.000000  0.273793  \n",
       "XOM      0.418098  0.214539  0.408438  0.411369  0.245565  0.273793  1.000000  \n",
       "\n",
       "[30 rows x 30 columns]"
      ]
     },
     "execution_count": 49,
     "metadata": {},
     "output_type": "execute_result"
    }
   ],
   "source": [
    "df.corr()"
   ]
  },
  {
   "cell_type": "code",
   "execution_count": 50,
   "id": "81832d5e",
   "metadata": {},
   "outputs": [
    {
     "data": {
      "image/png": "[encoded data removed]",
      "text/plain": [
       "<Figure size 432x288 with 1 Axes>"
      ]
     },
     "metadata": {
      "needs_background": "light"
     },
     "output_type": "display_data"
    }
   ],
   "source": [
    "df.corr()['AAPL'].plot(kind='bar');"
   ]
  },
  {
   "cell_type": "markdown",
   "id": "162adabd",
   "metadata": {},
   "source": [
    "# Portfolio Variance\n",
    "$$\\sigma^2(R_p) = w_1w_1\\sigma^2(R_1) + w_1w_2COV(R_1,R_2) + w_2w_2\\sigma^2(R_2) + w_2w_1COV(R_1,R_2)$$\n",
    "$$\\sigma^2(R_p) = \\sum_{i=1}^n\\sum_{j=1}^nw_iw_jCOV(R_i, R_j)$$"
   ]
  },
  {
   "cell_type": "markdown",
   "id": "25aac12b",
   "metadata": {},
   "source": [
    "# Portfolio Standard Deviation\n",
    "$$\\sigma(R_p) = \\sqrt{\\sigma^2(R_p)}$$"
   ]
  },
  {
   "cell_type": "code",
   "execution_count": 51,
   "id": "fb32bbc6",
   "metadata": {},
   "outputs": [],
   "source": [
    "expire_after = datetime.timedelta(days=3)\n",
    "session = requests_cache.CachedSession(cache_name='cache', backend='sqlite', expire_after=expire_after)\n",
    "session.headers = DEFAULT_HEADERS\n",
    "\n",
    "start = datetime.datetime(2000, 1, 1)\n",
    "\n",
    "end = datetime.datetime(2018, 12, 31)\n",
    "f = web.DataReader(['AAPL','NKE'], 'yahoo', start, end, session=session)"
   ]
  },
  {
   "cell_type": "code",
   "execution_count": 52,
   "id": "f847d8c4",
   "metadata": {},
   "outputs": [],
   "source": [
    "df1= f['Adj Close'].pct_change().apply(lambda x : np.log(1+x))"
   ]
  },
  {
   "cell_type": "code",
   "execution_count": 53,
   "id": "7a67293a",
   "metadata": {},
   "outputs": [],
   "source": [
    "cov_matrix = df1.cov()"
   ]
  },
  {
   "cell_type": "code",
   "execution_count": 54,
   "id": "e9d0fdeb",
   "metadata": {},
   "outputs": [],
   "source": [
    "w = {'AAPL' : .75 , 'NKE' : .25 }"
   ]
  },
  {
   "cell_type": "code",
   "execution_count": 55,
   "id": "8296325c",
   "metadata": {},
   "outputs": [],
   "source": [
    "#portfolio variance\n",
    "\n",
    "p_var = cov_matrix.mul(w, axis=0).mul(w,axis=1).sum().sum()"
   ]
  },
  {
   "cell_type": "code",
   "execution_count": 56,
   "id": "e314435d",
   "metadata": {},
   "outputs": [
    {
     "data": {
      "text/plain": [
       "0.0004767950063818433"
      ]
     },
     "execution_count": 56,
     "metadata": {},
     "output_type": "execute_result"
    }
   ],
   "source": [
    "p_var"
   ]
  },
  {
   "cell_type": "code",
   "execution_count": 57,
   "id": "59bd3578",
   "metadata": {},
   "outputs": [
    {
     "data": {
      "text/plain": [
       "0.02183563615702193"
      ]
     },
     "execution_count": 57,
     "metadata": {},
     "output_type": "execute_result"
    }
   ],
   "source": [
    "# portfolio standard deviation\n",
    "\n",
    "p_sd = np.sqrt(p_var)\n",
    "p_sd"
   ]
  },
  {
   "cell_type": "code",
   "execution_count": 58,
   "id": "184ecbb0",
   "metadata": {},
   "outputs": [
    {
     "data": {
      "text/plain": [
       "0.34525172207457683"
      ]
     },
     "execution_count": 58,
     "metadata": {},
     "output_type": "execute_result"
    }
   ],
   "source": [
    "# multiply by 250 trading days for annualised vol\n",
    "\n",
    "ann_p_sd = p_sd*np.sqrt(250)\n",
    "ann_p_sd"
   ]
  },
  {
   "cell_type": "markdown",
   "id": "038f4fdc",
   "metadata": {},
   "source": [
    "# portfolio variance part II\n"
   ]
  },
  {
   "cell_type": "code",
   "execution_count": 59,
   "id": "91a9564d",
   "metadata": {},
   "outputs": [
    {
     "data": {
      "text/plain": [
       "Symbols\n",
       "AAPL    0.026857\n",
       "NKE     0.018916\n",
       "dtype: float64"
      ]
     },
     "execution_count": 59,
     "metadata": {},
     "output_type": "execute_result"
    }
   ],
   "source": [
    "sd = df1.std()\n",
    "sd"
   ]
  },
  {
   "cell_type": "code",
   "execution_count": 60,
   "id": "c50dc81c",
   "metadata": {},
   "outputs": [
    {
     "data": {
      "text/plain": [
       "0.2556550287369516"
      ]
     },
     "execution_count": 60,
     "metadata": {},
     "output_type": "execute_result"
    }
   ],
   "source": [
    "df1['AAPL'].corr(df1['NKE'])"
   ]
  },
  {
   "cell_type": "code",
   "execution_count": 61,
   "id": "6e55db3c",
   "metadata": {},
   "outputs": [
    {
     "data": {
      "text/plain": [
       "0.00047571765596501653"
      ]
     },
     "execution_count": 61,
     "metadata": {},
     "output_type": "execute_result"
    }
   ],
   "source": [
    "# .25 is used as an arbitrary number. \n",
    "# but this number represents correlation of e 2 stocks\n",
    "p_var = w['AAPL']**2*sd['AAPL']**2+w['NKE']**2*sd['NKE']**2\\\n",
    "        +2*w['AAPL']*w['NKE']*.25*sd['AAPL']*sd['NKE']\n",
    "p_var"
   ]
  },
  {
   "cell_type": "code",
   "execution_count": 62,
   "id": "e0e58520",
   "metadata": {},
   "outputs": [
    {
     "data": {
      "text/plain": [
       "0.344861441728782"
      ]
     },
     "execution_count": 62,
     "metadata": {},
     "output_type": "execute_result"
    }
   ],
   "source": [
    "ann_p_sd = (p_var*250)**.5\n",
    "ann_p_sd"
   ]
  },
  {
   "cell_type": "code",
   "execution_count": 63,
   "id": "0773d1b9",
   "metadata": {},
   "outputs": [
    {
     "data": {
      "text/plain": [
       "array([-1.        , -0.77777778, -0.55555556, -0.33333333, -0.11111111,\n",
       "        0.11111111,  0.33333333,  0.55555556,  0.77777778,  1.        ])"
      ]
     },
     "execution_count": 63,
     "metadata": {},
     "output_type": "execute_result"
    }
   ],
   "source": [
    "np.linspace(-1,1,10)"
   ]
  },
  {
   "cell_type": "code",
   "execution_count": 64,
   "id": "2f3a1f0e",
   "metadata": {},
   "outputs": [
    {
     "data": {
      "text/plain": [
       "[0.24370973941380672,\n",
       " 0.26453437012903425,\n",
       " 0.2838352142951684,\n",
       " 0.30190466172022495,\n",
       " 0.3189520664031239,\n",
       " 0.3351334309752491,\n",
       " 0.3505686986193453,\n",
       " 0.36535244401273775,\n",
       " 0.37956080440490686,\n",
       " 0.39325615079095616]"
      ]
     },
     "execution_count": 64,
     "metadata": {},
     "output_type": "execute_result"
    }
   ],
   "source": [
    "p_vol = []\n",
    "for corr in np.linspace(-1,1,10):\n",
    "    p_var = w['AAPL']**2*sd['AAPL']**2+w['NKE']**2*sd['NKE']**2\\\n",
    "        +2*w['AAPL']*w['NKE']*corr*sd['AAPL']*sd['NKE']\n",
    "    ann_p_sd = np.sqrt(p_var*250)\n",
    "    p_vol.append(ann_p_sd)\n",
    "p_vol"
   ]
  },
  {
   "cell_type": "markdown",
   "id": "d333ce5e",
   "metadata": {},
   "source": [
    "---\n",
    "\n",
    "# Portfolio Expected Return\n",
    "$$E(R_p) = w_1E(R_1) + w_2E(R_2) + ... + w_nE(R_n)$$"
   ]
  },
  {
   "cell_type": "code",
   "execution_count": 65,
   "id": "2024e881",
   "metadata": {},
   "outputs": [
    {
     "data": {
      "text/html": [
       "<div>\n",
       "<style scoped>\n",
       "    .dataframe tbody tr th:only-of-type {\n",
       "        vertical-align: middle;\n",
       "    }\n",
       "\n",
       "    .dataframe tbody tr th {\n",
       "        vertical-align: top;\n",
       "    }\n",
       "\n",
       "    .dataframe thead th {\n",
       "        text-align: right;\n",
       "    }\n",
       "</style>\n",
       "<table border=\"1\" class=\"dataframe\">\n",
       "  <thead>\n",
       "    <tr style=\"text-align: right;\">\n",
       "      <th>Symbols</th>\n",
       "      <th>AAPL</th>\n",
       "      <th>NKE</th>\n",
       "    </tr>\n",
       "    <tr>\n",
       "      <th>Date</th>\n",
       "      <th></th>\n",
       "      <th></th>\n",
       "    </tr>\n",
       "  </thead>\n",
       "  <tbody>\n",
       "    <tr>\n",
       "      <th>1999-12-31</th>\n",
       "      <td>NaN</td>\n",
       "      <td>NaN</td>\n",
       "    </tr>\n",
       "    <tr>\n",
       "      <th>2000-12-31</th>\n",
       "      <td>-0.710638</td>\n",
       "      <td>0.133159</td>\n",
       "    </tr>\n",
       "    <tr>\n",
       "      <th>2001-12-31</th>\n",
       "      <td>0.472268</td>\n",
       "      <td>0.013130</td>\n",
       "    </tr>\n",
       "    <tr>\n",
       "      <th>2002-12-31</th>\n",
       "      <td>-0.345661</td>\n",
       "      <td>-0.205159</td>\n",
       "    </tr>\n",
       "    <tr>\n",
       "      <th>2003-12-31</th>\n",
       "      <td>0.491275</td>\n",
       "      <td>0.548008</td>\n",
       "    </tr>\n",
       "  </tbody>\n",
       "</table>\n",
       "</div>"
      ],
      "text/plain": [
       "Symbols         AAPL       NKE\n",
       "Date                          \n",
       "1999-12-31       NaN       NaN\n",
       "2000-12-31 -0.710638  0.133159\n",
       "2001-12-31  0.472268  0.013130\n",
       "2002-12-31 -0.345661 -0.205159\n",
       "2003-12-31  0.491275  0.548008"
      ]
     },
     "execution_count": 65,
     "metadata": {},
     "output_type": "execute_result"
    }
   ],
   "source": [
    "df = f['Adj Close'].resample('Y').last().pct_change()\n",
    "df.head()"
   ]
  },
  {
   "cell_type": "code",
   "execution_count": 66,
   "id": "50bdc5d3",
   "metadata": {},
   "outputs": [
    {
     "data": {
      "text/plain": [
       "Symbols\n",
       "AAPL    0.404866\n",
       "NKE     0.172771\n",
       "dtype: float64"
      ]
     },
     "execution_count": 66,
     "metadata": {},
     "output_type": "execute_result"
    }
   ],
   "source": [
    "e_r = df.mean()\n",
    "e_r"
   ]
  },
  {
   "cell_type": "code",
   "execution_count": 67,
   "id": "5373e5ae",
   "metadata": {},
   "outputs": [
    {
     "data": {
      "text/plain": [
       "0.34684270459090755"
      ]
     },
     "execution_count": 67,
     "metadata": {},
     "output_type": "execute_result"
    }
   ],
   "source": [
    "w = [.75,.25]\n",
    "(e_r*w).sum()"
   ]
  },
  {
   "cell_type": "code",
   "execution_count": 68,
   "id": "108cc89b",
   "metadata": {},
   "outputs": [
    {
     "data": {
      "text/plain": [
       "0.34684270459090755"
      ]
     },
     "execution_count": 68,
     "metadata": {},
     "output_type": "execute_result"
    }
   ],
   "source": [
    "# exp return by multiplying weights and stock exp return then sum\n",
    "\n",
    "np.dot(w,e_r)"
   ]
  },
  {
   "cell_type": "markdown",
   "id": "e84de787",
   "metadata": {},
   "source": [
    "---\n",
    "# Efficient Frontier"
   ]
  },
  {
   "cell_type": "code",
   "execution_count": 69,
   "id": "faf5235e",
   "metadata": {
    "scrolled": true
   },
   "outputs": [
    {
     "data": {
      "text/html": [
       "<div>\n",
       "<style scoped>\n",
       "    .dataframe tbody tr th:only-of-type {\n",
       "        vertical-align: middle;\n",
       "    }\n",
       "\n",
       "    .dataframe tbody tr th {\n",
       "        vertical-align: top;\n",
       "    }\n",
       "\n",
       "    .dataframe thead th {\n",
       "        text-align: right;\n",
       "    }\n",
       "</style>\n",
       "<table border=\"1\" class=\"dataframe\">\n",
       "  <thead>\n",
       "    <tr style=\"text-align: right;\">\n",
       "      <th>Symbols</th>\n",
       "      <th>AAPL</th>\n",
       "      <th>NKE</th>\n",
       "    </tr>\n",
       "    <tr>\n",
       "      <th>Symbols</th>\n",
       "      <th></th>\n",
       "      <th></th>\n",
       "    </tr>\n",
       "  </thead>\n",
       "  <tbody>\n",
       "    <tr>\n",
       "      <th>AAPL</th>\n",
       "      <td>0.000721</td>\n",
       "      <td>0.000130</td>\n",
       "    </tr>\n",
       "    <tr>\n",
       "      <th>NKE</th>\n",
       "      <td>0.000130</td>\n",
       "      <td>0.000358</td>\n",
       "    </tr>\n",
       "  </tbody>\n",
       "</table>\n",
       "</div>"
      ],
      "text/plain": [
       "Symbols      AAPL       NKE\n",
       "Symbols                    \n",
       "AAPL     0.000721  0.000130\n",
       "NKE      0.000130  0.000358"
      ]
     },
     "execution_count": 69,
     "metadata": {},
     "output_type": "execute_result"
    }
   ],
   "source": [
    "cov_matrix"
   ]
  },
  {
   "cell_type": "code",
   "execution_count": 70,
   "id": "9b4f4ea2",
   "metadata": {},
   "outputs": [
    {
     "data": {
      "text/plain": [
       "Symbols\n",
       "AAPL    0.424644\n",
       "NKE     0.299093\n",
       "dtype: float64"
      ]
     },
     "execution_count": 70,
     "metadata": {},
     "output_type": "execute_result"
    }
   ],
   "source": [
    "sd = sd.apply(lambda x:x*np.sqrt(250))\n",
    "sd"
   ]
  },
  {
   "cell_type": "code",
   "execution_count": 71,
   "id": "33aa1c15",
   "metadata": {},
   "outputs": [
    {
     "data": {
      "text/html": [
       "<div>\n",
       "<style scoped>\n",
       "    .dataframe tbody tr th:only-of-type {\n",
       "        vertical-align: middle;\n",
       "    }\n",
       "\n",
       "    .dataframe tbody tr th {\n",
       "        vertical-align: top;\n",
       "    }\n",
       "\n",
       "    .dataframe thead th {\n",
       "        text-align: right;\n",
       "    }\n",
       "</style>\n",
       "<table border=\"1\" class=\"dataframe\">\n",
       "  <thead>\n",
       "    <tr style=\"text-align: right;\">\n",
       "      <th></th>\n",
       "      <th>returns</th>\n",
       "      <th>volatility</th>\n",
       "    </tr>\n",
       "    <tr>\n",
       "      <th>Symbols</th>\n",
       "      <th></th>\n",
       "      <th></th>\n",
       "    </tr>\n",
       "  </thead>\n",
       "  <tbody>\n",
       "    <tr>\n",
       "      <th>AAPL</th>\n",
       "      <td>0.404866</td>\n",
       "      <td>0.424644</td>\n",
       "    </tr>\n",
       "    <tr>\n",
       "      <th>NKE</th>\n",
       "      <td>0.172771</td>\n",
       "      <td>0.299093</td>\n",
       "    </tr>\n",
       "  </tbody>\n",
       "</table>\n",
       "</div>"
      ],
      "text/plain": [
       "          returns  volatility\n",
       "Symbols                      \n",
       "AAPL     0.404866    0.424644\n",
       "NKE      0.172771    0.299093"
      ]
     },
     "execution_count": 71,
     "metadata": {},
     "output_type": "execute_result"
    }
   ],
   "source": [
    "assets = pd.concat([e_r,sd],axis = 1)\n",
    "assets.columns = ['returns','volatility']\n",
    "assets"
   ]
  },
  {
   "cell_type": "code",
   "execution_count": 72,
   "id": "e8ade544",
   "metadata": {},
   "outputs": [],
   "source": [
    "p_ret = []\n",
    "p_weights = []\n",
    "p_vol = []\n",
    "\n",
    "num_portfolios = 1\n",
    "\n",
    "for portfolio in range(num_portfolios):\n",
    "    weights = [.25,.75]\n",
    "    p_weights.append(weights)\n",
    "    \n",
    "    returns = np.dot(weights,e_r)\n",
    "    p_ret.append(returns)\n",
    "    \n",
    "    var = cov_matrix.mul(weights,axis=0).mul(weights,axis=1).sum().sum()\n",
    "    ann_sd = np.sqrt(var*250)\n",
    "    p_vol.append(ann_sd)\n",
    "    \n",
    "data = {'returns': p_ret, 'volatility': p_vol}"
   ]
  },
  {
   "cell_type": "code",
   "execution_count": 73,
   "id": "1c78e9c1",
   "metadata": {},
   "outputs": [
    {
     "data": {
      "text/html": [
       "<div>\n",
       "<style scoped>\n",
       "    .dataframe tbody tr th:only-of-type {\n",
       "        vertical-align: middle;\n",
       "    }\n",
       "\n",
       "    .dataframe tbody tr th {\n",
       "        vertical-align: top;\n",
       "    }\n",
       "\n",
       "    .dataframe thead th {\n",
       "        text-align: right;\n",
       "    }\n",
       "</style>\n",
       "<table border=\"1\" class=\"dataframe\">\n",
       "  <thead>\n",
       "    <tr style=\"text-align: right;\">\n",
       "      <th></th>\n",
       "      <th>returns</th>\n",
       "      <th>volatility</th>\n",
       "    </tr>\n",
       "  </thead>\n",
       "  <tbody>\n",
       "    <tr>\n",
       "      <th>portfolio1</th>\n",
       "      <td>0.230795</td>\n",
       "      <td>0.271599</td>\n",
       "    </tr>\n",
       "  </tbody>\n",
       "</table>\n",
       "</div>"
      ],
      "text/plain": [
       "             returns  volatility\n",
       "portfolio1  0.230795    0.271599"
      ]
     },
     "execution_count": 73,
     "metadata": {},
     "output_type": "execute_result"
    }
   ],
   "source": [
    "portfolios = pd.DataFrame(data)\n",
    "portfolios.index = ['portfolio1']\n",
    "portfolios"
   ]
  },
  {
   "cell_type": "code",
   "execution_count": 74,
   "id": "e1a013a0",
   "metadata": {},
   "outputs": [
    {
     "data": {
      "text/html": [
       "<div>\n",
       "<style scoped>\n",
       "    .dataframe tbody tr th:only-of-type {\n",
       "        vertical-align: middle;\n",
       "    }\n",
       "\n",
       "    .dataframe tbody tr th {\n",
       "        vertical-align: top;\n",
       "    }\n",
       "\n",
       "    .dataframe thead th {\n",
       "        text-align: right;\n",
       "    }\n",
       "</style>\n",
       "<table border=\"1\" class=\"dataframe\">\n",
       "  <thead>\n",
       "    <tr style=\"text-align: right;\">\n",
       "      <th></th>\n",
       "      <th>returns</th>\n",
       "      <th>volatility</th>\n",
       "    </tr>\n",
       "  </thead>\n",
       "  <tbody>\n",
       "    <tr>\n",
       "      <th>portfolio1</th>\n",
       "      <td>0.230795</td>\n",
       "      <td>0.271599</td>\n",
       "    </tr>\n",
       "    <tr>\n",
       "      <th>AAPL</th>\n",
       "      <td>0.404866</td>\n",
       "      <td>0.424644</td>\n",
       "    </tr>\n",
       "    <tr>\n",
       "      <th>NKE</th>\n",
       "      <td>0.172771</td>\n",
       "      <td>0.299093</td>\n",
       "    </tr>\n",
       "  </tbody>\n",
       "</table>\n",
       "</div>"
      ],
      "text/plain": [
       "             returns  volatility\n",
       "portfolio1  0.230795    0.271599\n",
       "AAPL        0.404866    0.424644\n",
       "NKE         0.172771    0.299093"
      ]
     },
     "execution_count": 74,
     "metadata": {},
     "output_type": "execute_result"
    }
   ],
   "source": [
    "op_space = pd.concat([portfolios,assets])\n",
    "op_space"
   ]
  },
  {
   "cell_type": "code",
   "execution_count": 75,
   "id": "f7227428",
   "metadata": {},
   "outputs": [
    {
     "data": {
      "image/png": "[encoded data removed]",
      "text/plain": [
       "<Figure size 432x288 with 1 Axes>"
      ]
     },
     "metadata": {
      "needs_background": "light"
     },
     "output_type": "display_data"
    }
   ],
   "source": [
    "op_space.plot.scatter(x='volatility',y='returns',grid=True);"
   ]
  },
  {
   "cell_type": "markdown",
   "id": "769f1d24",
   "metadata": {},
   "source": [
    "# Efficient Frontier II"
   ]
  },
  {
   "cell_type": "code",
   "execution_count": 76,
   "id": "3fba19a4",
   "metadata": {},
   "outputs": [],
   "source": [
    "expire_after = datetime.timedelta(days=3)\n",
    "session = requests_cache.CachedSession(cache_name='cache', backend='sqlite', expire_after=expire_after)\n",
    "session.headers = DEFAULT_HEADERS\n",
    "\n",
    "start = datetime.datetime(2000, 1, 1)\n",
    "\n",
    "end = datetime.datetime(2018, 12, 31)\n",
    "f = web.DataReader(['AAPL','KO','NKE'], 'yahoo', start, end, session=session)"
   ]
  },
  {
   "cell_type": "code",
   "execution_count": 77,
   "id": "c1ce1b79",
   "metadata": {},
   "outputs": [
    {
     "data": {
      "text/html": [
       "<div>\n",
       "<style scoped>\n",
       "    .dataframe tbody tr th:only-of-type {\n",
       "        vertical-align: middle;\n",
       "    }\n",
       "\n",
       "    .dataframe tbody tr th {\n",
       "        vertical-align: top;\n",
       "    }\n",
       "\n",
       "    .dataframe thead th {\n",
       "        text-align: right;\n",
       "    }\n",
       "</style>\n",
       "<table border=\"1\" class=\"dataframe\">\n",
       "  <thead>\n",
       "    <tr style=\"text-align: right;\">\n",
       "      <th>Symbols</th>\n",
       "      <th>AAPL</th>\n",
       "      <th>KO</th>\n",
       "      <th>NKE</th>\n",
       "    </tr>\n",
       "    <tr>\n",
       "      <th>Symbols</th>\n",
       "      <th></th>\n",
       "      <th></th>\n",
       "      <th></th>\n",
       "    </tr>\n",
       "  </thead>\n",
       "  <tbody>\n",
       "    <tr>\n",
       "      <th>AAPL</th>\n",
       "      <td>0.000721</td>\n",
       "      <td>0.000064</td>\n",
       "      <td>0.000130</td>\n",
       "    </tr>\n",
       "    <tr>\n",
       "      <th>KO</th>\n",
       "      <td>0.000064</td>\n",
       "      <td>0.000168</td>\n",
       "      <td>0.000075</td>\n",
       "    </tr>\n",
       "    <tr>\n",
       "      <th>NKE</th>\n",
       "      <td>0.000130</td>\n",
       "      <td>0.000075</td>\n",
       "      <td>0.000358</td>\n",
       "    </tr>\n",
       "  </tbody>\n",
       "</table>\n",
       "</div>"
      ],
      "text/plain": [
       "Symbols      AAPL        KO       NKE\n",
       "Symbols                              \n",
       "AAPL     0.000721  0.000064  0.000130\n",
       "KO       0.000064  0.000168  0.000075\n",
       "NKE      0.000130  0.000075  0.000358"
      ]
     },
     "execution_count": 77,
     "metadata": {},
     "output_type": "execute_result"
    }
   ],
   "source": [
    "cov_matrix =f['Close'].pct_change().apply(lambda x: np.log(1+x)).cov()\n",
    "cov_matrix"
   ]
  },
  {
   "cell_type": "code",
   "execution_count": 78,
   "id": "6c3447a1",
   "metadata": {
    "scrolled": false
   },
   "outputs": [
    {
     "data": {
      "text/plain": [
       "Symbols\n",
       "AAPL    0.397216\n",
       "KO      0.036751\n",
       "NKE     0.160067\n",
       "dtype: float64"
      ]
     },
     "execution_count": 78,
     "metadata": {},
     "output_type": "execute_result"
    }
   ],
   "source": [
    "e_r = f['Close'].resample('Y').last().pct_change().mean()\n",
    "e_r"
   ]
  },
  {
   "cell_type": "code",
   "execution_count": 79,
   "id": "eb458642",
   "metadata": {},
   "outputs": [
    {
     "data": {
      "text/plain": [
       "Symbols\n",
       "AAPL    0.424701\n",
       "KO      0.204959\n",
       "NKE     0.299150\n",
       "dtype: float64"
      ]
     },
     "execution_count": 79,
     "metadata": {},
     "output_type": "execute_result"
    }
   ],
   "source": [
    "sd = f['Close'].pct_change().apply(lambda x: np.log(1+x)).std()\\\n",
    "        .apply(lambda x:x*np.sqrt(250))\n",
    "sd"
   ]
  },
  {
   "cell_type": "code",
   "execution_count": 80,
   "id": "eb4dba18",
   "metadata": {},
   "outputs": [
    {
     "data": {
      "text/html": [
       "<div>\n",
       "<style scoped>\n",
       "    .dataframe tbody tr th:only-of-type {\n",
       "        vertical-align: middle;\n",
       "    }\n",
       "\n",
       "    .dataframe tbody tr th {\n",
       "        vertical-align: top;\n",
       "    }\n",
       "\n",
       "    .dataframe thead th {\n",
       "        text-align: right;\n",
       "    }\n",
       "</style>\n",
       "<table border=\"1\" class=\"dataframe\">\n",
       "  <thead>\n",
       "    <tr style=\"text-align: right;\">\n",
       "      <th></th>\n",
       "      <th>returns</th>\n",
       "      <th>volatility</th>\n",
       "    </tr>\n",
       "    <tr>\n",
       "      <th>Symbols</th>\n",
       "      <th></th>\n",
       "      <th></th>\n",
       "    </tr>\n",
       "  </thead>\n",
       "  <tbody>\n",
       "    <tr>\n",
       "      <th>AAPL</th>\n",
       "      <td>0.397216</td>\n",
       "      <td>0.424701</td>\n",
       "    </tr>\n",
       "    <tr>\n",
       "      <th>KO</th>\n",
       "      <td>0.036751</td>\n",
       "      <td>0.204959</td>\n",
       "    </tr>\n",
       "    <tr>\n",
       "      <th>NKE</th>\n",
       "      <td>0.160067</td>\n",
       "      <td>0.299150</td>\n",
       "    </tr>\n",
       "  </tbody>\n",
       "</table>\n",
       "</div>"
      ],
      "text/plain": [
       "          returns  volatility\n",
       "Symbols                      \n",
       "AAPL     0.397216    0.424701\n",
       "KO       0.036751    0.204959\n",
       "NKE      0.160067    0.299150"
      ]
     },
     "execution_count": 80,
     "metadata": {},
     "output_type": "execute_result"
    }
   ],
   "source": [
    "assets = pd.concat([e_r,sd],axis = 1)\n",
    "assets.columns = ['returns','volatility']\n",
    "assets"
   ]
  },
  {
   "cell_type": "code",
   "execution_count": 81,
   "id": "c568d33a",
   "metadata": {},
   "outputs": [],
   "source": [
    "p_ret = []\n",
    "p_weights = []\n",
    "p_vol = []\n",
    "\n",
    "num_assets = len(f['Close'].columns)\n",
    "num_portfolios = 10_000\n",
    "\n",
    "for portfolio in range(num_portfolios):\n",
    "    #weights = [.25,.75]\n",
    "    weights = np.random.random(num_assets)\n",
    "    weights = weights/np.sum(weights)\n",
    "    p_weights.append(weights)\n",
    "    \n",
    "    returns = np.dot(weights,e_r)\n",
    "    p_ret.append(returns)\n",
    "    \n",
    "    var = cov_matrix.mul(weights,axis=0).mul(weights,axis=1).sum().sum()\n",
    "    ann_sd = np.sqrt(var*250)\n",
    "    p_vol.append(ann_sd)\n",
    "    \n",
    "data = {'returns': p_ret, 'volatility': p_vol}"
   ]
  },
  {
   "cell_type": "code",
   "execution_count": 82,
   "id": "385a2b2a",
   "metadata": {},
   "outputs": [],
   "source": [
    "for counter, symbol in enumerate(f['Close'].columns.tolist()):\n",
    "    data[symbol + '_weight'] = [w[counter] for w in p_weights]"
   ]
  },
  {
   "cell_type": "code",
   "execution_count": 83,
   "id": "fe24f7d6",
   "metadata": {
    "scrolled": true
   },
   "outputs": [
    {
     "data": {
      "text/html": [
       "<div>\n",
       "<style scoped>\n",
       "    .dataframe tbody tr th:only-of-type {\n",
       "        vertical-align: middle;\n",
       "    }\n",
       "\n",
       "    .dataframe tbody tr th {\n",
       "        vertical-align: top;\n",
       "    }\n",
       "\n",
       "    .dataframe thead th {\n",
       "        text-align: right;\n",
       "    }\n",
       "</style>\n",
       "<table border=\"1\" class=\"dataframe\">\n",
       "  <thead>\n",
       "    <tr style=\"text-align: right;\">\n",
       "      <th></th>\n",
       "      <th>returns</th>\n",
       "      <th>volatility</th>\n",
       "      <th>AAPL_weight</th>\n",
       "      <th>KO_weight</th>\n",
       "      <th>NKE_weight</th>\n",
       "    </tr>\n",
       "  </thead>\n",
       "  <tbody>\n",
       "    <tr>\n",
       "      <th>0</th>\n",
       "      <td>0.225168</td>\n",
       "      <td>0.261370</td>\n",
       "      <td>0.301655</td>\n",
       "      <td>0.052194</td>\n",
       "      <td>0.646151</td>\n",
       "    </tr>\n",
       "    <tr>\n",
       "      <th>1</th>\n",
       "      <td>0.135134</td>\n",
       "      <td>0.192554</td>\n",
       "      <td>0.174741</td>\n",
       "      <td>0.538228</td>\n",
       "      <td>0.287031</td>\n",
       "    </tr>\n",
       "    <tr>\n",
       "      <th>2</th>\n",
       "      <td>0.249196</td>\n",
       "      <td>0.268760</td>\n",
       "      <td>0.400636</td>\n",
       "      <td>0.047693</td>\n",
       "      <td>0.551671</td>\n",
       "    </tr>\n",
       "    <tr>\n",
       "      <th>3</th>\n",
       "      <td>0.144304</td>\n",
       "      <td>0.194944</td>\n",
       "      <td>0.214329</td>\n",
       "      <td>0.539999</td>\n",
       "      <td>0.245671</td>\n",
       "    </tr>\n",
       "    <tr>\n",
       "      <th>4</th>\n",
       "      <td>0.198973</td>\n",
       "      <td>0.222856</td>\n",
       "      <td>0.351947</td>\n",
       "      <td>0.361333</td>\n",
       "      <td>0.286719</td>\n",
       "    </tr>\n",
       "    <tr>\n",
       "      <th>...</th>\n",
       "      <td>...</td>\n",
       "      <td>...</td>\n",
       "      <td>...</td>\n",
       "      <td>...</td>\n",
       "      <td>...</td>\n",
       "    </tr>\n",
       "    <tr>\n",
       "      <th>9995</th>\n",
       "      <td>0.233783</td>\n",
       "      <td>0.250440</td>\n",
       "      <td>0.397933</td>\n",
       "      <td>0.167483</td>\n",
       "      <td>0.434584</td>\n",
       "    </tr>\n",
       "    <tr>\n",
       "      <th>9996</th>\n",
       "      <td>0.307638</td>\n",
       "      <td>0.313423</td>\n",
       "      <td>0.644767</td>\n",
       "      <td>0.043260</td>\n",
       "      <td>0.311972</td>\n",
       "    </tr>\n",
       "    <tr>\n",
       "      <th>9997</th>\n",
       "      <td>0.259481</td>\n",
       "      <td>0.275936</td>\n",
       "      <td>0.572644</td>\n",
       "      <td>0.295077</td>\n",
       "      <td>0.132279</td>\n",
       "    </tr>\n",
       "    <tr>\n",
       "      <th>9998</th>\n",
       "      <td>0.170564</td>\n",
       "      <td>0.217566</td>\n",
       "      <td>0.200633</td>\n",
       "      <td>0.300713</td>\n",
       "      <td>0.498654</td>\n",
       "    </tr>\n",
       "    <tr>\n",
       "      <th>9999</th>\n",
       "      <td>0.222765</td>\n",
       "      <td>0.248073</td>\n",
       "      <td>0.336665</td>\n",
       "      <td>0.139007</td>\n",
       "      <td>0.524328</td>\n",
       "    </tr>\n",
       "  </tbody>\n",
       "</table>\n",
       "<p>10000 rows × 5 columns</p>\n",
       "</div>"
      ],
      "text/plain": [
       "       returns  volatility  AAPL_weight  KO_weight  NKE_weight\n",
       "0     0.225168    0.261370     0.301655   0.052194    0.646151\n",
       "1     0.135134    0.192554     0.174741   0.538228    0.287031\n",
       "2     0.249196    0.268760     0.400636   0.047693    0.551671\n",
       "3     0.144304    0.194944     0.214329   0.539999    0.245671\n",
       "4     0.198973    0.222856     0.351947   0.361333    0.286719\n",
       "...        ...         ...          ...        ...         ...\n",
       "9995  0.233783    0.250440     0.397933   0.167483    0.434584\n",
       "9996  0.307638    0.313423     0.644767   0.043260    0.311972\n",
       "9997  0.259481    0.275936     0.572644   0.295077    0.132279\n",
       "9998  0.170564    0.217566     0.200633   0.300713    0.498654\n",
       "9999  0.222765    0.248073     0.336665   0.139007    0.524328\n",
       "\n",
       "[10000 rows x 5 columns]"
      ]
     },
     "execution_count": 83,
     "metadata": {},
     "output_type": "execute_result"
    }
   ],
   "source": [
    "portfolios = pd.DataFrame(data)\n",
    "portfolios"
   ]
  },
  {
   "cell_type": "code",
   "execution_count": 84,
   "id": "e6f4754f",
   "metadata": {},
   "outputs": [
    {
     "data": {
      "image/png": "[encoded data removed]",
      "text/plain": [
       "<Figure size 720x720 with 1 Axes>"
      ]
     },
     "metadata": {
      "needs_background": "light"
     },
     "output_type": "display_data"
    }
   ],
   "source": [
    "portfolios.plot.scatter(x='volatility',y='returns',grid=True,\\\n",
    "                        marker='o', s=10, alpha=0.3,figsize=[10,10]);"
   ]
  },
  {
   "cell_type": "markdown",
   "id": "cbdabad9",
   "metadata": {},
   "source": [
    "____\n",
    "# put it all together, step-by-step"
   ]
  },
  {
   "cell_type": "code",
   "execution_count": 85,
   "id": "12e974b9",
   "metadata": {},
   "outputs": [
    {
     "data": {
      "text/html": [
       "<div>\n",
       "<style scoped>\n",
       "    .dataframe tbody tr th:only-of-type {\n",
       "        vertical-align: middle;\n",
       "    }\n",
       "\n",
       "    .dataframe tbody tr th {\n",
       "        vertical-align: top;\n",
       "    }\n",
       "\n",
       "    .dataframe thead th {\n",
       "        text-align: right;\n",
       "    }\n",
       "</style>\n",
       "<table border=\"1\" class=\"dataframe\">\n",
       "  <thead>\n",
       "    <tr style=\"text-align: right;\">\n",
       "      <th></th>\n",
       "      <th>NASDAQOMX/NQDMXUS - Index Value</th>\n",
       "      <th>NASDAQOMX/NDX - Index Value</th>\n",
       "      <th>NASDAQOMX/QGREEN - Index Value</th>\n",
       "    </tr>\n",
       "    <tr>\n",
       "      <th>Trade Date</th>\n",
       "      <th></th>\n",
       "      <th></th>\n",
       "      <th></th>\n",
       "    </tr>\n",
       "  </thead>\n",
       "  <tbody>\n",
       "    <tr>\n",
       "      <th>2001-03-30</th>\n",
       "      <td>737.93</td>\n",
       "      <td>NaN</td>\n",
       "      <td>NaN</td>\n",
       "    </tr>\n",
       "    <tr>\n",
       "      <th>2001-04-02</th>\n",
       "      <td>732.70</td>\n",
       "      <td>NaN</td>\n",
       "      <td>NaN</td>\n",
       "    </tr>\n",
       "    <tr>\n",
       "      <th>2001-04-03</th>\n",
       "      <td>722.45</td>\n",
       "      <td>NaN</td>\n",
       "      <td>NaN</td>\n",
       "    </tr>\n",
       "    <tr>\n",
       "      <th>2001-04-04</th>\n",
       "      <td>733.95</td>\n",
       "      <td>NaN</td>\n",
       "      <td>NaN</td>\n",
       "    </tr>\n",
       "    <tr>\n",
       "      <th>2001-04-05</th>\n",
       "      <td>745.27</td>\n",
       "      <td>NaN</td>\n",
       "      <td>NaN</td>\n",
       "    </tr>\n",
       "  </tbody>\n",
       "</table>\n",
       "</div>"
      ],
      "text/plain": [
       "            NASDAQOMX/NQDMXUS - Index Value  NASDAQOMX/NDX - Index Value  \\\n",
       "Trade Date                                                                 \n",
       "2001-03-30                           737.93                          NaN   \n",
       "2001-04-02                           732.70                          NaN   \n",
       "2001-04-03                           722.45                          NaN   \n",
       "2001-04-04                           733.95                          NaN   \n",
       "2001-04-05                           745.27                          NaN   \n",
       "\n",
       "            NASDAQOMX/QGREEN - Index Value  \n",
       "Trade Date                                  \n",
       "2001-03-30                             NaN  \n",
       "2001-04-02                             NaN  \n",
       "2001-04-03                             NaN  \n",
       "2001-04-04                             NaN  \n",
       "2001-04-05                             NaN  "
      ]
     },
     "execution_count": 85,
     "metadata": {},
     "output_type": "execute_result"
    }
   ],
   "source": [
    "prices = quandl.get(['NASDAQOMX/NQDMXUS.1','NASDAQOMX/NDX.1',\\\n",
    "                     'NASDAQOMX/QGREEN.1'])\n",
    "prices.head()"
   ]
  },
  {
   "cell_type": "code",
   "execution_count": 86,
   "id": "45673be9",
   "metadata": {},
   "outputs": [
    {
     "data": {
      "text/html": [
       "<div>\n",
       "<style scoped>\n",
       "    .dataframe tbody tr th:only-of-type {\n",
       "        vertical-align: middle;\n",
       "    }\n",
       "\n",
       "    .dataframe tbody tr th {\n",
       "        vertical-align: top;\n",
       "    }\n",
       "\n",
       "    .dataframe thead th {\n",
       "        text-align: right;\n",
       "    }\n",
       "</style>\n",
       "<table border=\"1\" class=\"dataframe\">\n",
       "  <thead>\n",
       "    <tr style=\"text-align: right;\">\n",
       "      <th></th>\n",
       "      <th>NASDAQOMX/NQDMXUS - Index Value</th>\n",
       "      <th>NASDAQOMX/NDX - Index Value</th>\n",
       "      <th>NASDAQOMX/QGREEN - Index Value</th>\n",
       "    </tr>\n",
       "  </thead>\n",
       "  <tbody>\n",
       "    <tr>\n",
       "      <th>NASDAQOMX/NQDMXUS - Index Value</th>\n",
       "      <td>0.000118</td>\n",
       "      <td>0.000067</td>\n",
       "      <td>0.000078</td>\n",
       "    </tr>\n",
       "    <tr>\n",
       "      <th>NASDAQOMX/NDX - Index Value</th>\n",
       "      <td>0.000067</td>\n",
       "      <td>0.000196</td>\n",
       "      <td>0.000109</td>\n",
       "    </tr>\n",
       "    <tr>\n",
       "      <th>NASDAQOMX/QGREEN - Index Value</th>\n",
       "      <td>0.000078</td>\n",
       "      <td>0.000109</td>\n",
       "      <td>0.000114</td>\n",
       "    </tr>\n",
       "  </tbody>\n",
       "</table>\n",
       "</div>"
      ],
      "text/plain": [
       "                                 NASDAQOMX/NQDMXUS - Index Value  \\\n",
       "NASDAQOMX/NQDMXUS - Index Value                         0.000118   \n",
       "NASDAQOMX/NDX - Index Value                             0.000067   \n",
       "NASDAQOMX/QGREEN - Index Value                          0.000078   \n",
       "\n",
       "                                 NASDAQOMX/NDX - Index Value  \\\n",
       "NASDAQOMX/NQDMXUS - Index Value                     0.000067   \n",
       "NASDAQOMX/NDX - Index Value                         0.000196   \n",
       "NASDAQOMX/QGREEN - Index Value                      0.000109   \n",
       "\n",
       "                                 NASDAQOMX/QGREEN - Index Value  \n",
       "NASDAQOMX/NQDMXUS - Index Value                        0.000078  \n",
       "NASDAQOMX/NDX - Index Value                            0.000109  \n",
       "NASDAQOMX/QGREEN - Index Value                         0.000114  "
      ]
     },
     "execution_count": 86,
     "metadata": {},
     "output_type": "execute_result"
    }
   ],
   "source": [
    "cov_matrix = prices.pct_change().apply(lambda x : np.log(1+x)).cov()\n",
    "cov_matrix"
   ]
  },
  {
   "cell_type": "code",
   "execution_count": 87,
   "id": "bc8a6fe7",
   "metadata": {},
   "outputs": [
    {
     "data": {
      "text/plain": [
       "NASDAQOMX/NQDMXUS - Index Value    0.062246\n",
       "NASDAQOMX/NDX - Index Value        0.159862\n",
       "NASDAQOMX/QGREEN - Index Value     0.113006\n",
       "dtype: float64"
      ]
     },
     "execution_count": 87,
     "metadata": {},
     "output_type": "execute_result"
    }
   ],
   "source": [
    "e_r = prices.resample('Y').last().pct_change().mean()\n",
    "e_r"
   ]
  },
  {
   "cell_type": "code",
   "execution_count": 88,
   "id": "c2f5a88b",
   "metadata": {},
   "outputs": [
    {
     "data": {
      "text/plain": [
       "NASDAQOMX/NQDMXUS - Index Value    0.171481\n",
       "NASDAQOMX/NDX - Index Value        0.221611\n",
       "NASDAQOMX/QGREEN - Index Value     0.169089\n",
       "dtype: float64"
      ]
     },
     "execution_count": 88,
     "metadata": {},
     "output_type": "execute_result"
    }
   ],
   "source": [
    "sd = prices.pct_change().apply(lambda x : np.log(1+x)).std()\\\n",
    "    .apply(lambda x : x*np.sqrt(250))\n",
    "sd"
   ]
  },
  {
   "cell_type": "code",
   "execution_count": 89,
   "id": "0816169d",
   "metadata": {},
   "outputs": [
    {
     "data": {
      "text/html": [
       "<div>\n",
       "<style scoped>\n",
       "    .dataframe tbody tr th:only-of-type {\n",
       "        vertical-align: middle;\n",
       "    }\n",
       "\n",
       "    .dataframe tbody tr th {\n",
       "        vertical-align: top;\n",
       "    }\n",
       "\n",
       "    .dataframe thead th {\n",
       "        text-align: right;\n",
       "    }\n",
       "</style>\n",
       "<table border=\"1\" class=\"dataframe\">\n",
       "  <thead>\n",
       "    <tr style=\"text-align: right;\">\n",
       "      <th></th>\n",
       "      <th>returns</th>\n",
       "      <th>volatility</th>\n",
       "    </tr>\n",
       "  </thead>\n",
       "  <tbody>\n",
       "    <tr>\n",
       "      <th>NASDAQOMX/NQDMXUS - Index Value</th>\n",
       "      <td>0.062246</td>\n",
       "      <td>0.171481</td>\n",
       "    </tr>\n",
       "    <tr>\n",
       "      <th>NASDAQOMX/NDX - Index Value</th>\n",
       "      <td>0.159862</td>\n",
       "      <td>0.221611</td>\n",
       "    </tr>\n",
       "    <tr>\n",
       "      <th>NASDAQOMX/QGREEN - Index Value</th>\n",
       "      <td>0.113006</td>\n",
       "      <td>0.169089</td>\n",
       "    </tr>\n",
       "  </tbody>\n",
       "</table>\n",
       "</div>"
      ],
      "text/plain": [
       "                                  returns  volatility\n",
       "NASDAQOMX/NQDMXUS - Index Value  0.062246    0.171481\n",
       "NASDAQOMX/NDX - Index Value      0.159862    0.221611\n",
       "NASDAQOMX/QGREEN - Index Value   0.113006    0.169089"
      ]
     },
     "execution_count": 89,
     "metadata": {},
     "output_type": "execute_result"
    }
   ],
   "source": [
    "assets = pd.concat([e_r,sd],axis=1)\n",
    "assets.columns = ['returns','volatility']\n",
    "assets"
   ]
  },
  {
   "cell_type": "code",
   "execution_count": 90,
   "id": "401de5d8",
   "metadata": {},
   "outputs": [],
   "source": [
    "p_ret = []\n",
    "p_weights = []\n",
    "p_vol = []\n",
    "\n",
    "num_assets = len(prices.columns)\n",
    "num_portfolios = 10_000\n",
    "\n",
    "for portfolio in range(num_portfolios):\n",
    "    # get random weighted portfolio\n",
    "    weights = np.random.random(num_assets)\n",
    "    weights = weights/np.sum(weights)\n",
    "    p_weights.append(weights)\n",
    "    \n",
    "    # get expected returns of random portfolio\n",
    "    returns = np.dot(weights,e_r)\n",
    "    p_ret.append(returns)\n",
    "    \n",
    "    # get expected returns of random portfolio\n",
    "    var = cov_matrix.mul(weights,axis=0).mul(weights,axis=1).sum().sum()\n",
    "    ann_sd = np.sqrt(var*250)\n",
    "    p_vol.append(ann_sd)\n",
    "    \n",
    "# compile data to DF\n",
    "data = {'returns': p_ret, 'volatility': p_vol}\n",
    "for counter, symbol in enumerate(prices.columns.tolist()):\n",
    "    data[symbol + '_weight'] = [w[counter] for w in p_weights]"
   ]
  },
  {
   "cell_type": "code",
   "execution_count": 91,
   "id": "33d70d37",
   "metadata": {
    "scrolled": true
   },
   "outputs": [
    {
     "data": {
      "text/html": [
       "<div>\n",
       "<style scoped>\n",
       "    .dataframe tbody tr th:only-of-type {\n",
       "        vertical-align: middle;\n",
       "    }\n",
       "\n",
       "    .dataframe tbody tr th {\n",
       "        vertical-align: top;\n",
       "    }\n",
       "\n",
       "    .dataframe thead th {\n",
       "        text-align: right;\n",
       "    }\n",
       "</style>\n",
       "<table border=\"1\" class=\"dataframe\">\n",
       "  <thead>\n",
       "    <tr style=\"text-align: right;\">\n",
       "      <th></th>\n",
       "      <th>returns</th>\n",
       "      <th>volatility</th>\n",
       "      <th>NASDAQOMX/NQDMXUS - Index Value_weight</th>\n",
       "      <th>NASDAQOMX/NDX - Index Value_weight</th>\n",
       "      <th>NASDAQOMX/QGREEN - Index Value_weight</th>\n",
       "    </tr>\n",
       "  </thead>\n",
       "  <tbody>\n",
       "    <tr>\n",
       "      <th>0</th>\n",
       "      <td>0.117240</td>\n",
       "      <td>0.170088</td>\n",
       "      <td>0.408504</td>\n",
       "      <td>0.532902</td>\n",
       "      <td>0.058594</td>\n",
       "    </tr>\n",
       "    <tr>\n",
       "      <th>1</th>\n",
       "      <td>0.090953</td>\n",
       "      <td>0.156487</td>\n",
       "      <td>0.596423</td>\n",
       "      <td>0.175456</td>\n",
       "      <td>0.228121</td>\n",
       "    </tr>\n",
       "    <tr>\n",
       "      <th>2</th>\n",
       "      <td>0.137406</td>\n",
       "      <td>0.185598</td>\n",
       "      <td>0.110310</td>\n",
       "      <td>0.640237</td>\n",
       "      <td>0.249453</td>\n",
       "    </tr>\n",
       "    <tr>\n",
       "      <th>3</th>\n",
       "      <td>0.114001</td>\n",
       "      <td>0.165267</td>\n",
       "      <td>0.388876</td>\n",
       "      <td>0.442501</td>\n",
       "      <td>0.168624</td>\n",
       "    </tr>\n",
       "    <tr>\n",
       "      <th>4</th>\n",
       "      <td>0.130614</td>\n",
       "      <td>0.176599</td>\n",
       "      <td>0.127801</td>\n",
       "      <td>0.514234</td>\n",
       "      <td>0.357966</td>\n",
       "    </tr>\n",
       "    <tr>\n",
       "      <th>...</th>\n",
       "      <td>...</td>\n",
       "      <td>...</td>\n",
       "      <td>...</td>\n",
       "      <td>...</td>\n",
       "      <td>...</td>\n",
       "    </tr>\n",
       "    <tr>\n",
       "      <th>9995</th>\n",
       "      <td>0.101782</td>\n",
       "      <td>0.159261</td>\n",
       "      <td>0.516417</td>\n",
       "      <td>0.319898</td>\n",
       "      <td>0.163685</td>\n",
       "    </tr>\n",
       "    <tr>\n",
       "      <th>9996</th>\n",
       "      <td>0.120774</td>\n",
       "      <td>0.173596</td>\n",
       "      <td>0.384660</td>\n",
       "      <td>0.582485</td>\n",
       "      <td>0.032855</td>\n",
       "    </tr>\n",
       "    <tr>\n",
       "      <th>9997</th>\n",
       "      <td>0.099342</td>\n",
       "      <td>0.156818</td>\n",
       "      <td>0.483409</td>\n",
       "      <td>0.232070</td>\n",
       "      <td>0.284521</td>\n",
       "    </tr>\n",
       "    <tr>\n",
       "      <th>9998</th>\n",
       "      <td>0.146367</td>\n",
       "      <td>0.198792</td>\n",
       "      <td>0.067286</td>\n",
       "      <td>0.784869</td>\n",
       "      <td>0.147845</td>\n",
       "    </tr>\n",
       "    <tr>\n",
       "      <th>9999</th>\n",
       "      <td>0.126508</td>\n",
       "      <td>0.172010</td>\n",
       "      <td>0.030425</td>\n",
       "      <td>0.321123</td>\n",
       "      <td>0.648451</td>\n",
       "    </tr>\n",
       "  </tbody>\n",
       "</table>\n",
       "<p>10000 rows × 5 columns</p>\n",
       "</div>"
      ],
      "text/plain": [
       "       returns  volatility  NASDAQOMX/NQDMXUS - Index Value_weight  \\\n",
       "0     0.117240    0.170088                                0.408504   \n",
       "1     0.090953    0.156487                                0.596423   \n",
       "2     0.137406    0.185598                                0.110310   \n",
       "3     0.114001    0.165267                                0.388876   \n",
       "4     0.130614    0.176599                                0.127801   \n",
       "...        ...         ...                                     ...   \n",
       "9995  0.101782    0.159261                                0.516417   \n",
       "9996  0.120774    0.173596                                0.384660   \n",
       "9997  0.099342    0.156818                                0.483409   \n",
       "9998  0.146367    0.198792                                0.067286   \n",
       "9999  0.126508    0.172010                                0.030425   \n",
       "\n",
       "      NASDAQOMX/NDX - Index Value_weight  \\\n",
       "0                               0.532902   \n",
       "1                               0.175456   \n",
       "2                               0.640237   \n",
       "3                               0.442501   \n",
       "4                               0.514234   \n",
       "...                                  ...   \n",
       "9995                            0.319898   \n",
       "9996                            0.582485   \n",
       "9997                            0.232070   \n",
       "9998                            0.784869   \n",
       "9999                            0.321123   \n",
       "\n",
       "      NASDAQOMX/QGREEN - Index Value_weight  \n",
       "0                                  0.058594  \n",
       "1                                  0.228121  \n",
       "2                                  0.249453  \n",
       "3                                  0.168624  \n",
       "4                                  0.357966  \n",
       "...                                     ...  \n",
       "9995                               0.163685  \n",
       "9996                               0.032855  \n",
       "9997                               0.284521  \n",
       "9998                               0.147845  \n",
       "9999                               0.648451  \n",
       "\n",
       "[10000 rows x 5 columns]"
      ]
     },
     "execution_count": 91,
     "metadata": {},
     "output_type": "execute_result"
    }
   ],
   "source": [
    "portfolios = pd.DataFrame(data)\n",
    "portfolios"
   ]
  },
  {
   "cell_type": "code",
   "execution_count": 92,
   "id": "8b6e36d6",
   "metadata": {},
   "outputs": [
    {
     "data": {
      "image/png": "[encoded data removed]",
      "text/plain": [
       "<Figure size 720x720 with 1 Axes>"
      ]
     },
     "metadata": {
      "needs_background": "light"
     },
     "output_type": "display_data"
    }
   ],
   "source": [
    "# plot random portfolios and expected returns\n",
    "portfolios.plot.scatter(x='volatility',y='returns',grid=True,\\\n",
    "                        marker='o', s=10, alpha=0.3,figsize=[10,10]);"
   ]
  },
  {
   "cell_type": "markdown",
   "id": "8a4287ce",
   "metadata": {},
   "source": [
    "# Global Minimum Variance Portfolio"
   ]
  },
  {
   "cell_type": "code",
   "execution_count": 93,
   "id": "6075527a",
   "metadata": {},
   "outputs": [],
   "source": [
    "# portfolios with lowest volatility\n",
    "min_var_port = portfolios.loc[portfolios['volatility'].idxmin()]"
   ]
  },
  {
   "cell_type": "code",
   "execution_count": 94,
   "id": "ea2dbba3",
   "metadata": {},
   "outputs": [
    {
     "data": {
      "image/png": "[encoded data removed]",
      "text/plain": [
       "<Figure size 720x720 with 1 Axes>"
      ]
     },
     "metadata": {
      "needs_background": "light"
     },
     "output_type": "display_data"
    }
   ],
   "source": [
    "import matplotlib.pyplot as plt\n",
    "portfolios.plot.scatter(x='volatility',y='returns',grid=True,\\\n",
    "                        marker='o', s=10, alpha=0.3,figsize=[10,10])\n",
    "plt.scatter(x=min_var_port[1],y=min_var_port[0],\\\n",
    "            color='r', marker='*', s=500);"
   ]
  },
  {
   "cell_type": "markdown",
   "id": "68dc8d89",
   "metadata": {},
   "source": [
    "# Optimal Risky Portfolio"
   ]
  },
  {
   "cell_type": "markdown",
   "id": "c2361b2d",
   "metadata": {},
   "source": [
    "$$Sharpe Ratio = \\frac{E(R_i)-rf}{\\sigma_i}$$\n",
    "\n",
    "Sharpe Ratio is the ratio of return to volatility. The larger the ratio, the more return per unit vol."
   ]
  },
  {
   "cell_type": "code",
   "execution_count": 97,
   "id": "f6e70741",
   "metadata": {},
   "outputs": [
    {
     "data": {
      "text/plain": [
       "9940"
      ]
     },
     "execution_count": 97,
     "metadata": {},
     "output_type": "execute_result"
    }
   ],
   "source": [
    "rf = .025"
   ]
  },
  {
   "cell_type": "code",
   "execution_count": 106,
   "id": "8e5f8e11",
   "metadata": {},
   "outputs": [
    {
     "name": "stdout",
     "output_type": "stream",
     "text": [
      "9940\n"
     ]
    }
   ],
   "source": [
    "# find index of highest sharpe ratio\n",
    "print(((portfolios['returns']-rf)/portfolios['volatility']).idxmax())\n",
    "\n",
    "# find details of highest sharpe ratio\n",
    "sharpe_max = portfolios.loc[((portfolios['returns']-rf)/portfolios['volatility']).idxmax()]"
   ]
  },
  {
   "cell_type": "code",
   "execution_count": 107,
   "id": "6494e73b",
   "metadata": {},
   "outputs": [
    {
     "data": {
      "text/plain": [
       "0.6187226503820217"
      ]
     },
     "execution_count": 107,
     "metadata": {},
     "output_type": "execute_result"
    }
   ],
   "source": [
    "((portfolios['returns']-rf)/portfolios['volatility']).max()"
   ]
  },
  {
   "cell_type": "code",
   "execution_count": 108,
   "id": "1643548e",
   "metadata": {},
   "outputs": [
    {
     "data": {
      "text/plain": [
       "returns                                   0.144709\n",
       "volatility                                0.193477\n",
       "NASDAQOMX/NQDMXUS - Index Value_weight    0.000824\n",
       "NASDAQOMX/NDX - Index Value_weight        0.677492\n",
       "NASDAQOMX/QGREEN - Index Value_weight     0.321684\n",
       "Name: 9940, dtype: float64"
      ]
     },
     "execution_count": 108,
     "metadata": {},
     "output_type": "execute_result"
    }
   ],
   "source": [
    "sharpe_max"
   ]
  },
  {
   "cell_type": "code",
   "execution_count": 111,
   "id": "814f8715",
   "metadata": {
    "scrolled": false
   },
   "outputs": [
    {
     "data": {
      "image/png": "[encoded data removed]",
      "text/plain": [
       "<Figure size 720x720 with 1 Axes>"
      ]
     },
     "metadata": {
      "needs_background": "light"
     },
     "output_type": "display_data"
    }
   ],
   "source": [
    "portfolios.plot.scatter(x='volatility',y='returns',grid=True,\\\n",
    "                        marker='o', s=10, alpha=0.3,figsize=[10,10])\n",
    "plt.scatter(x=min_var_port[1],y=min_var_port[0],\\\n",
    "            color='y', marker='*', s=500);\n",
    "plt.scatter(x=sharpe_max[1],y=sharpe_max[0],\\\n",
    "            color='r', marker='*', s=500);"
   ]
  },
  {
   "cell_type": "markdown",
   "id": "1c2d8c2c",
   "metadata": {},
   "source": [
    "# Capital Allocation Line\n",
    "$$E(R_P) = rf + \\frac{E(R_i)-rf}{\\sigma_i}\\sigma_p$$\n",
    "\n",
    "This line implies all the possible allocations of portfolio. i.e. different combinations of the sharpe optimised portfolio and a risk-free asset (e.g. T-bill) (from risk free to most risk).  \n",
    "\n",
    "There is a linear relationship in returns, because th portfolio only has 2 components and as the risky portfolio weight decreases the returns decrease monotonously. linear relationship in sd due to the risk-free having 0 vol so the decrease in volatility from the optimal portfolio to risk free is monotonous. \n",
    "\n",
    "# Utility Function\n",
    "$$U = E(R)-0.5A\\sigma^2$$\n",
    "\n",
    "This function is from a economic model. Higher return leads to higher utility.  \n",
    "A is the coefficient of risk aversion. If A is small then the are less risk averse. We assume 0 < A < 10. \n",
    "\n",
    "Expected return is the level of utility and is discounted by level of risk aversion. \n",
    "\n",
    "# Final optimised portfolio\n",
    "To come up with the final optimised portfolio below, we find the intersection of the Capital allocation line and Utility function\n",
    "\n",
    "\n",
    "## Assumptions\n",
    "- investors always want to reduce risk\n",
    "- investors want the greatest return for risk"
   ]
  },
  {
   "cell_type": "code",
   "execution_count": 176,
   "id": "0d3c2cfe",
   "metadata": {},
   "outputs": [],
   "source": [
    "cal_x = []\n",
    "cal_y = []\n",
    "utility = []\n",
    "a = 3.5"
   ]
  },
  {
   "cell_type": "code",
   "execution_count": 177,
   "id": "f1883e18",
   "metadata": {},
   "outputs": [],
   "source": [
    "for er in np.linspace(rf, max(p_ret), 1000):\n",
    "    sd = (er - rf)/((sharpe_max[0]-rf)/sharpe_max[1])\n",
    "    u = er - .5*a*(sd**2)\n",
    "    cal_x.append(sd)\n",
    "    cal_y.append(er)\n",
    "    utility.append(u)"
   ]
  },
  {
   "cell_type": "code",
   "execution_count": 178,
   "id": "666410be",
   "metadata": {},
   "outputs": [
    {
     "data": {
      "text/html": [
       "<div>\n",
       "<style scoped>\n",
       "    .dataframe tbody tr th:only-of-type {\n",
       "        vertical-align: middle;\n",
       "    }\n",
       "\n",
       "    .dataframe tbody tr th {\n",
       "        vertical-align: top;\n",
       "    }\n",
       "\n",
       "    .dataframe thead th {\n",
       "        text-align: right;\n",
       "    }\n",
       "</style>\n",
       "<table border=\"1\" class=\"dataframe\">\n",
       "  <thead>\n",
       "    <tr style=\"text-align: right;\">\n",
       "      <th></th>\n",
       "      <th>utility</th>\n",
       "      <th>cal_y</th>\n",
       "      <th>cal_x</th>\n",
       "    </tr>\n",
       "  </thead>\n",
       "  <tbody>\n",
       "    <tr>\n",
       "      <th>0</th>\n",
       "      <td>0.025000</td>\n",
       "      <td>0.025000</td>\n",
       "      <td>0.000000</td>\n",
       "    </tr>\n",
       "    <tr>\n",
       "      <th>1</th>\n",
       "      <td>0.025134</td>\n",
       "      <td>0.025134</td>\n",
       "      <td>0.000217</td>\n",
       "    </tr>\n",
       "    <tr>\n",
       "      <th>2</th>\n",
       "      <td>0.025269</td>\n",
       "      <td>0.025269</td>\n",
       "      <td>0.000435</td>\n",
       "    </tr>\n",
       "    <tr>\n",
       "      <th>3</th>\n",
       "      <td>0.025403</td>\n",
       "      <td>0.025403</td>\n",
       "      <td>0.000652</td>\n",
       "    </tr>\n",
       "    <tr>\n",
       "      <th>4</th>\n",
       "      <td>0.025536</td>\n",
       "      <td>0.025538</td>\n",
       "      <td>0.000869</td>\n",
       "    </tr>\n",
       "  </tbody>\n",
       "</table>\n",
       "</div>"
      ],
      "text/plain": [
       "    utility     cal_y     cal_x\n",
       "0  0.025000  0.025000  0.000000\n",
       "1  0.025134  0.025134  0.000217\n",
       "2  0.025269  0.025269  0.000435\n",
       "3  0.025403  0.025403  0.000652\n",
       "4  0.025536  0.025538  0.000869"
      ]
     },
     "execution_count": 178,
     "metadata": {},
     "output_type": "execute_result"
    }
   ],
   "source": [
    "data2 = {'utility':utility, 'cal_y':cal_y, 'cal_x':cal_x}\n",
    "cal = pd.DataFrame(data2)\n",
    "cal.head()"
   ]
  },
  {
   "cell_type": "code",
   "execution_count": 181,
   "id": "f82545f4",
   "metadata": {},
   "outputs": [
    {
     "data": {
      "image/png": "[encoded data removed]",
      "text/plain": [
       "<Figure size 720x720 with 1 Axes>"
      ]
     },
     "metadata": {
      "needs_background": "light"
     },
     "output_type": "display_data"
    }
   ],
   "source": [
    "portfolios.plot.scatter(x='volatility',y='returns',grid=True,\\\n",
    "                        marker='o', s=10, alpha=0.3,figsize=[10,10])\n",
    "plt.scatter(x=min_var_port[1],y=min_var_port[0],\\\n",
    "            color='y', marker='*', s=500)\n",
    "plt.scatter(x=sharpe_max[1],y=sharpe_max[0],\\\n",
    "            color='r', marker='*', s=500)\n",
    "plt.plot(cal_x, cal_y, color='r');"
   ]
  },
  {
   "cell_type": "markdown",
   "id": "84a8bc81",
   "metadata": {},
   "source": [
    "# Investor's Optimal Portfolio"
   ]
  },
  {
   "cell_type": "code",
   "execution_count": 182,
   "id": "9eee8f90",
   "metadata": {},
   "outputs": [
    {
     "data": {
      "text/plain": [
       "utility    0.079688\n",
       "cal_y      0.134435\n",
       "cal_x      0.176873\n",
       "Name: 814, dtype: float64"
      ]
     },
     "execution_count": 182,
     "metadata": {},
     "output_type": "execute_result"
    }
   ],
   "source": [
    "investors_port = cal.iloc[cal['utility'].idxmax()]\n",
    "investors_port"
   ]
  },
  {
   "cell_type": "code",
   "execution_count": 183,
   "id": "880a46ed",
   "metadata": {},
   "outputs": [
    {
     "data": {
      "image/png": "[encoded data removed]",
      "text/plain": [
       "<Figure size 720x720 with 1 Axes>"
      ]
     },
     "metadata": {
      "needs_background": "light"
     },
     "output_type": "display_data"
    }
   ],
   "source": [
    "portfolios.plot.scatter(x='volatility',y='returns',grid=True,\\\n",
    "                        marker='o', s=10, alpha=0.3,figsize=[10,10])\n",
    "plt.scatter(x=min_var_port[1],y=min_var_port[0],\\\n",
    "            color='y', marker='*', s=500)\n",
    "plt.scatter(x=sharpe_max[1],y=sharpe_max[0],\\\n",
    "            color='r', marker='*', s=500)\n",
    "plt.plot(cal_x, cal_y, color='purple')\n",
    "plt.plot(investors_port[2], investors_port[1], '*', color='lightgreen');"
   ]
  },
  {
   "cell_type": "markdown",
   "id": "d0fa9b71",
   "metadata": {},
   "source": [
    "# final portfolio mix"
   ]
  },
  {
   "cell_type": "code",
   "execution_count": 188,
   "id": "53ddcd24",
   "metadata": {
    "scrolled": true
   },
   "outputs": [],
   "source": [
    "pct_risk = investors_port[2]/sharpe_max[1]"
   ]
  },
  {
   "cell_type": "code",
   "execution_count": 189,
   "id": "6789262d",
   "metadata": {},
   "outputs": [
    {
     "data": {
      "text/plain": [
       "0.9141789750904838"
      ]
     },
     "execution_count": 189,
     "metadata": {},
     "output_type": "execute_result"
    }
   ],
   "source": [
    "pct_risk"
   ]
  },
  {
   "cell_type": "code",
   "execution_count": 197,
   "id": "5e8d95ab",
   "metadata": {},
   "outputs": [],
   "source": [
    "risk = sharpe_max[2:]*pct_risk"
   ]
  },
  {
   "cell_type": "code",
   "execution_count": 205,
   "id": "333c5c8f",
   "metadata": {},
   "outputs": [],
   "source": [
    "risk_free = pd.Series([(1-pct_risk)*rf], index=['T-BILL'])"
   ]
  },
  {
   "cell_type": "code",
   "execution_count": 213,
   "id": "3357afdf",
   "metadata": {},
   "outputs": [
    {
     "data": {
      "text/plain": [
       "utility    0.079688\n",
       "cal_y      0.134435\n",
       "cal_x      0.176873\n",
       "Name: 814, dtype: float64"
      ]
     },
     "execution_count": 213,
     "metadata": {},
     "output_type": "execute_result"
    }
   ],
   "source": []
  },
  {
   "cell_type": "code",
   "execution_count": 218,
   "id": "6005a10f",
   "metadata": {},
   "outputs": [
    {
     "data": {
      "text/plain": [
       "Index(['utility', 'cal_y', 'cal_x'], dtype='object')"
      ]
     },
     "execution_count": 218,
     "metadata": {},
     "output_type": "execute_result"
    }
   ],
   "source": [
    "investors_port.index"
   ]
  },
  {
   "cell_type": "code",
   "execution_count": 221,
   "id": "3f42d1e1",
   "metadata": {},
   "outputs": [],
   "source": [
    "port_mix = pd.concat([investors_port,risk,risk_free], axis=0).rename({'cal_y':'returns', 'cal_x':'volatility'})"
   ]
  },
  {
   "cell_type": "code",
   "execution_count": 222,
   "id": "099c0928",
   "metadata": {},
   "outputs": [
    {
     "data": {
      "text/plain": [
       "utility                                   0.079688\n",
       "returns                                   0.134435\n",
       "volatility                                0.176873\n",
       "NASDAQOMX/NQDMXUS - Index Value_weight    0.000753\n",
       "NASDAQOMX/NDX - Index Value_weight        0.619349\n",
       "NASDAQOMX/QGREEN - Index Value_weight     0.294077\n",
       "T-BILL                                    0.002146\n",
       "dtype: float64"
      ]
     },
     "execution_count": 222,
     "metadata": {},
     "output_type": "execute_result"
    }
   ],
   "source": [
    "port_mix"
   ]
  },
  {
   "cell_type": "markdown",
   "id": "2a60d806",
   "metadata": {},
   "source": [
    "# Validating greatest utility, return, volatility\n",
    "\n",
    "There is alternative to using the Capital Allocation Line. Here, the utility for each portfolio can be calculated, solving for the maximum utility. \n",
    "\n",
    "Then then compare the returns of the Capital Allocation Line for the same risk.\n",
    "\n",
    "On Capital Allocation Line: \n",
    "\n",
    "| util  | return  | volatility  |\n",
    "|---|---|---|\n",
    "| 0.060 |  0.124 |  0.160 | \n",
    "| 0.058 |  0.131 |  0.171 | \n",
    "\t\t\n",
    "On Efficient Frontier:\n",
    "\n",
    "| util  | return  | volatility  |\n",
    "|---|---|---|\n",
    "| -0.0172 |  0.114 |0.162|\n",
    "\n",
    "It can be seen the CAP allocates with higher return with even lower volatility. Also the point on the Efficient Frontier does not maximise return to volatility."
   ]
  },
  {
   "cell_type": "code",
   "execution_count": 137,
   "id": "d2c3ae9b",
   "metadata": {},
   "outputs": [],
   "source": [
    "portfolios['utility'] = portfolios['returns'] - .5*a*(portfolios['volatility']**2)"
   ]
  },
  {
   "cell_type": "code",
   "execution_count": 139,
   "id": "61a71cab",
   "metadata": {},
   "outputs": [
    {
     "data": {
      "text/plain": [
       "returns                                   0.113924\n",
       "volatility                                0.161960\n",
       "NASDAQOMX/NQDMXUS - Index Value_weight    0.231538\n",
       "NASDAQOMX/NDX - Index Value_weight        0.270431\n",
       "NASDAQOMX/QGREEN - Index Value_weight     0.498031\n",
       "utility                                  -0.017231\n",
       "Name: 5429, dtype: float64"
      ]
     },
     "execution_count": 139,
     "metadata": {},
     "output_type": "execute_result"
    }
   ],
   "source": [
    "portfolios.loc[portfolios['utility'].idxmax()]"
   ]
  },
  {
   "cell_type": "code",
   "execution_count": 157,
   "id": "e62cff92",
   "metadata": {
    "scrolled": true
   },
   "outputs": [
    {
     "data": {
      "text/html": [
       "<div>\n",
       "<style scoped>\n",
       "    .dataframe tbody tr th:only-of-type {\n",
       "        vertical-align: middle;\n",
       "    }\n",
       "\n",
       "    .dataframe tbody tr th {\n",
       "        vertical-align: top;\n",
       "    }\n",
       "\n",
       "    .dataframe thead th {\n",
       "        text-align: right;\n",
       "    }\n",
       "</style>\n",
       "<table border=\"1\" class=\"dataframe\">\n",
       "  <thead>\n",
       "    <tr style=\"text-align: right;\">\n",
       "      <th></th>\n",
       "      <th>utility</th>\n",
       "      <th>cal_y</th>\n",
       "      <th>cal_x</th>\n",
       "    </tr>\n",
       "  </thead>\n",
       "  <tbody>\n",
       "    <tr>\n",
       "      <th>0</th>\n",
       "      <td>0.025000</td>\n",
       "      <td>0.025000</td>\n",
       "      <td>0.000000</td>\n",
       "    </tr>\n",
       "    <tr>\n",
       "      <th>1</th>\n",
       "      <td>0.031742</td>\n",
       "      <td>0.032069</td>\n",
       "      <td>0.011425</td>\n",
       "    </tr>\n",
       "    <tr>\n",
       "      <th>2</th>\n",
       "      <td>0.037832</td>\n",
       "      <td>0.039138</td>\n",
       "      <td>0.022850</td>\n",
       "    </tr>\n",
       "    <tr>\n",
       "      <th>3</th>\n",
       "      <td>0.043270</td>\n",
       "      <td>0.046206</td>\n",
       "      <td>0.034274</td>\n",
       "    </tr>\n",
       "    <tr>\n",
       "      <th>4</th>\n",
       "      <td>0.048054</td>\n",
       "      <td>0.053275</td>\n",
       "      <td>0.045699</td>\n",
       "    </tr>\n",
       "    <tr>\n",
       "      <th>5</th>\n",
       "      <td>0.052186</td>\n",
       "      <td>0.060344</td>\n",
       "      <td>0.057124</td>\n",
       "    </tr>\n",
       "    <tr>\n",
       "      <th>6</th>\n",
       "      <td>0.055665</td>\n",
       "      <td>0.067413</td>\n",
       "      <td>0.068549</td>\n",
       "    </tr>\n",
       "    <tr>\n",
       "      <th>7</th>\n",
       "      <td>0.058492</td>\n",
       "      <td>0.074481</td>\n",
       "      <td>0.079974</td>\n",
       "    </tr>\n",
       "    <tr>\n",
       "      <th>8</th>\n",
       "      <td>0.060666</td>\n",
       "      <td>0.081550</td>\n",
       "      <td>0.091398</td>\n",
       "    </tr>\n",
       "    <tr>\n",
       "      <th>9</th>\n",
       "      <td>0.062188</td>\n",
       "      <td>0.088619</td>\n",
       "      <td>0.102823</td>\n",
       "    </tr>\n",
       "    <tr>\n",
       "      <th>10</th>\n",
       "      <td>0.063056</td>\n",
       "      <td>0.095688</td>\n",
       "      <td>0.114248</td>\n",
       "    </tr>\n",
       "    <tr>\n",
       "      <th>11</th>\n",
       "      <td>0.063272</td>\n",
       "      <td>0.102757</td>\n",
       "      <td>0.125673</td>\n",
       "    </tr>\n",
       "    <tr>\n",
       "      <th>12</th>\n",
       "      <td>0.062836</td>\n",
       "      <td>0.109825</td>\n",
       "      <td>0.137098</td>\n",
       "    </tr>\n",
       "    <tr>\n",
       "      <th>13</th>\n",
       "      <td>0.061747</td>\n",
       "      <td>0.116894</td>\n",
       "      <td>0.148522</td>\n",
       "    </tr>\n",
       "    <tr>\n",
       "      <th>14</th>\n",
       "      <td>0.060005</td>\n",
       "      <td>0.123963</td>\n",
       "      <td>0.159947</td>\n",
       "    </tr>\n",
       "    <tr>\n",
       "      <th>15</th>\n",
       "      <td>0.057611</td>\n",
       "      <td>0.131032</td>\n",
       "      <td>0.171372</td>\n",
       "    </tr>\n",
       "    <tr>\n",
       "      <th>16</th>\n",
       "      <td>0.054564</td>\n",
       "      <td>0.138101</td>\n",
       "      <td>0.182797</td>\n",
       "    </tr>\n",
       "    <tr>\n",
       "      <th>17</th>\n",
       "      <td>0.050864</td>\n",
       "      <td>0.145169</td>\n",
       "      <td>0.194222</td>\n",
       "    </tr>\n",
       "    <tr>\n",
       "      <th>18</th>\n",
       "      <td>0.046512</td>\n",
       "      <td>0.152238</td>\n",
       "      <td>0.205646</td>\n",
       "    </tr>\n",
       "    <tr>\n",
       "      <th>19</th>\n",
       "      <td>0.041507</td>\n",
       "      <td>0.159307</td>\n",
       "      <td>0.217071</td>\n",
       "    </tr>\n",
       "  </tbody>\n",
       "</table>\n",
       "</div>"
      ],
      "text/plain": [
       "     utility     cal_y     cal_x\n",
       "0   0.025000  0.025000  0.000000\n",
       "1   0.031742  0.032069  0.011425\n",
       "2   0.037832  0.039138  0.022850\n",
       "3   0.043270  0.046206  0.034274\n",
       "4   0.048054  0.053275  0.045699\n",
       "5   0.052186  0.060344  0.057124\n",
       "6   0.055665  0.067413  0.068549\n",
       "7   0.058492  0.074481  0.079974\n",
       "8   0.060666  0.081550  0.091398\n",
       "9   0.062188  0.088619  0.102823\n",
       "10  0.063056  0.095688  0.114248\n",
       "11  0.063272  0.102757  0.125673\n",
       "12  0.062836  0.109825  0.137098\n",
       "13  0.061747  0.116894  0.148522\n",
       "14  0.060005  0.123963  0.159947\n",
       "15  0.057611  0.131032  0.171372\n",
       "16  0.054564  0.138101  0.182797\n",
       "17  0.050864  0.145169  0.194222\n",
       "18  0.046512  0.152238  0.205646\n",
       "19  0.041507  0.159307  0.217071"
      ]
     },
     "execution_count": 157,
     "metadata": {},
     "output_type": "execute_result"
    }
   ],
   "source": [
    "cal"
   ]
  },
  {
   "cell_type": "code",
   "execution_count": null,
   "id": "782f89a6",
   "metadata": {},
   "outputs": [],
   "source": []
  }
 ],
 "metadata": {
  "kernelspec": {
   "display_name": "Python 3",
   "language": "python",
   "name": "python3"
  },
  "language_info": {
   "codemirror_mode": {
    "name": "ipython",
    "version": 3
   },
   "file_extension": ".py",
   "mimetype": "text/x-python",
   "name": "python",
   "nbconvert_exporter": "python",
   "pygments_lexer": "ipython3",
   "version": "3.8.8"
  }
 },
 "nbformat": 4,
 "nbformat_minor": 5
}
